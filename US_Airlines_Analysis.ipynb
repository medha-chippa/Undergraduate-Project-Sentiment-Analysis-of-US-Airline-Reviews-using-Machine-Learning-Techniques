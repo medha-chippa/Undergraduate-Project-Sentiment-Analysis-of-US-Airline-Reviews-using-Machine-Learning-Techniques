{
 "cells": [
  {
   "cell_type": "code",
   "execution_count": 68,
   "metadata": {},
   "outputs": [],
   "source": [
    "import nltk \n",
    "import pandas as pd\n",
    "import numpy as np"
   ]
  },
  {
   "cell_type": "code",
   "execution_count": 69,
   "metadata": {},
   "outputs": [],
   "source": [
    "df=pd.read_csv('Tweets_airline.csv')"
   ]
  },
  {
   "cell_type": "code",
   "execution_count": 70,
   "metadata": {},
   "outputs": [
    {
     "data": {
      "text/html": [
       "<div>\n",
       "<style scoped>\n",
       "    .dataframe tbody tr th:only-of-type {\n",
       "        vertical-align: middle;\n",
       "    }\n",
       "\n",
       "    .dataframe tbody tr th {\n",
       "        vertical-align: top;\n",
       "    }\n",
       "\n",
       "    .dataframe thead th {\n",
       "        text-align: right;\n",
       "    }\n",
       "</style>\n",
       "<table border=\"1\" class=\"dataframe\">\n",
       "  <thead>\n",
       "    <tr style=\"text-align: right;\">\n",
       "      <th></th>\n",
       "      <th>tweet_id</th>\n",
       "      <th>airline_sentiment</th>\n",
       "      <th>airline_sentiment_confidence</th>\n",
       "      <th>negativereason</th>\n",
       "      <th>negativereason_confidence</th>\n",
       "      <th>airline</th>\n",
       "      <th>airline_sentiment_gold</th>\n",
       "      <th>name</th>\n",
       "      <th>negativereason_gold</th>\n",
       "      <th>retweet_count</th>\n",
       "      <th>text</th>\n",
       "      <th>tweet_coord</th>\n",
       "      <th>tweet_created</th>\n",
       "      <th>tweet_location</th>\n",
       "      <th>user_timezone</th>\n",
       "    </tr>\n",
       "  </thead>\n",
       "  <tbody>\n",
       "    <tr>\n",
       "      <th>0</th>\n",
       "      <td>5.700000e+17</td>\n",
       "      <td>neutral</td>\n",
       "      <td>1.0000</td>\n",
       "      <td>NaN</td>\n",
       "      <td>NaN</td>\n",
       "      <td>Virgin America</td>\n",
       "      <td>NaN</td>\n",
       "      <td>cairdin</td>\n",
       "      <td>NaN</td>\n",
       "      <td>0</td>\n",
       "      <td>@VirginAmerica What @dhepburn said.</td>\n",
       "      <td>NaN</td>\n",
       "      <td>2/24/2015 11:35</td>\n",
       "      <td>NaN</td>\n",
       "      <td>Eastern Time (US &amp; Canada)</td>\n",
       "    </tr>\n",
       "    <tr>\n",
       "      <th>1</th>\n",
       "      <td>5.700000e+17</td>\n",
       "      <td>positive</td>\n",
       "      <td>0.3486</td>\n",
       "      <td>NaN</td>\n",
       "      <td>0.0000</td>\n",
       "      <td>Virgin America</td>\n",
       "      <td>NaN</td>\n",
       "      <td>jnardino</td>\n",
       "      <td>NaN</td>\n",
       "      <td>0</td>\n",
       "      <td>@VirginAmerica plus you've added commercials t...</td>\n",
       "      <td>NaN</td>\n",
       "      <td>2/24/2015 11:15</td>\n",
       "      <td>NaN</td>\n",
       "      <td>Pacific Time (US &amp; Canada)</td>\n",
       "    </tr>\n",
       "    <tr>\n",
       "      <th>2</th>\n",
       "      <td>5.700000e+17</td>\n",
       "      <td>neutral</td>\n",
       "      <td>0.6837</td>\n",
       "      <td>NaN</td>\n",
       "      <td>NaN</td>\n",
       "      <td>Virgin America</td>\n",
       "      <td>NaN</td>\n",
       "      <td>yvonnalynn</td>\n",
       "      <td>NaN</td>\n",
       "      <td>0</td>\n",
       "      <td>@VirginAmerica I didn't today... Must mean I n...</td>\n",
       "      <td>NaN</td>\n",
       "      <td>2/24/2015 11:15</td>\n",
       "      <td>Lets Play</td>\n",
       "      <td>Central Time (US &amp; Canada)</td>\n",
       "    </tr>\n",
       "    <tr>\n",
       "      <th>3</th>\n",
       "      <td>5.700000e+17</td>\n",
       "      <td>negative</td>\n",
       "      <td>1.0000</td>\n",
       "      <td>Bad Flight</td>\n",
       "      <td>0.7033</td>\n",
       "      <td>Virgin America</td>\n",
       "      <td>NaN</td>\n",
       "      <td>jnardino</td>\n",
       "      <td>NaN</td>\n",
       "      <td>0</td>\n",
       "      <td>@VirginAmerica it's really aggressive to blast...</td>\n",
       "      <td>NaN</td>\n",
       "      <td>2/24/2015 11:15</td>\n",
       "      <td>NaN</td>\n",
       "      <td>Pacific Time (US &amp; Canada)</td>\n",
       "    </tr>\n",
       "    <tr>\n",
       "      <th>4</th>\n",
       "      <td>5.700000e+17</td>\n",
       "      <td>negative</td>\n",
       "      <td>1.0000</td>\n",
       "      <td>Can't Tell</td>\n",
       "      <td>1.0000</td>\n",
       "      <td>Virgin America</td>\n",
       "      <td>NaN</td>\n",
       "      <td>jnardino</td>\n",
       "      <td>NaN</td>\n",
       "      <td>0</td>\n",
       "      <td>@VirginAmerica and it's a really big bad thing...</td>\n",
       "      <td>NaN</td>\n",
       "      <td>2/24/2015 11:14</td>\n",
       "      <td>NaN</td>\n",
       "      <td>Pacific Time (US &amp; Canada)</td>\n",
       "    </tr>\n",
       "  </tbody>\n",
       "</table>\n",
       "</div>"
      ],
      "text/plain": [
       "       tweet_id airline_sentiment  airline_sentiment_confidence  \\\n",
       "0  5.700000e+17           neutral                        1.0000   \n",
       "1  5.700000e+17          positive                        0.3486   \n",
       "2  5.700000e+17           neutral                        0.6837   \n",
       "3  5.700000e+17          negative                        1.0000   \n",
       "4  5.700000e+17          negative                        1.0000   \n",
       "\n",
       "  negativereason  negativereason_confidence         airline  \\\n",
       "0            NaN                        NaN  Virgin America   \n",
       "1            NaN                     0.0000  Virgin America   \n",
       "2            NaN                        NaN  Virgin America   \n",
       "3     Bad Flight                     0.7033  Virgin America   \n",
       "4     Can't Tell                     1.0000  Virgin America   \n",
       "\n",
       "  airline_sentiment_gold        name negativereason_gold  retweet_count  \\\n",
       "0                    NaN     cairdin                 NaN              0   \n",
       "1                    NaN    jnardino                 NaN              0   \n",
       "2                    NaN  yvonnalynn                 NaN              0   \n",
       "3                    NaN    jnardino                 NaN              0   \n",
       "4                    NaN    jnardino                 NaN              0   \n",
       "\n",
       "                                                text tweet_coord  \\\n",
       "0                @VirginAmerica What @dhepburn said.         NaN   \n",
       "1  @VirginAmerica plus you've added commercials t...         NaN   \n",
       "2  @VirginAmerica I didn't today... Must mean I n...         NaN   \n",
       "3  @VirginAmerica it's really aggressive to blast...         NaN   \n",
       "4  @VirginAmerica and it's a really big bad thing...         NaN   \n",
       "\n",
       "     tweet_created tweet_location               user_timezone  \n",
       "0  2/24/2015 11:35            NaN  Eastern Time (US & Canada)  \n",
       "1  2/24/2015 11:15            NaN  Pacific Time (US & Canada)  \n",
       "2  2/24/2015 11:15      Lets Play  Central Time (US & Canada)  \n",
       "3  2/24/2015 11:15            NaN  Pacific Time (US & Canada)  \n",
       "4  2/24/2015 11:14            NaN  Pacific Time (US & Canada)  "
      ]
     },
     "execution_count": 70,
     "metadata": {},
     "output_type": "execute_result"
    }
   ],
   "source": [
    "df.head()"
   ]
  },
  {
   "cell_type": "code",
   "execution_count": 71,
   "metadata": {},
   "outputs": [
    {
     "data": {
      "text/html": [
       "<div>\n",
       "<style scoped>\n",
       "    .dataframe tbody tr th:only-of-type {\n",
       "        vertical-align: middle;\n",
       "    }\n",
       "\n",
       "    .dataframe tbody tr th {\n",
       "        vertical-align: top;\n",
       "    }\n",
       "\n",
       "    .dataframe thead th {\n",
       "        text-align: right;\n",
       "    }\n",
       "</style>\n",
       "<table border=\"1\" class=\"dataframe\">\n",
       "  <thead>\n",
       "    <tr style=\"text-align: right;\">\n",
       "      <th></th>\n",
       "      <th>tweet_id</th>\n",
       "      <th>airline_sentiment_confidence</th>\n",
       "      <th>negativereason_confidence</th>\n",
       "      <th>retweet_count</th>\n",
       "    </tr>\n",
       "  </thead>\n",
       "  <tbody>\n",
       "    <tr>\n",
       "      <th>count</th>\n",
       "      <td>1.464000e+04</td>\n",
       "      <td>14640.000000</td>\n",
       "      <td>10522.000000</td>\n",
       "      <td>14640.000000</td>\n",
       "    </tr>\n",
       "    <tr>\n",
       "      <th>mean</th>\n",
       "      <td>5.692605e+17</td>\n",
       "      <td>0.900169</td>\n",
       "      <td>0.638298</td>\n",
       "      <td>0.082650</td>\n",
       "    </tr>\n",
       "    <tr>\n",
       "      <th>std</th>\n",
       "      <td>8.098842e+14</td>\n",
       "      <td>0.162830</td>\n",
       "      <td>0.330440</td>\n",
       "      <td>0.745778</td>\n",
       "    </tr>\n",
       "    <tr>\n",
       "      <th>min</th>\n",
       "      <td>5.680000e+17</td>\n",
       "      <td>0.335000</td>\n",
       "      <td>0.000000</td>\n",
       "      <td>0.000000</td>\n",
       "    </tr>\n",
       "    <tr>\n",
       "      <th>25%</th>\n",
       "      <td>5.690000e+17</td>\n",
       "      <td>0.692300</td>\n",
       "      <td>0.360600</td>\n",
       "      <td>0.000000</td>\n",
       "    </tr>\n",
       "    <tr>\n",
       "      <th>50%</th>\n",
       "      <td>5.690000e+17</td>\n",
       "      <td>1.000000</td>\n",
       "      <td>0.670600</td>\n",
       "      <td>0.000000</td>\n",
       "    </tr>\n",
       "    <tr>\n",
       "      <th>75%</th>\n",
       "      <td>5.700000e+17</td>\n",
       "      <td>1.000000</td>\n",
       "      <td>1.000000</td>\n",
       "      <td>0.000000</td>\n",
       "    </tr>\n",
       "    <tr>\n",
       "      <th>max</th>\n",
       "      <td>5.700000e+17</td>\n",
       "      <td>1.000000</td>\n",
       "      <td>1.000000</td>\n",
       "      <td>44.000000</td>\n",
       "    </tr>\n",
       "  </tbody>\n",
       "</table>\n",
       "</div>"
      ],
      "text/plain": [
       "           tweet_id  airline_sentiment_confidence  negativereason_confidence  \\\n",
       "count  1.464000e+04                  14640.000000               10522.000000   \n",
       "mean   5.692605e+17                      0.900169                   0.638298   \n",
       "std    8.098842e+14                      0.162830                   0.330440   \n",
       "min    5.680000e+17                      0.335000                   0.000000   \n",
       "25%    5.690000e+17                      0.692300                   0.360600   \n",
       "50%    5.690000e+17                      1.000000                   0.670600   \n",
       "75%    5.700000e+17                      1.000000                   1.000000   \n",
       "max    5.700000e+17                      1.000000                   1.000000   \n",
       "\n",
       "       retweet_count  \n",
       "count   14640.000000  \n",
       "mean        0.082650  \n",
       "std         0.745778  \n",
       "min         0.000000  \n",
       "25%         0.000000  \n",
       "50%         0.000000  \n",
       "75%         0.000000  \n",
       "max        44.000000  "
      ]
     },
     "execution_count": 71,
     "metadata": {},
     "output_type": "execute_result"
    }
   ],
   "source": [
    "df.describe()"
   ]
  },
  {
   "cell_type": "code",
   "execution_count": 72,
   "metadata": {},
   "outputs": [
    {
     "data": {
      "text/html": [
       "<div>\n",
       "<style scoped>\n",
       "    .dataframe tbody tr th:only-of-type {\n",
       "        vertical-align: middle;\n",
       "    }\n",
       "\n",
       "    .dataframe tbody tr th {\n",
       "        vertical-align: top;\n",
       "    }\n",
       "\n",
       "    .dataframe thead tr th {\n",
       "        text-align: left;\n",
       "    }\n",
       "\n",
       "    .dataframe thead tr:last-of-type th {\n",
       "        text-align: right;\n",
       "    }\n",
       "</style>\n",
       "<table border=\"1\" class=\"dataframe\">\n",
       "  <thead>\n",
       "    <tr>\n",
       "      <th></th>\n",
       "      <th colspan=\"8\" halign=\"left\">airline_sentiment_confidence</th>\n",
       "      <th colspan=\"2\" halign=\"left\">negativereason_confidence</th>\n",
       "      <th>...</th>\n",
       "      <th colspan=\"2\" halign=\"left\">retweet_count</th>\n",
       "      <th colspan=\"8\" halign=\"left\">tweet_id</th>\n",
       "    </tr>\n",
       "    <tr>\n",
       "      <th></th>\n",
       "      <th>count</th>\n",
       "      <th>mean</th>\n",
       "      <th>std</th>\n",
       "      <th>min</th>\n",
       "      <th>25%</th>\n",
       "      <th>50%</th>\n",
       "      <th>75%</th>\n",
       "      <th>max</th>\n",
       "      <th>count</th>\n",
       "      <th>mean</th>\n",
       "      <th>...</th>\n",
       "      <th>75%</th>\n",
       "      <th>max</th>\n",
       "      <th>count</th>\n",
       "      <th>mean</th>\n",
       "      <th>std</th>\n",
       "      <th>min</th>\n",
       "      <th>25%</th>\n",
       "      <th>50%</th>\n",
       "      <th>75%</th>\n",
       "      <th>max</th>\n",
       "    </tr>\n",
       "    <tr>\n",
       "      <th>airline_sentiment</th>\n",
       "      <th></th>\n",
       "      <th></th>\n",
       "      <th></th>\n",
       "      <th></th>\n",
       "      <th></th>\n",
       "      <th></th>\n",
       "      <th></th>\n",
       "      <th></th>\n",
       "      <th></th>\n",
       "      <th></th>\n",
       "      <th></th>\n",
       "      <th></th>\n",
       "      <th></th>\n",
       "      <th></th>\n",
       "      <th></th>\n",
       "      <th></th>\n",
       "      <th></th>\n",
       "      <th></th>\n",
       "      <th></th>\n",
       "      <th></th>\n",
       "      <th></th>\n",
       "    </tr>\n",
       "  </thead>\n",
       "  <tbody>\n",
       "    <tr>\n",
       "      <th>negative</th>\n",
       "      <td>9178.0</td>\n",
       "      <td>0.933365</td>\n",
       "      <td>0.138109</td>\n",
       "      <td>0.3394</td>\n",
       "      <td>1.00000</td>\n",
       "      <td>1.000</td>\n",
       "      <td>1.0</td>\n",
       "      <td>1.0</td>\n",
       "      <td>9178.0</td>\n",
       "      <td>0.731769</td>\n",
       "      <td>...</td>\n",
       "      <td>0.0</td>\n",
       "      <td>44.0</td>\n",
       "      <td>9178.0</td>\n",
       "      <td>5.693127e+17</td>\n",
       "      <td>7.946192e+14</td>\n",
       "      <td>5.680000e+17</td>\n",
       "      <td>5.690000e+17</td>\n",
       "      <td>5.700000e+17</td>\n",
       "      <td>5.700000e+17</td>\n",
       "      <td>5.700000e+17</td>\n",
       "    </tr>\n",
       "    <tr>\n",
       "      <th>neutral</th>\n",
       "      <td>3099.0</td>\n",
       "      <td>0.823303</td>\n",
       "      <td>0.185594</td>\n",
       "      <td>0.3350</td>\n",
       "      <td>0.66605</td>\n",
       "      <td>0.916</td>\n",
       "      <td>1.0</td>\n",
       "      <td>1.0</td>\n",
       "      <td>1014.0</td>\n",
       "      <td>0.000000</td>\n",
       "      <td>...</td>\n",
       "      <td>0.0</td>\n",
       "      <td>28.0</td>\n",
       "      <td>3099.0</td>\n",
       "      <td>5.692052e+17</td>\n",
       "      <td>8.243931e+14</td>\n",
       "      <td>5.680000e+17</td>\n",
       "      <td>5.680000e+17</td>\n",
       "      <td>5.690000e+17</td>\n",
       "      <td>5.700000e+17</td>\n",
       "      <td>5.700000e+17</td>\n",
       "    </tr>\n",
       "    <tr>\n",
       "      <th>positive</th>\n",
       "      <td>2363.0</td>\n",
       "      <td>0.872039</td>\n",
       "      <td>0.179478</td>\n",
       "      <td>0.3356</td>\n",
       "      <td>0.67750</td>\n",
       "      <td>1.000</td>\n",
       "      <td>1.0</td>\n",
       "      <td>1.0</td>\n",
       "      <td>330.0</td>\n",
       "      <td>0.000000</td>\n",
       "      <td>...</td>\n",
       "      <td>0.0</td>\n",
       "      <td>22.0</td>\n",
       "      <td>2363.0</td>\n",
       "      <td>5.691299e+17</td>\n",
       "      <td>8.299829e+14</td>\n",
       "      <td>5.680000e+17</td>\n",
       "      <td>5.680000e+17</td>\n",
       "      <td>5.690000e+17</td>\n",
       "      <td>5.700000e+17</td>\n",
       "      <td>5.700000e+17</td>\n",
       "    </tr>\n",
       "  </tbody>\n",
       "</table>\n",
       "<p>3 rows × 32 columns</p>\n",
       "</div>"
      ],
      "text/plain": [
       "                  airline_sentiment_confidence                              \\\n",
       "                                         count      mean       std     min   \n",
       "airline_sentiment                                                            \n",
       "negative                                9178.0  0.933365  0.138109  0.3394   \n",
       "neutral                                 3099.0  0.823303  0.185594  0.3350   \n",
       "positive                                2363.0  0.872039  0.179478  0.3356   \n",
       "\n",
       "                                            negativereason_confidence  \\\n",
       "                       25%    50%  75%  max                     count   \n",
       "airline_sentiment                                                       \n",
       "negative           1.00000  1.000  1.0  1.0                    9178.0   \n",
       "neutral            0.66605  0.916  1.0  1.0                    1014.0   \n",
       "positive           0.67750  1.000  1.0  1.0                     330.0   \n",
       "\n",
       "                                 ...      retweet_count       tweet_id  \\\n",
       "                       mean      ...                75%   max    count   \n",
       "airline_sentiment                ...                                     \n",
       "negative           0.731769      ...                0.0  44.0   9178.0   \n",
       "neutral            0.000000      ...                0.0  28.0   3099.0   \n",
       "positive           0.000000      ...                0.0  22.0   2363.0   \n",
       "\n",
       "                                                                           \\\n",
       "                           mean           std           min           25%   \n",
       "airline_sentiment                                                           \n",
       "negative           5.693127e+17  7.946192e+14  5.680000e+17  5.690000e+17   \n",
       "neutral            5.692052e+17  8.243931e+14  5.680000e+17  5.680000e+17   \n",
       "positive           5.691299e+17  8.299829e+14  5.680000e+17  5.680000e+17   \n",
       "\n",
       "                                                             \n",
       "                            50%           75%           max  \n",
       "airline_sentiment                                            \n",
       "negative           5.700000e+17  5.700000e+17  5.700000e+17  \n",
       "neutral            5.690000e+17  5.700000e+17  5.700000e+17  \n",
       "positive           5.690000e+17  5.700000e+17  5.700000e+17  \n",
       "\n",
       "[3 rows x 32 columns]"
      ]
     },
     "execution_count": 72,
     "metadata": {},
     "output_type": "execute_result"
    }
   ],
   "source": [
    "df.groupby('airline_sentiment').describe()"
   ]
  },
  {
   "cell_type": "code",
   "execution_count": 73,
   "metadata": {},
   "outputs": [
    {
     "name": "stdout",
     "output_type": "stream",
     "text": [
      "<class 'pandas.core.frame.DataFrame'>\n",
      "RangeIndex: 14640 entries, 0 to 14639\n",
      "Data columns (total 15 columns):\n",
      "tweet_id                        14640 non-null float64\n",
      "airline_sentiment               14640 non-null object\n",
      "airline_sentiment_confidence    14640 non-null float64\n",
      "negativereason                  9178 non-null object\n",
      "negativereason_confidence       10522 non-null float64\n",
      "airline                         14640 non-null object\n",
      "airline_sentiment_gold          40 non-null object\n",
      "name                            14640 non-null object\n",
      "negativereason_gold             32 non-null object\n",
      "retweet_count                   14640 non-null int64\n",
      "text                            14640 non-null object\n",
      "tweet_coord                     1019 non-null object\n",
      "tweet_created                   14640 non-null object\n",
      "tweet_location                  9907 non-null object\n",
      "user_timezone                   9820 non-null object\n",
      "dtypes: float64(3), int64(1), object(11)\n",
      "memory usage: 1.7+ MB\n"
     ]
    }
   ],
   "source": [
    "df.info()"
   ]
  },
  {
   "cell_type": "code",
   "execution_count": 74,
   "metadata": {},
   "outputs": [],
   "source": [
    "df1=df"
   ]
  },
  {
   "cell_type": "code",
   "execution_count": 75,
   "metadata": {},
   "outputs": [],
   "source": [
    "df1.drop(['tweet_id','airline_sentiment_confidence','negativereason_confidence','airline_sentiment_gold','name','negativereason_gold','retweet_count','tweet_coord','tweet_created','tweet_location','user_timezone'],axis=1,inplace=True)"
   ]
  },
  {
   "cell_type": "code",
   "execution_count": 76,
   "metadata": {},
   "outputs": [
    {
     "data": {
      "text/html": [
       "<div>\n",
       "<style scoped>\n",
       "    .dataframe tbody tr th:only-of-type {\n",
       "        vertical-align: middle;\n",
       "    }\n",
       "\n",
       "    .dataframe tbody tr th {\n",
       "        vertical-align: top;\n",
       "    }\n",
       "\n",
       "    .dataframe thead th {\n",
       "        text-align: right;\n",
       "    }\n",
       "</style>\n",
       "<table border=\"1\" class=\"dataframe\">\n",
       "  <thead>\n",
       "    <tr style=\"text-align: right;\">\n",
       "      <th></th>\n",
       "      <th>airline_sentiment</th>\n",
       "      <th>negativereason</th>\n",
       "      <th>airline</th>\n",
       "      <th>text</th>\n",
       "    </tr>\n",
       "  </thead>\n",
       "  <tbody>\n",
       "    <tr>\n",
       "      <th>0</th>\n",
       "      <td>neutral</td>\n",
       "      <td>NaN</td>\n",
       "      <td>Virgin America</td>\n",
       "      <td>@VirginAmerica What @dhepburn said.</td>\n",
       "    </tr>\n",
       "    <tr>\n",
       "      <th>1</th>\n",
       "      <td>positive</td>\n",
       "      <td>NaN</td>\n",
       "      <td>Virgin America</td>\n",
       "      <td>@VirginAmerica plus you've added commercials t...</td>\n",
       "    </tr>\n",
       "    <tr>\n",
       "      <th>2</th>\n",
       "      <td>neutral</td>\n",
       "      <td>NaN</td>\n",
       "      <td>Virgin America</td>\n",
       "      <td>@VirginAmerica I didn't today... Must mean I n...</td>\n",
       "    </tr>\n",
       "    <tr>\n",
       "      <th>3</th>\n",
       "      <td>negative</td>\n",
       "      <td>Bad Flight</td>\n",
       "      <td>Virgin America</td>\n",
       "      <td>@VirginAmerica it's really aggressive to blast...</td>\n",
       "    </tr>\n",
       "    <tr>\n",
       "      <th>4</th>\n",
       "      <td>negative</td>\n",
       "      <td>Can't Tell</td>\n",
       "      <td>Virgin America</td>\n",
       "      <td>@VirginAmerica and it's a really big bad thing...</td>\n",
       "    </tr>\n",
       "  </tbody>\n",
       "</table>\n",
       "</div>"
      ],
      "text/plain": [
       "  airline_sentiment negativereason         airline  \\\n",
       "0           neutral            NaN  Virgin America   \n",
       "1          positive            NaN  Virgin America   \n",
       "2           neutral            NaN  Virgin America   \n",
       "3          negative     Bad Flight  Virgin America   \n",
       "4          negative     Can't Tell  Virgin America   \n",
       "\n",
       "                                                text  \n",
       "0                @VirginAmerica What @dhepburn said.  \n",
       "1  @VirginAmerica plus you've added commercials t...  \n",
       "2  @VirginAmerica I didn't today... Must mean I n...  \n",
       "3  @VirginAmerica it's really aggressive to blast...  \n",
       "4  @VirginAmerica and it's a really big bad thing...  "
      ]
     },
     "execution_count": 76,
     "metadata": {},
     "output_type": "execute_result"
    }
   ],
   "source": [
    "df1.head()"
   ]
  },
  {
   "cell_type": "code",
   "execution_count": 77,
   "metadata": {},
   "outputs": [
    {
     "data": {
      "text/html": [
       "<div>\n",
       "<style scoped>\n",
       "    .dataframe tbody tr th:only-of-type {\n",
       "        vertical-align: middle;\n",
       "    }\n",
       "\n",
       "    .dataframe tbody tr th {\n",
       "        vertical-align: top;\n",
       "    }\n",
       "\n",
       "    .dataframe thead th {\n",
       "        text-align: right;\n",
       "    }\n",
       "</style>\n",
       "<table border=\"1\" class=\"dataframe\">\n",
       "  <thead>\n",
       "    <tr style=\"text-align: right;\">\n",
       "      <th></th>\n",
       "      <th>airline_sentiment</th>\n",
       "      <th>negativereason</th>\n",
       "      <th>airline</th>\n",
       "      <th>text</th>\n",
       "      <th>length</th>\n",
       "    </tr>\n",
       "  </thead>\n",
       "  <tbody>\n",
       "    <tr>\n",
       "      <th>0</th>\n",
       "      <td>neutral</td>\n",
       "      <td>NaN</td>\n",
       "      <td>Virgin America</td>\n",
       "      <td>@VirginAmerica What @dhepburn said.</td>\n",
       "      <td>35</td>\n",
       "    </tr>\n",
       "    <tr>\n",
       "      <th>1</th>\n",
       "      <td>positive</td>\n",
       "      <td>NaN</td>\n",
       "      <td>Virgin America</td>\n",
       "      <td>@VirginAmerica plus you've added commercials t...</td>\n",
       "      <td>72</td>\n",
       "    </tr>\n",
       "    <tr>\n",
       "      <th>2</th>\n",
       "      <td>neutral</td>\n",
       "      <td>NaN</td>\n",
       "      <td>Virgin America</td>\n",
       "      <td>@VirginAmerica I didn't today... Must mean I n...</td>\n",
       "      <td>71</td>\n",
       "    </tr>\n",
       "    <tr>\n",
       "      <th>3</th>\n",
       "      <td>negative</td>\n",
       "      <td>Bad Flight</td>\n",
       "      <td>Virgin America</td>\n",
       "      <td>@VirginAmerica it's really aggressive to blast...</td>\n",
       "      <td>126</td>\n",
       "    </tr>\n",
       "    <tr>\n",
       "      <th>4</th>\n",
       "      <td>negative</td>\n",
       "      <td>Can't Tell</td>\n",
       "      <td>Virgin America</td>\n",
       "      <td>@VirginAmerica and it's a really big bad thing...</td>\n",
       "      <td>55</td>\n",
       "    </tr>\n",
       "  </tbody>\n",
       "</table>\n",
       "</div>"
      ],
      "text/plain": [
       "  airline_sentiment negativereason         airline  \\\n",
       "0           neutral            NaN  Virgin America   \n",
       "1          positive            NaN  Virgin America   \n",
       "2           neutral            NaN  Virgin America   \n",
       "3          negative     Bad Flight  Virgin America   \n",
       "4          negative     Can't Tell  Virgin America   \n",
       "\n",
       "                                                text  length  \n",
       "0                @VirginAmerica What @dhepburn said.      35  \n",
       "1  @VirginAmerica plus you've added commercials t...      72  \n",
       "2  @VirginAmerica I didn't today... Must mean I n...      71  \n",
       "3  @VirginAmerica it's really aggressive to blast...     126  \n",
       "4  @VirginAmerica and it's a really big bad thing...      55  "
      ]
     },
     "execution_count": 77,
     "metadata": {},
     "output_type": "execute_result"
    }
   ],
   "source": [
    "df1['length']=df1['text'].apply(len)\n",
    "df1.head()"
   ]
  },
  {
   "cell_type": "code",
   "execution_count": 78,
   "metadata": {},
   "outputs": [
    {
     "data": {
      "text/plain": [
       "count    14640.000000\n",
       "mean       103.822063\n",
       "std         36.277339\n",
       "min         12.000000\n",
       "25%         77.000000\n",
       "50%        114.000000\n",
       "75%        136.000000\n",
       "max        186.000000\n",
       "Name: length, dtype: float64"
      ]
     },
     "execution_count": 78,
     "metadata": {},
     "output_type": "execute_result"
    }
   ],
   "source": [
    "df1['length'].describe()"
   ]
  },
  {
   "cell_type": "code",
   "execution_count": 79,
   "metadata": {},
   "outputs": [],
   "source": [
    "import matplotlib.pyplot as plt\n",
    "import seaborn as sns\n",
    "%matplotlib inline"
   ]
  },
  {
   "cell_type": "code",
   "execution_count": 80,
   "metadata": {},
   "outputs": [
    {
     "data": {
      "image/png": "[encoded data removed]",
      "text/plain": [
       "<Figure size 432x288 with 1 Axes>"
      ]
     },
     "metadata": {},
     "output_type": "display_data"
    }
   ],
   "source": [
    "plt1=df1['length'].plot.hist(bins=150)"
   ]
  },
  {
   "cell_type": "code",
   "execution_count": 81,
   "metadata": {},
   "outputs": [
    {
     "data": {
      "text/plain": [
       "count    14640.000000\n",
       "mean       103.822063\n",
       "std         36.277339\n",
       "min         12.000000\n",
       "25%         77.000000\n",
       "50%        114.000000\n",
       "75%        136.000000\n",
       "max        186.000000\n",
       "Name: length, dtype: float64"
      ]
     },
     "execution_count": 81,
     "metadata": {},
     "output_type": "execute_result"
    }
   ],
   "source": [
    "df1['length'].describe()"
   ]
  },
  {
   "cell_type": "code",
   "execution_count": 82,
   "metadata": {},
   "outputs": [
    {
     "data": {
      "text/plain": [
       "\"@USAirways Eyyyy! Cancelled Flightlations, Flight Booking Problemss, reFlight Booking Problemss, but y'all got me on the same flight out tonight (not tomorrow) &amp; the FC upgrade. Thx!\""
      ]
     },
     "execution_count": 82,
     "metadata": {},
     "output_type": "execute_result"
    }
   ],
   "source": [
    "df1[df1['length'] == 186]['text'].iloc[0]"
   ]
  },
  {
   "cell_type": "code",
   "execution_count": 17,
   "metadata": {},
   "outputs": [
    {
     "data": {
      "image/png": "[encoded data removed]",
      "text/plain": [
       "<Figure size 864x288 with 4 Axes>"
      ]
     },
     "metadata": {},
     "output_type": "display_data"
    }
   ],
   "source": [
    "plt2=df.hist(column='length', by='airline_sentiment', bins=50,figsize=(12,4))"
   ]
  },
  {
   "cell_type": "code",
   "execution_count": 83,
   "metadata": {},
   "outputs": [
    {
     "data": {
      "text/plain": [
       "array(['Virgin America', 'United', 'Southwest', 'Delta', 'US Airways',\n",
       "       'American'], dtype=object)"
      ]
     },
     "execution_count": 83,
     "metadata": {},
     "output_type": "execute_result"
    }
   ],
   "source": [
    "df1['airline'].unique()"
   ]
  },
  {
   "cell_type": "code",
   "execution_count": 19,
   "metadata": {},
   "outputs": [
    {
     "ename": "SyntaxError",
     "evalue": "EOL while scanning string literal (<ipython-input-19-88cbc7f3440f>, line 17)",
     "output_type": "error",
     "traceback": [
      "\u001b[1;36m  File \u001b[1;32m\"<ipython-input-19-88cbc7f3440f>\"\u001b[1;36m, line \u001b[1;32m17\u001b[0m\n\u001b[1;33m    \"\"\"\"\u001b[0m\n\u001b[1;37m        \n^\u001b[0m\n\u001b[1;31mSyntaxError\u001b[0m\u001b[1;31m:\u001b[0m EOL while scanning string literal\n"
     ]
    }
   ],
   "source": [
    "\"\"\"\"\n",
    "al=df1['text']\n",
    "def check(al):\n",
    "    if str.find(al=='Virgin America'):\n",
    "        va+=1\n",
    "    elif str.find(al=='United'):\n",
    "        u+=1\n",
    "    elif str.find(al=='Southwest'):\n",
    "        sw+=1\n",
    "    elif str.find(al=='Delta'):\n",
    "        d+=1\n",
    "    elif str.find(al=='US Airways'):\n",
    "        ua+=1\n",
    "    else:\n",
    "        a+=1\n",
    "    print('Virgin America\\t{}United\\t{}Southwest{}Delta\\t{}US Airways\\t{}American\\t{}',format(va,u,sw,d,ua,a))\n",
    "    \"\"\"\""
   ]
  },
  {
   "cell_type": "code",
   "execution_count": null,
   "metadata": {},
   "outputs": [],
   "source": []
  },
  {
   "cell_type": "code",
   "execution_count": 84,
   "metadata": {},
   "outputs": [
    {
     "data": {
      "text/plain": [
       "['i', 'me', 'my', 'myself', 'we', 'our', 'ours', 'ourselves', 'you', \"you're\"]"
      ]
     },
     "execution_count": 84,
     "metadata": {},
     "output_type": "execute_result"
    }
   ],
   "source": [
    "import string\n",
    "from nltk.corpus import stopwords\n",
    "stopwords.words('english')[0:10] # Show some stop words"
   ]
  },
  {
   "cell_type": "code",
   "execution_count": 85,
   "metadata": {},
   "outputs": [],
   "source": [
    "def text_process(tweet):\n",
    "    \"\"\"\n",
    "    Takes in a string of text, then performs the following:\n",
    "    1. Remove all punctuation\n",
    "    2. Remove all stopwords\n",
    "    3. Returns a list of the cleaned text\n",
    "    \"\"\"\n",
    "    # Check characters to see if they are in punctuation\n",
    "    nopunc = [char for char in tweet if char not in string.punctuation]\n",
    "\n",
    "    # Join the characters again to form the string.\n",
    "    nopunc = ''.join(nopunc)\n",
    "    \n",
    "    # Now just remove any stopwords\n",
    "    return [word for word in nopunc.split() if word.lower() not in stopwords.words('english')]"
   ]
  },
  {
   "cell_type": "code",
   "execution_count": 86,
   "metadata": {},
   "outputs": [
    {
     "data": {
      "text/html": [
       "<div>\n",
       "<style scoped>\n",
       "    .dataframe tbody tr th:only-of-type {\n",
       "        vertical-align: middle;\n",
       "    }\n",
       "\n",
       "    .dataframe tbody tr th {\n",
       "        vertical-align: top;\n",
       "    }\n",
       "\n",
       "    .dataframe thead th {\n",
       "        text-align: right;\n",
       "    }\n",
       "</style>\n",
       "<table border=\"1\" class=\"dataframe\">\n",
       "  <thead>\n",
       "    <tr style=\"text-align: right;\">\n",
       "      <th></th>\n",
       "      <th>airline_sentiment</th>\n",
       "      <th>negativereason</th>\n",
       "      <th>airline</th>\n",
       "      <th>text</th>\n",
       "      <th>length</th>\n",
       "    </tr>\n",
       "  </thead>\n",
       "  <tbody>\n",
       "    <tr>\n",
       "      <th>0</th>\n",
       "      <td>neutral</td>\n",
       "      <td>NaN</td>\n",
       "      <td>Virgin America</td>\n",
       "      <td>@VirginAmerica What @dhepburn said.</td>\n",
       "      <td>35</td>\n",
       "    </tr>\n",
       "    <tr>\n",
       "      <th>1</th>\n",
       "      <td>positive</td>\n",
       "      <td>NaN</td>\n",
       "      <td>Virgin America</td>\n",
       "      <td>@VirginAmerica plus you've added commercials t...</td>\n",
       "      <td>72</td>\n",
       "    </tr>\n",
       "    <tr>\n",
       "      <th>2</th>\n",
       "      <td>neutral</td>\n",
       "      <td>NaN</td>\n",
       "      <td>Virgin America</td>\n",
       "      <td>@VirginAmerica I didn't today... Must mean I n...</td>\n",
       "      <td>71</td>\n",
       "    </tr>\n",
       "    <tr>\n",
       "      <th>3</th>\n",
       "      <td>negative</td>\n",
       "      <td>Bad Flight</td>\n",
       "      <td>Virgin America</td>\n",
       "      <td>@VirginAmerica it's really aggressive to blast...</td>\n",
       "      <td>126</td>\n",
       "    </tr>\n",
       "    <tr>\n",
       "      <th>4</th>\n",
       "      <td>negative</td>\n",
       "      <td>Can't Tell</td>\n",
       "      <td>Virgin America</td>\n",
       "      <td>@VirginAmerica and it's a really big bad thing...</td>\n",
       "      <td>55</td>\n",
       "    </tr>\n",
       "  </tbody>\n",
       "</table>\n",
       "</div>"
      ],
      "text/plain": [
       "  airline_sentiment negativereason         airline  \\\n",
       "0           neutral            NaN  Virgin America   \n",
       "1          positive            NaN  Virgin America   \n",
       "2           neutral            NaN  Virgin America   \n",
       "3          negative     Bad Flight  Virgin America   \n",
       "4          negative     Can't Tell  Virgin America   \n",
       "\n",
       "                                                text  length  \n",
       "0                @VirginAmerica What @dhepburn said.      35  \n",
       "1  @VirginAmerica plus you've added commercials t...      72  \n",
       "2  @VirginAmerica I didn't today... Must mean I n...      71  \n",
       "3  @VirginAmerica it's really aggressive to blast...     126  \n",
       "4  @VirginAmerica and it's a really big bad thing...      55  "
      ]
     },
     "execution_count": 86,
     "metadata": {},
     "output_type": "execute_result"
    }
   ],
   "source": [
    "df1.head()"
   ]
  },
  {
   "cell_type": "code",
   "execution_count": 87,
   "metadata": {},
   "outputs": [
    {
     "data": {
      "text/plain": [
       "0                      [VirginAmerica, dhepburn, said]\n",
       "1    [VirginAmerica, plus, youve, added, commercial...\n",
       "2    [VirginAmerica, didnt, today, Must, mean, need...\n",
       "3    [VirginAmerica, really, aggressive, blast, obn...\n",
       "4             [VirginAmerica, really, big, bad, thing]\n",
       "Name: text, dtype: object"
      ]
     },
     "execution_count": 87,
     "metadata": {},
     "output_type": "execute_result"
    }
   ],
   "source": [
    "# Check to make sure its working\n",
    "df['text'].head(5).apply(text_process)"
   ]
  },
  {
   "cell_type": "code",
   "execution_count": 88,
   "metadata": {},
   "outputs": [
    {
     "data": {
      "text/html": [
       "<div>\n",
       "<style scoped>\n",
       "    .dataframe tbody tr th:only-of-type {\n",
       "        vertical-align: middle;\n",
       "    }\n",
       "\n",
       "    .dataframe tbody tr th {\n",
       "        vertical-align: top;\n",
       "    }\n",
       "\n",
       "    .dataframe thead th {\n",
       "        text-align: right;\n",
       "    }\n",
       "</style>\n",
       "<table border=\"1\" class=\"dataframe\">\n",
       "  <thead>\n",
       "    <tr style=\"text-align: right;\">\n",
       "      <th></th>\n",
       "      <th>airline_sentiment</th>\n",
       "      <th>negativereason</th>\n",
       "      <th>airline</th>\n",
       "      <th>text</th>\n",
       "      <th>length</th>\n",
       "    </tr>\n",
       "  </thead>\n",
       "  <tbody>\n",
       "    <tr>\n",
       "      <th>0</th>\n",
       "      <td>neutral</td>\n",
       "      <td>NaN</td>\n",
       "      <td>Virgin America</td>\n",
       "      <td>@VirginAmerica What @dhepburn said.</td>\n",
       "      <td>35</td>\n",
       "    </tr>\n",
       "    <tr>\n",
       "      <th>1</th>\n",
       "      <td>positive</td>\n",
       "      <td>NaN</td>\n",
       "      <td>Virgin America</td>\n",
       "      <td>@VirginAmerica plus you've added commercials t...</td>\n",
       "      <td>72</td>\n",
       "    </tr>\n",
       "    <tr>\n",
       "      <th>2</th>\n",
       "      <td>neutral</td>\n",
       "      <td>NaN</td>\n",
       "      <td>Virgin America</td>\n",
       "      <td>@VirginAmerica I didn't today... Must mean I n...</td>\n",
       "      <td>71</td>\n",
       "    </tr>\n",
       "    <tr>\n",
       "      <th>3</th>\n",
       "      <td>negative</td>\n",
       "      <td>Bad Flight</td>\n",
       "      <td>Virgin America</td>\n",
       "      <td>@VirginAmerica it's really aggressive to blast...</td>\n",
       "      <td>126</td>\n",
       "    </tr>\n",
       "    <tr>\n",
       "      <th>4</th>\n",
       "      <td>negative</td>\n",
       "      <td>Can't Tell</td>\n",
       "      <td>Virgin America</td>\n",
       "      <td>@VirginAmerica and it's a really big bad thing...</td>\n",
       "      <td>55</td>\n",
       "    </tr>\n",
       "  </tbody>\n",
       "</table>\n",
       "</div>"
      ],
      "text/plain": [
       "  airline_sentiment negativereason         airline  \\\n",
       "0           neutral            NaN  Virgin America   \n",
       "1          positive            NaN  Virgin America   \n",
       "2           neutral            NaN  Virgin America   \n",
       "3          negative     Bad Flight  Virgin America   \n",
       "4          negative     Can't Tell  Virgin America   \n",
       "\n",
       "                                                text  length  \n",
       "0                @VirginAmerica What @dhepburn said.      35  \n",
       "1  @VirginAmerica plus you've added commercials t...      72  \n",
       "2  @VirginAmerica I didn't today... Must mean I n...      71  \n",
       "3  @VirginAmerica it's really aggressive to blast...     126  \n",
       "4  @VirginAmerica and it's a really big bad thing...      55  "
      ]
     },
     "execution_count": 88,
     "metadata": {},
     "output_type": "execute_result"
    }
   ],
   "source": [
    "df1.head()"
   ]
  },
  {
   "cell_type": "markdown",
   "metadata": {},
   "source": [
    "#Actual Method"
   ]
  },
  {
   "cell_type": "code",
   "execution_count": 89,
   "metadata": {},
   "outputs": [],
   "source": [
    "from sklearn.feature_extraction.text import CountVectorizer"
   ]
  },
  {
   "cell_type": "code",
   "execution_count": 90,
   "metadata": {},
   "outputs": [],
   "source": [
    "bow_transformer=CountVectorizer(analyzer=text_process).fit(df1['text'])"
   ]
  },
  {
   "cell_type": "code",
   "execution_count": 91,
   "metadata": {},
   "outputs": [
    {
     "name": "stdout",
     "output_type": "stream",
     "text": [
      "{'VirginAmerica': 7441, 'dhepburn': 10227, 'said': 16775, 'plus': 15726, 'youve': 19420, 'added': 7848, 'commercials': 9499, 'experience': 10911, 'tacky': 17861, 'didnt': 10242, 'today': 18205, 'Must': 5334, 'mean': 14481, 'need': 14868, 'take': 17875, 'another': 8159, 'trip': 18387, 'really': 16206, 'aggressive': 7937, 'blast': 8751, 'obnoxious': 15120, 'entertainment': 10742, 'guests': 11788, 'faces': 10965, 'amp': 8105, 'little': 14184, 'recourse': 16267, 'big': 8701, 'bad': 8488, 'thing': 18062, 'seriously': 16990, 'would': 19298, 'pay': 15502, '30': 838, 'flight': 11198, 'seats': 16911, 'playing': 15692, 'flying': 11301, 'VA': 7377, 'yes': 19382, 'nearly': 14864, 'every': 10825, 'time': 18155, 'fly': 11281, 'VX': 7394, '“ear': 19478, 'worm”': 19268, 'won’t': 19234, 'go': 11633, 'away': 8434, 'Really': 6101, 'missed': 14664, 'prime': 15923, 'opportunity': 15255, 'Men': 5221, 'Without': 7609, 'Hats': 4204, 'parody': 15439, 'httpstcomWpG7grEZP': 12205, 'virginamerica': 18837, 'Well': 7544, 'didnt…but': 10243, 'amazing': 8074, 'arrived': 8288, 'hour': 12141, 'early': 10572, 'Youre': 7707, 'good': 11656, 'know': 13947, 'suicide': 17727, 'second': 16914, 'leading': 14048, 'cause': 9148, 'death': 10032, 'among': 8101, 'teens': 17940, '1024': 60, 'lt3': 14323, 'pretty': 15901, 'graphics': 11709, 'much': 14781, 'better': 8677, 'minimal': 14620, 'iconography': 13401, 'great': 11715, 'deal': 10024, 'Already': 2087, 'thinking': 18073, '2nd': 818, 'Australia': 2239, 'havent': 11905, 'even': 10812, 'gone': 11652, '1st': 521, 'yet': 19390, 'p': 15384, 'virginmedia': 18839, 'Im': 4407, 'fabulous': 10961, 'Seductive': 6473, 'skies': 17215, 'U': 7091, 'stress': 17639, 'travel': 18343, 'httptcoahlXHhKiyn': 12886, 'Thanks': 6915, 'SFOPDX': 6295, 'schedule': 16857, 'still': 17578, 'MIA': 5050, 'excited': 10864, 'first': 11143, 'cross': 9865, 'country': 9781, 'LAX': 4753, 'MCO': 5021, 'Ive': 4507, 'heard': 11929, 'nothing': 15053, 'things': 18065, 'Virgin': 7440, 'America': 2103, '29DaysToGo': 778, 'flew': 11184, 'NYC': 5402, 'SFO': 6287, 'last': 14009, 'week': 19035, 'couldnt': 9765, 'fully': 11495, 'sit': 17187, 'seat': 16904, 'due': 10542, 'two': 18463, 'large': 14004, 'gentleman': 11562, 'either': 10629, 'side': 17141, 'HELP': 4147, '❤️': 19527, '☺️👍': 19501, 'amazingly': 8075, 'awesome': 8440, 'BOSFLL': 2344, 'PLEASE': 5733, 'want': 18946, 'fares': 11019, 'May': 5183, 'three': 18104, 'times': 18169, 'carriers': 9114, 'available': 8411, 'select': 16946, 'love': 14294, 'graphic': 11708, 'httptcoUT5GrRwAaA': 12780, 'hipster': 12023, 'innovation': 13603, 'feel': 11062, 'brand': 8859, 'making': 14391, 'BOSgtLAS': 2350, 'non': 14996, 'stop': 17601, 'permanently': 15553, 'anytime': 8189, 'soon': 17371, 'guys': 11804, 'messed': 14557, 'seating': 16909, 'reserved': 16502, 'friends': 11446, 'gave': 11544, '😡': 19666, 'free': 11417, 'internet': 13680, 'status': 17540, 'match': 14449, 'program': 15982, 'applied': 8226, 'weeks': 19042, 'Called': 2759, 'emailed': 10654, 'response': 16525, 'happened': 11864, '2': 529, 'ur': 18704, 'vegan': 18789, 'food': 11335, 'options': 15262, 'least': 14060, 'say': 16827, 'site': 17188, 'wont': 19232, 'able': 7758, 'eat': 10595, 'anything': 8187, 'next': 14926, '6': 1379, 'hrs': 12166, 'fail': 10970, 'miss': 14663, 'Dont': 3340, 'worry': 19273, 'well': 19059, 'together': 18221, 'cant': 9076, 'get': 11571, 'cold': 9450, 'air': 7963, 'vents': 18799, 'VX358': 7395, 'noair': 14961, 'worstflightever': 19287, 'roasted': 16654, 'SFOtoBOS': 6301, 'EWR': 3437, 'Middle': 5239, 'red': 16278, 'eye': 10952, 'noob': 15015, 'maneuver': 14408, 'sendambien': 16968, 'andchexmix': 8123, 'hi': 12001, 'bked': 8738, 'cool': 9728, 'birthday': 8720, 'add': 7847, 'elevate': 10639, 'entered': 10735, 'middle': 14581, 'name': 14827, 'Flight': 3784, 'Booking': 2517, 'Problems': 5965, '😢': 19671, 'hours': 12148, 'operation': 15247, 'Club': 2921, 'posted': 15798, 'online': 15219, 'current': 9901, 'help': 11956, 'left': 14070, 'expensive': 10910, 'headphones': 11922, '89': 1685, 'IAD': 4344, 'Seat': 6460, '2A': 779, 'one': 15206, 'answering': 8165, 'LampF': 4859, 'number': 15097, 'awaiting': 8429, 'return': 16581, 'phone': 15587, 'call': 9035, 'prefer': 15854, 'use': 18735, 'selfservice': 16959, 'option': 15261, 'news': 14923, 'could': 9764, 'start': 17520, 'flights': 11233, 'Hawaii': 4208, 'end': 10703, 'year': 19368, 'httptcor8p2Zy3fe4': 13188, 'via': 18815, 'Pacificbiznews': 5784, 'Nice': 5479, 'RT': 6058, 'Vibe': 7427, 'moodlight': 14729, 'takeoff': 17879, 'touchdown': 18279, 'MoodlitMonday': 5307, 'ScienceBehindTheExperience': 6451, 'httptcoY7O0uNxTQP': 12849, 'Moodlighting': 5306, 'way': 18984, 'Best': 2453, 'EVER': 3430, 'Cool': 2996, 'calming': 9054, '💜✈': 19595, 'freddieawards': 11416, 'Done': 3337, 'done': 10438, 'airline': 7979, 'around': 8279, 'hands': 11850, 'book': 8801, 'chat': 9236, 'support': 17761, 'working': 19255, 'httptcovhp2GtDWPk': 13281, 'View': 7433, 'downtown': 10484, 'Los': 4960, 'Angeles': 2134, 'Hollywood': 4285, 'Sign': 6544, 'beyond': 8687, 'rain': 16134, 'mountains': 14759, 'httptcoDw5nf0ibtr': 12478, 'Hey': 4253, 'flyer': 11296, 'hard': 11880, 'getting': 11584, 'Elevate': 3487, 'account': 7801, 'Help': 4236, 'plz': 15727, 'win': 19164, 'bid': 8700, 'upgrade': 18682, '227': 642, 'LAXgtSEA': 4765, '🍷👍💺✈️': 19547, 'unused': 18668, 'ticket': 18130, 'moved': 14763, 'new': 14915, 'city': 9334, 'dont': 10444, 'expires': 10919, 'travelhelp': 18349, 'leaving': 14066, 'Dallas': 3180, 'Seattle': 6464, 'Feb': 3725, '24': 674, 'elevategold': 10640, 'reason': 16212, 'rock': 16666, 'DREAM': 3160, 'httptcooA2dRfAoQ2': 13127, 'httptcolWWdAc2kHx': 13063, 'wow': 19309, 'blew': 8758, 'mind': 14613, 'ladygaga': 13979, 'carrieunderwood': 9115, 'night': 14941, 'tribute': 18378, 'SoundOfMusic': 6609, 'Oscars2015': 5653, 'think': 18070, 'agree': 7947, 'entertaining': 10741, '769': 1573, 'supposed': 17766, 'minutes': 14633, 'ago': 7941, 'Website': 7534, 'shows': 17124, 'Time': 6980, 'Julie': 4639, 'Andrews': 2131, 'though': 18091, 'impressive': 13469, 'Carrieunderwood': 2799, 'wish': 19194, 'Atlanta': 2219, 'Soon': 6600, 'Hands': 4188, 'LA': 4740, 'February': 3726, '24th': 698, 'im': 13440, '99': 1771, 'LGAgtDAL': 4789, 'ive': 13775, 'trying': 18420, 'since': 17170, 'page': 15398, 'never': 14903, 'loads': 14206, 'thx': 18124, 'Need': 5445, 'spotify': 17467, 'stat': 17528, 'guiltypleasures': 11793, 'Lady': 4851, 'Gaga': 4002, '😊': 19628, 'Carrie': 2797, 'New': 5461, 'marketing': 14430, 'song': 17368, 'httpstcoF2LFULCbQ7': 12181, 'let': 14095, 'us': 18710, 'wowd': 19310, 'Meh': 5208, 'called': 9043, '34': 914, 'adding': 7849, '3': 837, '2014': 543, 'Elevatethey': 3488, 'shown': 17123, 'uphelp': 18689, 'CarrieUnderwood': 2798, '😍👌': 19638, 'LadyGaga': 4852, 'Sorry': 6604, 'Mary': 5168, 'Martin': 5166, 'beat': 8602, 'classics': 9352, '0736': 26, 'DAL': 3074, 'DCA': 3085, '224': 632, '210pm': 585, 'Tried': 7038, 'check': 9249, 'Status': 6686, 'please': 15699, 'heyyyy': 11998, 'guyyyys': 11809, 'someone': 17357, 'Hi': 4255, 'hold': 12044, '4050': 1059, 'earlier': 10569, 'tonight': 18247, '1150pm': 159, 'Congrats': 2973, 'winning': 19179, 'Travelzoo': 7034, 'award': 8431, 'Deals': 3219, 'Airline': 2047, 'US': 7244, 'httptcokj1iljaebV': 13047, 'everything': 10829, 'fine': 11132, 'lost': 14271, 'bag': 8508, 'change': 9202, 'reservation': 16495, 'credit': 9842, 'card': 9096, 'modify': 14702, 'waive': 18921, 'fee': 11059, 'customer': 9916, 'service': 16997, 'team': 17922, 'Let': 4897, 'tracking': 18302, 'booked': 8803, 'baggage': 8513, 'lax': 14036, 'loft': 14228, 'needs': 14875, 'step': 17561, 'game': 11527, '40': 1038, 'dirty': 10290, 'tables': 17857, 'floors': 11262, 'httptcohy0VrfhjHt': 13010, 'worried': 19270, 'ride': 16616, 'plane': 15658, 'crew': 9846, 'airlines': 7987, 'like': 14141, 'yall': 19361, 'Sat': 6429, 'morning': 14738, 'correct': 9743, 'bill': 8707, 'watch': 18975, 'best': 8663, 'student': 17671, 'films': 11115, '35000': 929, 'feet': 11072, 'CMFat35000feet': 2697, 'httptcoKEK5pDMGiF': 12596, 'different': 10254, 'ratepolicy': 16166, 'media': 14502, 'Bags': 2396, 'going': 11645, 'anyway': 8190, 'speak': 17419, 'human': 13351, 'asap': 8299, 'Thank': 6907, 'Doom': 3343, 'supp': 17758, 'biz': 8733, 'traveler': 18346, 'SouthwestAir': 6616, 'JetBlue': 4594, 'neverflyvirginforbusiness': 14909, 'member': 14520, 'inflight': 13574, 'teamIm': 17924, '100': 31, 'interested': 13667, 'flightattendant': 11222, 'dreampath': 10504, 'G': 3950, 'youre': 19410, 'Whenever': 7570, 'begrudgingly': 8630, 'delayed': 10082, 'Late': 4870, 'interesting': 13668, 'Cancelled': 2769, 'four': 11392, 'plannedneverflyvirginforbusiness': 15677, 'disappointing': 10301, 'shared': 17053, 'business': 8981, 'meet': 14510, 'neverflyvirgin': 14908, 'I’m': 4512, 'trouble': 18398, 'wife': 19149, 'httptcopX8hQOKS3R': 13160, 'Cant': 2775, 'bring': 8897, 'using': 18747, 'code': 9437, 'Random': 6081, 'Q': 6002, 'whats': 19094, 'distribution': 10386, 'avatars': 8414, 'bet': 8673, 'kitty': 13938, 'disproportionate': 10361, 'share': 17052, 'httptcoAPtZpuROp4': 12406, 'Flying': 3869, 'Life': 4905, 'happens': 11867, 'JPERHI': 4546, 'helpVA': 11960, 'home': 12061, 'back': 8469, 'RNP': 6049, 'Yeah': 7687, 'points': 15743, 'recent': 16239, 'TV': 6835, 'video': 18821, 'disappointed': 10300, 'Flightled': 3821, 'went': 19066, 'jfk': 13834, 'Saturday': 6431, 'landed': 13989, 'friendly': 11442, 'nomorevirgin': 14995, '345': 920, 'redirected': 16289, 'website': 19028, 'BTW': 2366, 'isnt': 13735, 'user': 18742, 'redesign': 16285, 'tried': 18383, 'desktop': 10182, 'mobile': 14695, 'httptcoAvyqdMpi1Y': 12418, 'scanned': 16839, 'passengers': 15465, 'leave': 14064, 'told': 18226, 'remove': 16407, 'class': 9349, 'bin': 8712, 'uncomfortable': 18534, 'find': 11126, 'anyone': 8183, 'useless': 18740, 'boy': 8848, 'Prince': 5955, 'ressie': 16541, 'SF': 6286, 'Thursday': 6965, 'httptcoGsB2J3c4gM': 12530, 'must': 14802, 'appointments': 8232, 'sfo2lax': 17031, 'music': 14798, 'httptcomaRcnOCWzn': 13097, 'hows': 12163, 'direct': 10280, 'FLLgtSFO': 3646, 'unexpected': 18566, 'layover': 14041, 'Vegas': 7413, '4': 1037, 'fuel': 11483, 'peeps': 15522, 'bought': 8838, 'sneaky': 17311, 'apt': 8253, 'Three': 6959, 'people': 15533, 'exp': 10893, '💕💕': 19587, 'RaeAnn': 6073, 'shes': 17062, 'customerservice': 9925, 'line': 14156, 'hung': 13360, 'sarcasm': 16797, 'tripping': 18392, 'plain': 15653, 'text': 17987, 'version': 18809, 'reluctant': 16385, 'enter': 10734, 'info': 13576, 'scheduled': 16859, '714': 1514, 'Changed': 2833, 'weather': 19013, 'Looks': 4957, 'getaway': 11573, 'deals': 10027, '59': 1357, 'oneway': 15212, 'Lots': 4967, 'cities': 9331, 'httptcotZZJhuIbCH': 13231, 'CheapFlights': 2851, 'FareCompare': 3711, 'httptcoRPdBpX3wNd': 12730, 'httptcoB2Xi4YG5T8': 12422, 'httptcoQDlJHslOI5': 12708, '🌞✈': 19541, 'come': 9474, 'PHL': 5703, 'already': 8049, 'horrible': 12110, 'pleasecomeback': 15702, 'httptcogLXFwP6nQH': 12983, 'concerned': 9589, 'tech': 17930, 'flown': 11265, 'onEasy': 15197, 'reservationhelpful': 16499, 'representatives': 16451, 'comfortable': 9484, 'Another': 2147, 'rep': 16419, 'kicked': 13910, 'butt': 8990, 'Naelah': 5417, 'represents': 16453, 'beautifully': 8609, 'beautiful': 8607, 'frontend': 11455, 'design': 10172, 'right': 16624, 'bc': 8584, 'backend': 8475, 'secure': 16923, 'Love': 4973, 'running': 16744, 'Gate': 4014, 'E9': 3394, 'LAS': 4745, 'Waited': 7499, 'kept': 13905, 'Use': 7365, 'browser': 8922, '2015': 544, 'reputation': 16457, 'built': 8950, 'doesnt': 10424, 'crossbrowser': 9866, 'compatible': 9538, 'totally': 18275, 'Folks': 3874, 'problem': 15947, 'min': 14612, 'delay': 10079, 'connecting': 9635, 'seems': 16937, 'long': 14246, 'VA370': 7378, 'thanks': 18002, 'outstanding': 15328, 'NYCJFK': 5404, 'San': 6420, 'Francisco': 3903, 'absolute': 7763, 'ever': 10822, 'Every': 3564, 'delighted': 10112, 'provide': 16028, 'complimentary': 9572, 'upgrades': 18685, 'thats': 18016, '9': 1716, '120': 183, 'wait': 18905, 'calling': 9048, 'intern': 13675, 'completely': 9566, 'month': 14724, 'BOSLAS': 2345, 'nonstop': 15011, 'depart': 10138, 'VAbeatsJblue': 7381, 'JFKgtSFO': 4534, '882': 1682, 'failing': 10974, 'customers': 9923, 'process': 15961, 'link': 14164, 'TSA': 6822, 'precheck': 15838, 'FiDiFamilies': 3742, 'Terrible': 6896, 'hotel': 12129, 'hotline': 12136, 'sorry': 17378, '276': 748, 'Cabo': 2748, 'Lucas': 4984, 'ChrysiChrysic': 2885, 'assistance': 8326, 'yesterday': 19386, 'u': 18475, 'give': 11610, 'Shame': 6507, 'likingyoulessandless': 14148, 'register': 16340, 'dog': 10427, 'gt': 11762, 'Dulles': 3378, 'queue': 16101, 'longer': 14249, 'Pls': 5905, 'advise': 7884, 'ROCK': 6051, 'Oscars': 5652, 'redcarpet': 16279, 'oscars': 15290, 'oscars2015': 15291, 'reallytallchris': 16207, 'dropped': 10526, 'track': 18300, 'httpstcozv2pt6TRK9': 12218, 'always': 8064, 'Xoxo': 7659, 'buy': 8994, 'Creates': 3030, 'anxiety': 8178, 'frustrated': 11465, 'Youd': 7704, 'paying': 15505, 'extra': 10942, 'bucks': 8939, 'luggage': 14334, 'might': 14588, 'afford': 7901, 'hiring': 12029, 'hand': 11836, 'sfo': 17030, 'lame': 13986, 'world': 19263, 'irmafromDallas': 13720, 'takes': 17881, 'cake': 9029, 'flt': 11266, 'sooner': 17372, 'midnight': 14583, 'Monday': 5293, '😃': 19618, 'imagine': 13442, 'Web': 7532, 'indicates': 13546, 'dude': 10541, 'andor': 8125, 'staff': 17493, 'super': 17748, 'helpful': 11968, 'ran': 16147, 'WaltDisneyWorld': 7509, 'PrincessHalf': 5957, 'spoiled': 17454, 'comfort': 9483, 'paid': 15401, 'premium': 15872, 'across': 7828, 'offer': 15148, 'Sad': 6398, 'face': 10962, 'question': 16098, 'possible': 15793, 'infant': 13564, 'giving': 11614, 'Always': 2095, 'welcome': 19053, 'jessicajaymes': 13809, 'dc': 10013, 'sunset': 17745, 'globe': 11627, 'backtowinter': 8484, 'work': 19244, 'refreshed': 16313, 'httptcoVX9vBCTdLf': 12800, 'understand': 18547, 'DM': 3138, 'answer': 8163, 'damaged': 9967, 'policy': 15755, 'destroyed': 10198, 'special': 17423, 'alone': 8046, 'w2': 18887, 'kids': 13916, '1': 29, 'Priority': 5961, 'boarding': 8783, 'thank': 17996, 'checking': 9258, 'tickets': 18140, 'purchased': 16065, 'happy': 11871, 'coming': 9489, '713': 1513, 'Field': 3744, 'definitely': 10068, '23': 651, '0769': 27, 'LGA': 4782, 'DFW': 3120, 'drivers': 10520, 'license': 14116, 'expired': 10918, 'Friday': 3920, 'problems': 15952, 'web': 19024, 'keeps': 13901, 'error': 10773, 'contact': 9670, 'minute': 14632, 'reschedule': 16479, 'button': 8991, 'greyed': 11730, 'rang': 16150, '35': 927, 'vendor': 18796, 'fix': 11160, 'got': 11676, '450': 1155, 'todaychecked': 18211, 'email': 10652, 'TOMORROW': 6806, 'unacceptable': 18509, 'lga': 14111, 'Flighted': 3806, 'stuck': 17664, 'today12': 18206, 'pairings': 15413, 'include': 13508, 'wine': 19172, 'white': 19126, 'offered': 15149, 'redwineisbetter': 16295, 'wonked': 19231, 'look': 14253, 'browsers': 8923, 'CSS': 2730, 'httptco8qsQMM7KF2': 12382, 'agent': 7926, 'designated': 10173, 'silver': 17162, 'DullesAirport': 3379, 'closed': 9380, 'assist': 8325, 'pasengers': 15458, 'Plans': 5893, 'Include': 4424, 'Austin': 2236, 'Route': 6231, 'TopNews': 7013, 'Arab': 2187, 'Emirates': 3510, 'httptcoaqZWecOkk2': 12888, 'normal': 15026, 'receive': 16236, 'reply': 16437, 'Central': 2819, 'Baggage': 2394, 'baggageissues': 8516, 'smh': 17283, 'Logan': 4941, 'airport': 7993, 'waiting': 18909, 'checkin': 9254, '9am': 1780, 'Checkin': 2856, 'desk': 10180, 'open': 15238, 'jump': 13870, 'DallasAustin': 3182, 'market': 14429, 'DallasNews': 3186, 'httptcoEwwGi97gdx': 12492, 'Beats': 2433, 'EPS': 3412, 'Views': 7434, 'Takes': 6858, 'LUV': 4837, 'Investors': 4476, 'Business': 2605, 'Daily': 3176, 'httptcoFLwmGDAHxu': 12499, 'Lister': 4924, 'show': 17118, '1230': 206, '130': 242, 'begin': 8627, 'April': 2184, '889': 1684, 'KETR': 4658, 'httptcoSSUVWwkyHH': 12741, 'congrats': 9626, 'SFOLAX': 6291, 'Fuck': 3938, 'united': 18587, 'fl1289': 11168, 'SFOEWR': 6288, 'clincher': 9375, 'Havent': 4206, 'Id': 4401, 'follow': 11327, 'many': 14418, 'apologies': 8199, 'r': 16120, 'worse': 19275, 'respond': 16519, 'cudtomers': 9889, 'shame': 17045, 'spend': 17440, 'money': 14715, 'stranded': 17621, 'landing': 13991, 'JFK': 4526, 'reimburse': 16352, 'TTINAC11': 6828, 'SJC': 6316, 'choice': 9305, 'Southwest': 6615, '😩😭': 19688, '10': 30, '14': 275, 'days': 10004, 'confirmation': 9611, 'inquired': 13610, 'claim': 9341, '8': 1609, 'BOS': 2340, 'tomorrow': 18235, 'notification': 15061, 'rebook': 16222, '😎': 19639, 'You’ve': 7711, 'met': 14560, 'Got': 4088, 'Upgrade': 7357, 'restr': 16549, 'httptcoRHKaMx9VF5': 12726, 'httptcoPYalebgkJt': 12691, 'Gold': 4071, 'CMH': 2698, 'lot': 14281, 'thrown': 18116, 'seeVery': 16928, 'sad': 16759, 'Worst': 7633, 'stuff': 17674, 'wrong': 19328, 'worst': 19278, 'issue': 13739, 'finding': 11129, 'missing': 14671, 'item': 13755, 'headed': 11918, 'AmericanAirlines': 2109, '“VirginAmericaYouve': 19476, 'matchGot': 14450, 'httptcoH952rDKTqy”': 12536, 'asarcoESar': 8300, '🙉': 19707, 'lose': 14266, 'suck': 17704, 'DMd': 3140, 'persisting': 15557, 'recd': 16233, 'Flightlation': 3818, 'notice': 15058, 'w': 18885, 'PS': 5768, 'Driving': 3367, 'Mon': 5291, '😁': 19604, 'Boston': 2527, 'stink': 17588, 'PSP': 5769, 'ability': 7757, 'expected': 10900, 'dancing': 9975, 'high': 12008, 'school': 16864, 'dance': 9974, 'revue': 16608, 'quick': 16104, 'apparently': 8213, 'faster': 11026, 'sitting': 17197, 'nervous': 14898, 'DC': 3083, 'sent': 16977, 'picture': 15613, 'wing': 19173, 'httptco5B2agFd8c4': 12317, 'Keep': 4693, 'goodness': 11666, 'field': 11098, 'pressure': 15896, '❤️from': 19529, 'Texas': 6901, 'beatstheothers': 8606, 'crisis': 9861, 'Please': 5897, 'NY': 5401, 'Pilots': 5881, 'job': 13843, 'snow': 17314, 'york': 19395, 'area': 8260, 'monday': 14713, 'afternoon': 7910, 'Row': 6232, 'recline': 16250, 'mention': 14535, 'soreback': 17377, '404': 1055, 'mechanical': 14496, 'Handle': 4186, 'pros': 16018, 'tossed': 18271, 'drink': 10510, 'precipitation': 15844, 'scared': 16842, '❄️❄️❄️': 19524, 'twitter': 18459, 'killed': 13918, 'rescheduling': 16484, 'charged': 9219, 'refusing': 16333, 'refund': 16322, 'Whats': 7565, 'can’t': 9081, 'access': 7783, 'Safari': 6401, 'iPhone': 13388, 'Seems': 6476, 'Mac': 5102, 'iPad': 13386, 'Passbook': 5813, 'clicking': 9370, 'CHECKIN': 2672, 'received': 16237, '24hrs': 697, 'broken': 8911, 'headerelevateUsernumOfPointsAvailable': 11919, '0': 0, 'Points': 5910, 'looking': 14256, 'forward': 11388, 'rescheduled': 16480, 'diehardvirgin': 10247, 'VX413': 7397, 'One': 5617, 'sec': 16913, 'FlightledGonna': 3822, 'land': 13988, 'Cost': 3006, '800': 1611, 'ugh': 18498, 'along': 8047, 'subsequent': 17694, 'putting': 16080, 'PDX': 5690, 'httptcoenIQg0buzj': 12959, 'gonna': 11655, 'it’s': 13772, 'bug': 8945, 'report': 16442, 'center': 9169, 'bit': 8725, 'Like': 4909, 'httptcoVPqEm31XUQ': 12796, 'Site': 6559, 'attendant': 8364, 'httptcoPxdEL1nq3l': 12699, 'Awesome': 2255, 'Watch': 7521, 'nominated': 14991, 'MeetTheFleet': 5204, 'httptcoDnStITRzWy': 12476, 'Trying': 7057, 'reset': 16503, 'password': 15475, 'arrives': 8289, 'based': 8564, 'Silicon': 6547, 'Valley': 7409, 'disruption': 10370, 'FCmostinnovative': 3628, 'incubator': 13538, 'FastCompanys': 3718, 'httptcowU3LbCNcr9': 13297, 'nicely': 14933, '👏': 19573, 'watching': 18977, 'something': 17360, 'bubbly': 8936, 'departure': 10144, '413': 1075, 'todays': 18214, 'Palm': 5791, 'Springs': 6653, 'Ca': 2745, 'hahaha': 11823, '😂VirginAmerica': 19609, 'GUYS': 3999, 'AMAZING': 1924, 'LOVE': 4825, 'GUYS💗': 4000, 'sounds': 17393, 'fun': 11497, 'updates': 18677, 'Jfk': 4608, 'Lax': 4874, 'spruce': 17478, 'moose': 14733, 'unusable': 18667, '910': 1731, 'checked': 9252, 'count': 9769, 'somehow': 17356, 'classiq': 9353, 'luv': 14345, 'Greetingz': 4110, 'continues': 9694, 'helping': 11973, 'sorted': 17383, 'Sweet': 6753, 'route': 16695, 'Rockies': 6221, 'airplanemodewason': 7991, '90s': 1730, 'blasting': 8752, 'gate': 11538, 'SanFrancisco': 6422, 'iced': 13397, 'coffee': 9441, 'passenger': 15463, '7D': 1596, 'Flt': 3848, '338': 909, 'assaulted': 8314, 'shouldnt': 17112, 'trust': 18410, 'hes': 11994, 'banned': 8551, 'Crew': 3034, 'filed': 11107, 'FAANews': 3612, '‘select': 19465, 'city’': 9337, 'selecting': 16949, 'destination': 10191, 'httptcoSLLYIBE2vQ': 12739, 'severely': 17024, 'dentedmissing': 10131, 'wheel': 19100, 'SAN': 6253, 'Luggage': 4991, 'Miranda': 5266, 'wasnt': 18965, 'easy': 10594, 'itinerary': 13761, 'shift': 17065, 'impending': 13456, 'Quick': 6014, 'painless': 15407, 'youd': 19403, 'see': 16927, 'girls': 11607, 'inspired': 13625, 'become': 8613, 'pilots': 15627, 'WOAW': 7481, 'event': 10817, 'March': 5142, '28': 756, 'ABQ': 1892, 'httptcorfXlV1kGDh': 13196, 'Good': 4080, 'Vodkatonics': 7449, 'entire': 10744, 'flight🍸sfo': 11248, 'beats': 8604, 'expectations': 10899, 'shares': 17054, 'Santa': 6424, 'Cruz': 3041, 'Sentinel': 6489, 'httptcoqm9dQbai6G': 13181, 'plans': 15680, 'BIG': 2321, 'Lovegratitudempower': 4977, 'httptco1AGR9knCpf': 12238, 'weRin': 19005, 'OSCARS2105': 5579, 'VIPswagbags': 7387, 'AvalonHollywood': 2245, 'httptcoybMbGs0dHn': 13325, 'luxuriesaesthetics': 14351, 'improve': 13471, 'requested': 16461, 'window': 19168, 'confirmed': 9613, 'treat': 18364, 'member😒': 14523, 'Grand': 4095, 'Budapest': 2581, 'Hotel': 4305, 'OscarsCountdown': 5654, 'NewsVP': 5476, 'Next': 5477, '407': 1061, 'wtf': 19336, 'purpose': 16071, 'exhausted': 10880, 'frequent': 11430, 'flier': 11193, 'inconvenience': 13524, 'full': 11489, 'dfwlax': 10224, '883': 1683, 'sweet': 17822, 'X': 7651, 'Boo': 2514, 'refunding': 16327, 'place': 15647, 'rise': 16638, 'Q4': 6005, 'financial': 11125, 'results': 16559, 'USA': 7268, 'TODAY': 6804, 'httptcolFS4PEFE6y': 13057, 'Adds': 2011, 'Pillows': 5879, 'Instead': 4457, 'LieFlat': 4903, 'Seats': 6463, 'First': 3770, 'Class': 2903, 'Arms': 2196, 'Race': 6070, 'httptcorGYwJBbhm4': 13190, 'advantage': 7877, 'MayweatherPacquiao': 5187, 'virgin': 18835, 'fight': 11101, 'makes': 14388, 'cutest': 9940, 'salt': 16781, 'pepper': 15536, 'shaker': 17039, 'httptcovC6Keulg2J': 13264, 'Better': 2457, 'cabin': 9019, 'behind': 8636, 'row': 16701, 'selected👎': 16948, 'DISAPPOINTED': 3130, '4Q': 1221, 'iol': 13717, 'httptcoXZ6qeG3nef': 12840, 'fav': 11037, 'hot': 12128, 'female': 11078, 'pilot': 15626, '👍👍✈️✈️💗': 19564, 'Paris': 5801, 'LizaUtter': 4933, 'welcome”': 19056, 'surgery': 17782, 'tell': 17947, 'doctor': 10420, 'contacted': 9672, 'RenttheRunway': 6144, 'charging': 9224, 'dress': 10507, 'suitcase': 17729, 'errors': 10776, 'past': 15476, 'callah': 9037, 'order': 15269, 'KCIAirport': 4654, '😊😀😃😄': 19633, 'regulation': 16349, 'VirginAtlantic': 7442, 'Atlantic': 2220, 'benefits': 8656, 'husband': 13373, 'ordered': 15270, 'drinks': 10513, 'screen': 16880, 'came': 9056, 'soooo': 17374, 'seatbelt': 16907, 'light': 14134, 'barely': 8557, 'turbulence': 18435, 'posts': 15801, 'consecutive': 9646, 'fullyear': 11496, 'net': 14899, 'profit': 15977, 'ATWOnline': 1957, 'httptcotvB5zbzVhg': 13238, 'Funny': 3943, 'story': 17612, 'javascript': 13794, 'stylesheets': 17683, 'dislike': 10347, 'GoPro': 4062, 'Results': 6170, 'Handily': 4185, 'Exceed': 3572, 'Forecasts': 3885, 'NYTimes': 5413, 'httptcogonmRwEM6I': 12990, 'position': 15784, 'flyLAXairport': 11285, 'wondering': 19229, 'application': 8224, 'achieves': 7817, 'profitability': 15978, 'despite': 10188, 'revenue': 16595, 'CAPAAviation': 2643, 'httptcozSuZTNAIJq': 13336, 'gives': 11612, 'positive': 15787, 'outlook': 15316, 'sees': 16939, 'increased': 13533, 'competition': 9550, 'Reuters': 6175, 'httptcojEu7Od3eYJ': 13027, '1050AM': 80, 'CT': 2733, 'tmm': 18196, 'sort': 17380, 'caching': 9026, 'SOS': 6339, 'delays': 10101, 'madbee95': 14362, 'links': 14168, 'emails': 10658, 'httptco2npXB6oBMr': 12269, 'says': 16832, 'expect': 10898, 'choppy': 9311, 'gusty': 11802, 'winds': 19170, 'wa': 18898, 'temperature': 17957, '5': 1236, 'degrees': 10073, 'wthe': 19340, 'windchill': 19167, 'loved': 14295, 'Mondays': 5294, 'Mostly': 5312, 'safety': 16769, 'sorrynotsorry': 17379, '112': 135, 'day': 9995, 'responsePlease': 16526, 'section': 16919, 'Chrome': 2883, 'Might': 5247, 'wanna': 18944, 'wanted': 18949, 'routes': 16697, 'planned': 15676, 'Newark': 5466, 'hope': 12092, 'Probably': 5962, 'inappropriate': 13487, 'board': 8780, 'Lets': 4898, 'saving': 16822, 'sanity': 16794, 'httptcoELtBOLjUl9': 12485, 'standby': 17509, 'understanding': 18550, 'helped': 11963, 'Thx': 6967, 'Comps': 2960, 'brought': 8921, 'httptcoTKaUyGcPmS': 12758, 'absolutely': 7764, 'assets': 8318, 'httpstcoOArDjjGrrD': 12188, 'ready': 16197, 'Noooo': 5512, '😘': 19655, 'manage': 14399, 'httpstco2pUJvCElNg': 12170, 'looks': 14257, 'httptcokAcY2AwDbW': 13036, '👸': 19581, 'FreyaBevanFund': 3918, 'urgent': 18707, 'treatment': 18367, 'in🇺🇸2y': 13716, 'old': 15186, 'battling': 8581, 'cancer': 9066, '💗freyasfund': 19589, 'may': 14460, 'httptcoyPo7nYpRZl': 13323, 'biztravel': 8736, 'virginAmerica': 18836, 'less': 14090, 'half': 11830, 'price': 15913, 'round': 16692, 'fare': 11018, 'stunned': 17677, 'httptcoUKdjjijroW': 12777, 'WTF': 7493, 'happening': 11866, '550': 1319, 'DTW': 3166, 'sold': 17344, 'promo': 15998, 'SSal': 6349, 'momma': 14707, 'made': 14364, '😁😁😁': 19606, 'portfolio': 15779, '27': 742, 'tonite': 18251, '7AM': 1593, 'returned': 16582, 'Call': 2756, '9143290185': 1734, 'JKF': 4541, '7C': 1595, 'shrinerack': 17128, 'bound': 8844, 'Wifey': 7590, 'duffle': 10544, 'vday': 18786, 'Shes': 6523, 'keeper': 13895, 'Holla': 4282, 'httptcoJlOIbLnair': 12591, 'paperwork': 15425, 'promised': 15995, 'callemail': 9044, 'Still': 6696, 'resolution': 16506, 'central': 9172, 'Debbie': 3224, 'Baldwin': 2399, 'rockstar': 16673, 'performance': 15543, 'demo': 10125, 'evening': 10814, 'VX919': 7398, 'LAS2SFO': 4747, 'BestCrew': 2454, 'SheRocks': 6519, 'taking': 17882, 'care': 9099, 'SuuperG': 6750, 'rockstars': 16674, 'lovely': 14303, 'soft': 17341, 'views': 18825, 'httptcoCnctL7G1ef': 12457, 'mileage': 14595, 'challenge': 9196, 'several': 17021, 'facing': 10967, 'styling': 17684, 'Ill': 4406, 'keep': 13893, 'Many': 5140, 'Follow': 3875, 'ourprincess': 15302, 'freyasfund': 11436, 'Bandie': 2403, 'Looking': 4956, 'Help😍': 4243, '💗🇬🇧💗🇺🇸💗': 19590, '🎀🌏🎀': 19551, 'httptcoUJfS9Zi6kd': 12776, 'Lofty': 4940, 'SilverStatus': 6550, 'httptcoF4Tp0dAwbd': 12494, 'Applied': 2179, 'Match': 5176, 'ball': 8537, 'Flightly': 3830, '😥': 19679, 'GMA': 3970, 'AmericanAir': 2105, '🎀🇬🇧🎀🇺🇸🎀': 19550, 'httptco778AzTDaer': 12355, 'adore': 7872, 'glad': 11615, 'mentioned': 14536, 'took': 18254, 'years': 19371, 'transformative': 18325, 'uphold': 18690, 'taxes': 17905, 'earned': 10578, 'statusmatch': 17543, 'checkinbut': 9256, 'spending': 17441, 'DALDCA': 3076, 'Get': 4029, 'Sent': 6487, 'couple': 9784, 'messages': 14554, 'provided': 16029, 'avail': 8408, 'try': 18417, 'Cheers': 2860, 'smooth': 17289, 'Easily': 3464, 'SFOFLL': 6289, 'purchase': 16064, 'hoping': 12102, 'ws': 19332, 'forced': 11348, 'small': 17271, 'carry': 9116, 'empty': 10694, 'space': 17408, 'wjere': 19203, 'slow': 17262, 'httptcoSzR0pioA21': 12754, 'spoke': 17455, 'representative': 16450, 'solution': 17348, 'loyal': 14316, 'flies': 11197, 'deeply': 10058, 'mere': 14542, 'dontdothistome': 10446, 'Left': 4889, 'blazer': 8754, 'Kooples': 4726, 'jacket': 13784, '3rd': 1027, '36': 949, 'T3': 6770, 'partners': 15452, 'Visa': 7446, 'Checkout': 2858, 'payment': 15506, 'method': 14563, 'boost': 8811, 'conversion': 9718, 'rates': 16167, 'etailwest': 10798, 'payments': 15507, 'visa': 18843, 'promoting': 16001, 'product': 15967, 'southwest': 17400, 'recommend': 16255, 'noneother': 15000, 'httptcotFaNXBh1Cf': 13221, 'pls': 15721, 'AUS': 1961, 'Bruh': 2573, '“VirginAmerica': 19475, 'giannilee': 11594, 'Turn': 7071, 'VXSafetyDance”': 7399, 'course': 9791, 'obsessed': 15125, 'family': 11003, 'ok': 15173, 'Digging': 3293, 'swanky': 17809, 'pink': 15632, 'mood': 14728, 'lighting': 14136, 'cabaret': 9017, 'singer': 17175, 'Think': 6949, 'receipt': 16234, 'ASAP': 1944, 'Could': 3011, '150219000114': 302, '2d': 791, '3d': 1017, 'embossed': 10668, 'badges': 8498, 'patches': 15482, 'superior': 17752, 'ones': 15210, 'currently': 9902, 'httptco3fq3XElbOn': 12284, 'VX399': 7396, 'standards': 17508, 'dirtiest': 10289, 'squared': 17480, 'Someone': 6594, 'picked': 15608, 'tweeted': 18448, '😉': 19627, 'Avis': 2249, 'rental': 16413, 'continue': 9692, 'car': 9095, 'sucks': 17707, 'to1030': 18201, 'cust': 9913, 'lap': 13999, 'child': 9284, 'httptcoSfjDuahx9Z': 12746, 'skift': 17216, 'KarinSLee': 4682, 'celebrating”': 9163, 'Happy': 4193, 'Chinese': 2875, 'Year': 7688, 'chance': 9200, 'gift': 11597, 'Comenity': 2944, 'Bank': 2405, 'joke': 13851, 'Nothing': 5531, 'constant': 9659, 'bank': 8547, 'also': 8054, 'Grandma': 4097, 'Ellas': 3497, '80th': 1630, 'bday': 8588, 'greeting': 11728, 'stewardess': 17570, 'Eastern': 3467, 'Airlines': 2051, 'tix': 18189, 'ATX': 1958, 'yr': 19428, 'BEST': 2308, 'transactional': 18315, 'Anytime': 2161, 'sugafly': 17719, 'Great': 4100, 'Thats': 6923, 'Wow': 7643, 'moment': 14704, 'Unexpected': 7321, 'gesture': 11570, 'send': 16967, 'submitted': 17688, 'request': 16460, 'haven’t': 11906, 'accelerate': 7777, 'httptcoCqMm7nuE9m': 12458, 'LOVED': 4826, 'livewelltraveled': 14191, 'sytycd': 17852, 'fat': 11028, 'yummy': 19435, 'CEO': 2663, 'jetblue': 13811, 'strayed': 17631, 'low': 14308, 'cost': 9754, 'model': 14699, 'httptco96Sctomh29': 12383, 'brilliant': 8896, 'brisk': 8904, 'cue': 9890, 'vx363': 18883, 'httptcorMZNIVGmg6': 13194, 'ploughs': 15717, 'lone': 14244, 'furrow': 11511, 'MiddleEast': 5240, 'httptcoFVUdmh27pF': 12504, 'TheNationalUAE': 6935, 'httptcoDCoBoKN7EE': 12463, 'httptcovw4P4T4tLh': 13287, 'omg': 15194, 'omg😍😍': 15195, 'virgin✨😱✈️': 18840, 'planes': 15666, 'thought': 18093, 'hawaii': 11909, 'pulling': 16053, 'hair': 11829, 'iPaddont': 13387, 'computer': 9581, '15': 297, 'Incident': 4422, '150202000419': 301, 'texas': 17985, 'moodlighting': 14730, 'httptcoN3BVZTY3zI': 12645, 'cannot': 9075, 'laptop': 14002, '4C': 1219, 'starting': 17522, 'Guess': 4125, 'road': 16649, '27…': 755, 'needing': 14873, 'make': 14383, 'trips': 18393, 'announced': 8149, 'wfares': 19084, '39way': 1009, 'httptcogA8pbamu0C': 12979, 'Sprint': 6654, 'kewl': 13906, '00': 1, 'Never': 5457, '39': 997, 'dollar': 10432, 'LAXLas': 4757, 'deserved': 10170, 'FYI': 3683, 'infovirginamericacom': 13586, 'address': 7854, 'exist': 10885, 'Emails': 3500, 'bounce': 8840, 'newsFlt': 14924, 'towards': 18290, 'requirement': 16467, 'Cust': 3054, 'Svc': 6751, 'donkey': 10441, 'dicks': 10238, 'develop': 10215, 'app': 8209, 'favorite': 11041, 'crap': 9819, 'channels': 9210, 'UK': 7226, 'tv': 18443, 'set': 17013, 'channel': 9209, 'passbook': 15460, 'Mobile': 5280, 'Mexico': 5228, 'integrate': 13651, 'Giants': 4040, 'heaven': 11941, 'Also': 2089, 'friday': 11438, 'nwkgtsf': 15110, 'BOOM': 2338, 'waste': 18968, 'paper': 15422, 'system': 17846, 'accept': 7778, 'cards': 9098, 'apostrophe': 8207, 'surname': 17786, 'apostrophefail': 8208, 'slots': 17261, 'instead': 13635, 'Adding': 2008, 'likely': 14145, 'Tinder': 6984, 'TinderTips': 6985, 'tinderchamp': 18177, 'httptcojBmVVha63A': 13025, 'charge': 9218, 'herbal': 11987, 'tea': 17918, 'black': 8739, 'caffeine': 9028, 'drinker': 10511, 'See': 6474, 'expansion': 10897, 'destinations': 10195, 'Spread': 6651, 'wings': 19174, 'announces': 8153, 'AUStinAirport': 1964, 'DallasLoveField': 3184, 'intro': 13693, 'httptcoqXnOaQtYN8': 13174, 'httptcoJK7qmdfqgf': 12579, 'adds': 7859, 'AustinDallas': 2238, 'httptcoXWJoL55FLH': 12837, 'httptcoY8AOrMfkaC': 12850, 'learn': 14054, 'Hope': 4296, 'returns': 16584, 'tweet': 18447, 'Flightchng': 3803, 'affiliates': 7900, 'afiliates': 7903, 'INCREDIBLE': 4372, 'experienced': 10912, 'refreshing': 16316, 'Philadelphia': 5866, 'dreaming': 10503, 'Houston': 4314, 'OMG': 5555, 'FINALLY': 3634, '5xweekly': 1377, 'A319': 1797, '28APR': 760, 'avgeek': 8420, 'expanding': 10896, 'forget': 11366, 'SanDiego': 6421, 'kinda': 13923, 'sucked': 17705, 'earphone': 10582, 'jack': 13781, 'future': 11514, 'poor': 15762, 'malfunction': 14394, 'Stuck': 6715, 'Missing': 5271, 'meeting': 14511, 'Diego': 3290, 'battle': 8579, 'DallasLoveFieldAUStinAirport': 3185, 'httptco6RLz0EBk2X': 12344, 'usatoday': 18732, 'thankyou': 18010, 'DALAUS': 3075, 'httpstcoxCVQXYkg49': 12213, 'nerdbird': 14895, 'Jose': 4630, 'backyard': 8487, 'Consumers': 2983, 'competes': 9548, '\\u200b': 19460, 'excellent': 10854, 'nerd': 14894, 'frequency': 11429, 'Portland': 5923, '✈️🎉': 19515, 'additional': 7851, '1k': 510, 'Thurs': 6964, '2y': 834, '🇺🇸': 19539, '💗': 19588, '🎀': 19549, 'extortion': 10941, 'items': 13756, 'worrying': 19274, 'carryon': 9118, 'brokenstolen': 8914, 'lock': 14223, 'group': 11747, 'E': 3389, 'room': 16686, 'bins': 8713, 'bags': 8522, 'nightmare': 14944, 'forcing': 11351, 'lots': 14283, 'artisanal': 8294, 'cheese': 9268, 'pairing': 15412, 'classy': 9355, 'sure': 17772, '747': 1552, '777': 1578, 'JFKLHR': 4530, '513mph': 1273, 'strong': 17655, 'tailwind': 17872, 'tminus': 18195, '32': 881, 'Silver': 6548, 'opens': 15242, 'FreeNeverSucks': 3913, '😃👍': 19620, 'save': 16815, '871': 1676, '12': 182, 'shit': 17074, 'JezzieGoldz': 4607, 'club': 9398, 'bumping': 8964, 'York': 7701, 'httptcoHaQc7GDg7c': 12549, 'rough': 16691, 'LUCKILY': 4835, 'thestarter😁': 18041, 'Minneapolis': 5261, 'St': 6659, 'Paul': 5829, 'YES': 7668, 'BFF': 2316, 'perfect': 15539, 'sun': 17737, 'visors': 18849, 'stay': 17545, 'raise': 16137, 'man': 14398, 'steel': 17555, 'WiFi': 7585, '–': 19461, 'saying': 16831, 'httptcoFGRbpAZSiX': 12498, 'richard': 16613, 'beans': 8597, 'don’t': 10454, 'I’ll': 4511, 'RIGHT': 6041, 'iOS': 13385, 'saw': 16826, 'Man': 5131, 'thoughand': 18092, 'sharing': 17055, 'httptcoTsviBTvT8h': 12766, 'point': 15737, 'hotspot': 12137, 'pLate': 15385, 'Flights': 3839, 'Dad': 3173, 'Segway': 6480, 'part': 15441, 'whole': 19130, 'infographic': 13578, 'short': 17092, 'haul': 11903, 'Europe': 3554, 'Would': 7639, 'defiantly': 10064, 'wifi': 19151, 'ABC': 1882, 'network': 14901, 'started': 17521, 'scolding': 16870, 'overhead': 15351, 'person': 15558, 'seated': 16908, 'calls': 9052, 'Couldnt': 3012, 'ask': 8306, 'myVXexperience': 14809, 'werent': 19069, 'Flighting': 3816, 'luck': 14330, 'Dear': 3222, '1000cost': 35, 'accommodate': 7789, 'commercial': 9498, 'lol': 14241, 'httptcopXEXIlSjBs': 13161, 'Grouping': 4119, 'others': 15294, 'exposed': 10930, 'actual': 7842, 'Cus': 3053, 'Serv': 6495, 'travelers': 18347, 'affected': 7895, 'storm': 17610, 'shocked': 17085, 'Virgins': 7444, 'complete': 9564, 'apathy': 8196, 'toward': 18289, 'Umm': 7304, 'definitive': 10070, 'advance': 7876, 'prior…tried': 15934, '300': 839, 'fees': 11070, 'driving': 10522, 'PA': 5675, 'cut': 9938, 'Philly': 5869, 'Main': 5112, 'Cabin': 2746, 'Select': 6481, 'without': 19199, 'penalty': 15527, 'WeRVirgin': 7528, 'Yall': 7683, 'industry': 13552, 'months': 14726, 'Fargo': 3714, 'fargoairport': 11020, 'amazings': 8076, 'point🙌': 15747, 'Reclining': 6111, 'kickin': 13911, 'feet💤': 11073, '6000': 1382, '1pm': 519, 'update': 18675, 'waived': 18923, '218': 608, 'reps': 16455, 'sign': 17148, 'bonuses': 8798, 'enroll': 10727, 'folks': 11326, 'incredible': 13535, 'letsgohome': 14101, 'regarding': 16336, 'StarryeyesDev': 6674, '😞': 19662, 'recieved': 16245, 'dm': 10406, 'potentially': 15805, 'movie': 14767, 'lineup': 14161, 'actually': 7843, 'Book': 2515, 'town': 18293, '59way': 1363, 'httptcoxRdTOV7nl8': 13309, 'httptco4Y78byAckc”': 12306, 'JenniferDawnPro': 4587, 'MR': 5080, 'word': 19239, 'resolve': 16508, 'assistants': 8329, 'Delayed': 3243, 'lack': 13972, 'theres': 18038, 'deicing': 10077, 'filled': 11110, 'Hows': 4322, 'common': 9505, 'ERIORD': 3417, 'express': 10931, 'connections': 9638, 'hugely': 13349, 'popular': 15775, 'ERIEWR': 3416, 'hop': 12091, 'international': 13678, 'Glasgow': 4050, 'orlando': 15285, '90': 1717, 'mins': 14626, 'boarded': 8782, 'AU1066': 1959, 'tough': 18282, 'wo': 19219, 'serious': 16989, 'risk': 16640, 'accident': 7786, 'steep': 17556, 'hooked': 12087, 'alternate': 8057, 'PREVENT': 5759, 'issues': 13743, 'glamco': 11617, 'domestic': 10434, 'Ta': 6850, 'law': 14031, 'Nonrefundable': 5509, 'Oh': 5598, 'GlobalFC': 4055, 'auto': 8399, 'selects': 16953, 'economy': 10604, 'wupgrade': 19346, 'CheerTymeDad': 2859, 'transfer': 18320, 'Flawed': 3779, 'security': 16926, 'logic': 14234, '810': 1632, 'unrealistic': 18642, 'childRidiculous': 9285, 'beautifull': 8608, '♥': 19503, 'United': 7329, 'pair': 15410, 'shoes': 17090, 'necessity': 14867, 'David': 3206, 'Allan': 2079, 'KMM24999563V99860L0KM': 4662, 'case8719519': 9126, 'highbuddyyy': 12009, 'cousin': 9798, 'worked': 19246, 'wonderful': 19227, 'Rosetta': 6228, '6457': 1434, 'Dan': 3191, 'Ase': 2203, 'wasappreciated': 18964, 'voucher': 18869, 'January': 4573, '26th': 741, 'beginning': 8628, 'mail': 14372, 'tiredofwaiting': 18185, 'emailing': 10655, 'executives': 10878, 'company': 9526, 'maybe': 14461, 'timely': 18166, 'manner': 14412, 'Chase': 2848, 'pass': 15459, '8yr': 1715, 'son': 17366, 'suppose': 17765, 'weak': 19006, 'ya': 19359, '👋': 19558, 'given': 11611, 'Miami': 5232, 'aeroport': 7893, 'jan': 13792, '26': 729, 'awards': 8432, 'September': 6491, 'aegeanairlines': 7892, 'availab': 8409, 'drive': 10516, 'total': 18272, 'explain': 10922, 'debacle': 10033, 'wants': 18952, 'talk': 17886, 'Gee': 4018, 'almost': 8045, 'caring': 9108, 'ppl': 15815, 'int': 13649, 'trusted': 18411, 'adult': 7875, 'daughter': 9992, 'repeatedly': 16428, 'Flightr': 3834, 'defibrillator': 10065, 'preferred': 15858, 'anymore': 8182, 'pull': 16049, 'SilverAirways': 6549, 'partner': 15449, 'Platinum': 5896, 'Newarkliberty': 5470, 'Airport': 2053, 'indicate': 13544, 'gates': 11540, 'terminals': 17968, 'AampC': 1979, 'Flyingainteasy': 3871, 'newly': 14922, 'married': 14434, 'preexisting': 15852, 'refuse': 16330, 'reissue': 16361, '400': 1039, 'mechanics': 14498, 'badcustomerservice': 8494, 'run': 16739, 'instructed': 13637, 'shattered': 17057, 'httptcooAflfr7WXB': 13129, 'weve': 19077, 'agents': 7929, '50': 1237, 'rude': 16720, 'thankfully': 18000, 'Ladan': 4849, 'nice': 14931, 'overnight': 15358, 'clients': 9374, '11': 119, 'hr': 12165, 'IAH': 4345, 'recheck': 16242, 'taken': 17878, 'loaner': 14208, 'used': 18737, 'illegal': 13434, 'according': 7799, 'regulations': 16350, 'DMed': 3141, 'details': 10202, 'iah': 13392, 'charlotte': 9229, 'latrice': 14016, 'h': 11811, 'existent': 10887, 'Ignored': 4405, 'inappropriately': 13488, 'touched': 18280, 'Kewl': 4705, 'Inop': 4449, 'abbreve': 7751, 'helpgot': 11971, 'austrian': 8394, 'guess': 11782, 'awhile': 8447, 'UCtraveladvisor': 7222, 'form': 11374, 'vouchers': 18875, 'expense': 10908, 'inconvenient': 13527, 'daysits': 10009, 'anywhere': 8192, 'concern': 9588, 'upon': 18695, 'ground': 11741, 'gateagain': 11539, 'tiredofthis': 18184, 'removal': 16406, '22': 614, 'Cessnas': 2825, '747s': 1554, 'httptco9v8tMUsJvU': 12399, 'else': 10647, 'moving': 14769, 'measly': 14488, 'ecertificate': 10602, 'appreciate': 8233, '3hrs': 1023, 'tarmac': 17898, 'UA1116': 7100, 'addressusername': 7858, 'signon': 17155, 'interim': 13672, 'expenses': 10909, 'Austrian': 2240, 'codeshare': 9440, 'Rebook': 6106, 'incls': 13507, 'outside': 15324, 'truly': 18408, 'breaks': 8876, 'guitars': 11796, 'unitedbreaksguitars': 18598, 'wantmymoneyback': 18951, 'TelAviv': 6887, 'third': 18076, 'Besides': 2452, 'impolite': 13460, 'Colo': 2933, 'disabled': 10292, 'search': 16899, 'unfamiliar': 18569, 'outcome': 15307, 'flex': 11185, 'rules': 16734, 'Even': 3558, 'Neurosurgery': 5455, 'ICU': 4353, 'enough': 10725, 'Denver': 3257, 'handle': 11843, 'training': 18312, 'put': 16078, 'mistakes': 14680, '6533': 1446, 'ORD': 5562, 'found': 11391, 'avoided': 8425, 'plague': 15652, 'supervisor': 17755, 'ZCC82U': 7719, '16h': 393, 'connect': 9631, 'Gf': 4039, 'waited': 18907, 'addition': 7850, 'arriving': 8290, 'KCthanks': 4655, 'announcement': 8150, 'pre': 15832, 'addresses': 7856, 'mobility': 14697, 'disability': 10291, 'requires': 16469, 'preboard': 15834, 'AWESOME': 1973, 'thru': 18117, 'dept': 10160, 'Okc': 5608, 'willing': 19160, 'connection': 9636, 'v': 18758, 'upset': 18699, 'services': 17006, 'employees': 10689, 'carrying': 9117, 'medical': 14503, 'equipment': 10765, 'thnx': 18088, 'intl': 13691, 'grp': 11753, 'considerable': 9648, 'accompany': 7796, 'whos': 19131, 'active': 7836, 'military': 14607, 'mom': 14703, 'emergency': 10671, 'brain': 8858, 'WOW': 7488, 'getmeontop': 11580, '7': 1498, 'WEEKS': 7472, 'FlightR': 3796, 'STILL': 6358, 'RECEIVED': 6031, 'MILES': 5057, 'MileagePlus': 5254, 'Gift': 4041, 'Card': 2784, '150': 298, 'STARBUCKS': 6354, 'CARD': 2645, 'HANDED': 4135, 'improvement': 13473, 'complained': 9556, 'guy': 11803, 'throwing': 18115, 'Unfortunate': 7322, 'coincidence': 9447, 'OKC': 5552, 'Roger': 6224, 'McLarrensp': 5191, 'LESS': 4777, 'Intl': 4473, 'apps': 8250, 'construction': 9661, 'OS': 5578, 'category': 9135, 'American': 2104, '441': 1128, 'WC': 7465, 'coach': 9420, 'bird': 8715, 'ahead': 7954, 'os': 15289, 'controlled': 9705, 'rather': 16168, 'VerizonWireless': 7422, 'App': 2169, 'Customer': 3057, 'Care': 2785, 'telling': 17949, 'break': 8871, 'sincerely': 17172, 'silly': 17161, 'delta': 10121, 'attendants': 8367, 'surly': 17785, 'unhelpful': 18583, 'seem': 16934, 'bothered': 8833, 'pesky': 15566, 'folk': 11325, 'buddies': 8940, '30th': 858, 'negligence': 14884, 'attempt': 8359, 'believe': 8643, 'Said': 6407, 'screening': 16882, 'FLL': 3645, 'disappeared': 10296, 'standing': 17513, 'Second': 6467, 'Hmm': 4274, 'record': 16260, 'Rozana': 6233, 'choosekind': 9308, 'nights': 14945, '1235ORDLGA': 208, 'nuts': 15104, 'eager': 10567, 'vision': 18846, 'ccicanine': 9158, 'guide': 11790, 'asking': 8308, 'servicedog': 17002, 'read': 16190, 'Continued': 2992, 'bogota': 8791, 'everyone': 10827, 'worst2unitedflightsever': 19279, 'UA': 7092, '236': 666, 'wtfodds': 19337, 'informative': 13582, 'outbound': 15305, 'thurs': 18121, '4hrs': 1228, 'UA1429': 7116, '219': 609, 'switched': 17831, 'aircraft': 7971, 'crashed': 9823, 'Easy': 3468, 'knew': 13945, 'winter': 19182, 'httptcoaQjn4HwNaC': 12883, 'negotiate': 14886, 'resolutions': 16507, '768': 1572, 'gong': 11654, 'enforcement': 10711, 'Bins': 2470, 'coats': 9428, 'Blackmailed': 2481, '£130': 19457, 'nullified': 15095, 'scam': 16837, 'reach': 16180, 'honor': 12079, 'Taking': 6859, 'elsewhere': 10649, '✌️out': 19519, 'ua1673': 18480, 'Supposed': 6740, '908': 1727, 'hear': 11928, 'quite': 16114, 'pathetic': 15484, 'booted': 8814, 'umpteen': 18506, 'unavailable': 18520, 'ways': 18989, 'unaccompanied': 18513, 'minor': 14624, 'simonroesner': 17165, 'youll': 19406, 'concrete': 9595, 'bench': 8653, 'Baby': 2381, 'Hannah': 4191, 'life': 14123, 'surgeries': 17781, 'requiresShe': 16470, 'helpPls': 11958, 'DonateRT': 3336, 'httptcokQnrrP86A5': 13042, 'honour': 12083, 'mine': 14615, 'ey': 10951, 'scheduling': 16861, 'huh': 13350, 'TRY': 6821, 'remorse': 16403, 'simple': 17166, 'apology': 8205, 'goes': 11640, 'hollow': 12058, 'obvious': 15128, 'wellbeing': 19060, 'shocking': 17087, 'pattern': 15494, 'repeated': 16427, 'neglect': 14882, 'disrespect': 10365, 'Fingers': 3761, 'crossed': 9867, 'intact': 13650, 'enjoyed': 10722, 'incredibly': 13536, 'zone': 19452, 'July': 4640, 'ZERO': 7720, 'excuses': 10872, 'outofdate': 15318, 'causes': 9150, 'Everyone': 3565, 'members': 14521, 'October': 5589, 'December': 3227, 'talking': 17888, 'SNA': 6331, 'weekend': 19038, 'asked': 8307, 'legitimate': 14078, 'systemwide': 17851, 'vs': 18879, 'localized': 14214, 'unreLate': 18639, 'Flightd': 3804, 'copypaste': 9735, 'skis': 17223, 'faith': 10986, 'Amazing': 2099, 'continually': 9691, 'fails': 10977, 'held': 11952, 'accountable': 7803, 'Tourist': 7020, 'Wonder': 7614, 'Super': 6735, 'Tides': 6972, 'Tide': 6971, 'Century': 2822, 'French': 3916, 'coasts': 9425, 'httptcogXdqORtsS0': 12985, 'probably': 15946, 'BBBNESDKSIA': 2299, 'whoever': 19129, 'listens': 14177, 'caused': 9149, 'wonder': 19225, 'FB': 3625, 'insta': 13627, 'produce': 15965, '140': 276, 'characters': 9217, 'limits': 14154, 'negligent': 14885, 'resent': 16493, 'appear': 8215, 'POP': 5747, 'DMcome': 3139, '25': 699, 'coupon': 9786, '9hour': 1783, 'Ridiculousness': 6192, 'learncustomerservice': 14055, 'drop': 10524, 'cheaper': 9243, 'airfare': 7976, '🙏': 19712, 'property': 16014, 'Heathrow': 4222, 'message': 14552, 'twitterliterate': 18461, 'REALLY': 6027, '18hrs': 469, 'unhappy': 18578, 'complaint': 9561, 'ref8441639': 16300, 'Awful': 2257, 'private': 15937, 'jet': 13810, 'TravelBank': 7025, 'recouping': 16266, 'funds': 11504, 'flights1585and': 11234, 'meetings': 14514, 'ChooseChicago': 2878, '3659': 955, 'YULORD': 7674, 'yep': 19378, 'matter': 14453, 'atl': 8349, 'grounded': 11742, 'Montreal': 5304, 'ua3659': 18485, 'ua3417': 18483, 'Louis': 4969, 'helpDo': 11957, 'difficult': 10256, 'prepares': 15881, 'reduce': 16292, 'distress': 10384, 'ALWAYS': 1918, 'traveling': 18350, 'stressful': 17641, 'severe': 17023, 'seeking': 16932, 'client': 9372, 'Bc': 2424, 'confident': 9609, 'works': 19261, 'indication': 13548, 'Thnx': 6954, 'bot': 8830, 'easily': 10591, 'attained': 8357, 'worth': 19293, 'unrivalled': 18646, 'California': 2755, 'airports': 7998, 'onestop': 15211, 'yearround': 19370, 'ThaiAirways': 6905, 'seeing': 16930, 'conf': 9605, 'Thai': 6904, 'Luckily': 4987, 'communication': 9511, '3466': 922, 'atlord': 8352, 'far': 11015, 'horrid': 12116, 'note': 15043, 'Booked': 2516, 'fiancée': 11094, 'UNACCEPTABLE': 7230, 'HORRIBLE': 4159, '17': 397, 'pennypincher': 15531, 'top': 18262, 'UnitedAirlines': 7331, 'kudos': 13963, 'Flightling': 3829, 'usually': 18749, 'panic': 15419, 'youcouldntmakethis': 19402, 'brokenwheel': 8915, '587': 1353, 'ontime': 15231, 'advisory': 7888, 'quoted': 16118, 'httptcomJkpgVXmPC': 13089, 'delayedno': 10089, 'remembered': 16395, 'turn': 18436, 'heat': 11937, '559': 1330, 'ORDseriously': 5575, '1584': 338, 'extremely': 10950, 'Captain': 2781, 'Steve': 6691, 'Connolly': 2979, 'real': 16199, 'resolved': 16509, 'politely': 15758, 'efficiently': 10620, 'hadnt': 11819, 'disputed': 10363, 'hence': 11982, 'like12': 14142, 'iad': 13391, 'clothes': 9390, 'curious': 9900, 'Saipan': 6409, 'Guam': 4122, 'adventure': 7878, 'CapeAirs': 2777, 'operational': 15248, 'Washington': 7515, 'convenient': 9712, 'lostluggage': 14275, 'leg': 14072, 'Chicago': 2867, 'China': 2874, 'lounge': 14289, 'DMs': 3143, 'owed': 15375, 'file': 11106, 'Okay': 5606, 'properly': 16013, 'train': 18310, 'Requested': 6157, 'transferred': 18322, 'dead': 10020, 'remembering': 16396, 'load': 14203, 'onto': 15232, 'forgot': 11371, 'Iceland': 4398, 'platter': 15686, 'abundance': 7771, 'atrocious': 8353, 'disrupted': 10369, 'impossible': 13462, 'TALK': 6775, 'HUMAN': 4176, 'terminal': 17967, '5am': 1365, 'esp': 10784, '6am': 1481, 'Two': 7085, 'recommended': 16257, '1001': 38, 'GetMartyHome': 4031, 'responded': 16521, 'various': 18783, 'requests': 16463, 'numbers': 15100, 'Lusaka': 4994, 'transatlantic': 18317, 'LHR': 4795, 'arrival': 8285, '20': 530, 'shower': 17121, 'Planning': 5892, 'finalizing': 11121, 'information': 13580, 'Want': 7512, 'confirm': 9610, 'completed': 9565, 'doubt': 10469, 'vacation': 18764, 'Sure': 6744, 'responsibility': 16534, 'Definitely': 3238, 'compliment': 9571, 'thanx': 18011, 'followed': 11330, '1000': 32, 'unitedairlines': 18595, 'remember': 16394, 'EWRSTI': 3444, 'season': 16902, '35A': 944, 'pays': 15509, 'nope': 15021, 'sleep': 17239, 'assured': 8340, 'updated': 18676, 'jburg': 13798, 'holiday': 12056, 'RUINED': 6065, 'compensation': 9545, 'original': 15281, 'case': 9125, 'frankly': 11406, 'happen': 11862, 'defines': 10067, 'valid': 18770, 'strange': 17626, 'inbound': 13490, 'canned': 9073, '1K': 497, 'unforeseeable': 18573, 'lands': 13994, 'delivered': 10116, 'arrive': 8287, 'delivery': 10119, 'hotels': 12132, 'hostage': 12124, 'passes': 15470, 'FAIL': 3614, 'Outbound': 5662, '70': 1499, 'lbs': 14045, 'Returning': 6174, 'writing': 19326, 'Machine': 5103, 'Human': 4330, 'required': 16466, 'lindaSWC': 14155, 'wour': 19306, 'httptcoHIsc4NdMgZ': 12543, 'Flightn': 3831, 'fend': 11079, 'Getting': 4037, 'runaround': 16741, 'employee': 10686, 'blaming': 8746, 'previous': 15910, 'local': 14213, 'UNITED': 7237, 'Malaysia': 5123, '0011': 2, '80055558000': 1616, 'Kuala': 4732, 'Lumpur': 4993, 'KUL': 4675, 'okay': 15177, 'ase24766m': 8302, 'Find': 3757, 'wdelays': 19004, 'eserviceunitedcom': 10783, 'BG0KWM': 2317, 'Narayanan': 5425, 'Tel': 6886, 'A380s': 1802, 'lady': 13977, 'tel': 17942, 'aviv': 8422, 'Aviv': 2250, 'knows': 13955, '“united': 19483, 'MelanieSpring': 5210, 'KN”': 4664, 'answers': 8168, 'Unacceptable': 7308, 'feedback': 11061, 'taxis': 17910, 'offering': 15150, 'rooms': 16687, 'tired': 18182, 'action': 7832, 'solving': 17353, 'skiing': 17217, 'bright': 8894, 'keeping': 13896, 'promise': 15994, 'comment': 9495, '4124': 1073, 'CLT': 2692, 'move': 14762, 'Unhappy': 7325, 'idea': 13405, 'neveragain': 14904, 'responding': 16522, 'inquiries': 13611, 'within': 19198, '710': 1511, 'Bergstrom': 2449, 'Cancun': 2770, '737s': 1542, 'frustrating': 11466, 'Continental': 2987, 'equals': 10763, 'Deep': 3233, 'Vein': 7415, 'thrombosis': 18108, 'figure': 11103, 'pack': 15389, 'screws': 16890, 'connectns': 9640, 'claims': 9344, 'hotl': 12134, 'Fran': 3901, 'pax': 15501, 'Way': 7525, 'hou': 12140, 'Wtf': 7646, 'httptcoZfqMpGXVS6': 12868, 'POS': 5749, 'Lost': 4963, 'Agent': 2029, 'theyd': 18051, 'theyre': 18054, 'waking': 18931, '3am': 1016, 'counter': 9771, 'nobody': 14965, '1055': 83, 'unfortunately': 18575, 'Tarmac': 6870, 'fly2ohare': 11284, 'flypdx': 11309, 'GonnaBeALongNight': 4079, 'Darquenloveli': 3200, 'regret': 16346, 'finally': 11122, 'UA80': 7206, 'Manchester': 5136, 'doors': 10458, 'premier': 15867, 'briefings': 8893, 'annoyed': 8155, 'yea': 19366, 'phoenix': 15585, 'Delays': 3244, 'bullshit': 8955, 'consolation': 9657, 'stellar': 17559, 'encountered': 10699, 'ua3576': 18484, 'b1': 8455, 'ray': 16172, '736': 1536, '917': 1737, 'unfortunate': 18574, 'Tumitravel': 7068, 'xmas': 19354, 'razor': 16174, 'ripped': 16635, 'front': 11454, 'pocket': 15734, 'Delhi': 3246, 'centers': 9171, 'Poor': 5915, 'spread': 17472, 'thin': 18061, 'stressed': 17640, 'Yes': 7693, 'Doesnt': 3331, 'mistake': 14677, 'absurd': 7767, 'fact': 10968, 'inconveniently': 13528, 'constantly': 9660, 'challenges': 9197, 'charges': 9222, 'prevent': 15905, 'DVT': 3171, 'addtl': 7860, '180': 433, 'httptcoxC6jQ70r7B': 13305, 'sarcastically': 16799, 'walked': 18934, 'happily': 11869, 'publicly': 16046, 'strangers': 17628, 'lukemcintosh68': 14340, 'nah': 14823, 'wouldnt': 19302, 'needed': 14871, 'split': 17450, '2wks': 829, 'vacations': 18766, 'ruined': 16729, 'w25': 18888, 'phn': 15584, 'means': 14484, 'wed': 19030, '1146': 155, 'BWI': 2373, 'Pretty': 5950, 'pm': 15728, 'mammoth': 14397, 'appropriate': 8239, 'reviewed': 16602, 'nada': 14821, 'Expect': 3587, 'fixed': 11161, 'Tweeting': 7078, 'BS': 2361, 'questions': 16100, 'stall': 17504, 'Phone': 5873, 'Yo': 7699, 'yo': 19393, 'Going': 4068, 'HelpImStuck': 4237, 'highly': 12014, 'unprofessional': 18636, 'overbook': 15338, 'ampfeel': 8108, 'rearrange': 16211, 'mismanagement': 14658, 'considering': 9653, 'claimed': 9342, 'unable': 18508, 'corp': 9737, 'JP': 4545, 'sabe': 16756, 'Ice': 4395, 'Flightations': 3799, '1249': 214, '330': 895, 'courtesy': 9796, 'diff': 10251, 'tag': 17865, '0016': 3, '964012': 1766, '964077': 1767, '964078': 1768, 'lets': 14098, 'decorum': 10052, 'consider': 9647, 'revisiting': 16605, 'terrible': 17971, 'certificate': 9181, 'bar': 8553, 'post': 15796, 'disappointment': 10302, 'apple': 8221, 'spoil': 17453, 'bunch': 8965, 'impress': 13464, 'httptcocIh1qNllcM': 12911, 'phones': 15596, 'Twitteremailweb': 7084, 'Ethiopia': 3552, 'adopting': 7871, 'existing': 10888, 'questionare': 16099, 'onboad': 15200, '110': 120, 'volt': 18858, 'outlets': 15314, 'deserves': 10171, 'html5': 12169, 'FTW': 3670, 'effing': 10621, 'holidays': 12057, 'teams': 17926, 'incompetence': 13514, 'FlyYOW': 3867, 'Twitter': 7082, 'letting': 14106, 'helps': 11977, 'Finishes': 3764, 'walks': 18936, 'Connection': 2978, 'exact': 10846, 'Checked': 2855, 'ridiculous': 16621, 'encouraged': 10701, 'CPAP': 2718, 'carousel': 9110, 'stopped': 17604, 'sched': 16856, 'monitor': 14719, 'patterns': 15495, 'jobslose': 13846, 'statusand': 17541, 'transition': 18327, 'easier': 10589, 'Delay': 3242, 'DENCLE': 3109, 'manually': 14415, 'tags': 17868, '1ker': 511, 'friendlyskies': 11443, 'spare': 17417, 'unless': 18614, 'Zambia': 7725, 'Newarklets': 5469, 'disaster': 10307, 'period': 15547, '2am': 784, 'Ridiculous': 6190, 'reimbursement': 16354, 'UA938': 7214, 'ORDLHR': 5566, 'loaded': 14204, '30min': 856, 'Frigid': 3924, 'Plane': 5890, 'feels': 11067, 'falling': 10995, 'apart': 8194, 'fleet': 11181, 'served': 16994, 'beverage': 8682, 'ua6076': 18490, 'notcool': 15042, 'balancing': 8535, 'major': 14382, 'impact': 13450, 'cyberattack': 9953, 'unscheduled': 18649, 'refueling': 16321, 'n': 14818, '4ward': 1233, 'bed': 8618, 'PBampJ': 5687, 'sandwich': 16789, 'spent': 17443, 'hundreds': 13359, 'rectify': 16275, 'situation': 17200, 'quiet': 16109, 'UA276': 7146, 'sked': 17212, 'Pilot': 5880, 'computers': 9582, 'clue': 9400, 'ends': 10708, 'Come': 2943, 'traveled': 18345, 'literally': 14182, 'Made': 5106, 'list': 14171, '🙌': 19708, 'StatusMatchPaidOff': 6687, 'httptcoATfRKp6goY': 12408, 'refunded': 16326, 'DIA': 3125, 'reminder': 16400, 'httptcopPVA4Rch9f': 13159, 'looked': 14254, 'A320': 1798, 'device': 10218, 'devices': 10219, 'scan': 16838, 'inside': 13619, 'changes': 9206, 'thinks': 18075, 'wasted': 18969, 'failures': 10979, 'Soooo': 6601, 'assume': 8335, 'norm': 15025, 'Terrific': 6898, 'Vancouver': 7411, 'Calls': 2761, 'resulted': 16557, '2hrs': 808, '2day': 792, 'suspect': 17797, 'investigated—my': 13704, 'Case': 2804, '8477733': 1659, 'requesting': 16462, 'efforts': 10624, 'correct—Ive': 9747, 'final': 11119, 'Today': 6996, 'finest': 11133, 'prevented': 15908, 'advising': 7886, '200': 531, '1032': 69, 'UA63': 7197, 'Madrid': 5108, 'mass': 14444, 'confusion': 9623, 'fro': 11451, 'MaryJo': 5169, 'failure': 10978, 'trend': 18373, 'Software': 6589, 'projects': 15991, 'airplane': 7990, 'reports': 16444, 'delaying': 10097, 'Currently': 3052, 'OGG': 5547, 'rebooting': 16228, 'dispatch': 10352, 'pivotalcf': 15645, 'shaky': 17041, 'touch': 18278, 'httptcohj5kq82Chn': 13008, 'however': 12160, 'control—the': 9709, 'displayed': 10357, 'closest': 9384, 'clothing': 9392, 'comically': 9487, 'ASE': 1945, 'adjacent': 7862, 'clear': 9362, 'GRK13575M': 3988, 'reference': 16302, 'wouldhow': 19301, 'discuss': 10333, 'experiences': 10913, 'shot': 17103, '746': 1551, 'Pacific': 5783, 'Rim': 6195, 'Date': 3203, 'Night': 5485, 'randomly': 16149, 'spot': 17466, 'repeatably': 16426, 'generic': 11558, 'Yet': 7697, 'Kindle': 4716, '1544': 321, 'Burgundy': 2598, '27D': 752, '0162424965446': 6, 'unnecessary': 18626, 'carseat': 9121, 'loner': 14245, 'Decisions': 3229, 'MandarinJourney': 5138, 'Wed': 7535, 'httptcoxbQqqbRgVF': 13312, 'KP”': 4670, 'momsgoodeats': 14710, 'amenity': 8083, 'kits': 13936, 'PJs': 5726, 'included': 13509, 'AA': 1809, 'thehipmunk': 18028, 'showed': 17119, 'site—its': 17192, 'ensure': 10731, 'correctness': 9746, 'lie': 14118, 'flat': 11175, 'STL': 6359, 'date': 9988, 'itll': 13763, '25th': 727, 'mllovelace': 14693, 'Premier': 5944, 'httptcou6Duw27mDE': 13242, 'JP”': 4547, 'membership': 14522, 'catch': 9133, 'Original': 5643, 'wastedtime': 18971, 'Dmed': 3325, 'Karen': 4681, 'Salisbury': 6410, 'Found': 3895, 'daughters': 9993, 'UA1516': 7122, 'tells': 17951, 'RenoAirport': 6141, 'Reno': 6140, 'continentals': 9688, 'chicken': 9281, 'feat': 11050, 'fairs': 10985, '1016': 54, '655am': 1448, 'contacting': 9673, 'DEN': 3106, 'Direct': 3296, 'Ugh': 7299, 'caught': 9147, 'OHare': 5549, '20minutes': 575, '💜“united': 19594, 'whitterbug': 19127, 'Reservations': 6163, 'theyve': 18055, 'reinstated': 16357, 'EY”': 3455, 'captain': 9091, 'behalf': 8632, 'office': 15153, 'laughedhard': 14022, 'funnycaptain': 11508, 'Dm': 3324, 'referencing': 16303, 'photo': 15597, 'attached': 8355, '6232': 1413, 'JAC': 4515, 'httptcoPnBajfkmHG': 12696, 'Christmas': 2882, 'vacatinn': 18763, 'devalue': 10213, 'THANK': 6785, 'Secured': 6470, 'N': 5337, 'Dorns': 3346, 'thanked': 17998, 'goodenoughmother': 11659, 'wheres': 19113, 'damn': 9971, 'Greetings': 4109, 'Air': 2039, 'Canada': 2765, 'Lounge': 4971, 'YVR': 7675, 'diverted': 10395, 'MSY': 5088, 'cared': 9100, 'Male': 5125, 'agnt': 7940, 'threatens': 18103, 'Canadian': 2767, 'pic': 15606, 'announce': 8148, 'Apollochplayers': 2166, 'reserv': 16494, 'wout': 19307, 'permission': 15554, 'PH6RPS': 5701, 'Stressed': 6710, 'Overwhelmed': 5669, 'delyd': 10123, 'LASDEN': 4748, '1657': 379, 'Yelling': 7690, 'tho': 18089, 'frm': 11450, 'GJT': 3969, 'SEA': 6274, 'reFlight': 16177, 'PERMISSION': 5695, 'goodenufmother': 11660, 'EY': 3451, 'connector': 9641, 'what’s': 19098, 'cozy': 9809, 'floor': 11261, 'gross': 11737, 'HelpMePlease': 4239, 'AnyoneThere': 2159, 'statement': 17531, 'vice': 18819, 'directly': 10287, 'example': 10848, 'VailEagle': 7403, 'dealing': 10025, 'otherwise': 15295, 'httptco5hpSqVRjK8': 12328, 'BusinessTravel': 2608, 'proper': 16012, 'Delta': 3249, 'Stood': 6701, 'inline': 13600, 'bagdisgutedindenver': 8512, 'upload': 18694, 'ondemand': 15205, 'listing': 14178, '✈️': 19509, 'inadequate': 13485, 'reebok': 16296, 'rockinwellness': 16671, 'International': 4470, 'httpstcotKVmHBkeC3': 12211, 'quickly': 16108, 'tool': 18255, 'dustyob': 10557, '45': 1154, 'httptcozCBJyo6lsN': 13330, 'unfriendlyskies': 18577, 'httptcoQuzVmK2rTR': 12719, 'empathizes': 10680, '1stClass': 522, 'wnonworking': 19217, 'entertainmnt': 10743, 'UnFriendlySkies': 7306, 'httptcolOecO4gmvd': 13061, 'seen': 16938, 'mcdonnell': 14467, 'Douglas': 3352, 'Goodnight': 4083, 'searched': 16900, 'BOM': 2335, 'single': 17177, 'saver': 16818, 'play': 15687, 'Earn': 3462, 'miles': 14600, 'promises': 15996, 'location': 14220, 'girl': 11604, 'gotta': 11679, 'ex': 10843, 'boyfriend': 8850, 'signed': 17150, 'notifications': 15062, 'shall': 17042, '❄️❄️': 19523, 'wallet': 18939, 'stolen': 17597, 'til': 18151, 'flysaa': 11310, 'baggage…': 8520, 'cs': 9883, 'repair': 16422, 'damage': 9966, '0530': 22, 'Tuesday': 7064, 'Took': 7011, 'Opened': 5628, 'changed': 9203, 'responses': 16530, 'overbooked': 15339, 'fit': 11154, 'nonsense': 15009, 'lifestop': 14127, 'httptcoQDebyaHqfM': 12707, 'incur': 13539, 'mysterious': 14814, 'costs': 9756, 'Exhausted': 3583, 'Link': 4918, 'abt': 7770, 'httpstcoLaRKC8vc4s': 12187, 'denied': 10130, 'prove': 16027, 'fits': 11156, 'rookie': 16685, 'Read': 6094, 'bio': 8714, 'exactly': 10847, 'Boarding': 2503, 'yrs': 19429, 'Placing': 5889, 'blame': 8743, 'assuming': 8336, 'Check': 2854, 'Staff': 6667, 'Expensive': 3592, 'etc': 10799, 'fucked': 11475, 'voided': 18857, 'KEPT': 4657, 'MONEY': 5072, 'WORST': 7484, 'svcs': 17802, 'Kevin': 4703, 'investigated': 13703, 'baggages': 8519, 'argument': 8274, 'sell': 16961, 'httptcoonhXHCO6bK': 13142, 'demoted': 10128, 'cuz': 9944, 'hubby': 13344, 'PQD': 5752, 'enuf': 10752, 'Goldsspousaldiscriminationangry': 4074, 'Belfast': 2440, 'resume': 16560, 'httptcovGN2X1ckg0': 13266, 'awful': 8443, 'appears': 8217, 'raising': 16140, 'ignored': 13425, 'Lovely': 4978, 'power': 15811, 'ID': 4355, 'reveal': 16594, 'bettween': 8681, '71A': 1519, '73': 1528, 'droppeditoffyet': 10527, 'rarely': 16162, 'ceases': 9160, 'amazefor': 8073, 'iCloud': 13381, '703': 1502, '1472': 290, 'absurdly': 7769, 'httptco2Z3Jv73IlW': 12264, 'vía': 18884, 'albanyairport': 8014, 'claiming': 9343, 'walk': 18932, 'spaces': 17410, 'poorcustomerservice': 15764, 'HOUR': 4164, 'dfpietra': 10221, 'THATS': 6788, 'Shaking': 6506, 'head': 11915, 'forth': 11384, 'tsk': 18428, 'betterfrom': 8678, '35K': 945, 'RTB': 6059, 'multiple': 14791, 'wayway': 18990, 'avoid': 8423, 'correctly': 9745, 'Extremely': 3600, 'management': 14401, 'Waives': 7501, 'Gives': 4046, 'Jana': 4569, 'Acosta': 1995, 'Salt': 6412, 'Lake': 4857, 'refuses': 16332, 'Angry': 2136, 'consistent': 9655, 'AlwaysDelayedOnUnited': 2096, 'angry': 8133, 'branson': 8864, 'virginatlantic': 18838, 'committed': 9504, 'ContinentalAirlines': 2989, 'merger': 14546, 'CommunicationFail': 2951, 'glitch': 11623, 'notfair': 15046, 'poornoncommunication': 15768, 'unaccounted': 18514, 'flyers': 11298, 'states': 17532, 'maintenance': 14380, 'truth': 18412, 'unfriendly': 18576, 'someones': 17359, 'personal': 15560, 'possessions': 15789, 'departing': 10140, 'killing': 13920, 'uniteds': 18606, 'levels': 14108, 'reaches': 16183, 'Etihad': 3553, 'realistically': 16202, 'Lufthansa': 4990, 'ill': 13433, 'sick': 17139, 'FORGOT': 3656, 'replacement': 16433, 'theworst': 18047, 'Asked': 2212, 'typical': 18471, 'JH': 4537, 'prompt': 16005, 'responsesme': 16532, 'Simply': 6551, 'Rather': 6089, 'unpleased': 18632, 'NONEnglish': 5391, 'speaking': 17420, 'friend': 11440, 'TWICE': 6841, 'hates': 11900, 'ISIS': 4383, 'Nope': 5514, 'Walked': 7504, 'ORF': 5576, 'Showed': 6538, 'panicked': 15420, 'driven': 10517, 'frustration': 11469, 'clueCould': 9401, 'effort': 10622, 'clearing': 9365, 'rollerboards': 16681, 'art': 8292, 'priority': 15933, 'Iove': 4478, 'Pleased': 5898, '1212': 189, 'Waiting': 7500, 'campilley': 9063, '😃😃😃': 19621, 'Apparently': 2171, 'planehow': 15663, 'miscalculation': 14643, 'choosing': 9309, 'difference': 10253, 'reuniting': 16591, 'aging': 7939, 'PoorService': 5917, 'general': 11555, 'enquires': 10726, 'attention': 8374, 'LIT': 4804, 'Fix': 3772, 'AspenBaggageFail': 2215, 'Aspen': 2214, 'NEVER': 5369, 'Disappointed': 3298, 'understatement': 18552, 'placed': 15648, '2000': 532, 'TRUUTall': 6820, 'certainly': 9180, 'JH”': 4538, 'recovering': 16270, 'condo': 9602, 'Florida': 3845, 'NOANSWER': 5384, 'buying': 8997, 'legs': 14081, 'Required': 6158, 'allowed': 8039, 'wmom': 19214, 'listening': 14176, 'Weve': 7558, 'gt1hr': 11765, 'overweight': 15369, 'fb': 11045, 'Mention': 5222, '1other': 516, 'measure': 14489, 'woman': 19223, 'counting': 9774, 'max': 14457, 'epicfailunited': 10756, 'dedication': 10054, 'miserable': 14647, 'mos': 14743, 'blocked': 8765, 'DMing': 3142, 'complain': 9555, 'public': 16044, 'forum': 11387, 'Big': 2462, 'Ms': 5322, 'Winston': 7601, 'assisting': 8331, 'mile': 14594, 'article': 8293, 'Tom': 7006, '779': 1581, '38950': 993, 'twice': 18454, 'Means': 5195, 'redeem': 16281, 'CC': 2656, 'ton': 18242, 'pedophile': 15521, 'Split': 6647, 'rows': 16703, '1254': 218, 'boston': 8827, 'Horrible': 4301, 'Arriving': 2200, 'gains': 11524, 'wiped': 19189, 'musicians': 14801, 'bass': 8571, 'rebooked': 16223, 'deep': 10057, 'httptco2b4bDTldX2': 12266, 'FlyEIA': 3853, 'whose': 19132, '30k': 855, 'deserve': 10169, 'holder': 12047, 'Ok': 5605, '1161': 165, 'Cleveland': 2912, 'Sunday': 6729, '222': 622, 'Stay': 6688, 'tuned': 18434, 'blog': 8767, 'httptcoVdFdODqVGx': 12802, 'imranr44': 13477, 'UA6366': 7199, '1491plane': 292, 'basically': 8567, 'assigned': 8322, 'pairs': 15414, '2086': 566, 'sense': 16973, 'strand': 17620, 'cnxns': 9418, 'Heads': 4218, 'arent': 8264, 'peoples': 15535, 'httptcodplQ3mhQGD': 12937, 'drone': 10523, 'KeamBleam': 4692, 'Bag': 2392, 'Change': 2832, 'seconds': 16915, 'thrilled': 18107, 'Loved': 4976, 'doesn’t': 10426, 'English': 3523, 'deaf': 10022, 'Stop': 6702, 'yelling': 19376, 'slowly': 17268, 'hassle': 11892, 'terribly': 17977, 'hate': 11897, 'Fee': 3733, '👿': 19582, '4972': 1215, 'control': 9703, 'Robin': 6217, 'Premiere': 5945, 'Desk': 3272, 'Huge': 4327, 'accommodations': 7794, 'originally': 15282, 'Jimmy': 4613, 'Samartzis': 6417, 'Vice': 7428, 'President': 5948, 'Experience': 3593, 'Wont': 7618, 'activate': 7834, 'surf': 17777, 'AC': 1894, 'returning': 16583, 'Mojave': 5284, 'Desert': 3268, 'PressureCooker': 5949, 'HeatTrap': 4221, 'Giving': 4047, 'badservice': 8502, '8602947': 1672, 'jon': 13857, 'httptco58tuTgli0D': 12316, 'whatever': 19091, 'steps': 17566, 'remedy': 16393, 'screw': 16887, 'UA1270': 7113, 'descending': 10163, 'farce': 11017, 'UA23': 7141, 'Dublin': 3373, 'London': 4946, 'shambles': 17044, 'stillnobags': 17583, 'writers': 19323, 'hosting': 12127, 'cute': 9939, 'confidence': 9608, '2ambut': 785, 'loading': 14205, 'httptcoNfAQHhr09j': 12667, 'pt': 16042, 'Finally': 3754, 'stndby': 17591, 'missedWork': 14665, 'clientNotHappy': 9373, 'httptcosUPrLfOi8T': 13206, 'kindness': 13927, 'justifiable': 13876, 'conveniently': 9713, 'Woke': 7612, 'Barely': 2411, 'Hopefully': 4297, 'wc': 18994, 'result': 16556, 'complaints': 9563, 'beauty': 8610, 'httptcoMvYoizRPdE': 12642, 'fill': 11109, 'duped': 10555, 'BETTER': 2312, 'httptcotmccExYaaQ': 13235, 'suffer': 17715, 'speed': 17434, 'extent': 10938, 'Coworker': 3024, 'urgency': 18706, 'ceo': 9177, 'focused': 11319, 'partial': 15442, '1156': 163, '105': 78, 'heres': 11990, 'G8CVWJ': 3952, 'Kailua': 4678, 'hell': 11953, 'bulkhead': 8953, 'reserve': 16501, 'ohead': 15169, '1B': 495, 'UA246': 7143, 'impressed': 13465, 'refresh': 16312, '18': 432, '13': 241, 'including': 13511, 'Flightst': 3842, 'mandatory': 14407, 'MEXICO': 5042, 'Thankyou': 6919, 'Greatly': 4104, 'replies': 16436, 'Feel': 3734, 'settled': 17017, 'RDU': 6022, 'medal': 14500, 'saga': 16773, 'MelissaAFrancis': 5214, 'reunion': 16588, 'shopping': 17091, '211ORD': 590, 'onboard': 15201, 'reasonable': 16213, 'Literally': 4925, 'preboarding': 15835, 'Making': 5121, 'unnecessarily': 18625, 'pts': 16043, 'UA381': 7161, 'Point': 5909, 'overselling': 15362, '1hr': 509, 'kick': 13909, 'classed': 9350, 'ua5396': 18489, 'compliant': 9569, 'screwed': 16888, 'Hold': 4278, '5396': 1308, 'UA5396': 7186, 'B': 2264, 'MEX': 5041, 'NRT': 5396, 'dates': 9989, 'TBD': 6778, 'USD': 7281, 'quotations': 16116, 'compared': 9531, 'BKK': 2325, 'saves': 16819, 'FWA': 3681, 'boards': 8785, 'ten': 17961, 'gold': 11648, 'nowhereland': 15086, 'answered': 8164, 'USAirways': 7277, 'usairwaysfail': 18724, 'practical': 15819, 'adapted': 7846, 'cushion': 9909, 'noooooooooooooooooooooope': 15019, 'occurs': 15136, 'consistently': 9656, 'YYJ': 7679, 'daily': 9963, 'JMS2802': 4543, 'outsource': 15325, 'Airlinesyour': 2052, 'loving': 14307, 'Outsource': 5664, 'SFOLAXSALCLO': 6292, '1h45m': 507, 'collect': 9456, 'AV': 1966, 'suggest': 17721, 'senior': 16972, 'manager': 14402, 'retrain': 16575, 'States': 6685, 'faundation': 11036, 'Judeo': 4636, 'CristianNot': 3037, 'ideologias': 13410, 'httptcomWBk68k0A3': 13095, 'supporting': 17764, 'workersinstead': 19250, 'puts': 16079, 'TIMCO': 6797, 'outsourced': 15326, 'knack': 13943, 'substandard': 17696, 'formally': 11377, 'handler': 11845, 'misconnected': 14646, 'bridge': 8890, 'freezing': 11425, 'temps': 17959, '3763': 972, 'IAdSat': 4351, 'outdoor': 15309, 'SERIOUSLY': 6282, '5hr': 1370, 'CLESFO': 2687, '1589': 339, 'WiFiand': 7586, 'unwind': 18672, '2hr': 804, 'linesforever': 14160, 'pointless': 15742, 'b4': 8458, 'shoe': 17089, 'ampsock': 8111, 'foot': 11342, 'httptco755VpYm4Mv': 12354, '620': 1408, '1220': 197, '3709': 960, 'Either': 3484, 'However': 4321, 'plundering': 15725, 'hardearned': 11881, 'dollars': 10433, 'retailbagholder': 16561, 'SFOYYJ': 6296, 'bother': 8832, 'door': 10455, 'BROKE': 2358, 'global': 11626, 'unsafe': 18647, 'STUNNING': 6368, 'reimbursed': 16353, 'Flightation': 3798, 'UA1589': 7131, 'Jurassic': 4643, 'dinosaurplane': 10278, 'YYZ': 7680, 'eticket': 10804, '0162389030167': 5, '16866853': 388, 'id': 13404, '8465981': 1657, 'piss': 15635, 'Farelock': 3712, 'fake': 10988, 'shanghai': 17049, '858': 1669, '5hrs': 1371, 'engine': 10716, 'sfosea': 17032, 'confusing': 9622, '😔': 19650, 'frigid': 11448, 'b': 8454, 'Laissez': 4856, 'Faire': 3696, 'fritz': 11449, '381': 979, 'Held': 4229, 'pick': 15607, 'aspen': 8312, 'flight911': 11212, 'C': 2617, 'released': 16376, 'wothers': 19297, 'deplaning': 10155, 'peopleOn': 15534, 'httptcoHfoF33iyhi': 12551, 'extend': 10934, 'advertise': 7879, 'crewTells': 9848, 'AirCanada': 2040, 'Lesson': 4896, 'verbal': 18801, 'written': 19327, 'confirmations': 9612, 'ticketed': 18134, 'electronic': 10637, '175': 413, 'precioustime': 15843, 'confirming': 9615, 'Shameful': 6508, 'httptco6kqLhVaP7G': 12351, 'moms': 14709, 'UA871': 7210, 'pray': 15826, 'FYVRFN': 3685, 'tickt': 18142, 'chair': 9189, 'STEP': 6356, 'Lol': 4945, 'helpbeen': 11961, 'forces': 11350, 'baby': 8465, 'complains': 9560, 'meals': 14480, 'san': 16787, 'francisco': 11405, 'Unreal': 7349, 'issued': 13741, '4yr': 1235, 'Tickets': 6970, 'fixing': 11164, 'l8r': 13967, 'Arrive': 2198, 'Taiwan': 6855, 'Reservation': 6162, 'Slow': 6576, 'Sukhdeep': 6726, 'excuse': 10870, 'understaffed': 18545, 'costumer': 9757, 'Weather': 7531, 'departed': 10139, 'Crisis': 3036, 'averted': 8419, 'Beers': 2437, '6th': 1492, 'youdo': 19405, 'prize': 15940, 'SBA': 6263, '😭': 19692, 'waitingonapilot': 18914, 'denver': 10132, 'siouxfalls': 17180, 'whyairtravelsucks': 19136, 'Understood': 7320, 'reaching': 16184, 'oops': 15235, 'discomfort': 10315, '3750': 969, 'Last': 4866, '5000': 1239, 'UA5282': 7185, 'x2': 19351, 'crazy': 9832, 'frustratingly': 11468, 'heads': 11924, 'b44': 8460, '930am': 1745, 'MPAgent': 5076, 'seanMFmadden': 16898, 'PeterStraubMMA': 5859, 'jmercadoMMA': 13842, 'TonySimsMMA': 7010, 'UA3426': 7150, 'stretching': 17644, 'exhausting': 10881, 'Ha…': 4214, 'robbing': 16658, 'UA4646': 7166, '223': 629, 'MegZezzo': 5207, 'injured': 13596, 'TY': 6844, 'roadwarrior': 16653, 'will1531': 19159, 'UA1532': 7123, 'travelled': 18351, 'SCL': 6266, 'IHA': 4362, 'feb': 11052, '21L': 612, 'FA': 3610, 'worthless': 19294, 'SUCK': 6369, 'shut': 17133, 'scotthroth': 16875, 'scott': 16874, 'suggestion': 17724, '3866': 988, 'stand': 17506, '25mins': 724, 'Problem': 5964, '30mins': 857, 'police': 15752, 'msg': 14773, 'invoice': 13710, 'dry': 10535, 'cleaning': 9361, 'wet': 19075, 'DELAY': 3101, 'CANT': 2642, 'PRINT': 5760, 'PIECE': 5721, 'PAPER': 5678, 'MCI': 5019, 'DEL': 3100, 'Preferably': 5941, 'Jet': 4592, 'Airways': 2059, 'EWRBRUDEL': 3438, 'segment': 16943, 'assign': 8321, '174': 411, 'deliver': 10115, 'Slightly': 6575, 'searching': 16901, 'altitude': 8062, 'sharp': 17056, 'drops': 10529, 'transaction': 18314, 'PQMs': 5755, 'PQDs': 5753, 'showing': 17122, 'acct': 7808, 'policies': 15753, 'makechange': 14384, 'reservations': 16500, 'ETA': 3425, 'communicationdetails': 9514, 'rights': 16625, 'btv': 8932, 'nite': 14950, 'cun': 9893, 'ewr': 10842, 'WORSTCUSTOMERSERVICE': 7486, 'rerouted': 16474, 'intended': 13658, 'solved': 17351, '721': 1522, 'dulles': 10546, 'flierfriendly': 11194, 'Doctors': 3330, 'notes': 15045, 'Among': 2119, 'pleased': 15703, 'garbage': 11533, 'cry': 9879, 'supplies': 17759, 'limited': 14153, 'epic': 10754, 'reagan': 16198, 'jetway': 13830, 'Brussels': 2576, 'operated': 15245, 'B767300ER': 2278, 'Zurich': 7727, 'ZRHairport': 7723, 'replacing': 16434, 'B767400ER': 2279, '6MAY23SEP': 1479, 'till': 18152, '23OCT': 671, 'Venezuela': 7420, 'UA1130': 7104, 'servicehaving': 17004, 'B777200ER': 2280, 'Milan': 5252, 'Malpensa': 5129, '7APR': 1594, '28MAR': 761, 'Frankfurt': 3905, 'airportfra': 7997, '2JUL': 780, 'huge': 13348, 'fan': 11010, '683': 1466, 'bad4business': 8489, 'Beyond': 2459, 'Sked': 6562, 'double': 10465, 'svc': 17801, 'Lisa': 4919, 'J': 4514, '634': 1422, 'breakfast': 8874, 'Rachelle': 6072, 'irritated': 13726, 'gets': 11582, 'JJ': 4539, 'Joking': 4626, 'humor': 13356, 'seatback': 16906, 'UA1260': 7111, 'childs': 9289, 'birthdate': 8719, 'Glad': 4048, 'copy': 9734, 'paste': 15478, 'failed': 10973, 'Small': 6577, 'ual': 18494, '605': 1389, 'hanger': 11856, 'flight1153': 11200, 'LaxEWR': 4875, 'sdf': 16894, 'ATL': 1953, 'Tampa': 6865, 'Arrived': 2199, 'Wifi': 7591, 'Birthdate': 2474, '11132012': 129, 'robotic': 16663, 'UA862': 7208, 'deck': 10048, 'dismissed': 10348, 'DR': 3157, 'write': 19322, 'bounces': 8843, 'worstservice': 19290, '433': 1113, 'clowns': 9395, '500': 1238, '4th': 1232, '6yearold': 1495, 'terribleservice': 17976, 'NoService': 5501, 'campus': 9064, 'visit': 18847, 'wearing': 19010, 'Adopting': 2016, 'ADD': 1899, 'GRR': 3991, '228': 645, 'recognize': 16253, 'Terri': 6895, 'P': 5674, 'Raleigh': 6076, 'freq': 11428, 'treated': 18365, 'poorly': 15766, 'ServiceFail': 6497, 'ua1619': 18479, 'rsw': 16711, 'Saga': 6404, 'theyll': 18053, 'homeIntentional': 12062, 'companys': 9528, 'lousy': 14293, 'reissued': 16362, '42': 1088, 'fault': 11033, 'blatant': 8753, 'LIE': 4801, 'Jersey': 4590, 'jx4s2t': 13883, 'honeymoon': 12077, 'damper': 9972, 'iy': 13777, 'RECEIPT': 6030, 'upgraded': 18683, 'httptcoDAjWzhLVyu': 12462, 'STI': 6357, 'building': 8949, 'gotten': 11680, '737800': 1539, '3511': 932, 'ORDDCA': 5563, 'NewarkBrussels': 5467, 'EU': 3427, 'agreement': 7949, 'certain': 9179, 'epicfail': 10755, 'CX': 2743, 'Make': 5118, 'aware': 8433, 'httptcot5mRj5Yw6I': 13215, 'hilarious': 12016, 'hahahahaha': 11826, 'KTN': 4673, 'applying': 8229, 'Unfortunately': 7323, 'picking': 15609, 'funny': 11507, '1086': 94, 'BEGGING': 2306, 'stamp': 17505, 'wreck': 19314, 'httptco0pRGySvuRm': 12233, 'sending': 16969, 'main': 14377, 'Due': 3376, 'officially': 15157, 'displaced': 10355, 'DeltaAssist': 3250, 'pleasant': 15697, 'timeliness': 18165, '1m': 513, 'switching': 17832, 'bouncer': 8842, 'httptcoMHHS9RUpLv': 12634, 'ShowExpert': 6537, 'Uniteds': 7340, 'Mileage': 5253, 'Program': 5973, 'fraction': 11400, 'Saying': 6442, 'ons': 15230, 'UA3388': 7149, 'ReFlight': 6092, 'acknowledge': 7819, 'affiliate': 7898, 'losing': 14269, 'DOT': 3154, 'london': 14243, 'straightend': 17618, '3745': 967, 'brother': 8919, 'Victoria': 7430, 'condescending': 9597, 'house': 12155, 'sombrons': 17354, 'Michelle': 5238, 'T1': 6769, 'pleasure': 15710, 'Sending': 6486, 'Stopped': 6703, 'bdl': 8590, 'pssngrs': 16039, 'chkpreboardnotcomingback': 9300, 'Group': 4118, 'Almost': 2085, 'Groups': 4120, 'Explorer': 3595, 'Facebook': 3690, 'fuckinlame': 11480, 'naiamiaa': 14824, 'befor': 8623, 'bos': 8824, 'reclining': 16251, 'lastflightwithyouever': 14012, 'efficient': 10619, 'layout': 14040, 'kiosksbag': 13931, 'lines': 14159, 'definition': 10069, 'Additional': 2009, '75': 1555, 'groups': 11750, 'UA51': 7182, 'Barbara': 2408, 'FABULOUS': 3613, 'CUST': 2738, 'SERV': 6283, 'you😊': 19426, 'httptcoKMQuLY9g5E': 12600, 'sleepBut': 17240, 'wake': 18929, 'BAUSA': 2298, '20mins': 573, 'CMHIAD': 2699, 'bagcould': 8511, 'BF': 2315, 'GF': 3962, '919': 1739, 'Cc': 2813, 'CiscoJimFrench': 2893, 'cobedien': 9430, 'Maybe': 5184, 'HOPELESS': 4158, 'Tues': 7063, 'encourage': 10700, 'reinterview': 16359, 'sole': 17345, 'UAL': 7218, '6166': 1402, 'BUF': 2367, 'Blatantly': 2485, 'stable': 17492, 'Uncomfortable': 7314, 'Nashville': 5429, 'Downgraded': 3354, 'superfast': 17750, 'CGJase': 2665, '11th': 181, 'responsedisappointed': 16529, 'surprised': 17788, 'Morning': 5308, '4603': 1178, '10am': 105, 'mktg': 14692, 'branding': 8860, 'ads': 7874, 'savings': 16823, 'cxp': 9952, '430am': 1110, '8pm': 1711, 'File': 3748, 'DCA48810M': 3086, 'Fail': 3693, 'solutions': 17349, 'freaked': 11413, 'limbo': 14151, 'DENAirport': 3107, '787': 1585, 'snowy': 17326, 'httptcow1AaKJumXA': 13288, 'inefficiency': 13556, '70min': 1506, 'attempted': 8360, '…': 19487, 'UA992': 7216, 'httptco49pV3KcHNR': 12296, 'Coach': 2925, 'interior': 13673, '992': 1772, 'salvaged': 16783, '80s': 1628, 'Tiny': 6986, 'lifevests': 14130, 'dozen': 10486, 'CSR': 2728, 'Kiosks': 4718, 'Rebecca': 6105, 'Levi': 4901, 'PLZ': 5740, 'aaaand': 7740, 'catching': 9134, '6AMstuck': 1477, 'snowstorm': 17323, 'hotelhows': 12130, 'patience': 15485, '1205': 187, 'newark': 14918, 'DelonGerry': 3248, 'Peace': 5841, 'UGGH': 7224, 'bus': 8974, 'WMASS': 7477, 'BDL': 2303, 'changing': 9208, 'annoying': 8156, 'Missed': 5270, 'UA1568': 7130, 'UA1543': 7125, 'uplink': 18693, 'prob': 15944, 'compensate': 9541, 'hearing': 11930, 'jacked': 13783, 'cousins': 9799, 'deice': 10075, 'Disgraceful': 3303, '1580': 335, 'httptcoH3k3oWOhD1': 12534, 'filling': 11111, 'hit': 12033, 'httptcoJbDkxd6eFz': 12587, 'FOREVER': 3655, 'workers': 19249, 'refused': 16331, 'tone': 18243, 'language': 13997, 'managed': 14400, 'lazy': 14043, 'reasons': 16215, 'grand': 11696, 'watched': 18976, 'ice': 13396, 'frozen': 11461, 'metal': 14561, 'walkway': 18937, 'Wasted': 7519, 'jobs': 13845, 'inept': 13559, 'truck': 18404, 'Didnt': 3289, 'value': 18775, 'AirlineSecurity': 2050, 'fampampcking': 11008, 'Ever': 3562, 'Actually': 2002, 'httptcoQf0Oc2HqeZ': 12716, 'Managed': 5133, '1000pm': 37, 'fast': 11024, 'reconsider': 16258, 'attitude': 8378, 'level': 14107, 'respect': 16516, 'expects': 10902, '1247': 213, 'Ph': 5860, 'pat': 15481, 'sat': 16803, '905': 1723, 'Disgusting': 3305, 'restore': 16547, 'surprise': 17787, 'nogate': 14979, 'fucken': 11476, 'worstairlineever': 19281, 'belabor': 8640, 'pointbut': 15738, 'rollers': 16683, 'maybemange': 14463, 'alittlebetter': 8024, 'GATE': 3954, 'howisthatpossible': 12162, 'wu': 19344, 'valuable': 18773, 'removed': 16408, 'parked': 15437, 'Stranded': 6707, 'desperately': 10185, 'girlfriend': 11605, 'Flightleddelayed': 3825, 'chances': 9201, 'coat': 9426, 'frontrunner': 11457, 'oscars2016': 15292, 'FampKING': 3707, 'woeful': 19221, 'sponsor': 17457, 'Worked': 7625, 'charm': 9230, 'welldone': 19061, 'goodflight': 11661, 'friendlysky': 11444, 'pretzels': 15903, 'frauds': 11412, 'lowered': 14312, 'earn': 10577, 'gottogetbetter': 11681, 'Apart': 2165, 'talked': 17887, 'caned': 9070, 'crappy': 9821, 'performing': 15544, 'placedranked': 15649, 'century': 9176, 'legal': 14074, 'hanging': 11857, 'intentionally': 13661, 'higher': 12010, '1130': 141, 'felt': 11077, 'bait': 8530, 'switch': 17829, 'tactic': 17862, 'stayed': 17546, 'IAHMNL': 4348, '411541715': 1072, 'advertised': 7880, '1038': 71, 'bookable': 8802, 'clicked': 9369, 'httptcoN7oSjz8a59': 12650, '33115': 899, '41715': 1080, 'advertising': 7881, '1051': 81, 'view': 18824, 'MI': 5049, 'connected': 9632, 'resourcesratings': 16515, 'quality': 16092, '8th': 1712, 'httptcodeWIthPeW2': 12935, '1534': 316, 'regards': 16338, 'bounced': 8841, '472': 1194, 'httptcoDQJl8vZ2h2': 12468, 'spanish': 17416, 'mech': 14494, 'sincere': 17171, 'sunglasses': 17739, '8am': 1704, 'retrieve': 16577, 'reccewife': 16232, 'exception': 10857, 'Heh': 4225, 'UA1731': 7136, 'contract': 9698, 'PVD': 5777, 'UA1469': 7118, 'upcoming': 18674, 'Singapore': 6554, '435': 1116, 'cover': 9800, 'dumb': 10550, 'programs': 15986, 'hurt': 13368, 'ua': 18476, 'taxi': 17906, 'bull': 8954, '600': 1381, '10000': 33, '6600': 1454, 'courrier': 9790, 'memories': 14526, 'avalible': 8413, '7am': 1601, 'comes': 9481, 'hotelliving': 12131, 'crying': 9880, 'ski': 17213, 'prolly': 15992, 'tryna': 18422, 'fulfill': 11487, 'dreams': 10505, 'attempting': 8361, 'locate': 14217, 'worker': 19248, 'Thailand': 6906, 'Toronto': 7014, 'seriousness': 16991, 'Given': 4045, 'circumstances': 9329, 'disconnect': 10316, 'PR': 5756, 'strategy': 17629, 'liars': 14114, 'segments': 16944, 'SFONew': 6293, 'BADMaybe': 2291, 'Maui': 5180, 'DISSERVICE': 3131, 'FlightFail': 3793, 'Hour20Delay': 4308, 'reliable': 16379, 'happycustomer': 11874, 'DOESNT': 3147, 'GIVE': 3966, 'SHITS': 6305, 'CUSTOMERS': 2740, 'none': 14998, 'tweets': 18452, 'travelling': 18354, 'Melbourne': 5211, 'Bogota': 2507, 'Colombia': 2934, 'relatives': 16370, 'MY8YB4': 5099, 'Clarita': 2900, 'Jaramillo': 4575, 'Mejia': 5209, 'doorstep': 10459, 'act': 7829, 'unitedrebooked': 18605, 'OMA': 5553, 'Spotty': 6650, 'stressors': 17642, 'quote': 16117, 'httptcoGGuIg3t28z”': 12524, 'vague': 18768, 'organization': 15274, 'timing': 18176, 'Otis': 5658, 'Bay': 2423, 'pissed': 15636, 'important': 13461, 'StrandUsInDenver': 6706, 'HourAndTenMinuteDelay': 4309, 'kidding': 13914, 'Bagage': 2393, 'ny': 15112, 'trace': 18298, 'HourDelay': 4310, 'MultipleDoorOpeningAndClosing': 5328, 'DangerOfGettingSnowedIn': 3194, 'dissapointment': 10374, 'FUCKING': 3672, 'BAG': 2292, 'fuck': 11474, 'fucking': 11479, 'TELL': 6780, 'NUMBER': 5398, 'CALL': 2641, 'SAN68059M': 6254, 'thanking': 18001, '4461': 1142, 'braving': 8867, 'amongst': 8102, 'Flightlations': 3820, 'Madeit': 5107, '823': 1640, 'httptcoxAToxBnsFa': 13304, 'describe': 10165, 'LOL': 4813, 'UA6259': 7196, 'Per': 5849, 'flightaware': 11223, 'tail': 17869, 'UA5525': 7187, 'probs': 15956, 'Miss': 5269, '1758': 415, 'vacate': 18762, 'findanothergate': 11127, '230': 652, 'dinner': 10277, 'acc': 7776, 'honest': 12073, 'Ua6318': 7297, 'Seriously': 6494, 'solve': 17350, 'Charging': 2842, 'Brilliant': 2558, 'excellence': 10853, 'efficiency': 10618, 'Huh': 4329, 'httptcoXlTV5z6sT1': 12844, 'Kansas': 4680, 'KCI': 4653, 'except': 10856, 'ua1758': 18481, 'irresponsible': 13725, 'fedup': 11058, 'disastrous': 10310, 'den': 10129, 'capt': 9090, 'sympathetic': 17838, 'Questions': 6012, 'unanswered': 18517, 'explanation': 10926, 'UA978': 7215, 'São': 6768, 'Paulo': 5831, '1180': 171, 'Asking': 2213, 'relative': 16369, 'availability': 8410, 'intent': 13659, 'cab': 9016, 'PIT': 5723, 'baftz': 8507, 'rcvd': 16175, 'extended': 10935, 'deliveredHotel': 10117, '10pm': 113, 'UA484': 7172, 'httptcoi9s86KiHge': 13012, 'cheap': 9241, 'UA1510': 7121, 'cooker': 9725, 'Cheap': 2850, 'WorstAirline': 7634, 'Sundays': 6731, 'travels': 18359, 'misses': 14669, 'horrific': 12117, 'comedy': 9478, 'incompetent': 13517, 'UA3785': 7159, 'ideas': 13407, 'aint': 7962, 'bummer': 8959, 'clothessuit': 9391, 'realize': 16204, 'contents': 9684, 'suitshirts': 17733, 'cleaned': 9360, 'Mtgs': 5324, 'knowing': 13950, 'discover': 10329, 'fueled': 11486, 'voicemail': 18856, 'riot': 16631, 'inaccurate': 13482, 'resolving': 16510, 'Hung': 4332, 'reboot': 16227, 'attentiveness': 8376, 'BHM': 2320, 'FernHeinig18': 3738, 'accountability': 7802, 'httptco2nY5TuXFqf': 12268, '4232': 1095, 'sardine': 16800, 'belief': 8641, 'EWRFLL': 3439, '38': 977, 'compare': 9530, 'god': 11638, 'safer': 16768, 'Wanted': 7513, 'Jeanette': 4582, 'Educate': 3479, 'Bohol': 2510, '501c3': 1247, 'wall': 18938, 'volunteer': 18863, 'Albuquerque': 2071, 'NM': 5382, 'Cebu': 2814, 'Philippines': 5867, 'providing': 16033, 'educational': 10614, 'UA1118': 7101, 'drunk': 10531, 'uncle': 18531, 'aisle': 8008, 'httptcocdZhTyd0aK': 12914, 'thoughtful': 18094, 'cos': 9751, 'Appreciated': 2182, '55': 1318, 'mechanic': 14495, 'fax': 11044, 'log': 14229, 'Faxlike': 3723, 'clutch': 9407, '🙌🙌': 19711, 'hang': 11853, 'strikes': 17647, 'Common': 2949, 'GNVltltltFSD': 3972, '219221': 610, 'KTM': 4672, 'Mike': 5249, 'disgusting': 10341, 'MCOgtIAD': 5025, 'social': 17334, 'OscarNight': 5651, 'MAINTENECE': 5011, 'ord': 15266, 'Interesting': 4468, 'intention': 13660, 'pales': 15415, 'comparison': 9534, 'wages': 18902, 'plan': 15656, 'nowhere': 15085, 'UA647': 7201, 'heading': 11920, 'improper': 13470, 'packing': 15394, 'gills': 11601, 'expecting': 10901, 'comp': 9521, 'Houstonbush': 4317, 'possibly': 15795, 'planet': 15671, 'deceptive': 10041, 'practices': 15821, 'retain': 16563, 'granting': 11707, 'Neverflyunited': 5460, 'Haydensteamboat': 4211, 'HDN': 4141, 'shuttle': 17135, 'concourse': 9594, 'honestly': 12074, 'handled': 11844, 'UA1534': 7124, 'dark': 9983, 'tries': 18385, 'following': 11332, 'Claudia': 2907, 'Known': 4724, 'Traveler': 7029, 'Number': 5538, 'MDTmy': 5030, 'origin': 15280, '56': 1336, 'Service': 6496, 'UA1565': 7128, 'SJO': 6318, 'Crazy': 3029, 'explore': 10928, 'meSeems': 14477, 'ongoing': 15214, 'CDGLAS': 2660, 'flythefriendlyskies': 11312, 'trapped': 18338, 'houston': 12158, 'sight': 17147, 'unitedworstever': 18610, 'trappedhouston': 18339, 'numerous': 15103, 'slept': 17245, 'ensuring': 10733, 'httptcoNTUIx5dbYR': 12660, 'winterstorm2015': 19186, 'whichisworsedenordfw': 19118, 'official': 15156, 'prior': 15930, 'gettin': 11583, 'sunrise': 17742, 'UAL212': 7219, 'LAXJFK': 4756, 'steamboat': 17552, '3pm': 1026, 'describing': 10166, 'decline': 10050, 'arrogant': 8291, 'handlers': 11846, 'lungs': 14344, '3870': 990, 'runway': 16747, 'false': 10998, 'welcomed': 19054, 'ANA': 1931, 'holders': 12048, 'grumpykim': 11759, 'unbalanced': 18524, 'idiots': 13413, 'httptcoavRTOWTyzk': 12894, 'ers': 10777, 'curtesy': 9906, 'Inpolite': 4450, 'bhm': 8695, 'updating': 18679, '🙅🙅🙅': 19705, 'Nippon': 5490, 'replace': 16431, 'subtlety': 17701, '15yr': 352, 'relationship': 16367, 'thus': 18123, 'spots': 17468, 'rikrik': 16627, 'inconvience': 13529, 'convince': 9722, 'hasnt': 11890, 'Resolved': 6164, 'responseservice': 16531, 'alwaysLate': 8065, 'EVERYTIME': 3433, 'UR': 7243, '1071': 88, 'bumped': 8961, 'fewer': 11088, 'awfulness': 8445, 'green': 11724, '5th': 1376, 'Bday': 2426, 'present': 15888, 'named': 14828, 'lpdstock': 14321, 'bots': 8834, 'obviously': 15129, 'PGH': 5700, 'Orlando': 5646, 'overFlight': 15335, 'Departing': 3260, 'fixes': 11163, 'breaking': 8875, 'attitudycustomer': 8380, 'worstairline': 19280, 'jeffsmisek': 13803, 'RobertFor39': 6215, 'Fioretti2ndWard': 3767, 'garcia4chicago': 11534, 'FAA': 3611, 'invest': 13701, 'near': 14862, 'wkhttptcojVJ73ZZa4A': 19205, 'Pay': 5834, 'shirts': 17073, 'suit': 17728, 'viable': 18816, 'elite': 10644, 'pres': 15885, 'EQMs': 3414, 'Elite': 3490, 'centricity': 9174, 'astounding': 8343, 'httptcouygeW2Nosr': 13258, 'staralliance': 17515, 'PQM': 5754, '1200': 184, 'WampB': 7511, '5639': 1339, 'dc10': 10014, 'httptcoNS1aCFqCdQ': 12659, 'WorstAirlineEver': 7635, 'snobby': 17313, 'remarks': 16392, 'poker': 15750, 'sisters': 17186, 'UA1266': 7112, 'click': 9368, 'true': 18405, 'ErieAirport': 3542, 'logs': 14240, 'seg': 16942, 'haydensteamboat': 11910, 'siting': 17193, 'coastcoast': 9424, 'nomorecheckedbags': 14994, 'live': 14185, 'UA469': 7168, 'DENEWR': 3112, 'United\\u200b': 7341, 'SHV': 6311, '23rd': 672, 'UA5168': 7183, 'UA795': 7204, 'exceptional': 10858, 'GiveThoseLadiesRaise': 4044, '2065': 560, 'unsure': 18658, 'comeThis': 9475, 'pushing': 16076, 'five': 11158, 'ass': 8313, 'extraordinaire': 10945, 'Seau': 6466, 'Fong': 3878, 'Boise': 2511, 'hopefully': 12095, 'sometime': 17362, 'UA1481': 7120, 'STT': 6367, 'ase': 8301, 'separated': 16982, 'ATC': 1950, '45min': 1171, 'listen': 14174, 'radioI': 16128, 'often': 15163, 'didinteresting': 10241, 'TCMParty': 6779, 'CE3K': 2662, '31DaysOfOscar': 879, 'kiosk': 13929, 'b737800w': 8462, 'smallest': 17274, 'dad': 9957, 'tiny': 18178, 'bathroom': 8573, 'ad': 7845, 'disspointed': 10380, 'premier1k': 15869, 'GOT': 3981, 'VOUCHERS': 7390, 'HOTEL': 4162, 'CAB': 2635, 'SERIOUS': 6281, 'credits': 9845, 'unitedsucks': 18607, 'continuous': 9697, 'dunno': 10554, 'Dunno': 3387, '220': 615, 'AP': 1939, 'B91': 2284, 'Fe': 3724, 'Ashley': 2206, 'Kudos': 4733, 'americanisbetter': 8093, 'Volkswagen': 7451, 'disgruntled': 10338, 'whatacluster': 19088, '436': 1117, '630': 1417, 'enjoy': 10720, 'screaming': 16879, 'toddlers': 18218, 'choose': 9307, 'competitor': 9552, 'fransico': 11409, 'evacuated': 10808, '4994': 1216, 'Jackson': 4558, 'Wyoming': 7650, 'Full': 3940, 'toilets': 18224, 'Deplaned': 3263, '2ndary': 819, 'pending': 15528, 'misfortune': 14651, '44': 1123, 'countries': 9780, 'outrageous': 15322, '1142': 153, 'causing': 9151, '6hour': 1484, 'flydeltanexttime': 11295, 'talks': 17889, 'govt': 11683, 'Chi': 2865, 'Eri': 3539, 'agoyet': 7944, 'zero': 19445, 'UnitedAirlinesSux': 7333, 'safe': 16765, 'sound': 17390, 'state': 17529, 'whenever': 19105, '24h': 694, 'ans': 8161, 'sleeping': 17241, '806': 1625, 'copilot': 9733, 'Disappointing': 3300, 'bs': 8928, 'Lied': 4904, 'proof': 16011, 'ouch': 15299, 'fair': 10982, 'synonymous': 17844, 'unfair': 18568, 'stingiest': 17586, 'Nobody': 5506, 'PTFO': 5771, 'bastards': 8572, 'stingy': 17587, 'delayedagainevery': 10085, 'Maintenance': 5115, 'automatically': 8403, 'fete': 11086, '1600': 355, 'Ps': 5990, 'deplaned': 10153, 'catering': 9138, 'poorservice': 15770, 'unitedexcited': 18600, 'barrel': 8560, 'sky': 17224, '600mph': 1385, 'piece': 15617, 'TVs': 6838, 'vouchermiles': 18873, 'outfitted': 15311, 'working✈️': 19257, 'rubbish': 16718, 'meaningful': 14483, 'uniteddo': 18599, 'tire': 18181, 'Shuttle': 6541, 'broke': 8910, '425pm': 1099, 'CLEHelp': 2686, 'httptcovBfIeo2qJC': 13263, 'MISCOUNTING': 5061, 'SEATS': 6278, 'PLANE': 5729, 'UA5097': 7181, 'processed': 15962, 'yyz': 19439, 'busy': 8988, 'httptco6KpyhckA9l': 12341, 'rayja9': 16173, 'las': 14008, 'vegas': 18790, 'Goes': 4066, 'reading': 16195, 'UA230': 7142, 'oversized': 15364, 'carryons': 9119, 'Enforce': 3520, 'Conf': 2966, 'MQXC64': 5079, 'MPWNC2': 5078, 'appreciated': 8234, 'LSUsoftball': 4833, 'LSUQuinlanDuhon': 4832, '160': 354, '5721': 1345, 'PITIAD': 5724, 'limit': 14152, 'deplane': 10152, 'Personal': 5855, 'Device': 3283, 'Entertainment': 3531, 'crashing': 9826, '1015': 52, 'texts': 17990, '15mins': 348, '15minsIts': 349, 'defend': 10062, 'Toilets': 6999, 'strongly': 17656, 'worded': 19240, 'FUnited': 3679, 'hire': 12025, 'UA3774': 7157, 'Norfolk': 5515, 'Renting': 6143, 'historically': 12031, 'lifeline': 14124, 'worldhungry': 19265, 'moderate': 14700, 'Maine': 5113, 'Told': 7004, 'sector': 16922, 'whereby': 19110, 'bagsno': 8525, 'allowance': 8037, 'PHLSFO': 5709, 'Major': 5116, 'Unfriendly': 7324, 'cluster': 9405, 'reroute': 16473, 'geography': 11567, 'downMy': 10472, 'Phl': 5871, 'flyingwithUS': 11305, 'lostacustomer': 14272, '1530': 313, 'stranding': 17625, 'disgusted': 10340, 'conference': 9606, 'continuing': 9696, 'Memphis': 5220, 'notify': 15064, 'Smallest': 6578, 'smoothest': 17290, 'tomorrows': 18238, 'allow': 8034, 'Says': 6443, 'httptcoKcVUbUYExc': 12601, 'YXE': 7676, 'affect': 7894, 'UA6136': 7193, 'httptco4JdvK8tCqx': 12298, 'Bereavement': 2448, 'discount': 10325, 'grandfather': 11699, 'passed': 15461, 'attend': 8363, 'funeral': 11505, 'notified': 15063, 'Complete': 2958, 'violation': 18832, 'AerocivilCol': 2025, 'maintained': 14379, 'aircrafts': 7973, 'safely': 16767, 'Flightledflight': 3826, 'Lmuschel': 4937, 'sep': 16980, 'F3KxB8': 3604, '“unitedThats': 19484, 'ML”315': 5066, 'meant': 14485, '3494': 926, 'EWRORD': 3442, '47': 1191, '5491': 1317, 'ORDYWG': 5572, '6pm': 1490, '5644': 1340, 'connex': 9645, 'reseated': 16489, 'itineraries': 13760, '403': 1053, 'Tucson': 7061, 'disaster3345': 10308, 'volunteers': 18864, 'bringbackrealstaff': 8898, 'earnings': 10581, 'JAN': 4517, 'dishonoring': 10344, 'notifying': 15065, '👎': 19568, 'gay': 11545, 'emailscalls': 10659, '145': 286, '200pm': 537, '140pm': 279, 'Capt': 2780, 'smoothie': 17292, '2pm': 825, 'passport': 15474, 'recovered': 16269, 'Ap': 2164, 'Terminal': 6893, 'httptcotFjfMSHa2k': 13222, 'tick': 18128, 'tock': 18204, 'rapidly': 16158, 'approaching': 8238, 'dream': 10502, '145pm': 288, 'fantasy': 11014, 'hiccups': 12003, 'Train': 7022, 'communicate': 9507, 'pants': 15421, 'smelled': 17280, 'empathy': 10681, 'Japan': 4574, 'Uh': 7300, '😡😡': 19667, 'Rebooked': 6107, 'appalled': 8210, 'journey': 13861, '221': 618, 'explained': 10923, 'self': 16954, 'Swipe': 6759, 'Tag': 6852, 'ImproveTheProcess': 4416, 'Name': 5420, 'spelled': 17438, 'Cause': 2809, 'consistency': 9654, 'citing': 9332, 'time2switch': 18156, 'calendar': 9032, 'inquiry': 13612, 'universally': 18611, 'adopted': 7870, 'BadCustomerService': 2388, 'occur': 15134, 'todayWhats': 18208, 'Hoping': 4298, '1226pm': 202, 'premier1K': 15868, '416': 1079, 'should’ve': 17115, '514': 1274, 'Start': 6676, 'perhaps': 15546, 'retook': 16573, 'GooseBayAirport': 4087, 'Goose': 4086, 'Labrador': 4847, 'httptco4kI6Xr67nk': 12308, 'Ua649': 7298, 'czamkoff': 9956, 'greed': 11722, '479': 1198, 'btw': 8933, 'ahold': 7957, 'delete': 10105, 'now3': 15081, 'characterize': 9216, 'TiffanyAndCo': 6974, 'NTrustOpen': 5397, 'ah': 7952, 'Cannot': 2774, 'hep': 11984, '757': 1562, 'Model': 5281, '5903': 1358, 'notch': 15041, 'Less': 4895, 'jockeying': 13847, 'happier': 11868, 'departures': 10146, 'logged': 14232, 'redeemed': 16282, 'Pushing': 6000, 'Priceless': 5953, 'httptcothS10LDY2a': 13232, 'CVG': 2741, 'thread': 18099, '38E': 996, 'Twtr': 7086, 'Eco': 3472, 'Premium': 5946, 'UA6016053916': 7192, 'occurred': 15135, 'purchasing': 16067, 'Honalulu': 4288, 'delayUA53': 10081, 'Kauai': 4689, 'screwing': 16889, 'CAE': 2638, 'Incredibly': 4434, 'theairhelper': 18023, 'skilled': 17218, 'deleted': 10106, 'Norway': 5522, 'Shoulder': 6529, 'shrugging': 17130, 'dependable': 10147, 'Western': 7557, 'Hemisphere': 4245, 'belong': 8647, 'Star': 6672, 'Alliance': 2082, 'SkyTeam': 6568, 'staffed': 17496, 'Iah': 4392, 'hospitality': 12122, 'helpfulness': 11970, 'Anthony': 2153, 'Lastella': 4867, '👏👏👏✈️': 19577, 'def': 10059, 'buzzkill': 9001, 'Nicely': 5480, '👍': 19561, '1008': 45, 'BogotáHouston': 2508, 'enjoying': 10723, 'holdover': 12051, 'Perhaps': 5853, 'httptco8VnCKgZxl1': 12377, 'snowboard': 17317, 'boot': 8813, 'standard': 17507, 'emptied': 10693, 'nightyour': 14946, 'pressurization': 15897, '1109': 127, 'Juan': 4634, 'personnel': 15564, 'Honolulu': 4290, 'Appreciate': 2181, 'particularly': 15445, 'distressed': 10385, 'pointed': 15739, 'startling': 17524, 'Ua': 7295, 'cnx': 9416, '4geiger': 1224, 'burst': 8973, 'ua3882': 18488, 'crewe': 9850, 'Ty': 7088, 'earliest': 10571, 'Though': 6956, 'UA2066': 7140, 'UA6194': 7194, 'runners': 16742, 'fam': 11000, 'miscnx': 14644, 'checkpoint': 9263, '🆖': 19538, 'authors': 8398, 'fiction': 11097, 'radio': 16127, 'secured': 16924, 'UA5037': 7179, 'httptcoT78k7aBtWF': 12756, 'realise': 16200, 'pricey': 15919, 'oh': 15166, 'stinks': 17589, 'feeling': 11064, 'stuckon': 17669, 'UNITEDFAIL': 7238, 'leadership': 14047, 'counts': 9783, '1115': 131, 'nightdeplaned': 14942, '1240': 210, 'Inexcusable': 4442, 'employeefaceless': 10688, 'throw': 18113, 'Starts': 6680, 'million': 14608, 'miler': 14599, 'pulled': 16051, 'departs': 10143, 'httptco2IKbP8gxWi': 12259, 'phantom': 15572, 'apeared': 8197, 'cmh': 9408, 'immediate': 13447, 'visible': 18844, '3387': 910, 'weight': 19050, 'hopped': 12104, 'winwin': 19187, '25bag': 719, 'platinum': 15683, 'mbr': 14464, 'assurance': 8337, 'Russell': 6242, 'Daiber': 3175, 'okc': 15180, 'Sacramento': 6397, 'Dfw': 3285, 'curiosity': 9899, 'arranged': 8282, 'announcements': 8152, 'Providence': 5985, 'handling': 11848, 'httptco3uBCoAsyws': 12288, 'conditions': 9601, 'UA994': 7217, 'Everything': 3567, 'induce': 13551, 'accepting': 7781, 'immediately': 13448, 'involuntarily': 13712, 'guarantee': 11780, 'guidelines': 11791, 'acceptable': 7779, 'ruining': 16730, 'newest': 14920, 'httptco96fTLZWtvO': 12385, 'Agents': 2030, 'pin': 15630, 'badbadbad': 8491, 'I6EP18': 4343, 'Nicole': 5483, 'Quito': 6016, 'Handled': 4187, 'professionalnice': 15971, 'Pat': 5820, 'taxing': 17909, 'makestoomuchsense': 14389, 'shouldhaveflowndelta': 17109, '1547': 322, 'deiced': 10076, 'Albany': 2068, 'united1K': 18589, 'peanuts': 15513, 'layovers': 14042, '360': 950, 'LAXIAD': 4755, 'trained': 18311, 'Claim': 2898, 'arose': 8278, '1689': 390, 'noticing': 15060, 'icing': 13400, 'midtravel': 14586, 'lies': 14120, 'httptcoBEqoTLNugc': 12429, 'Real': 6099, 'WashingtonDC': 7516, 'Edinburgh': 3478, 'httptco7z3GqEBfK2': 12369, 'DKYDE6': 3136, '4583gt36': 1168, '3636gt606gt36': 954, '4404gt36': 1126, 'helpunitedsucks': 11978, 'Pa': 5781, 'quicker': 16105, 'sits': 17194, 'clarify': 9346, 'eastern': 10593, 'auciello': 8384, 'transpired': 18332, 'belongings': 8648, 'HONEST': 4156, 'Back': 2383, 'Ready': 6096, 'UnitedHatesUsAll': 7338, 'hdn': 11913, 'hdndl11785': 11914, 'loses': 14268, 'disappears': 10298, 'NH10': 5374, '5713': 1344, '3277': 893, 'wasting': 18973, 'FLY': 3649, 'CHECKED': 2671, 'BAGGAGE': 2293, 'EnglishSpanish': 3524, 'unknown': 18613, 'courier': 9789, 'trashy': 18342, 'conversations': 9716, 'Spanish': 6633, 'mislead': 14656, 'operate': 15244, 'ramp': 16144, 'IAHwowjust': 4349, 'sends': 16971, 'outrage': 15321, 'httptcoKkwiwI97A4': 12606, '💩': 19597, 'ots': 15297, 'cranky': 9818, 'checkins': 9260, 'UA1764': 7139, '3883': 992, 'flightStart': 11218, 'treating': 18366, 'noenertainmenton6hourflights': 14973, 'Innovation': 4448, 'Hello': 4233, 'httptcoHI76BOavXY': 12542, 'mths': 14779, 'relations': 16366, 'humans': 13353, 'clean': 9359, 'ramps': 16146, 'danger': 9978, '6491': 1438, 'wamo66': 18942, 'leaves': 14065, 'sister': 17184, 'BIL': 2324, 'Detroit': 3280, 'FIFTY': 3633, '2X': 782, '60': 1380, 'ea': 10566, 'bk': 8737, 'Asia': 2208, 'Korea': 4727, 'easiest': 10590, 'BC': 2301, 'engineer': 10717, 'designed': 10174, 'frame': 11401, '27A': 751, 'Bush': 2604, 'nt': 15093, 'unitedagainstunited': 18593, 'httptcog00sAozgtv': 12976, 'httptcoMb3bJwGOAp': 12639, 'delayConsequence': 10080, '1531': 314, 'mess': 14551, 'httptcotlPBaupIk5': 13234, 'UA761': 7202, 'onboardAlerted': 15202, 'socketYou': 17337, 'Vouchersno': 7454, 'flip': 11252, 'beta': 8674, 'Tks': 6991, 'restriction': 16550, 'routing': 16700, 'NJ': 5379, 'bish': 8724, 'Conference': 2968, 'begins': 8629, '14A': 293, 'UA895': 7211, 'scream': 16878, 'border': 8820, 'IND43728M': 4374, 'flighted': 11225, '4am': 1222, 'suntoshi': 17747, '2100': 583, 'ticket12h': 18132, 'trvlno': 18416, 'wifiMissed': 19152, 'con': 9584, 'fltnext': 11274, 'one24hmissed': 15207, 'meeting7': 14512, 'voucherhotel': 18872, 'chkout12flt5no': 9299, 'wifihotel': 19153, 'Shanghai': 6510, 'European': 3555, 'Fabrice': 3688, 'ggqzqd': 11591, 'eg': 10625, 'MUC': 5092, 'providence': 16030, 'accidentally': 7787, 'popuLate': 15774, 'NewAmericanStinks': 5463, 'UA922': 7212, 'aircrft': 7974, 'build': 8948, 'CLE': 2684, 'ottawa': 15298, 'ending': 10705, '863': 1673, 'httptcotrqlpeinzW': 13236, 'hey': 11996, 'concerns': 9591, 'addressed': 7855, 'DUH': 3169, 'whereabouts': 19108, 'Greeeaat': 4106, 'ruin': 16728, 'Wait': 7498, 'unitedairlinessucks': 18597, 'alright': 8053, 'Especially': 3547, 'shitty': 17078, 'MaxAbrahms': 5182, 'Scooby': 6452, 'Doo': 3342, 'tour': 18284, 'finds': 11130, 'feces': 11053, 'sprinkled': 17476, 'manilla': 14410, 'unconscionable': 18536, 'hepl': 11985, 'ThisIsCoach': 6952, 'robotweeting': 16664, 'disrespectfully': 10368, 'lied': 14119, 'strive': 17651, 'matters': 14454, 'tremendous': 18371, 'amount': 8103, 'gee': 11548, 'Isnt': 4490, 'actively': 7837, 'monitoring': 14720, 'serve': 16993, 'unreal': 18641, 'averaging': 8418, '4x': 1234, '240minute': 677, 'unbelievably': 18527, 'Abysmal': 1984, '3x': 1031, 'submit': 17686, 'UA125': 7110, 'deciding': 10045, 'published': 16047, '737': 1537, 'unitedfail': 18601, 'UA1550': 7126, 'mark': 14427, 'tonights': 18250, 'redeye': 16286, '443min': 1136, 'avoidable': 8424, 'nonweather': 15014, 'Appreciation': 2183, 'GoldenTickets': 4073, 'flySFO': 11286, 'httptcoXzBAjMiekx': 12847, 'Figured': 3747, 'againto': 7918, 'families': 11002, 'children': 9287, 'goal': 11636, '✔️': 19520, 'draw': 10497, 'roundtrip': 16693, '🌴🌴': 19544, 'lake': 13984, 'loyalty': 14319, 'Bangkok': 2404, 'accommodation': 7793, 'hardly': 11884, 'cutting': 9943, 'edge': 10606, 'perk': 15550, 'Say': 6441, 'acknowledgment': 7821, 'download': 10478, 'jeokoo': 13805, 'routinely': 16699, 'solo': 17347, 'traveller': 18352, 'scary': 16845, 'foreign': 11355, 'airborne': 7965, 'hacks': 11818, 'jokers': 13853, 'Prime': 5954, 'impacts': 13451, '100s': 47, 'HNL': 4152, 'UA252': 7144, 'hangs': 11858, 'THREE': 6792, 'disconnected': 10317, 'mis': 14641, 'HahNot': 4178, 'ftw': 11472, 'weasel': 19012, 'httptcoFlcnnn2USD': 12512, 'httptco6Kp4m0R1f7': 12340, 'Much': 5325, 'appreciation': 8236, 'operator': 15250, '354': 935, 'nit': 14949, 'tryn': 18421, 'comping': 9554, 'cxl': 9949, 'httptcoo1u96Xc3bo': 13122, 'Freakin': 3907, 'Pick': 5877, 'Suck': 6721, 'ABC11WTVD': 1883, 'Continentalunited': 2990, 'exclusively': 10867, 'fl1289sfoEWR': 11169, 'getmeoffrhisFUCKINplane': 11577, '215': 601, 'RDUI': 6023, 'progressed': 15988, 'hour9196750985': 12142, 'badly': 8499, 'age': 7922, 'fiasco': 11095, 'outward': 15332, 'qantas': 16083, 'laxSyd': 14038, 'FF': 3630, 'callback': 9038, 'connectfor': 9633, '60min': 1394, 'Ewr': 3570, 'pvd': 16081, 'rent': 16412, 'NOLO': 5389, 'corporate': 9739, 'rage': 16132, 'created': 9836, 'UnitedAirlinesSucks': 7332, 'relaxing': 16372, 'Global': 4054, 'httpstcoj4cj0lrF2d': 12199, 'httptcodTLGUQ1kAk': 12930, 'sadly': 16763, 'mother': 14751, 'nature': 14851, 'investigate': 13702, 'incident': 13500, 'ua90': 18493, '1750': 414, 'cruel': 9874, '350pm': 931, 'virtually': 18841, 'rentals': 16414, 'GREAT': 3986, 'FLATTERING': 3641, 'proud': 16026, 'httptco7br5t5QCXk': 12361, 'ParachuteGuy': 5800, 'AggieMensGolf': 2031, '12thMan': 239, 'httptcoG8DKa3Edhf': 12520, 'SUCKS': 6370, 'Incompetent': 4429, 'Bet': 2456, 'water': 18978, 'costumerservice': 9759, 'legit': 14077, 'jk': 13839, 'increase': 13532, 'legroom': 14080, 'httptcodiUfep8n2q': 12936, 'CNNMoney': 2704, 'yvr': 19438, 'zurich': 19456, 'segs': 16945, '6377': 1427, 'tagged': 17866, 'Bad': 2386, 'pillows': 15625, 'grandma': 11701, 'ladies': 13976, 'closet': 9385, 'unitedlies': 18604, 'threw': 18106, 'UA936': 7213, 'rest': 16542, 'refueled': 16320, 'Hurry': 4336, 'retards': 16566, 'orig': 15278, 'snit': 17312, 'stepped': 17564, 'compensates': 9543, 'httptco96apr35qan': 12384, 'cookies': 9727, 'UA57': 7189, 'fingers': 11136, 'young': 19407, 'Chose': 2879, 'swapped': 17812, 'ZRH': 7722, '245hrs': 685, 'Wife': 7588, 'Spoke': 6648, '1800': 434, 'tmrw': 18198, 'EWRPDX': 3443, 'GPU': 3982, 'weird': 19052, 'Las': 4864, '1125': 140, 'cases': 9127, 'define': 10066, 'UA1616': 7132, 'Spotify': 6649, 'lagging': 13982, 'stream': 17633, 'rate': 16164, 'travelocity': 18355, 'UA1459': 7117, 'threehoursLate': 18105, 'print': 15926, 'known': 13953, 'prescreen': 15886, 'decent': 10040, '25hrs': 721, '6hrs': 1486, 'MakesSense': 5120, '956': 1762, 'stated': 17530, 'Lack': 4848, 'suffering': 17717, 'immensely': 13449, 'merge': 14543, 'airlineGave': 7980, 'pounding': 15807, 'Sandra': 6423, 'offensive': 15146, 'commented': 9496, '25yrs': 728, 'legally': 14076, 'blind': 8759, 'operators': 15251, 'Tell': 6889, 'speaks': 17421, 'Try': 7056, 'fire': 11138, 'handedly': 11839, 'blow': 8770, 'hook': 12086, 'httptcoZHxOk07Aqa': 12862, '95': 1754, 'invoices': 13711, 'approx': 8247, 'allowing': 8040, 'buddy': 8941, 'turns': 18440, 'unitedsucksdick': 18608, 'rated': 16165, 'Print': 5958, 'Calgary': 2753, 'sides': 17143, 'eventually': 10821, 'extreme': 10949, 'Anyone': 2158, '732': 1533, 'unplanned': 18630, 'pain': 15403, 'regardless': 16337, 'hoursat': 12151, 'FoxNews': 3899, 'CNN': 2703, 'msnbc': 14775, 'continental': 9687, 'Example': 3571, '420': 1089, 'approve': 8245, 'CS': 2726, 'ac': 7775, '1171': 168, 'ship': 17069, 'flts': 11275, 'Hubby': 4324, 'skin': 17221, 'teeth': 17941, 'stunning': 17678, 'failurethen': 10980, 'similar': 17164, 'peer': 15523, 'beer': 8621, 'liesstill': 14122, 'inch': 13497, 'httptcoLulGnwEfFH': 12626, 'Miles': 5256, 'copay': 9732, 'restrm': 16552, 'row7': 16702, 'myselfothers': 14813, 'wno': 19216, 'restating': 16544, 'South': 6611, 'Additionally': 2010, 'halfway': 11832, 'ua14': 18477, 'PM': 5741, 'horribleservice': 12113, 'degree': 10072, 'Excited': 3576, 'YOW': 7673, 'YXU': 7677, 'six': 17204, 'prepaid': 15874, 'DirectTV': 3297, 'firstworldproblems': 11149, 'everyones': 10828, 'peanutsnuts': 15515, 'contradictory': 9701, 'advice': 7882, 'Anaphylaxiswill': 2126, 'refrain': 16311, 'closer': 9382, '647': 1435, 'texted': 17988, 'traffic': 18308, 'b12': 8456, 'Ord': 5639, 'HoustonJust': 4316, 'needtobehonest': 14876, 'cnxn': 9417, 'strike': 17646, 'Belize': 2443, 'unitedUnimpressed': 18591, 'UA3782': 7158, 'UA1069': 7098, '26F': 739, 'transit': 18326, 'unlikely': 18616, '4595': 1170, 'overheating': 15354, 'hoursLove': 12150, 'congratulations': 9628, 'Sky': 6567, 'electrical': 10636, 'Airbus': 2045, 'interiors': 13674, 'whyjeff': 19142, 'Reply': 6150, 'preflight': 15860, '15hr': 344, 'wbroken': 18992, 'Dreamliner': 3365, 'Witness': 7610, 'mental': 14533, 'breakdown': 8872, 'walls': 18940, 'Remind': 6135, 'activities': 7838, 'Fred': 3910, 'Flintstone': 3843, 'httptcogKgKZLAwpR': 12982, 'regrading': 16345, 'Recommend': 6112, 'ehsanisMpowered': 10627, 'lmfao': 14198, 'God': 4065, '640': 1431, 'culture': 9892, 'blamed': 8744, 'Phoenix': 5872, 'RUINING': 6066, 'LIFE': 4803, 'Shout': 6533, 'diligent': 10269, 'ua748': 18492, 'assignment': 8323, 'C4': 2629, 'httptco9xbO5daKaK': 12402, 'Ruined': 6236, 'events': 10820, 'millions': 14609, 'ranked': 16153, '930pm': 1746, '6500': 1441, 'somewhat': 17364, 'egregious': 10626, 'Sam': 6414, 'Adams': 2005, 'draft': 10491, 'usurious': 18751, 'explaining': 10924, 'capabilities': 9084, 'context': 9686, 'stevelord212': 17568, 'FlightUA1750': 3797, 'prison': 15935, '6delays': 1483, 'reminded': 16399, 'carrier': 9113, 'Us': 7360, 'arvls': 8298, 'custs': 9934, 'wCancelled': 18895, 'connects': 9643, 'irrops': 13728, 'americanone': 8094, '4016688561': 1050, 'MGA': 5045, 'uncontrollably': 18538, 'livid': 14192, 'disregard': 10364, 'operations': 15249, 'Opal': 5626, 'Dragon': 3359, 'ALI': 1913, 'woven': 19308, 'murdering': 14796, 'httptcoN2fvElcYgz': 12644, 'UA1470': 7119, 'Buy': 2611, 'httptcop3N2w8JfpS': 13147, 'Road': 6205, 'pens': 15532, 'collection': 9457, 'pen': 15525, 'Backup': 2384, 'Kurt': 4734, 'UA1745': 7138, 'sons': 17370, 'Ottawa': 5659, 'Suitcase': 6724, 'remains': 16391, 'JAX': 4518, 'BNA': 2331, 'UA1002': 7093, 'Traveling': 7031, 'internationally': 13679, 'mild': 14593, 'poisoning': 15748, 'UA5': 7176, 'LHRIAH': 4797, 'responds': 16524, 'FlightedStill': 3807, '10voucherwhatajoke': 115, 'formal': 11375, 'ages': 7933, 'spamjunk': 17414, 'case—nothing': 9128, 'sloppy': 17260, 'raised': 16138, 'tagging': 17867, 'led': 14068, 'backing': 8477, 'offenders': 15145, 'stood': 17600, 'conversational': 9715, 'blocking': 8766, 'exiting': 10891, 'block': 8764, 'exit': 10890, 'wheelchairs': 19102, 'commitment': 9502, 'turnaround': 18437, 'mgr': 14571, 'counted': 9770, 'individual': 13550, 'httptcoTsvgbrL15f': 12765, 'observe': 15123, 'crews': 9854, 'compensating': 9544, 'deodorant': 10136, 'shampoo': 17048, 'toothpaste': 18259, '70oz': 1507, 'rollaboard': 16679, '715': 1515, 'Plenty': 5903, 'httptco5xvNnmLTiW': 12332, 'planning': 15679, 'concept': 9587, 'zones': 19453, 'YAAYY': 7661, 'YAY': 7665, 'PROM': 5763, 'httptcoDXicoyioxF': 12472, 'awaynow': 8436, '27L': 753, 'Economy': 3475, 'Econ': 3473, 'ASKED': 1947, 'BOYFRIEND': 2351, 'LOUDSPEAKER': 4824, 'FLIGHT': 3643, '494': 1211, 'SAID': 6250, 'DAY': 3081, 'MUCH': 5093, 'yep—used': 19380, 'againget': 7916, '“thank': 19482, 'submitting': 17689, 'request”': 16464, '20L': 568, 'Hmmmseems': 4276, 'flyerfriendly': 11297, 'LOOONG': 4818, 'FRA': 3660, 'satisfactory': 16808, 'disappoint': 10299, 'decisions': 10047, 'UA1150': 7105, 'normally': 15027, 'plowing': 15719, 'SATURDAY': 6260, 'dies': 10248, 'Ebola': 3471, 'httptcohXVVIS0VWw': 13003, 'Rhonda': 6181, 'straightened': 17619, 'kind': 13922, 'robbedExplain': 16657, 'GIG': 3964, 'carried': 9112, 'movement': 14764, 'minwow': 14638, '15min': 347, 'competent': 9547, 'rivals': 16642, 'filthy': 11117, 'disinfectant': 10345, 'wipe': 19188, 'trash': 18341, 'wipes': 19190, 'stains': 17502, 'aboard': 7759, 'Gross': 4115, 'cldnt': 9357, 'plastic': 15681, 'pins': 15633, 'httptcoCbV7f3KBKx': 12452, '1226': 201, 'ORDEWR': 5564, 'meal': 14479, 'catered': 9137, 'Invest': 4474, 'stock': 17592, 'buybacks': 8995, 'executive': 10877, 'ROC': 6050, 'useful': 18738, 'substitutes': 17699, 'A3': 1795, 'developers': 10216, 'morn': 14737, 'w45': 18891, 'Munich': 5330, '20min': 572, 'Home': 4287, 'nathankillam': 14844, 'Orleans': 5648, 'Huston': 4339, 'hello': 11954, 'phl': 15580, 'Cowardly': 3022, 'eyes': 10954, 'preference': 15856, '1427': 283, 'Moved': 5315, '333': 901, 'troubling': 18402, 'httptconmbHNGnMkI': 13116, '1632': 371, 'phenomenal': 15573, 'apply': 8228, 'ticketeven': 18135, 'Traveled': 7028, '8000': 1612, 'hops': 12105, 'freaking': 11414, 'map': 14419, 'httpstcoAgPb45v8wt': 12178, 'values': 18777, 'lostmybusiness': 14276, 'insulted': 13645, 'disrespected': 10366, 'operating': 15246, 'Friend': 3921, 'appropriately': 8240, 'royally': 16706, 'fakesincerity': 10991, 'boots': 8815, 'ha': 11814, 'HappyFlight': 4195, 'angriest': 8132, 'angstiest': 8139, 'Tasha': 6872, 'dadoralive': 9961, 'doubtful': 10470, 'sales': 16780, 'covering': 9803, 'North': 5519, 'threatened': 18101, 'nonservice': 15010, 'MPLS': 5077, 'mid': 14579, 'deployment': 10157, 'vital': 18850, 'Line': 4916, 'tkt': 18192, 'smile': 17284, 'Zero': 7726, 'Award': 2254, 'Computers': 2962, 'humour': 13357, 'httptcoJNqNbk7HuT': 12583, 'Right': 6194, 'Tropic': 7042, 'Pedro': 5844, 'elected': 10634, 'appointed': 8230, 'httptcokKEDjNRTWo”': 13041, 'mistaken': 14679, 'scarf': 16844, 'slightly': 17251, 'assure': 8339, '3618': 952, 'VP': 7391, 'CustExp': 3055, 'surveyemail': 17793, 'httptcoOtFZ7CygUQ': 12681, 'City': 2896, 'Office': 5594, 'guessing': 11784, 'overcharging': 15345, 'UNBELIEVABLY': 7233, 'STOP': 6363, 'MESSING': 5039, 'httptcooKtUkjY92O': 13132, 'ind': 13542, 'IND': 4373, 'roads': 16651, 'interviewed': 13688, 'recruiter': 16272, 'interview': 13687, '4h2m': 1225, '5h2m': 1367, 'timezones': 18174, 'accuratetraveltimes': 7814, '3rdtimethishashappened': 1028, 'httptcoe0C9bI09cf': 12945, 'BUMS': 2369, 'LOSE': 4819, 'BIGGEST': 2322, 'comcast': 9473, 'XFINITY': 7652, 'cableinternet': 9023, '✅': 19507, '❌': 19525, 'httptcoqP6Aw3nLIP': 13172, 'decision': 10046, 'skills': 17220, 'ops': 15258, 'pushed': 16075, 'Meanwhile': 5197, 'festivities': 11085, 'swing': 17828, 'Fairway': 3698, 'overlooking': 15357, '17th': 431, 'hole': 12055, 'prices': 15917, 'unbelievable': 18526, 'RipOffs': 6197, 'PriceDiscrimination': 5952, 'although': 8061, 'crackerjack': 9812, 'Trip': 7040, 'difficulty': 10259, 'bagswhich': 8526, 'makeup': 14390, 'nothappy': 15050, 'bullying': 8957, 'workforce': 19251, 'Hilo': 4266, '2hr30min': 807, 'software': 17342, '8hrs': 1708, 'nothin': 15052, 'B36a': 2273, 'httptcobnFlHPXtmw': 12905, 'httptcoxAIzW2isml': 13303, '21st': 613, 'celebrate': 9161, '6475': 1436, 'SLC': 6321, 'DENPHX': 3114, '2nite': 820, 'LAXSNA': 4762, '10AM': 100, 'ampwebsite': 8113, 'airport2': 7994, 'Geneva': 4021, 'spaghetti': 17412, 'Hate': 4203, 'selected': 16947, 'nonempty': 14999, 'flt803': 11273, 'nonupgrade': 15013, 'argueing': 8272, 'ContinentalAir1': 2988, 'Heres': 4249, 'wakes': 18930, 'Total': 7016, 'BShave': 2364, 'supply': 17760, 'images': 13441, 'names': 14830, 'astounds': 8344, 'history': 12032, 'Flight6831': 3788, 'pssgrs': 16038, 'Psngrs': 5991, 'besides': 8662, 'overall': 15336, 'Services': 6498, 'NPBHD0': 5395, 'httptcoeWXwXiDTfX': 12951, 'httptcoscQUjbvsTA': 13208, 'contains': 9678, 'poles': 15751, 'Wasnt': 7517, 'reLate': 16178, 'Impressed': 4415, 'Wouldnt': 7640, 'dtwase': 10537, 'router': 16696, 'fuselage': 11512, 'SFOgtAUS': 6297, 'UA343': 7151, '217': 607, 'IS9JX1': 4382, 'mite': 14686, 'Dr': 3358, 'recently': 16240, 'bites': 8731, 'mites': 14687, 'reopen': 16416, '1285': 227, 'growing': 11751, 'backlog': 8478, '16hr': 394, 'Expedia': 3590, '55mins': 1335, 'document': 10422, 'technical': 17932, 'difficulties': 10257, 'Used': 7366, 'AirNZUSA': 2041, 'httptco6hJucP694l': 12350, 'upgrading': 18687, 'digging': 10263, 'earning': 10580, 'outsourcing': 15327, 'advised': 7885, 'downhill': 10477, 'fliers': 11195, 'holdguess': 12049, 'Long': 4949, 'ua1523': 18478, 'accounts': 7804, 'Login': 4943, 'username': 18743, 'incentive': 13496, 'orbitz': 15265, '1514': 308, 'PUJ': 5775, '022015': 11, 'NewarkLondon': 5468, 'PANYNJ': 5677, 'BoeingAirplanes': 2506, 'FroschTravel': 3927, 'httptcoRdJ1MwFLg1': 12734, 'baldordash': 8536, 'Rebookedarrived': 6108, 'Bahamas': 2397, 'cruise': 9875, 'nola': 14986, 'errored': 10774, 'Adam': 2003, 'horrendous': 12109, 'sms': 17295, 'frequentflyer': 11431, 'disgrace': 10336, 'JimTrotterNFL': 4612, 'shouldve': 17113, 'listened': 14175, 'diverged': 10391, 'Burlington': 2599, 'Vermont': 7423, 'inefficient': 13557, 'procedure': 15957, 'DUBJAC': 3168, '299': 777, 'JACLAX': 4516, 'LAXDUB': 4754, '1310': 250, 'N33103': 5341, 'taxies': 17907, 'bhxofficial': 8696, 'UA26': 7145, 'Liberty': 4902, 'httptcoIALiCEH2FT': 12558, 'afraid': 7906, 'unhappyspend': 18580, '13th': 274, 'bd': 8587, 'party': 15456, 'wproj': 19311, 'cond': 9596, 'promising': 15997, 'Cmh': 2923, 'favor': 11040, 'inevitable': 13560, 'cramped': 9817, 'Yuck': 7713, 'UA1665': 7134, 'issuecould': 13740, 'cell': 9166, 'conversed': 9717, '1599': 342, 'wireless': 19191, '699': 1474, 'greedy': 11723, 'piggy': 15621, 'inspected': 13623, 'routine': 16698, 'NYT': 5412, 'httptcobNgpli8JT6': 12898, 'Airserv': 2057, 'contractors': 9699, 'UA1566': 7129, 'calamity': 9031, 'lostsuitcase': 14279, 'noreimbursement': 15023, 'pita': 15641, '132': 253, 'thoughts': 18095, 'comeonpeople': 9480, 'Herman': 4250, 'relayed': 16374, 'chief': 9283, '1665': 380, 'difficultieswhat': 10258, 'teach': 17920, 'Officer': 5595, 'Safety': 6403, 'httptco1TFH2v0a7z': 12243, 'lh': 14112, 'pqd': 15817, 'coupled': 9785, 'policiescost': 15754, 'exacerbates': 10845, 'noted': 15044, '33': 894, 'longterm': 14251, 'issuenot': 13742, 'skibootbag': 17214, 'awkward': 8448, 'generally': 11556, 'inbaggage': 13489, 'unhelpfulness': 18584, 'illogical': 13437, '800number': 1619, 'Went': 7550, 'a320': 7730, 'TPA': 6811, 'inches': 13499, 'httptco9tbsJquw41': 12398, 'ELP': 3404, 'Friendly': 3922, 'emb145': 10662, 'elpaso': 10645, 'httptco9mEOzBO4xl': 12393, 'curbside': 9897, 'TeamUSA': 6882, 'Addair': 2007, 'CP”done': 2720, 'UA6': 7190, 'earnedmybusiness': 10579, 'MSP': 5087, 'w3': 18889, 'hundred': 13358, 'detail': 10200, 'usual': 18748, 'Cleanliness': 2909, 'smells': 17281, 'satisfied': 16809, '803': 1622, '495': 1212, '738': 1543, 'forgive': 11369, 'BGM': 2318, 'Worse': 7632, '4651': 1186, 'delayedbecause': 10086, '1706': 404, 'decided': 10043, 'typically': 18472, 'KingsCollegeLondon': 4717, 'charity': 9226, 'jailbreak': 13786, 'RAG': 6019, 'PEK': 5693, 'Add': 2006, 'gluten': 11630, 'supervisors': 17756, 'aviation': 8421, 'NewYork': 5465, 'httptcozv6CfPoHl5': 13341, 'paigeworthy': 15402, 'rare': 16161, 'complimenting': 9574, 'servicemost': 17005, 'gfc': 11589, 'httptconvLnGLnMGN': 13118, 'Thinking': 6950, 'danahajek': 9973, 'push': 16073, 'employeeslack': 10690, 'sobbed': 17331, 'consideration': 9651, '1136': 148, 'httptcogeG4nghmIE': 12988, 'TAG': 6774, 'race': 16122, 'smoothly': 17293, 'worn': 19269, 'EnoughIsEnough': 3527, 'becoming': 8615, 'Mia': 5231, 'screenshot': 16886, 'wedding': 19031, 'irreplaceable': 13724, 'milestone': 14605, 'Theres': 6944, 'repaid': 16420, 'Brothers': 2570, 'Copa': 2997, '635': 1424, 'Hes': 4252, 'competing': 9549, 'Panamerican': 5794, 'Cross': 3039, 'Country': 3016, 'Cup': 3051, 'BringYourOwn': 2560, 'kleankanteen': 13940, 'httptcodaaa0rqBXW': 12934, 'Championship': 2831, 'Columbia': 2938, 'PLENTY': 5737, 'Vicky': 7429, 'Thomas': 6955, 'Rotten': 6229, 'Servicessomething': 6499, 'atgate': 8346, 'plenty': 15714, 'exasperating': 10850, 'undergoing': 18543, 'walking': 18935, 'touching': 18281, 'SCVPools': 6269, '3107952210': 864, 'lax29108m': 14037, 'wks': 19208, 'guitar': 11795, 'royal': 16705, 'commission': 9500, 'extension': 10937, 'especially': 10785, 'locations': 14221, 'seemed': 16935, 'Providing': 5988, 'situations': 17202, 'Leaving': 4886, '615': 1400, 'standbys': 17512, 'connectin': 9634, 'NYFW': 5410, 'Brian': 2555, 'cheer': 9265, 'wmiles': 19212, '50m': 1260, '1tix': 526, 'liable': 14113, 'youretheworst': 19411, 'explanations': 10927, 'arguing': 8273, 'Looked': 4954, '7Unnecessary': 1599, 'Incompetence': 4428, 'mentioning': 14537, 'owner': 15377, 'mortified': 14742, 'acted': 7830, 'forever': 11358, 'elses': 10648, 'Lea': 4876, 'facts': 10969, 'knownot': 13954, 'keepingit100': 13897, 'weaktea': 19008, 'leighemery': 14082, 'UA7985': 7205, 'coshared': 9752, 'Unable': 7307, 'ordealsigh': 15268, 'luggages': 14337, '1669': 381, '3781': 974, 'Guitar': 4126, 'living': 14193, 'per': 15537, 'weblink': 19026, 'notgoodenough': 15048, 'ignore': 13424, '21': 581, 'fra': 11399, 'mco': 14469, 'avoiding': 8426, 'httptcoVO61LME5ja': 12795, 'remaining': 16390, 'validity': 18771, '767': 1570, 'AirlineGeeks': 2049, 'httptcouPocMmuLUN': 13247, 'underweight': 18555, 'cares': 9105, 'pound': 15806, 'somebody': 17355, 'Rapid': 6084, 'Snow': 6586, 'fallFlorida': 10993, 'Everglades': 3563, 'faint': 10981, 'sunburn': 17738, 'awayhere': 8435, '3367': 907, 'saddening': 16761, 'John': 4618, 'Wayne': 7526, 'WheresThePilot': 7574, 'Flt1088': 3849, '157': 331, 'CHEAPER': 2669, '905pm': 1725, 'UA3462': 7152, 'blankets': 8750, 'UA1088': 7099, 'Treated': 7037, 'straighten': 17617, 'star': 17514, 'alliance': 8032, 'httptcoU1ViEuiDF5': 12769, 'verify': 18806, 'wheelchair': 19101, 'dildo': 10267, 'terrific': 17978, 'mileageplus': 14596, 'clearly': 9366, 'terriblecustomerservice': 17974, 'httptcofeC4i3Vwq7': 12969, 'misinformation': 14654, 'damages': 9969, 'credibility': 9841, 'fwiw': 11516, 'FC': 3626, 'ravioli': 16171, 'chickenidiot': 9282, 'Typical': 7090, 'improved': 13472, 'cheers': 9267, 'attendents': 8372, 'UA1022': 7094, 'platinummember': 15684, 'furious': 11509, 'httptcoIG2dgctt2M': 12560, 'bankrupt': 8548, 'Marcus': 5145, 'listed': 14173, 'unavailableto': 18521, 'False': 3702, 'I’ve': 4513, 'y’all': 19440, 'unsmiling': 18654, 'Breezy': 2552, '14hrs': 295, 'department': 10141, 'WONT': 7483, 'UA863': 7209, 'SydneyAirport': 6764, 'recognition': 16252, 'type': 18470, 'Loyal': 4981, '315': 874, 'UA1157': 7107, 'int’l': 13697, 'DTV': 3165, '10yr': 118, 'Loyalty': 4982, 'Team': 6879, 'flipped': 11253, 'Google': 4085, 'spin': 17446, 'unitedSucks': 18590, 'opaque': 15237, 'basic': 8566, 'Ted': 6885, 'Plus': 5907, 'Bye': 2615, 'bye': 9005, 'B3': 2272, '1299': 230, 'M13': 5005, 'Swiss': 6760, 'LX009': 4843, 'behaves': 8634, 'disgraceful': 10337, 'Amy': 2122, 'Lloyd': 4934, 'golf': 11650, 'cart': 9123, 'former': 11379, 'PIA': 5720, 'quit': 16113, 'responsible': 16537, 'saved': 16816, 'refuel': 16319, 'bro': 8906, 'Bosnia': 2525, 'httptcoM9Nywr5Kbs': 12630, 'CPUs': 2719, 'JFKLAX': 4529, 'joking': 13856, 'blowing': 8771, 'proportion': 16015, 'significantly': 17152, 'goddamn': 11639, 'insane': 13614, 'resend': 16491, 'handy': 11852, 'historical': 12030, 'society': 17336, 'afterall': 7909, 'idiot': 13412, 'Armrest': 2195, 'remote': 16404, 'resting': 16545, 'elbows': 10632, 'mix': 14688, 'Seatmate': 6462, 'volume': 18859, 'bump': 8960, 'Listen': 4922, 'Remove': 6138, 'insulting': 13646, 'HA': 4133, 'Alavera': 2067, 'youto': 19419, 'wins': 19181, 'marks': 14432, 'turned': 18438, 'Reallyyou': 6103, 'flightstill': 11239, 'SFOgtBOS': 6298, 'soda': 17338, 'httptcoxhlc30MTfF': 13314, 'tucking': 18429, 'transfers': 18324, 'milesstatus': 14604, 'httptcoH6HN33JJJE': 12535, 'moneynotspentonunited': 14717, 'disunited': 10389, 'servicefail': 17003, 'R': 6018, 'UA5184': 7184, 'CHI': 2673, 'WPG': 7490, 'patient': 15489, 'clockwork': 9377, 'KeepIt100': 4694, 'booze': 8816, 'Bach': 2382, 'ORDgtMSY': 5574, '10D': 101, 'folder': 11322, 'incompetentrude': 13519, 'untd': 18661, 'UA415': 7162, 'twelve': 18453, 'hoursplease': 12153, 'UA4636': 7165, 'painful': 15405, 'UA82': 7207, 'BattierCCIpuppy': 2420, 'puppy': 16063, '👏👏': 19575, 'AIRLINE': 1905, 'BEWARE': 2314, 'MAINTAIN': 5010, 'PLAIN': 5728, 'RUNWAY': 6067, 'PAST': 5681, 'HOURS': 4165, '1997': 489, 'Existing': 3585, '0600': 23, 'CMHORD': 2701, '0638': 24, 'Ohare': 5601, 'SouthBendINWhere': 6612, 'httptcoqGwK10dEwv': 13171, 'Lindsay': 4914, 'Darn': 3199, 'memory': 14528, '—': 19462, '5’': 1378, '6”': 1497, 'tight': 18147, 'iflyalot': 13421, 'OK': 5551, 'clarification': 9345, 'IFlyOAKland': 4361, 'East': 3465, 'base': 8563, 'premiere': 15870, 'embarrassed': 10663, 'launched': 14025, 'NWS': 5400, 'warning': 18960, 'Skywest': 6570, 'i’ll': 13778, 'Honululu': 4292, 'beg': 8625, 'conection': 9604, 'isn’t': 13736, 'letsgo': 14099, '4016': 1049, '529557': 1296, 'chicago': 9279, 'Montana': 5298, 'waiverskeep': 18926, 'frontier': 11456, 'httptcon8WiNFu6C5': 13101, 'refreshments': 16317, 'Wheres': 7572, 'Wednesday': 7537, 'res': 16476, 'combine': 9470, 'httptcoEis9hcNPrO': 12489, 'american': 8085, 'httptco0EWj7oKlji': 12223, 'worseas': 19276, 'seatout': 16910, 'snacks': 17301, 'uhuhGroup': 18500, 'tomorrowwhy': 18239, 'preemptive': 15851, 'httpstcoyBv0xaowKv': 12215, 'FriendlyFriday': 3923, 'Awesomeness': 2256, 'paws': 15500, 'blood': 8768, 'appt': 8251, '18009174929': 436, 'httptco6UXwPaduGS': 12346, 'litter': 14183, 'waiving': 18928, 'Winter': 7603, 'Storm': 6704, 'harsh': 11888, 'resell': 16490, 'Watched': 7522, 'conveyer': 9720, 'belt': 8650, 'httptcolyoocx5mSH': 13075, 'automated': 8401, 'therefore': 18037, 'unanticipated': 18518, 'dgoodspeed': 10225, 'Cares': 2787, 'Terribly': 6897, 'Confirmed': 2972, 'Employee': 3511, 'wheels': 19103, 'dimensions': 10272, 'dmangenvisualclubconceptscom': 10407, 'flycould': 11293, 'Respond': 6165, 'edinburgh': 10608, 'entitled': 10746, 'transport': 18333, 'reeks': 16297, 'vomit': 18865, 'indicated': 13545, 'grossed': 11739, 'disappointmentyet': 10304, 'againflying': 7915, 'REEKS': 6032, '304': 845, 'httptcoQKquRagGoO': 12710, 'mad': 14361, 'ed': 10605, 'num': 15096, 'approach': 8237, 'bagage': 8509, 'checkincorrect': 9257, 'partly': 15448, 'delewr': 10107, 'Old': 5611, 'flyingRetro': 11302, 'httptco6asuwx3Kv0': 12348, 'troubles': 18399, '1030': 65, 'GJQX6J': 3968, 'A587CW': 1806, 'Discrimination': 3302, 'notimpressed': 15066, 'inconveniences': 13526, 'Cranky': 3026, '791': 1590, 'reminding': 16401, 'expiring': 10921, 'June': 4642, 'Followback': 3876, 'MIAEWR': 5052, '384': 984, '😄😄😄': 19623, 'EWRIAD': 3440, '3589': 942, '😡😡😡': 19668, 'beingsuckontarmacsucks': 8638, 'UA1023': 7095, 'visibly': 18845, 'Reassign': 6104, 'Usually': 7369, 'Express': 3597, 'Positive': 5925, 'Mainline': 5114, 'ps': 16035, 'enjoyable': 10721, 'SATO': 6259, 'unnerving': 18627, 'httptcoQdXfT9qqT9': 12715, 'refreshes': 16315, 'checkouterror': 9262, 'Ticket': 6969, '358': 940, 'DoUNotWantMyBusiness': 3329, 'JedediahBila': 4585, 'voted': 18868, 'title': 18188, 'Jedediah': 4584, 'whatstheholdup': 19097, 'CHItoCLE': 2678, 'teeming': 17937, 'morons': 14741, 'Thanksseat': 6916, 'flightsyearmy': 11240, 'UA6357': 7198, 'Stat': 6682, 'Path': 5821, 'railed': 16133, 'bobwesson': 8788, 'everybody': 10826, 'Although': 2092, 'slight': 17250, 'turning': 18439, 'ref': 16299, 'recording': 16263, 'repeat': 16425, '307': 851, 'ethics': 10803, 'sir': 17181, 'lying': 14354, 'splitting': 17452, 'quadruples': 16087, 'contd': 9679, 'trials': 18377, 'shoulder': 17106, 'specific': 17426, 'transcontinental': 18318, '72h': 1527, 'pleasurerelief': 15711, 'lavatory': 14029, 'functioning': 11503, 'lining': 14163, 'menus': 14540, 'Changing': 2835, 'Winners': 7600, 'Losers': 4961, 'httptcoF1yvAiO9ul': 12493, 'httptcovGlx6Ykwqg': 13267, 'antkneee': 8176, 'wave': 18982, 'warmth': 18957, 'JJ”': 4540, '255': 711, 'sentiment': 16978, 'groundstill': 11745, 'login': 14236, '337': 908, 'chain': 9188, 'expire': 10917, 'accruing': 7807, 'naming': 14832, 'depression': 10159, 'familiar': 11001, 'unhappytraveler': 18581, 'inaccuratemisleading': 13483, 'hopethegearmakesitintact': 12099, 'regional': 16339, 'friendliest': 11441, 'Flight417': 3786, 'ogg': 15165, 'HKG': 4150, 'KP': 4668, 'Bila': 2465, '750': 1556, '539': 1306, 'workin': 19254, '395': 1005, 'Rolling': 6226, 'Narita': 5426, 'Tokyo': 7001, 'motel': 14750, '2days': 793, 'played': 15689, 'LO': 4812, 'UA475': 7170, 'gently': 11563, 'placing': 15651, 'pile': 15623, 'whipped': 19122, 'cream': 9834, 'Smoothest': 6584, 'safari': 16764, 'Canadaair': 2766, 'jets': 13829, 'abuse': 7772, 'overcharge': 15342, 'privilege': 15938, 'httptcoSdyLuKR7pt': 12745, 'robthecameraman': 16665, 'airfarewatchdog': 7978, '😒': 19646, 'tripitPro': 18389, 'accurate': 7812, '2hours': 802, 'standbye': 17510, 'potential': 15804, '6373': 1426, 'transparency': 18330, '44Stocker': 1153, 'Sarah': 6428, 'stocker': 17593, 'victim': 18820, 'SHIT': 6304, '1219': 195, 'boiled': 8792, '799': 1592, 'Free': 3912, 'preventative': 15907, 'unresolved': 18645, 'darn': 9984, 'httptcoPh8QJzaPKx': 12695, 'narrower': 14839, 'bloated': 8763, 'MN': 5067, 'KN': 4663, 'patiently': 15490, 'clarifying': 9347, 'uh': 18499, '5559': 1326, 'YYC': 7678, 'lightbulb': 14135, 'companion': 9524, 'necessary': 14865, 'Whoever': 7579, 'handshake': 11851, 'chocoLate': 9304, 'problemsolvers': 15954, 'UA4689': 7167, 'YHZEWR': 7670, '129': 229, 'thousand': 18096, 'fans': 11012, 'utmost': 18755, 'tpallini': 18297, 'httptcooDlall5eDH': 13130, '5187': 1280, 'hurricane': 13366, 'checkers': 9253, 'Overkill': 5667, 'Bummer': 2591, 'LRuns4Cupcakes': 4831, 'ClarkHoward': 2901, 'Issues': 4493, 'Kathryn': 4685, 'Sotelo': 6606, 'arrange': 8281, '5957': 1359, '1449': 285, 'PBI': 5685, 'stow': 17613, 'costing': 9755, 'aggravation': 7936, 'father': 11030, 'kit': 13934, 'httptcoPd3nbAAkxH': 12692, 'PNR': 5743, 'A3ZZ0F': 1803, 'waitlisted': 18917, 'Jim': 4609, 'Compton': 2961, 'Jeff': 4586, 'Smisek': 6581, 'insurance': 13647, 'FLT': 3647, '3444': 919, 'fullfare': 11493, 'GSA': 3993, 'lifetime': 14129, 'wind': 19166, 'chill': 9290, 'Ithica': 4500, 'tshirt': 18427, 'burn': 8969, 'Aw': 2252, 'words': 19241, 'Totally': 7017, 'SOOOO': 6336, 'Frontier': 3926, 'exceptions': 10860, 'misplaced': 14660, 'FO': 3651, 'keepingtraditionsalive': 13898, 'Ran': 6080, 'thanksunited': 18009, 'upgrd': 18688, 'Kit': 4719, 'Kat': 4683, 'tasty': 17903, 'LaGuardia': 4845, 'tray': 18361, 'table': 17856, 'size': 17205, 'mouse': 14760, 'pad': 15397, '1558': 327, 'httptcoFY6f9rZB9k': 12507, 'KathrynSotelo': 4686, '9c': 1781, 'httptco9sKrLyrZ1O': 12397, 'acts': 7841, 'Kind': 4714, 'ticked': 18129, 'EpicFail': 3537, 'businessFirst': 8982, 'Amarillo': 2098, '11pm': 180, 'HN': 4151, 'sucking': 17706, 'airbus': 7966, 'C130': 2620, 'rubber': 16717, 'issuing': 13746, 'surcharge': 17771, 'httpstcojpd7NsGRT7': 12201, 'Fyi': 3948, 'ua688': 18491, 'Based': 2417, 'suggestions': 17725, 'box': 8847, 'Hug': 4326, 'unmissable': 18623, 'BusHug': 2603, 'format': 11378, 'busads': 8975, 'thinkbus': 18071, 'BelfastAirport': 2441, 'httptcoAvbdstJUJS': 12417, 'httptco27aitZl6nd': 12255, 'haha': 11821, 'hangar': 11854, 'Sounds': 6610, 'screensand': 16885, '1612': 360, 'AdamKarren': 2004, 'zj76': 19450, 'premgold': 15866, 'guilty': 11792, '5012': 1243, '4781': 1197, '5102newflight': 1267, 'rented': 16415, 'heathrow': 11939, 'airnzusa': 7989, '355pm': 937, 'donation': 10437, 'ThankYou': 6911, 'WTH': 7494, 'everytime': 10831, '5001': 1241, 'hungry': 13361, 'vegetarian': 18792, 'SHRUG': 6308, 'PRIORITY': 5761, 'Tweets': 7079, 'Learned': 4881, 'lesson': 14094, 'linkemail': 14166, 'Irene': 4482, 'PaxEx': 5833, 'CUNEWR': 2737, '255pm': 713, 'woke': 19222, 'education': 10613, 'Item': 4498, 'mysteriously': 14815, 'ended': 10704, 'httptcoSJQEmDtQmA': 12738, 'guessflight': 11783, '16': 353, 'smallerthinner': 17273, 'jam': 13788, 'flightu': 11243, 'concentrate': 9585, 'maint': 14378, 'asses': 8316, 'DEFINITELY': 3099, 'FULL': 3675, 'chocked': 9303, 'UNMET': 7239, 'ARRIVAL': 1943, 'abigailedge': 7755, 'spite': 17448, 'Janet': 4571, 'believing': 8644, 'whatgives': 19092, 'dullessucks': 10547, '3xdaily': 1032, 'EmbraerSA': 3504, 'ERJ145': 3418, 'Evansville': 3557, '4JUN': 1220, '4465': 1144, 'papers': 15424, 'slew': 17246, 'galley': 11526, 'boardingpass': 8784, 'rad': 16126, 'hemispheresmag': 11980, 'Charlotte': 2845, '8thtime5MonthsOld': 1714, 'httptcokCqnwIXUCm': 13038, 'UA49': 7173, 'FirstClass': 3771, 'LondonFashionWeek': 4947, 'LFW15': 4781, '👠🇬🇧👠🇬🇧👠🇬🇧': 19579, '20k': 571, 'alternatives': 8060, 'practice': 15820, 'cement': 9168, 'UA1724': 7135, 'httptconDTLJ15ZpU': 13104, '6212massive': 1410, 'needtocatchmynextflight': 14877, 'alreadyrebookedonce': 8052, '1623': 367, 'sjoiad': 17208, 'Handed': 4184, 'Keeping': 4697, 'traditions': 18307, 'alive': 8025, '1701': 400, 'flightdelay': 11224, 'craft': 9815, 'nocustomerservice': 14971, 'nocompensation': 14969, 'despise': 10187, 'thee': 18024, 'dullestostatecollege': 10548, 'runningonthreehoursofsleep': 16745, 'delayedovernight': 10091, '912': 1733, 'Came': 2762, 'Wonderful': 7615, 'ambassador': 8078, 'biggest': 8703, 'Newarktiredandwanttogohome': 5471, 'fantastic': 11013, 'Except': 3574, 'entry': 10751, 'unitedfirst': 18603, 'unsympathetic': 18659, 'confrontational': 9618, 'facebook': 10963, 'wating': 18981, 'SW': 6374, 'predawn': 15846, 'miami': 14575, 'Annual': 2146, 'SOBEWFF': 6332, 'exchange': 10862, 'senses': 16975, 'gg8929': 11590, 'UnitedAppeals': 7334, 'cont': 9668, 'httptco46n9kDcsxU': 12294, 'stickingToDelta': 17575, 'danroam': 9981, 'MN”': 5068, 'loudly': 14287, 'throug': 18110, 'lights': 14139, 'dimmed': 10274, 'Resulting': 6169, 'stepping': 17565, 'Oreos': 5641, 'dial': 10229, '😜': 19658, 'asus': 8345, 'tablet': 17858, '16th': 396, 'wondered': 19226, 'queues': 16102, 'reclaim': 16248, 'aunts': 8391, '€600': 19490, 'accordingly': 7800, 'Trust': 7054, 'swapping': 17813, 'ONT': 5558, 'continued': 9693, 'onlyinAmerica': 15226, 'customerservices': 9929, 'Lousy': 4972, 'transparent': 18331, 'TEN': 6781, 'CHAR': 2668, 'Rick': 6186, 'Clifton': 2914, 'SEAHOU': 6275, 'dying': 10561, 'handbag': 11837, 'shameful': 17046, 'escorted': 10782, 'Prebooked': 5937, 'JenniferWalshPR': 4588, 'dissatisfaction': 10376, 'und': 18540, 'Yup': 7716, 'courteous': 9794, 'understood': 18553, 'duty': 10558, 'prebooked': 15837, 'f': 10956, 'die': 10245, 'Lagos': 4853, 'Nigeria': 5484, 'uncaring': 18529, 'Ou': 5660, 'inexcusable': 13561, 'keepitclassy': 13899, '359': 943, 'bragged': 8856, 'driver': 10518, '9hours': 1784, 'RobBogart': 6210, 'fib': 11096, 'vanished': 18781, 'httptcoWNdcEO5QlK': 12816, 'rapid': 16157, 'Idaho': 4402, 'flow': 11264, 'hourNever': 12145, 'Anna': 2139, '19': 471, 'pro': 15941, 'alerted': 8019, 'showsomerespect': 17125, 'Availability': 2244, 'wcomputer': 18998, '8473573': 1658, 'nawww': 14853, 'fave': 11038, 'Formed': 3889, 'betting': 8680, 'LH': 4793, 'Den': 3253, 'FraIf': 3900, 'youbag': 19400, 'Frano': 3906, '€20288': 19489, 'shots': 17104, 'httptcoIpaamZT7Z2': 12572, 'Kids': 4709, 'kindle': 13925, 'HD': 4140, 'UA1037': 7096, 'ORDSFO': 5570, '9ABCDEF': 1775, 'opened': 15239, '1030pm': 67, '3hourdelay': 1019, 'settle': 17016, 'Surprised': 6746, 'Perth': 5857, 'dest': 10189, 'straight': 17616, 'anniversary': 8145, 'UA4904': 7174, 'nxt': 15111, 'tolerable': 18228, 'Learn': 4880, 'Problemss': 5966, 'lt5': 14324, 'Evry': 3569, 'evry': 10839, 'lastflightofthenight': 14011, 'breakup': 8877, 'httptcodN1if2cGwE': 12925, 'US3645': 7252, 'dpt': 10488, '559pm': 1332, 'dpted': 10489, '830pm': 1649, 'average': 8417, 'UA3645': 7155, '754pm': 1560, 'alert': 8018, 'whatstatus': 19096, 'AUSTRALIA': 1963, 'compensated': 9542, '911': 1732, '2spooky': 828, '4me': 1229, 'm8': 14355, 'spook': 17460, 'scare': 16840, 'Set': 6500, 'expedited': 10905, 'us651621': 18713, 'NC': 5365, 'aweful': 8439, 'bridgewaitingforbagsunitedEWR': 8892, '940pm': 1749, 'sidewhy': 17144, 'heretiredcustomer': 11991, 'dmb41shows': 10408, 'buffalo': 8944, 'progress': 15987, 'cold😡': 9453, 'estimate': 10795, 'httptcozOUOwgv3Q6': 13333, 'CREW': 2722, '689': 1469, 'Freezing': 3915, '9pm': 1787, 'HiltonWorldwide': 4268, 'Caravannyc': 2783, 'MaysvilleNYC': 5185, 'Join': 4623, 'NYC…as': 5409, 'tourist': 18285, 'httptcoegaEjtRGLb': 12955, 'w4840': 18892, 'z': 19441, 'refundable': 16325, '38A': 995, 'Assumed': 2216, '8E': 1697, 'GAs': 3957, 'cleared': 9364, '4840': 1203, 'MHT': 5046, 'ALB': 1911, 'Update': 7355, 'Youve': 7710, 'Ur': 7358, 'multicity': 14787, '1of': 515, 'UMP': 7228, 'httptcohBsJ2sF17h': 12995, 'C25': 2624, '619': 1406, 'lugging': 14339, 'SERVICE': 6284, 'Denied': 3254, 'praying': 15828, 'JustGetMeHome': 4645, 'hide': 12006, 'seek': 16931, 'Force': 3883, 'SBN': 6264, '820': 1638, 'LGJW7B': 4792, 'voluntarily': 18862, '8B': 1695, 'Res': 6161, 'shed': 17058, '55hrs': 1333, 'embarrassing': 10664, 'ua3728': 18487, 'httptcovFTUyJh45X': 13265, 'httptcoVTqE8m1L3i': 12798, 'sept': 16985, 'usa': 18714, '€67': 19491, 'ripoff': 16634, 'prepared': 15878, 'httptcoU69fAfqhsF': 12772, 'DELAYED': 3102, 'G6455C': 3951, 'Pr': 5933, 'privileges': 15939, 'Roanoke': 6208, 'sous': 17397, 'falls': 10997, 'Painful': 5789, 'Doumented': 3353, 'Ohand': 5600, 'crucial': 9873, 'YourAgentsHaveNoClue': 7706, 'httptcoA37N3oHOKL': 12405, 'Makes': 5119, 'oversold': 15366, '78': 1583, 'cloud': 9393, 'RU': 6063, '15lb': 346, 'w8': 18893, 'worseoh': 19277, 'Lonflight': 4948, 'REASON': 6028, '48413': 1204, 'pointsmileage': 15744, 'None': 5508, 'httptco3zpJr7kWbk': 12289, 'httptcodJHXvJT201': 12922, 'silence': 17158, 'httptcoGCWVFuopl2': 12522, 'Bought': 2532, 'agotoday': 7942, 'illiterate': 13435, 'magic': 14369, 'httptcot4gcKs2bh5': 13214, 'nasty': 14843, 'Selling': 6484, 'Stars': 6675, 'Bars': 2414, 'airlineguys': 7983, 'httptcomWSoGUC33p': 13096, 'confused': 9620, 'directed': 10282, 'DELAYS': 3103, 'httptcocypRHe5GOK': 12919, 'MSN': 5085, 'RX': 6069, 'eyeglasses': 10953, 'thick': 18057, 'Admiral': 2012, 'waitstill': 18919, 'RobCNYC': 6211, 'httptcogBIw9ugFNm': 12980, '1amp2': 502, '1007': 43, 'Filled': 3750, 'experiencing': 10914, 'substantial': 17697, 'downgrade': 10474, 'Different': 3292, 'austin': 8393, 'demonstration': 10127, 'Corporate': 3001, 'CORNY': 2716, 'a…': 8453, 'httptcolwOtKIEKGU': 13073, '2daysofunitedfailures': 796, '1thingafteranother': 525, 'labyrinth': 13971, 'swindle': 17827, 'considered': 9652, 'httptcoYMFTw1uyHr': 12851, 'Cont…': 2994, 'Sitting': 6560, 'UA3728': 7156, '35hrs': 947, 'plane4': 15659, 'Wish': 7607, 'accomidating': 7788, 'slower': 17264, 'customerservicefail': 9927, '5979': 1361, 'dfw': 10222, 'heavy': 11944, 'BACK': 2288, 'QRO': 6008, 'alwaysdelayed': 8066, 'capable': 9086, 'AgtB': 2033, 'amt': 8116, 'incoming': 13513, 'Frustrating': 3930, 'impatience': 13453, 'partits': 15447, 'untruthful': 18664, 'systems': 17848, 'stick': 17572, 'Effort': 3482, 'survey': 17792, 'overchargedampunderserved': 15344, 'Fair': 3695, 'rant': 16154, 'SonyaSloanMD': 6599, 'httptco2TrgEMteBZ': 12262, 'comedian': 9476, 'stage': 17500, 'moon': 14732, 'Puerto': 5992, 'Rico': 6188, 'REBOARD': 6029, 'httptcoEEReKDf9Fq': 12482, '1712': 407, 'duecto': 10543, 'Willl': 7597, 'Argentina': 2189, 'annricord': 8157, 'it😊': 13773, 'aok': 8193, 'snowforce': 17320, 'Woo': 7619, 'Hoo': 4293, '🎉🎉🎉': 19552, 'GROW': 3990, 'close': 9379, 'alot': 8048, '1115p': 132, 'complaining': 9559, '10p': 112, 'smiling': 17285, 'world8': 19264, 'bwood': 9004, 'surveying': 17794, 'NudgeNudge': 5537, 'Save': 6435, 'vocab': 18854, 'SOP': 6337, 'Donna': 3339, '1528': 312, '909': 1728, 'interrogated': 13684, 'PoorForm': 5916, 'pet': 15567, 'thatisall': 18014, 'downgrading': 10476, 'boozefood': 8817, 'selections': 16952, 'aircanada': 7969, 'Far': 3709, 'GolfUnited': 4076, 'West': 7553, 'httptcoXijYrPsLZK': 12843, 'installed': 13630, 'Kicked': 4707, 'Four': 3896, 'possiable': 15790, 'Schiphol': 6450, 'fr': 11396, 'entering': 10736, 'typo': 18474, 'outin': 15313, '46hrs': 1188, 'Theyve': 6947, '20hrs': 570, '85': 1661, 'GFC': 3963, 'httptcoMKpoGNntYC': 12635, 'perfectomobile': 15541, 'admit': 7868, 'func': 11498, 'UPS': 7242, 'FedEx': 3731, '1020': 57, 'boss': 8826, 'httptcobm9O2K5X5J': 12904, 'menu': 14539, 'Yummy': 7715, 'httptcoegKvFoKogj': 12954, 'pleasantly': 15698, 'flightFlew': 11215, 'LGACLEDEN': 4784, 'byod': 9007, 'worksnicely': 19262, 'replied': 16435, 'httpstcocaf2cx3gfi': 12192, 'Rude': 6234, 'grouchy': 11740, 'nap': 14836, '80': 1610, 'httptcoqd2lyUXAZg': 13175, 'Wifes': 7589, '12pm': 237, 'Helps': 4242, 'httptcoHSMpbSF4UF': 12548, 'subsequently': 17695, 'Oregon': 5640, 'Womens': 7613, 'Tennis': 6892, 'supposedly': 17767, 'reminds': 16402, 'desks': 10181, 'BosSF': 2523, 'waivers': 18925, 'beforeafter': 8624, 'flexibilitycompassion': 11188, 'forgetting': 11368, 'incorrect': 13530, 'tweeting': 18451, 'ignoring': 13427, 'CantLogOutOfUnitedWifi': 2776, '2426': 682, 'awake': 8430, 'Paying': 5836, 'Logout': 4944, 'saddened': 16760, 'east': 10592, 'coast': 9423, 'storms': 17611, 'ANOTHER': 1934, 'FCKING': 3627, 'inchecking': 13498, 'Netherlands': 5452, 'ams': 8114, 'systemsyouareonyourown': 17849, 'logging': 14233, 'promotions': 16003, 'Johns': 4621, 'Antigua': 2154, 'UA5631': 7188, 'Burbank': 2596, 'extravaganza': 10948, 'dobetter': 10415, 'httptcoV8PVpHMtZc': 12790, 'ec': 10601, 'prem': 15865, 'deaffriendly': 10023, 'review': 16601, 'httptco2Brt0aTHaU': 12257, 'httptcoWzNp5q1M0H': 12825, 'shipped': 17070, 'ph': 15571, '8003352247': 1613, 'weighed': 19047, '455': 1162, 'whether': 19116, 'rear': 16210, 'nonrefundable': 15008, 'wrote': 19331, 'nothanks': 15049, 'inampdidnt': 13486, 'hime': 12017, 'estellevw': 10794, 'autoapplied': 8400, 'syastem': 17836, '8544484': 1664, 'suite': 17731, 'keepusguessing': 13902, 'isthisyourfirsttry': 13749, 'promptly': 16008, '240': 675, 'kms': 13942, 'Death': 3223, '440': 1124, 'Police': 5912, '12h30am': 236, 'crash': 9822, 'crashes': 9825, 'abused': 7773, 'lower': 14310, 'cabine': 9020, 'yesterdays': 19388, 'Sao': 6426, 'Contacted': 2985, 'suggested': 17722, 'iamtedking': 13393, 'RES': 6036, '0167560070877': 8, 'Fsqthg': 3932, '1583': 337, '6AM': 1476, 'therealaviation': 18036, 'Instagram': 4456, 'sayin': 16830, 'inquire': 13609, 'itpretend': 13765, 'they’re': 18056, 'Responded': 6166, 'ailing': 7959, 'parent': 15430, 'custserv': 9935, 'heartless': 11934, 'term': 17966, 'lacking': 13974, 'owe': 15374, 'camera': 9057, 'interrupted': 13685, 'messaged': 14553, 'httptco4ojE523PTw': 12310, '71': 1510, 'Definately': 3236, 'employer': 10692, 'united13': 18588, 'busiest': 8980, 'trafficfuel': 18309, 'didn’t': 10244, 'It’s': 4505, 'FL': 3640, 'expedient': 10903, 'Joni': 4627, '5653': 1341, '310': 861, 'Hang': 4189, 'baggagefind': 8515, 'Pittsburgh': 5887, 'OrthoDoc': 5649, 'oncall': 15204, 'regains': 16334, 'karma': 13890, 'sweaty': 17818, 'Guy': 4128, 'httptcoUCZzP9YpHk': 12774, 'lounges': 14290, 'tab': 17855, 'supported': 17762, 'SA': 6248, 'located': 14218, 'shout': 17116, '440pm': 1127, 'UA4935': 7175, 'Pax': 5832, 'Dispatcher': 3314, 'IL': 4363, 'Network': 5453, 'Operations': 5629, 'Centerl': 2818, 'httpstcolio6oCpTEQ': 12203, 'you’re': 19422, 'harder': 11882, '747400s': 1553, 'TokyoNarita': 7003, '28th': 763, 'sitters': 17195, 'earlyon': 10576, 'Flew': 3781, 'Unitedgt': 7339, 'incorrectly': 13531, 'estimated': 10796, 'dep': 10137, 'trick': 18380, 'wellplayed': 19062, 'jokesonus': 13855, 'YEAR': 7667, 'VAN': 7379, 'GOGH': 3975, 'FANS': 3618, 'VISIT': 7388, 'EUROPE': 3428, 'httptcoe1EOfthgAJ': 12946, 'equally': 10762, 'rechecked': 16243, 'UNCvsDUKE': 7234, 'timed': 18162, '4hr': 1227, 'etihad': 10805, 'areyounew': 8267, 'no800number': 14959, 'feeltheheat': 11069, 'relevant': 16378, 'Ritz': 6202, '700': 1500, 'ramada': 16143, 'priceless': 15915, 'toddler': 18217, 'Ramada': 6078, 'kidnapped': 13915, 'HELL': 4144, 'fyi': 11518, 'siteapp': 17189, 'sellout': 16963, 'obsolete': 15126, 'Promises': 5977, 'boarddeplane': 8781, '285': 758, '50lbs': 1259, 'angrycustomer': 8137, 'unitedairlinessuck': 18596, 'JT': 4550, 'HeathrowAirport': 4223, 'customs': 9933, '13015': 246, 'customary': 9915, 'uniform': 18585, 'somewhere': 17365, 'irritating': 13727, 'UA1740': 7137, 'spends': 17442, 'beating': 8603, 'stranger': 17627, 'Randomactsofcorporategreed': 6082, 'hiI': 12002, 'ridiculousOr': 16622, 'refundPlease': 16324, 'wht': 19134, 'mr': 14770, 'appeared': 8216, 'err': 10771, 'travellers': 18353, '2xday': 832, 'loc': 14211, 'Ruth': 6245, 'rerouting': 16475, 'Punta': 5996, 'Cana': 2764, 'linked': 14165, 'rez': 16612, '630a': 1418, 'milage': 14592, 'stillwaiting': 17585, 'rushed': 16750, 'idnumber8569822': 13416, 'hopetogetanswersoon': 12100, 'handed': 11838, 'slip': 17253, 'paperampsaid': 15423, 'airportHave': 7995, 'medallion': 14501, 'ProbablyNot': 5963, 'abroad': 7762, 'recap': 16231, 'LIED': 4802, 'thinkdo': 18072, 'overseas': 15361, 'situationagain': 17201, 'goods': 11668, 'hotelstonight': 12133, 'StartingBloc': 6679, 'Monica': 5295, '8h': 1706, 'unitedfailsworsttripofmylife': 18602, 'UnitedFlyerHD': 7337, 'UnitedAirline': 7330, 'N26902': 5339, 'B787fans': 2282, 'httptcoaI0Yzwt8Za': 12877, 'GJ': 3967, '1101': 123, 'AnotherDisappointment': 2148, 'Ralph': 6077, 'Naders': 5416, 'letter': 14103, 'UALs': 7220, 'Leave': 4885, 'httptcoO0745APIau': 12673, 'treats': 18368, 'specifically': 17427, 'discouraging': 10327, '37d': 976, 'KOALAX': 4665, 'fresh': 11434, 'U😻😻😻': 7375, 'registered': 16341, '400ticket': 1046, 'Travelocity': 7033, '2of2': 822, 'selection': 16950, 'unaware': 18523, '4348': 1115, 'Value': 7410, 'thier': 18059, 'stopping': 17605, 'realized': 16205, 'in1st': 13479, 'foodnot': 11336, 'grab': 11686, 'bite': 8730, 'follows': 11333, 'threat': 18100, 'sue': 17714, 'couldn’t': 9766, 'belligerent': 8646, 'jerk': 13807, 'ranting': 16155, 'hoot': 12090, 'Aaron': 1980, 'Mission': 5272, 'accomplished': 7798, 'tellpurchase': 17950, 'Turkish': 7070, 'blanket': 8749, 'subpar': 17691, 'RunAround': 6238, 'whiskey': 19123, 'flightgotta': 11226, 'shortly': 17096, 'UA5029': 7178, 'RIC': 6039, 'UA507': 7180, 'UA423': 7163, 'batting': 8578, 'reward': 16609, 'August': 2232, 'blacked': 8740, 'clouds': 9394, 'RSW': 6056, 'twin': 18456, 'olds': 15189, 'boys': 8852, 'Lifesaver': 4907, 'oversorry': 15367, 'preparations': 15876, '1035': 70, '920': 1741, '1K2mm': 498, 'cancun': 9068, 'breach': 8869, 'headache': 11916, 'corrected': 9744, 'beought': 8659, 'unexpactable': 18565, 'ecom': 10603, 'procedures': 15958, 'counters': 9773, 'coworker': 9807, 'conflict': 9616, 'erased': 10768, 'parents': 15431, '7PM': 1598, '11PM': 176, 'SlapInTheFace': 6573, 'christinebpc': 9314, 'versions': 18810, 'Go': 4059, 'shin': 17067, 'splits': 17451, 'SPRINTING': 6346, 'income': 13512, 'dca': 10015, 'exams': 10849, 'DCAEWR': 3089, '4372': 1120, '1242': 211, 'FU': 3671, 'despicable': 10186, 'Sydney': 6763, 'Easiest': 3463, 'woo': 19235, 'pref': 15853, 'Pac': 5782, 'hardworking': 11886, 'missin': 14670, 'Classy': 2905, 'VUSAAustralia': 7393, 'Aussie': 2234, 'cowgirl': 9806, 'lookin': 14255, 'cowboy': 9805, 'Take': 6856, 'Fort': 3891, 'Worth': 7638, 'Estelle': 3550, '820pm': 1639, 'UA1416': 7115, 'failagain': 10971, 'thirty': 18077, 'reunite': 16589, 'USAs': 7279, 'fashion': 11022, 'capital': 9088, 'unitedVUSA': 18592, 'httptcorBn7StUij1': 13189, 'distinguish': 10383, 'quantas': 16093, 'Auckland': 2228, 'CustomerService': 3058, 'professor': 15973, 'Skiplagged': 6564, 'startups': 17526, 'reinstate': 16356, 'UnitedFail': 7335, 'negative': 14879, 'amateurs': 8071, 'AWESOMEbright': 1974, 'vibrant': 18818, 'habitrails': 11815, 'worries': 19271, 'cushions': 9910, 'sprinted': 17477, 'Coughed': 3010, 'lung': 14343, 'Tnx': 6994, 'loganairports': 14230, 'amypoehler': 8118, 'Oscar': 5650, 'bafore': 8506, '53': 1298, 'simplify': 17167, 'communications': 9516, 'LHRT2': 4799, 'remotely': 16405, 'YYZUA70435': 7681, 'shenanigans': 17061, '72': 1520, 'invite': 13708, 'Fallow': 3700, 'HelacoHLC': 4228, 'activitiesPrevention': 7839, 'Programs': 5974, 'Health': 4219, 'CondomRito': 2965, 'FamilyWe': 3706, '501C3Thanks': 1246, 'sticking': 17574, 'AABA': 1868, 'BritishAirways': 2562, 'repurchased': 16456, '1535': 317, 'UA4727': 7169, 'Turrible': 7074, 'unaccomidating': 18511, '280': 757, '1640': 373, 'N33289': 5342, 'FlyTPA': 3865, 'httptcoRvCDA2nnme': 12736, 'careyon': 9106, 'Leah': 4879, 'anchorage': 8122, 'protected': 16021, 'Kerry': 4702, 'UA768': 7203, 'ebokeers': 10599, 'informed': 13583, 'themon': 18033, 'guaranteed': 11781, '915': 1736, 'CDT': 2661, 'tickethotel': 18136, 'delayedover': 10090, 'Dominican': 3335, 'Apologize': 2167, 'neither': 14889, 'airside': 8002, 'ATLHOU': 1955, '165': 377, '574': 1346, 'math': 14452, 'fairbanks': 10983, 'httptcoFjkvQMbmaS': 12511, 'UA1641': 7133, 'EWRMCO': 3441, 'aren’t': 8265, 'rudest': 16725, '😕': 19653, 'americanair': 8086, 'reupgrade': 16592, 'overheads': 15352, 'ItsAaronChriz': 4501, 'Problems”': 5967, 'Alright': 2088, 'Specifically': 6638, 'sortawe': 17382, 'Aquadilla': 2186, '547': 1316, 'httptco8FMZZOltv9': 12372, 'UA1564': 7127, 'UA4232': 7164, 'parryaftab': 15440, 'Travel': 7024, 'Certificate': 2824, 'withheld': 19197, 'httptcoKvfwajVViD': 12609, 'PTY': 5773, 'UNHAPPY': 7236, 'separate': 16981, 'punished': 16061, 'metro': 14565, 'Honestly': 4289, 'laugh': 14020, 'accrue': 7806, 'cosmetic': 9753, 'understandable': 18548, 'HoustonBogota': 4315, 'energy': 10710, 'homefamily': 12064, 'weigh': 19046, 'scale': 16835, 'conveyor': 9721, 'reported': 16443, 'Istanbul': 4494, 'Understandable': 7319, 'mexico': 14568, 'tkts': 18193, '21115': 587, 'flightTold': 11220, 'nonexistent': 15003, '12th': 238, 'FebruaryI': 3728, 'LLY144': 4807, 'Stacey': 6663, 'detailsno': 10203, 'began': 8626, 'POTUS': 5751, 'DVR': 3170, 'insufficient': 13642, 'motion': 14755, 'httptcom81rV0blxs': 13080, 'httptcoLoLuWfCi11': 12624, 'determined': 10211, 'drinking': 10512, 'overpriced': 15359, 'sub': 17685, 'par': 15426, 'overflowed': 15349, 'toilet': 18222, 'plumber': 15724, 'luxurious': 14352, 'explains': 10925, '618': 1405, '607': 1392, 'string': 17648, 'includes': 13510, 'Williams': 7594, 'Tough': 7019, 'edit': 10609, 'observation': 15122, 'reads': 16196, 'Answer': 2149, 'nothingand': 15055, 'thingWill': 18064, 'ypu': 19427, '787s': 1586, 'qlyss8': 16085, 'JT”': 4551, 'UA304': 7147, '10A': 99, '10F': 102, 'creative': 9839, 'noodles': 15016, 'peas': 15519, 'zukes': 19455, 'Nonvegan': 5510, 'yogurt': 19394, 'stillmakingmepoorthough': 17582, 'Hughes': 4328, 'trains': 18313, 'automobiles': 8404, 'beneficial': 8654, 'longstanding': 14250, 'consumers': 9666, 'blah': 8742, 'shoulda': 17105, 'burningman': 8971, '6PM': 1480, 'Board': 2501, 'Meeting': 5205, 'FlightledThor': 3823, 'Midland': 5242, 'em': 10651, 'motto': 14758, 'idonotcare': 13418, 'doc': 10418, 'Give': 4043, 'UA3466': 7153, 'Fantastic': 3708, 'ua22': 18482, 'packed': 15392, 'pressed': 15895, 'staffer': 17497, 'Sfo': 6504, '9year': 1788, 'cabins': 9022, 'en': 10697, 'churchmouse': 9319, 'grown': 11752, 'tears': 17929, 'sailed': 16777, 'UA6002': 7191, 'MLIgtDEN': 5065, 'UA3530': 7154, 'DENgtYEG': 3115, 'checkbaggage': 9251, 'FAY': 3623, 'RDUreimburse': 6024, 'heathrowNewark': 11940, 'Hartford': 4201, 'yards': 19362, 'retracted': 16574, 'reduced': 16293, 'certificates': 9183, 'Million': 5259, 'Miler': 5255, 'amateurish': 8070, 'waySilverAirwsys': 18986, 'affiliated': 7899, 'mostly': 14748, 'LH7631': 4794, '21215': 594, 'Margo': 5149, 'Houstons': 4318, 'Intercontinental': 4466, 'WestJet': 7554, 'cats': 9143, '1hour': 508, 'reduction': 16294, '737900s': 1541, 'Forget': 3887, 'exhorbitantfees': 10884, 'apparent': 8212, 'outpost': 15320, '1M': 499, 'incurring': 13541, '5431': 1313, 'UA1297': 7114, 'customerexperience': 9919, 'approved': 8246, 'ShulemStern': 6540, 'Raise': 6075, 'dispute': 10362, 'cc': 9157, 'provider': 16031, 'movies': 14768, 'increasing': 13534, 'FtLauderdaleSun': 3935, 'orlandosentinel': 15286, 'httptco1AtEafnC6R': 12239, 'pleasent': 15708, 'mke': 14691, 'communicating': 9510, 'DJ': 3134, 'scratching': 16877, 'chase': 9234, 'referral': 16304, 'bonus': 8797, '3586': 941, 'loud': 14285, '70s': 1509, 'inner': 13601, 'lowstandards': 14315, 'httptcom67WnBglXQ': 13078, 'Boeing': 2505, 'finals': 11123, 'Heathrowairport': 4224, 'winters': 19184, 'Avgeek': 2246, 'httptcoowMaXOyEhZ': 13144, 'blown': 8772, 'httptcoJOrEScfb4x': 12584, 'warm': 18954, 'annnnddddd': 8146, 'shuffle': 17132, 'nicest': 14935, '101': 48, 'Multiple': 5327, 'delaykilling': 10098, 'trade': 18304, 'sunkist': 17740, 'webbernaturals': 19025, 'httptco1L9sCWPhph': 12242, 'Rapids': 6086, 'bypass': 9008, 'httptcoCju102xP2k': 12454, 'locally': 14215, 'confuses': 9621, 'content': 9682, '6in': 1487, 'screens': 16884, 'technology': 17934, 'mailing': 14374, 'surliness': 17784, 'coworkers': 9808, 'speechless': 17433, 'monopoly': 14722, '46': 1176, 'doesntfeellikestatusyet': 10425, 'inflexible': 13573, 'LE2V9D': 4775, 'pnr': 15731, 'numbered': 15099, 'iatanbul': 13394, 'suggests': 17726, 'cert': 9178, 'odd': 15139, 'structure': 17658, 'dramatically': 10496, 'diminishes': 10273, 'certs': 9184, 'ClearVision': 2910, 'TV4U': 6836, 'httptcoQ9bYn9pCTf': 12706, 'Designed': 3270, 'deter': 10208, 'storage': 17607, 'latter': 14018, 'package': 15390, 'httptcoLug4MFVWsA': 12625, 'preferences': 15857, 'ConF': 2963, 'ILC0HP': 4364, 'ridic': 16619, 'Atleast': 2221, 'Weird': 7542, 'omaha': 15193, 'Training': 7023, 'bitch': 8726, 'Send': 6485, 'paycheck': 15503, 'thingUnited': 18063, 'crackersnabisco': 9814, 'Pepperidge': 5848, 'Farms': 3716, 'httpstco72RMpkOGwu': 12174, '2daysofhell': 795, 'helpless': 11974, 'THANKS': 6786, '65': 1440, 'knees': 13944, 'cbcallinaday': 9155, 'CBCNews': 2651, 'hoped': 12093, 'ExitRow': 3586, 'shades': 17035, 'windows': 19169, 'RJ145s': 6044, 'lta': 14325, 'httptcoaOEaeszDLX': 12881, 'wrap': 19312, 'amounts': 8104, 'apologized': 8202, 'sobbing': 17332, 'UAs': 7221, 'actions': 7833, 'httpstco901HLNgBtX': 12175, 'answerthis': 8171, 'dreadful': 10501, 'pretend': 15899, 'whacked': 19086, 'verifies': 18805, 'initial': 13593, 'comments': 9497, 'harris': 11887, 'circulation': 9328, 'upgd': 18681, 'premiers': 15871, 'Ft': 3933, 'Lauderdale': 4871, 'alerts': 8020, 'MKWLKR': 5064, 'ansleyhutson': 8162, 'emilydonneIIy': 10673, '3xweekly': 1033, 'B737900': 2277, 'NewOrleans': 5464, '9MAY5SEP': 1776, 'httptcoAxpn28xiQB': 12420, 'Breaks': 2551, 'Guitars': 4127, 'lt': 14322, 'LMAO': 4809, '9148445695': 1735, 'regard': 16335, 'expressing': 10933, 'UA6465': 7200, 'Otherwise': 5657, 'lostyou': 14280, 'consoled': 9658, 'died': 10246, '63446373': 1423, 'SfoDfw': 6505, '1576': 333, 'SFOORD': 6294, 'DisappointedUNITED': 3299, 'feed': 11060, 'CHILDREN': 2676, 'Appalling': 2170, 'ESP': 3420, 'waspaid': 18967, 'Miriam': 5267, 'UA6255': 7195, 'winnipeg': 19180, 'UA1059': 7097, 'tightconnection': 18148, 'ColtsMissingBags': 2937, 'lightyears': 14140, 'precious': 15842, 'frightening': 11447, '1627': 369, 'Montego': 5299, '1person': 518, 'breathe': 8881, 'namesDallas': 14831, 'LOT': 4822, 'borderline': 8821, 'letsworktogether': 14102, 'dope': 10460, '👌': 19559, 'locked': 14224, '15th': 351, 'troubleshoot': 18400, 'ins': 13613, 'earth': 10585, 'staffcust': 17495, 'boise': 8793, 'LGAORD': 4787, '711': 1512, 'Argument': 2191, 'unempathetic': 18562, 'fulldont': 11491, 'pri': 15912, 'Active': 1999, 'Military': 5258, 'Uniform': 7327, 'OPSEC': 5560, 'leisure': 14084, 'Masters': 5175, 'SMF': 6325, 'shannon': 17050, 'lowest': 14314, 'companyI': 9527, '4411': 1129, 'fortunately': 11385, 'volumes': 18861, 'httptcopKfI9bTtzf': 13157, 'aircargo': 7970, 'httptcoBBj6kMTYUl': 12428, 'BCN': 2302, 'accepted': 7780, 'forms': 11380, 'ltltltltlt': 14327, 'shoddy': 17088, 'whatsoever': 19095, 'unitedairline': 18594, 'ltltltltltlt': 14328, 'correspondence': 9748, '2600': 730, 'Jan': 4568, '7th': 1608, 'laurasbrown5': 14028, 'Clearly': 2911, 'lives': 14189, 'stone': 17598, 'tablets': 17859, 'skateboards': 17211, 'PGATOUR': 5698, 'court': 9793, 'anticonsumer': 8175, 'hashtag': 11889, 'F': 3602, 'replying': 16439, '3thparty': 1029, 'ITproblems': 4388, 'warnings': 18961, 'Coast': 2926, 'respects': 16518, 'dear': 10031, 'pretending': 15900, 'welfare': 19058, 'previously': 15911, 'Odd': 5590, 'associated': 8332, 'Checking': 2857, 'tracing': 18299, 'turquoise': 18441, 'UA1121': 7102, 'UPC': 7241, 'Vacation': 7402, 'swimsuits': 17826, 'competitively': 9551, 'priced': 15914, '179': 423, '324': 887, 'Identical': 4403, 'honored': 12080, 'hits': 12036, 'httptco44ZHmfDIW6': 12291, 'unitedwithivy': 18609, 'Since': 6552, 'falseadvertising': 10999, 'UA1127': 7103, 'tons': 18253, 'fields': 11099, 'Expected': 3588, 'addr': 7853, 'signin': 17153, 'msp': 14776, 'dxb': 10560, 'hearts': 11935, '512': 1269, 'sime': 17163, 'flashlight': 11174, 'noapology': 14962, 'restructured': 16555, 'brotha': 8917, 'multiplier': 14792, 'equal': 10760, 'dang': 9977, 'teleportation': 17945, 'Ua514': 7296, '45mins': 1174, 'Theyre': 6946, 'payed': 15504, 'DIRECTV': 3128, 'httptcoHQDTK6aTue': 12546, 'httptcot3Gnk2N7LD': 13213, 'RTBgtIAH': 6060, 'headaches': 11917, 'neighbors': 14888, 'smoking': 17287, 'e': 10563, 'cigarettes': 9321, 'Contact': 2984, 'federal': 11056, 'prohibits': 15989, 'bagyet': 8528, 'stonewalled': 17599, 'ua3710': 18486, 'passing': 15471, '3710': 961, 'colliding': 9459, 'fella': 11076, 'pacific': 15387, 'Messaged': 5226, 'yup': 19436, 'often5': 15164, '644': 1432, 'Golf': 4075, 'presented': 15890, 'couldve': 9767, 'Holiday': 4281, 'wontflyagainwithyou': 19233, 'staffers': 17498, 'Forced': 3884, 'clubs': 9399, 'faults': 11034, '1114': 130, 'isoLate': 13737, 'icy': 13402, 'mtn': 14780, 'Hemispheres': 4246, 'magazine': 14368, 'httptcoVrQDpqEPFW': 12804, 'ritacomo': 16641, 'understandably': 18549, 'edgy': 10607, 'chipper': 9293, 'ser': 16986, 'chatting': 9240, 'yelled': 19375, 'Put': 6001, 'stdby': 17549, 'Diff': 3291, 'rude😢': 16727, 'Sivi': 6561, 'Stewart': 6694, 'amid': 8097, 'humiliating': 13355, 'serves': 16996, 'benefit': 8655, '1213EWRLAX': 190, 'UA1151': 7106, 'seatarmrest': 16905, 'fullFA': 11490, 'go…': 11684, 'internal': 13676, 'httptcoZksX79itdN': 12870, 'contracts': 9700, '374': 965, 'Fam': 3703, 'DadBoner': 3174, 'boldflavors': 8795, 'We’re': 7560, 'bringing': 8901, 'Bourbon': 2534, 'ft': 11471, 'bold': 8794, 'flavors': 11178, 'ingredients': 13591, 'dining': 10276, 'csfail': 9884, 'Milageplus': 5251, 'explorer': 10929, 'shady': 17037, 'holding': 12050, 'flyunited': 11314, 'Hours': 4311, 'phonehung': 15591, 'onall': 15199, 'greatservice': 11721, 'undetermined': 18556, 'Chicagos': 2871, 'hometown': 12068, 'SaveTheDiagonals': 6436, 'FlyQuiet': 3861, 'ORDNoise': 5568, '85681': 1667, 'Cyndi': 3068, 'Troy': 7045, 'superben': 17749, 'Excellent': 3573, 'RNO': 6047, '10min': 109, '2yr': 836, 'street': 17636, '3875': 991, 'staying': 17547, 'EARLY': 3395, 'Refused': 6125, 'apologize': 8201, 'glance': 11618, 'starboard': 17516, 'reinstating': 16358, 'kosher': 13957, '757300': 1563, 'LAXWhen': 4763, 'planesPlane': 15667, 'Screenslousy': 6456, 'UnitedFirst': 7336, 'upfare': 18680, 'Bringing': 2561, 'httpstcozgOQoxjBQY': 12217, 'connectors': 9642, 'rantyou': 16156, 'luggagethen': 14338, 'moments': 14706, 'eta': 10797, 'Things': 6948, 'considerably': 9649, 'wise': 19192, 'Useless': 7367, 'cheeze': 9270, 'Functionality': 3942, 'satisfaction': 16806, 'Reimburse': 6131, 'Unbelievable': 7311, 'hypocrisy': 13379, 'BusinessFirst': 2606, '25000': 702, 'jilted': 13838, 'moneyelsewhere': 14716, 'memphis': 14529, 'Landed': 4860, 'Customers': 3061, 'tryagain': 18418, 'EZEE': 3456, 'born': 8822, 'India': 4437, 'Wilson': 7599, 'httptcotvk0PyxQv5': 13239, 'UA3787': 7160, 'PVDIAD': 5778, 'ooh': 15233, '755': 1561, 'Purchased': 5998, 'amnt': 8100, 'nexus': 14929, 'overcarry': 15341, 'replaced': 16432, 'cheated': 9248, '0162431184663': 7, 'rudeness': 16723, 'indeed': 13543, 'httptcoFuCHZRZjg5': 12513, 'Supervisor': 6738, 'igiveup': 13422, 'signup': 17157, 'captive': 9092, 'httptconYVV1X3d67': 13111, 'NoFun': 5497, 'Jane': 4570, 'Disgusted': 3304, 'FRIENDLY': 3664, 'preselect': 15887, 'SFOgtYYZ': 6300, 'httptcoaZltJhf7lv': 12884, 'forelock': 11356, 'Hypocrisy': 4342, 'COMPLETELY': 2709, 'CONTROL': 2713, 'AlaskaAir': 2066, 'convinced': 9723, 'bf': 8689, 'vary': 18784, '03': 15, 'bad👎👎': 8504, 'elingeniero': 10643, 'ITO': 4387, 'teamAGAIN': 17923, 'highlight': 12013, 'Nexus': 5478, 'Serious': 6493, 'firing': 11141, 'loaned': 14207, 'httptcobT37KyrByJ': 12899, 'Classic': 2904, 'Elizabeth': 3493, 'qualifies': 16090, 'UA3364': 7148, 'whyany': 19137, 'input': 13607, 'Yesterday': 7696, 'retweet': 16585, 'Paid': 5788, 'thousands': 18097, 'doublestandards': 10467, 'disappear': 10295, '40mins': 1067, '877': 1677, 'amsterdam': 8115, '02272015': 13, '737300': 1538, '253': 709, 'Heading': 4216, 'disastertravelingwithsmallkids': 10309, 'sendingposting': 16970, 'surrounding': 17791, 'ashamed': 8303, 'Hidden': 4257, 'Incoming': 4427, 'jetbridge': 13826, 'drivermissed': 10519, 'Ladies': 4850, 'gents': 11564, 'passenegers': 15462, 'Allright': 2083, 'technically': 17933, 'frankpostsecretcom': 11407, 'UA1159': 7108, 'RMOUG15': 6046, 'recheduled': 16244, 'decency': 10039, 'carerespond': 9104, 'closings': 9388, 'rewards': 16610, 'birthdays': 8721, 'fiancé': 11093, 'httptcouayWrr45as': 13250, 'resending': 16492, '0214': 9, 'Disloyal': 3306, 'Workers': 7626, 'httptco0cevY3P42b': 12229, 'HuffPostBiz': 4325, '10x9x17': 117, '20x157x87': 578, 'taller': 17891, 'Little': 4926, 'Rock': 6219, 'iAd': 13380, 'speedy': 17436, 'figured': 11104, '😈': 19626, 'simply': 17168, 'debating': 10034, 'firm': 11142, 'Despite': 3275, 'protect': 16020, 'holy': 12059, 'batman': 8575, 'Speeds': 6640, 'insanely': 13615, 'upsellladen': 18698, 'MrAndyEp': 5319, 'Creative': 3031, '4487': 1150, 'MAJOR': 5012, 'SLOW': 6322, 'ground😡': 11746, 'philly': 15577, 'albeit': 8015, 'OC': 5545, 'w40': 18890, 'toiletries': 18223, 'httptcopZAl4wtrEZ': 13162, '86': 1671, 'CLEANED': 2685, 'tissues': 18187, 'everywhere': 10832, 'programhorrible': 15983, 'customersyou': 9931, 'wantVirginAmerica': 18947, 'asks': 8310, 'safealone': 16766, '9h': 1782, 'httptcoU390cZpLHl': 12770, '3359': 905, 'offers': 15152, 'buytransfer': 8999, 'milesThe': 14602, 'httptcoZZPs5ywVE2': 12867, 'Supposedly': 6741, 'nonetheless': 15001, 'Yay': 7684, 'entirely': 10745, 'httptcoIVGpZSjtkW': 12568, '8273993': 1643, 'httptco6tz6imqZlG': 12353, 'vouchercompensation': 18870, '4567': 1166, 'audition': 8388, 'ferry': 11083, 'Quiche': 6013, 'Tandoori': 6866, 'entrees': 10749, 'accompaniments': 7795, 'equipped': 10766, 'wandered': 18943, 'txting': 18468, 'Pathetic': 5822, 'kp': 13958, 'luckily': 14331, 'Inbox': 4419, 'junkspam': 13874, 'refunds': 16328, 'success': 17702, 'Counter': 3014, 'Pittsburg': 5886, 'honoring': 12081, 'Media': 5200, 'Rate': 6087, 'assignments': 8324, 'untrained': 18662, 'crossing': 9868, 'boat': 8786, 'whispering': 19125, 'pointing': 15741, 'bitty': 8732, 'FlightMarch': 3795, 'acquire': 7825, 'distance': 10381, 'functionality': 11501, 'httptco5IMDckODfx': 12319, 'brokeni': 8912, 'NYNJairports': 5411, 'bizarre': 8734, 'httptcoHlm2Oks6xl': 12553, 'Nearly': 5444, '48': 1199, '1591': 341, 'outage': 15304, '1618': 364, 'pricing': 15920, 'userperceived': 18744, 'bandwidth': 8546, 'Flightncy': 3832, 'GoGo': 4060, 'hubs': 13346, 'outdated': 15308, 'thankful': 17999, 'Fab': 3687, 'Myers': 5335, 'mothers': 14754, 'phlord': 15583, 'Blegh': 2487, 'braved': 8866, 'Miserable': 5268, 'shipping': 17071, 'Febs': 3730, 'edition': 10610, 'dime': 10271, 'headphonesbut': 11923, 'kid': 13913, 'Confirmation': 2971, 'NJV4BP': 5380, 'httptco38OTLzAK5d': 12275, 'Brandi': 2542, 'Zabsonre': 7724, 'delight': 10111, 'ups': 18697, 'httptcoTK3aOpdtSQ': 12757, 'Durango': 3388, 'Farmington': 3715, 'hitting': 12037, 'slopes': 17259, 'UA5025': 7177, '5237': 1289, 'Stand': 6670, 'rajuchinthala': 16141, 'DRAMATICALLY': 3159, 'feck': 11054, 'rolling': 16684, 'improvements': 13474, 'Meantime': 5196, 'FlyANAofficial': 3851, 'transpacific': 18329, 'Step': 6690, 'Charge': 2841, 'survive': 17796, 'selfinterest': 16958, 'casleah': 9131, 'Fly': 3850, 'Skies': 6563, 'jsumiyasu': 13865, 'gist': 11609, 'remind': 16398, 'indicating': 13547, 'aback': 7746, 'squarely': 17481, 'shoulders': 17107, 'cld': 9356, 'disorganized': 10351, 'stays': 17548, 'Sigh': 6543, 'timeNot': 18159, 'HAPPY': 4137, 'firstclass': 11145, 'cockup': 9436, 'httptcooh7CFv7DHR': 13140, 'swag': 17806, 'ijustwanttosleep': 13432, 'proficient': 15975, '29115': 766, '10215': 59, 'IAHHNL': 4347, 'reactive': 16189, 'proactive': 15942, 'juice': 13867, 'GetPhilz': 4033, 'httptcoSg7IQqFVsO': 12747, 'mot': 14749, 'incl': 13504, 'clusterfucks': 9406, 'overheard': 15353, 'Power': 5932, 'MOAR': 5070, 'Insufficient': 4460, 'RoadWarrior': 6206, 'THRILLED': 6793, 'dropping': 10528, 'bully': 8956, 'mentality': 14534, 'fostering': 11390, 'inspiration': 13624, 'greater': 11717, 'EmployeeRelations': 3512, '757s': 1564, 'btwn': 8934, 'ports': 15783, 'TORTURE': 6809, 'Broken': 2566, 'hopeless': 12097, 'glasgow': 11619, 'Apple': 2175, 'crâpe': 9882, 'Live': 4927, 'UA1207': 7109, 'biscuits': 8723, 'httptcogZ9GqDT7Jj': 12986, 'httptcoxMAQcucWZl': 13308, 'sentimental': 16979, 'heartbroken': 11932, 'MP': 5074, 'flightsairports': 11236, 'BWIEWRMCO': 2376, 'Connect': 2975, 'nicer': 14934, 'connetion': 9644, 'wanting': 18950, '1am': 501, 'phx': 15603, 'teaching': 17921, 'research': 16487, 'budget': 8942, 'httptcoQll48r57ep': 12718, 'loooooong': 14259, '2053': 556, 'fr152015': 11397, 'SR': 6347, '256746438028': 714, 'servicecare': 17000, 'prompted': 16006, 'prev': 15904, 'Alone': 2086, 'pregnant': 15863, 'Price': 5951, 'meantime': 14486, 'Glassdoors': 4051, 'Places': 5888, 'Work': 7624, 'snagging': 17306, 'notsurprising': 15077, 'LUVthem': 4841, 'leverage': 14109, 'Meagan': 5193, 'Fouty': 3898, 'Brancato': 2538, 'fl2771': 11170, 'wkids': 19206, 'Jacksonville': 4559, 'parentsonboard': 15432, 'httptcoFx9BIJlxAt': 12516, 'Ding': 3295, 'chromeFirefox': 9316, 'swell': 17825, 'MidwayChicago': 5246, '8thApril': 1713, 'FlyPBI': 3860, 'Logically': 4942, 'drove': 10530, 'sweetheart': 17823, 'AltonBrownLive': 2094, 'SOhappy': 6341, 'unfollow': 18571, '😡😡😡😡😤😤😤': 19669, '4649': 1185, 'USED': 7283, 'Taxi': 6875, 'Spent': 6642, 'Sweetheart': 6754, 'FlyFrontier': 3856, 'scramble': 16876, 'auction': 8385, 'PostMasters': 5927, 'Invitational': 4477, 'httptcomRfBjtePef': 13092, 'processing': 15964, 'Laguardia': 4854, '1999': 490, '2011': 540, 'World': 7629, 'Finals': 3755, 'throwback': 18114, 'bestflightever': 8668, 'FFL': 3631, 'heavenlychc9': 11942, 'cocktailor': 9434, '9NEWS': 1777, 'flyaway': 11291, '9NEWSBusiness': 1778, 'httptcoo3WlaInImY': 13124, 'Hell': 4231, 'facepalm': 10964, 'httptco7poFSXOjSY': 12365, 'approvals': 8244, '5hours': 1368, 'De': 3216, 'Boarded': 2502, 'onlinewas': 15224, 'de': 10017, 'perfectly': 15540, 'Fml': 3873, 'Teyana': 6903, 'Taylor': 6876, 'Performing': 5852, 'MedusaFridays': 5202, 'Till11': 6977, 'httptcoqwFMoQ0dQl': 13184, 'httptcokbb0B5FxMK': 13045, 'TheMenOfBusiness': 6933, 'vacay': 18767, 'playa': 15688, 'del': 10078, 'Carmen': 2791, 'expiration': 10916, 'SMiles1307': 6330, '530': 1299, 'Birmingham': 2472, 'Christine': 2881, 'httptco1xzrK66wVQ': 12250, 'mx': 14807, 'dignity': 10266, 'Redeempoints': 6118, 'packages': 15391, 'magically': 14370, 'baitandswitch': 8531, 'callwhats': 9053, '225': 635, 'IDs': 4358, 'Brutal': 2577, '2373': 667, 'CHIBUF': 2674, 'barelyexpired': 8558, 'RapidRewards': 6085, 'Rewards': 6180, 'Lasttweetaboutthis': 4869, 'puerto': 16048, 'Vallarta': 7408, 'groupA': 11748, 'south': 17398, 'west': 19071, 'honey': 12076, 'checks': 9264, 'midway': 14587, 'portal': 15778, 'httptcohUcLXluV5h': 13001, 'httptcoO4ZR27Qpcr': 12674, 'solid': 17346, 'length': 14087, 'reverted': 16599, '5minute': 1374, 'SWA': 6376, 'Flightsdelays': 3840, 'rolemodel': 16677, 'finger': 11135, 'Barzegar': 2415, 'tourists': 18286, 'euros': 10807, 'tent': 17964, 'village': 18827, 'runs': 16746, 'httptcoigSVzvrbbN': 13021, '32742': 892, 'promotion': 16002, 'Error': 3545, 'Chantilly': 2836, 'France': 3902, 'agovacationfail': 7943, 'frozenwater': 11463, 'gettingimpatient': 11586, 'theycouldatleastofferfreebooze': 18050, 'tvs': 18444, 'Carol': 2792, 'Thrower': 6961, 'Venetia': 7419, 'Crook': 3038, '210': 582, 'Mother': 5313, '1614': 363, 'oyu': 15382, 'Alist': 2076, 'IVR': 4389, 'proceed': 15959, 'strives': 17652, 'Centric': 2820, 'ANAmarketers': 1933, 'INSANE': 4378, '1625': 368, 'RR': 6055, 'Marriott': 5161, 'checkinout': 9259, 'SpiritAirlines': 6645, 'smalls': 17275, 'traditionally': 18306, 'sledge': 17237, 'hammer': 11834, 'scalpel': 16836, 'data': 9987, 'science': 16868, 'Centricity': 2821, 'ANAMarketers': 1932, 'worstcustomerservice': 19282, 'Americas': 2116, 'largest': 14007, 'Bible': 2461, 'VIPLiveintheVieyard': 7386, 'intuit': 13695, 'jhamilton2007': 13836, 'careers': 9102, 'intuitlife': 13696, 'leanin': 14053, 'httptco2qJbCv5jzq': 12270, 'southwestairlines': 17404, 'resource': 16513, 'delaysCancelled': 10102, '❄️': 19521, 'Switching': 6761, 'reboarding': 16221, 'A49': 1805, 'List': 4921, 'KTA': 4671, 'VIP': 7385, 'Vineyard': 7437, 'Oscarworthy': 5655, 'entrance': 10747, 'httptco10tmtHVFDC': 12234, 'affordable': 7902, 'happycamper': 11873, 'EllaMae': 3496, 'PHLAirport': 5704, '2155': 603, 'E11': 3390, 'penguin': 15529, 'ALS': 1916, 'httptcom1yyWAFkFI': 13076, 'KevinSwan': 4704, 'ALSTDI': 1917, 'ALifeStory': 1921, 'smoooothest': 17288, 'SouthwestSmoothie': 6624, 'httptcoVr9k180LaI': 12803, 'Charleston': 2844, '750pm': 1558, 'stepup': 17567, 'makeitright': 14385, 'wewillsee': 19080, 'Data': 3202, 'throughout': 18111, 'httptcoaaU9MKA6Zy': 12885, 'SOL': 6333, 'shifts': 17066, 'raps': 16160, '3500pts': 930, 'PartnerRewards': 5807, 'Anything': 2160, 'atleast': 8351, 'openin': 15240, 'tip': 18179, 'evolved': 10837, 'httptcoforNpF69Ky': 12973, '1700': 399, 'Whatever': 7564, 'heart': 11931, 'aimed': 7961, 'satisfy': 16810, 'nanosmattering': 14834, 'urgently': 18708, 'receipts': 16235, 'ETD': 3426, 'SWA1004': 6377, 'Appears': 2172, 'birth': 8718, 'Lynn': 5004, 'CB': 2650, 'httptco4RL0p5JChB': 12304, 'Filed': 3749, 'Received': 6109, '4471': 1147, 'sauna': 16813, 'nephew': 14891, 'Midlandflight': 5243, 'buisness': 8951, 'hail': 11828, 'Lindsey': 4915, 'schoolgirl': 16866, 'typing': 18473, 'clever': 9367, 'bagsflyfree': 8523, 'badpolicy': 8501, 'allows': 8041, 'cheatcustomers': 9247, 'principle': 15925, 'mugged': 14783, 'wrongiswrong': 19330, 'BadBussiness': 2387, 'Theft': 6941, 'httptco63zaQ2lt8f': 12335, 'Uncool': 7315, 'larger': 14005, 'httptcoh44uJ63CJG': 12992, 'BWIand': 2379, 'terribleno': 17975, 'arehis': 8262, 'gear': 11546, 'attempts': 8362, '4AM': 1218, 'southwestair': 17402, 'httptcokl9BAiMES6': 13048, 'POC': 5744, 'partnerships': 15454, 'nonprofit': 15005, 'organizations': 15276, 'husbands': 13374, 'filmjobnoequipment': 11114, 'nowarmclothes': 15083, 'MDW': 5031, 'TUS': 6833, 'lostbags': 14274, 'cistudios': 9330, 'youdidit': 19404, 'higgs': 12007, 'boson': 8825, 'discounts': 10326, 'nonprofits': 15007, 'donate': 10436, 'CUN': 2736, 'TheBachelor': 6926, 'wah': 18903, 'FloridaVacation': 3846, 'smoothflight': 17291, 'flutter': 11280, 'fullprice': 11494, '👏👏👏': 19576, 'BETHonors': 2310, 'Fact': 3692, 'Black': 2477, 'History': 4271, 'Month': 5302, 'Months': 5303, 'Honorable': 4291, 'Economic': 3474, 'Base': 2416, 'Corp': 3000, 'Future': 3946, 'cdn': 9159, 'towns': 18294, 'customerappreciation': 9917, 'gaincustomers': 11523, 'keepem2': 13894, 'peanut': 15512, 'allergy': 8029, '👍😊': 19567, 'lovedflyingwiththem': 14296, 'notanymore': 15039, '261093929756': 732, '336': 906, 'Lubbock': 4983, 'TMobile': 6803, 'combination': 9469, 'texting': 17989, '40000': 1041, 'crooked': 9864, 'shouldwearmasks': 17114, 'F8NEQM': 3609, 'rule': 16733, 'fell': 11075, 'AIRPORT': 1906, 'httptcoYNc2ZUt4zz': 12852, 'LUVSWA': 4838, 'httptcoelhxUV0Uj1': 12957, 'Lou': 4968, 'Ann': 2138, 'Phx': 5876, 'rocks': 16672, 'Ourguest': 5661, '“SouthwestAir': 19471, 'DestinationDragons': 3279, 'winners': 19178, 'httptcoAY1GIdcfa4': 12411, 'httptcoyC7V2s0iOd”': 13320, 'enrolled': 10728, 'Katie': 4687, 'C47': 2631, 'temp': 17954, 'httptco5tXU5tSFkJ': 12330, '206': 557, 'canthurtasking': 9078, 'Imaginedragons': 4411, 'sweepstakes': 17820, 'nutsaboutsouthwest': 15105, '👍👌': 19562, 'vinyl': 18831, 'brooding': 8916, 'httptcoX9BLwgWA68': 12830, 'monkey': 14721, 'mdw2mci': 14473, 'homeandreadyfornexttrip': 12063, 'httptco2xJvUn66ZZ': 12272, 'voice': 18855, 'satisfactorily': 16807, 'justsayin': 13878, 'sass': 16802, '😂': 19608, 'genuinely': 11566, 'comparable': 9529, 'shittydeal': 17079, 'TaylorLumsden': 6877, 'responsiveness': 16540, 'thevery': 18043, 'escaping': 10781, 'Internet': 4471, 'Maltese': 5130, '805': 1623, 'MDWFLL': 5032, 'capacity': 9087, 'mean…it': 14487, '😀': 19602, 'PHX': 5714, 'Wheels': 7567, 'professionals': 15972, 'improving': 13476, 'Runway': 6240, 'Girl': 4042, 'httptcoh46HT1Oz40': 12993, 'FuyukaiDesuYo': 3947, 'dragon': 10493, 'SHES': 6303, 'HUGEEEEE': 4175, 'FAN': 3617, 'evennotified': 10816, 'theflight': 18025, 'isdelayed': 13729, 'emailtextphone': 10660, 'callIf': 9036, 'wererunning': 19070, 'unreliable': 18644, 'closes': 9383, 'tests': 17984, 'chemistry': 9271, '222MDW': 628, '1687': 389, 'Melissa': 5213, 'Fast': 3717, 'albums': 8016, 'Accidents': 1989, 'fistfights': 11153, 'applications': 8225, 'Fall': 3699, 'positions': 15786, 'Apply': 2180, 'httpstcoGmL7ot3IMH': 12182, 'honesty': 12075, 'httptco9eueYxAwcv': 12392, 'briughy': 8905, 'ComClassic': 2941, 'AIF2015': 1904, 'agcommunity': 7921, 'Aprilmay': 2185, 'feature': 11051, 'Plants': 5894, 'Increase': 4432, 'Productivity': 5969, 'LuvSWA': 4999, 'healthbenefitsofplants': 11927, 'gardening': 11535, 'httptcoBVfAxDUBAQ': 12436, 'httptcoiQnVyFPg4P': 13018, 'Cuz': 3065, 'bae': 8505, 'Darrel': 3201, 'contest': 9685, 'entertain': 10739, 'lifting': 14133, 'spirits': 17447, 'C9': 2633, 'luvswa': 14348, 'strip': 17649, 'Stoked': 6699, 'httptcoToPqmVqnJp': 12763, 'proving': 16034, 'clues': 9403, 'MKT': 5063, 'whathappend': 19093, 'Devalued': 3281, 'httptcomDbDYomrs7': 13083, 'scavenger': 16847, 'hunt': 13364, 'detective': 10206, 'Insult': 4461, 'injury': 13598, 'MS': 5084, 'PreCheck': 5935, 'profile': 15976, 'sadie4406': 16762, 'httptcoMRAW3qDw4D': 12637, 'Downtown': 3356, 'kelsey': 13904, 'locals': 14216, 'parking': 15438, 'bellagio': 8645, 'Bellagio': 2444, 'Vinyl': 7438, 'httptcoYcCITaeP3S”': 12855, 'sports': 17464, 'httptcoX4tDY84dBH': 12828, 'destinationdragon': 10192, 'Dang': 3193, 'boo': 8799, 'booo': 8810, 'Warm': 7514, '3138': 872, 'givethemraises': 11613, 'crabby': 9811, 'EarlyBird': 3461, 'grrrrrr': 11754, 'Luv': 4995, 'Television': 6888, 'Commercials': 2947, 'NYCfeltthelove': 5405, 'netneutrality': 14900, 'prioritize': 15932, 'streaming': 17634, 'sites': 17191, 'Northern': 5521, 'httptconm4VNNF8Kb': 13115, 'httpstcoiItoJhUIKH': 12198, 'paradise': 15427, 'httptcoKDzQcZlpyR': 12595, 'Feeling': 3735, 'WIFI': 7475, '💪': 19599, 'flight2149': 11206, 'entertained': 10740, 'gin': 11603, 'tonic': 18246, 'toyingwithouremotions': 18295, 'apologizing': 8204, 'personally': 15562, 'waits': 18918, 'fox8news': 11395, 'KristiCapel': 4729, 'toughtomakeplans': 18283, 'gettingthirsty': 11588, 'Terry': 6899, 'hero': 11992, 'cellphone': 9167, '85832': 1670, '1150': 158, '1100': 121, '46mins': 1190, 'dice': 10235, 'Moms': 5290, 'signal': 17149, 'hooking': 12088, 'grateful': 11712, 'businesstrip': 8984, '127': 222, 'reflect': 16308, 'EST': 3422, 'HDsportsguy': 4142, 'Dos': 3347, 'Donts': 3341, 'Announcer': 2145, '651': 1444, 'Midway': 5245, 'httptcoSbA0ARicyq': 12743, '3075': 852, 'broad': 8907, 'yeah': 19367, 'Completely': 2959, 'Act': 1996, 'weatherreLate': 19020, 'stops': 17606, 'Flightedsent': 3811, 'notsatisfied': 15076, 'Georgia': 4023, 'dons': 10443, 'RI': 6038, 'lotbut': 14282, 'hopeful': 12094, 'motions': 14756, 'Ct': 3045, 'intercom': 13664, 'integration': 13653, 'preboards': 15836, 'station': 17536, 'N366SW': 5345, 'httptcoWQZZtIemX0': 12818, '9999999999': 1774, 'allgood': 8031, 'chg': 9275, 'onlineapp': 15221, 'DRIVE': 3161, 'wifes': 19150, 'RnCahill': 6204, 'ideserveareward': 13411, 'httptcol7hSnLgie2': 13054, 'rudely': 16721, 'partnering': 15451, 'Hilton': 4267, 'Hotels': 4306, 'GENIUS': 3960, 'flgt': 11192, 'purchaseerrorINVALIDLOYALTYMEMBERACCOUNTSTATUS': 16066, 'Antonio': 2156, 'marriage': 14433, 'scene': 16850, 'thanksare': 18007, '24hr': 696, '6amp8': 1482, 'dnt': 10413, 'sld': 17236, 'LukeWyckoff': 4992, '6176533040': 1404, 'matthewebel': 14456, 'coachGS': 9421, 'cheap1': 9242, 'Helloare': 4235, 'noon': 15017, '376': 971, 'antonio': 8177, '501C3': 1245, 'unveils': 18670, 'Ohio': 5603, 'httptcogrkBj7bxlk': 12991, 'B737700': 2276, 'Reagan': 6097, 'FtLauderdale': 3934, '8AUG': 1694, 'FtMyers': 3936, '2xdaily': 831, 'OrangeCounty': 5636, 'Columbus': 2940, 'OH': 5548, 'Oakland': 5584, 'BostonLogan': 2530, 'Password': 5817, 'spam': 17413, 'ClinicPolly': 2915, '8UXZJ2': 1702, 'TERRIBLE': 6782, 'SellMyPointsSoon': 6483, 'minno': 14622, 'body': 8789, 'downs': 10482, 'Starting': 6678, 'meat': 14492, 'punishedforflying': 16062, 'Fri': 3919, 'equip': 10764, 'flamethrowers': 11173, 'plow': 15718, 'httptco4uRzvBPJKO': 12313, '1028': 63, 'linking': 14167, 'FurryFiesta': 3945, 'tok': 18225, 'possession': 15788, 'httptcovUdWJm1lYB': 13279, 'airtran': 8004, 'Q4VNMB': 6006, 'emailcall': 10653, 'displays': 10358, 'pleaseeee': 15704, '😩😫😢': 19687, 'nakedmeetings': 14826, 'tuesday': 18431, 'fron': 11453, 'fran': 11402, 'march': 14423, 'banning': 8552, 'allergic': 8027, 'ignores': 13426, 'pnut': 15733, 'oil': 15172, 'dust': 10556, 'sighed': 17146, 'heavily': 11943, 'nelsjeff': 14890, 'interaction': 13662, 'ing': 13590, 'interest': 13665, 'Lin': 4913, 'series': 16988, 'MDWSAN': 5033, 'websites': 19029, 'mission': 14674, 'Lasalle': 4865, 'Bos': 2522, 'WEDNESDAY': 7470, 'httptcov4ZVUGMkJw': 13261, 'kkwhb': 13939, 'B46': 2274, 'arrangements': 8284, 'Arizona': 2192, '184': 451, 'httptcoFinq5Fh6ue': 12510, 'NotHappy': 5524, 'directional': 10286, 'dislexia': 10346, 'Trouble': 7044, 'triple': 18390, 'looped': 14261, '3744': 966, 'N284WN': 5340, 'enroute': 10729, 'PHXSkyHarbor': 5716, 'httptcoBd5tvr3Gcy': 12438, 'GIS2015': 3965, 'soaking': 17330, 'httptcodzeGAPfqw1': 12943, 'Scavenger': 6448, 'Hunt': 4334, 'READY': 6025, 'httptcovHgkiTzSaw': 13269, 'whatd': 19090, 'flightplease': 11232, 'EWK': 3436, 'pseudovoucher': 16036, 'daysinn': 10008, 'existence': 10886, 'lease': 14059, 'empathetic': 10678, 'Monika': 5296, 'MWA': 5097, 'ambivalence': 8079, 'Patricia': 5827, 'B11': 2266, 'MDW…': 5035, 'httptcoMmCWkqp2gy': 12641, 'ranging': 16152, 'jparkermastin': 13864, 'passive': 15472, 'rethinking': 16568, 'stroller': 17653, 'Calling': 2760, 'Preferred': 5942, '💔😪': 19585, 'nbd': 14855, 'workaround': 19245, 'Muchas': 5326, 'grassy': 11711, '14am': 294, 'fired': 11139, 'dissaponted': 10375, 'robot': 16662, 'conversation': 9714, 'knowledge': 13951, 'WN3946': 7479, 'SANSFO': 6256, 'Rita': 6201, 'SpecialOlympics': 6636, 'athletes': 8348, 'Olympic': 5613, 'athlete': 8347, 'Employees': 3513, 'Akron': 2060, 'it’ll': 13771, 'wretched': 19321, 'MDWgtMEM': 5034, 'suspended': 17798, '6090': 1393, 'allegiantair': 8026, 'Companion': 2952, '1050': 79, 'Momma': 5288, 'beers': 8622, 'ar': 8255, 'companionpass': 9525, 'fly2midway': 11283, 'DENDAL': 3110, 'Tue': 7062, 'Epic': 3536, 'Daytona': 3213, 'Boss': 2526, 'httptcoSbGBN7oUXy': 12744, 'offices': 15155, 'IChangedYourDiaper': 4354, 'MegElizabeth631': 5206, 'alt': 8056, 'signs': 17156, 'Words': 7623, 'Actions': 1998, 'EOM': 3409, '😣': 19675, 'credited': 9844, 'inconsistent': 13523, 'mates': 14451, 'tru': 18403, '77770': 1580, 'A1': 1791, 'thatthis': 18017, 'contingencies': 9689, 'Huntsville': 4335, '3267': 891, 'N659SW': 5350, 'MitchellAirport': 5276, 'httptcoLJ2YdKoR8q': 12616, 'mighty': 14589, 'countryshes': 9782, 'marchand': 14424, 'httptcoEnh1keUUTd': 12491, 'retiring': 16572, 'CA': 2634, 'httptcoSxVaGbRTlI': 12753, 'Shannon': 6511, 'LASairport': 4751, 'C22': 2623, 'miracle': 14639, 'gtSouthwestAir': 11775, 'canx': 9080, 'weatherless': 19019, 'md': 14470, 'anderson': 8124, 'sweeps': 17819, 'httptconOfG0TQHYN': 13110, 'precludes': 15845, 'lit': 14180, 'pleasemy': 15707, 'SouthwestLuv': 6620, 'httptco9UNxqOTzIK': 12390, 'carpet': 9111, 'tx': 18464, 'destroy': 10197, 'amponly': 8109, 'wthem': 19341, 'Guys': 4130, '50th': 1265, 'Anniversary': 2142, '10th': 114, 'Sweethearts': 6755, 'Companions': 2954, 'Lifetime': 4908, 'Sons': 6598, 'Families': 3704, 'aim': 7960, 'pleaseHow': 15700, '3130': 870, 'functionally': 11502, 'gimme': 11602, 'combat': 9467, 'Aruba': 2201, 'discontinued': 10324, 'dontmakemebeg': 10450, 'CP': 2717, 'RedCarpet': 6115, 'Pass': 5812, 'bwi': 9002, 'Memorial': 5219, 'Day': 3211, 'aka': 8010, '😬': 19691, 'DESERVE': 3117, 'httptcoQjKL4aBprG”': 12717, 'secrets': 16917, 'brighter': 8895, 'stars': 17519, 'combined': 9471, 'qualified': 16089, 'HollyMais': 4284, 'mines': 14618, 'amazed': 8072, 'obtain': 15127, 'httpstcoOQUKSo3s2O': 12189, 'subscribe': 17692, 'minenow': 14617, 'investment': 13705, '4179': 1081, 'Awaiting': 2253, 'fransisco': 11410, 'sale': 16778, 'saleIm': 16779, 'FOUR': 3658, 'fasten': 11025, 'businessso': 8983, 'telephone': 17943, 'tiday': 18144, 'httptcoKJKuVJ6CMo': 12598, 'slowing': 17267, 'planing': 15675, 'Dal': 3178, '7pm': 1607, 'httptcoXMZ3Tf9Ix8': 12835, 'BUR': 2370, 'gettingbetter': 11585, 'ring': 16628, '2707': 746, '2212015': 619, 'SFOgtSNA': 6299, 'infinity': 13569, 'band': 8544, 'Neither': 5449, 'homeless': 12066, 'get2': 11572, 'unpleasant': 18631, 'angering': 8130, 'slowness': 17269, 'Ack': 1994, 'httptcoqRXvZFrD1Z': 13173, '😄': 19622, 'Sort': 6605, 'wentook3': 19067, '79': 1588, 'sometimes': 17363, 'shouldhaveflownjetblue': 17110, 'Mario': 5153, 'Bros': 2568, 'gameboy': 11528, 'color': 9460, 'props': 16017, 'C11': 2618, 'opposed': 15256, 'chaotic': 9212, 'crappiest': 9820, 'enemy': 10709, 'compassion': 9536, 'handicapped': 11841, 'sigh': 17145, 'strandedNYC': 17622, 'graders': 11692, 'project': 15990, 'loves': 14304, 'httptcoBaYePZkMiz': 12437, 'ohk': 15171, 'inexpensive': 13562, 'airfares': 7977, '209': 567, 'Mad': 5104, 'httptco4ojrSDWPkK': 12311, 'notmadeofmoney': 15069, 'Fav': 3722, 'curse': 9904, 'lucky': 14332, 'deed': 10055, 'smashed': 17278, '😂💁': 19611, 'httptco0pDNtGBXC6': 12232, 'essentials': 10789, 'TheAcademy': 6925, 'hotlanta': 12135, 'httptcox5ZQssJtRB': 13301, 'Galaxy': 4007, 'S4': 6247, 'zoom': 19454, 'scroll': 16891, 'letitgo': 14097, 'httptcoqxTeqZm3yz': 13185, 'rumor': 16737, '898': 1689, 'peanutsonaplatter': 15516, '380': 978, 'elderly': 10633, 'planefirstclass': 15662, 'msgs': 14774, '1708': 406, 'PHXgtDAL': 5718, 'danihampton': 9980, 'Dani': 3195, 'Boooo': 2520, 'httptcoWHAGPknnLF': 12813, 'gent': 11561, 'FIND': 3635, 'WAY': 7464, 'Flightingdelaying': 3817, 'FlySWA': 3863, 'denverairport': 10133, 'firstboth': 11144, 'officer': 15154, '52': 1283, 'stowaway': 17614, 'Promotion': 5980, 'Jamaica': 4564, 'defective': 10061, 'sweepstakesit': 17821, 'chalk': 9194, 'loss': 14270, 'Imagine': 4409, 'Dragons': 3360, '😋': 19635, 'Sunny': 6733, 'nolove': 14987, 'noexcuses': 14974, 'cali': 9033, 'httptcokumtbgER03': 13050, 'coldly': 9452, 'neveryamind': 14914, '250': 700, 'httptcovn3JJIa53O': 13282, 'tear': 17928, 'seam': 16896, 'soaked': 17329, 'busted': 8987, 'zippers': 19449, 'SORRY': 6338, 'httptcoLHwFBKFynI': 12614, 'uninformed': 18586, 'unapologetic': 18519, 'dynamite': 10562, 'comped': 9540, 'quietly': 16110, 'irate': 13719, 'justsaying': 13879, 'promofly': 15999, 'rnd': 16646, 'spring': 17475, 'Something': 6595, 'Arkansas': 2193, 'Gov': 4091, 'Governor': 4092, 'SB202': 6262, 'legalizes': 14075, 'discrimination': 10332, 'LGBTCan': 4791, 'lend': 14086, 'boycott': 8849, 'harbor': 11879, 'expeditious': 10906, 'onechildfourbags': 15208, 'conflicting': 9617, 'Outrageous': 5663, 'specials': 17425, '720': 1521, 'C42': 2630, 'MKE': 5062, 'redirects': 16290, 'Desktop': 3273, 'AARP': 1873, 'tfw1': 17993, 'JimCramer': 4610, '75yo': 1567, 'Hire': 4270, 'audience': 8386, 'rscheduling': 16709, 'TYSpent': 6848, 'Cell': 2816, 'battery': 8577, 'Rep': 6145, 'Visit': 7447, 'useopen': 18741, 'holds': 12052, 'earlybird': 10573, '636': 1425, 'complimentarybeveragesneeded': 9573, 'earlybirdmeansnothing': 10574, 'yday': 19365, 'gt90min': 11773, 'drenched': 10506, 'CustomerServiceFail': 3059, '1629': 370, 'BWILAX': 2377, '‘connect’': 19464, 'httptco89gKYuf1Qh': 12371, 'consumermarketing': 9665, 'tsa': 18425, '4001': 1042, '1215pm': 192, 'cxed': 9948, 'Nev': 5456, 'sisterampbrother': 17185, 'safetyservice': 16772, 'httptcoX1EqYAHfvZ': 12826, 'impression': 13467, '681': 1465, 'Running': 6239, 'Alison': 2075, 'Bobbi': 2504, 'B8': 2283, 'Flightledtried': 3828, 'Offers': 5593, 'Unprecedented': 7347, 'Perk': 5854, 'httptconustgpElSf': 13117, 'httptcoBe0B4K1Xbt': 12439, '🙌😏': 19710, '950AM': 1756, 'Dallasnext': 3188, 'GetMeOuttaHere': 4032, 'SouthwestSucks': 6625, '😖': 19654, 'imaginedragons': 13444, 'slaycancerwithdragons': 17233, 'swa': 17804, 'noluv': 14990, 'goin': 11644, 'httptco6Zj6L2ZTua': 12347, 'ALEX': 1912, 'MonFr': 5292, 'asshole': 8319, 'ORL': 5577, 'photos': 15599, 'ebook': 10600, 'Tips': 6987, 'httptco7dM2J8H97M': 12362, 'httptcoxeDeckGMW5': 13313, 'httptcofrGhglMkqF': 12974, 'happend': 11863, '668': 1457, '222I': 627, 'B12': 2267, '4pm': 1231, 'blames': 8745, 'FlightlationYou': 3819, 'fixedcertain': 11162, 'tracks': 18303, 'mashing': 14442, 'tones': 18244, 'themEstimated': 18030, 'Swell': 6757, 'suitcases': 17730, 'SD': 6270, 'Hour': 4307, 'holdup': 12054, 'DeLacy': 3217, 'compassionate': 9537, 'professional': 15969, 'priorities🌟🌟': 15931, 'pilotsamp': 15628, '3999': 1008, 'OUTSTANDING': 5580, '1800IFlySWA': 438, 'AZ': 1977, 'Omaha': 5614, 'muh': 14784, '96': 1765, 'TUESDAY': 6830, '170': 398, 'Refund': 6123, 'Baltimore': 2402, 'laps': 14000, 'laughing': 14023, 'httptco8dQZlrJo9p': 12379, 'dilemma': 10268, 'Valentines': 7405, 'daynot': 10003, 'tomorrowwould': 18240, 'bfs': 8691, 'diabetic': 10228, 'insulin': 13643, 'Gonna': 4078, 'greenville': 11726, 'USAir': 7274, 'male': 14393, '3913': 1000, 'Indy': 4440, '4199': 1084, 'GRAND': 3985, '3825': 982, 'SEATAC': 6277, 'GrandCanyon': 4096, 'Photography': 5875, 'httptcoD7pQOUAtdF': 12461, 'baggagefail': 8514, 'bagsflyfreebutnotwithme': 8524, 'November': 5534, 'grabbed': 11687, 'northeast': 15029, '50min': 1261, 'epitimeoffail': 10759, 'Jamie': 4567, 'McKinnie': 5190, 'owning': 15380, 'maiden': 14371, 'retroactively': 16580, 'flightsmilespoints': 11237, 'balance': 8534, 'PoteetTJ': 5928, 'couponsI': 9788, 'coupons': 9787, 'trees': 18370, 'OptOut': 5633, 'httptcoCXrZhcdTVz': 12451, 'freejust': 11423, 'KIDDING': 4660, 'furnish': 11510, 'flyUnited': 11289, 'talents': 17885, 'flySWA': 11288, 'Spirit': 6643, 'TMadCLE': 6802, 'meh': 14518, '2xmost': 833, 'stopclaim': 17602, '3104': 863, 'MCOgtCMH': 5023, '3336': 902, 'SWAs': 6381, 'Voucher': 7453, 'wld': 19210, 'cup': 9894, 'relax': 16371, 'Promotions': 5981, 'Avon': 2251, 'Doug': 3351, 'dcoadavon': 10016, 'outgetmeoutofhere': 15312, 'concert': 9592, 'httptcoG9b6e0a2sZ': 12521, 'rating': 16169, 'suddenintlcheckin': 17712, 'restroom': 16553, 'sink': 17178, 'sanitizer': 16793, 'GROSS': 3989, 'homegirl': 12065, 'out✈️📱': 15333, 'stuckintampa': 17667, 'ChicagoMidway': 2869, 'Mgmt': 5229, 'Cmon': 2924, 'AH': 1902, 'httptcoc9p2ioSphM': 12907, 'Cavalli': 2810, 'calves': 9055, 'interfering': 13671, 'McCarran': 5188, 'C16': 2622, 'southwestfail': 17405, 'httptcoRX8z53M7yy': 12731, '8Q6MFD': 1701, 'El': 3485, 'Paso': 5811, 'coordinate': 9730, 'Officially': 5597, 'wills': 19162, '2hr30': 806, 'Whos': 7583, 'loser': 14267, '2464': 687, 'insubstantial': 13641, 'BlackHistoryMonth': 2479, 'musician': 14800, 'BlackLivesMatter': 2480, 'recruiting': 16273, 'Spring': 6652, 'Internships': 4472, '22315': 630, 'JindalCMC': 4614, 'Davidson': 3207, 'Auditorium1118': 2229, 'JSOM': 4549, 'UTDallas': 7291, 'vitaminwater': 18851, 'Bravo👏👏': 2546, '🍻🍻': 19548, 'Leinenkugels': 4891, 'DosEquis': 3348, 'FatTire': 3720, 'FEHQNE': 3629, '21FEB15': 611, 'DCARSW': 3092, 'opening': 15241, '2646': 734, 'tomorro': 18234, 'fwwe7f': 11517, 'Va': 7400, 'Ant': 2152, 'nashville': 14841, 'tn': 18200, 'TX': 6843, '3076': 853, 'loose': 14262, 'brag': 8855, 'totalfail': 18274, 'letdown': 14096, 'Diverted': 3318, '😞😡': 19663, '4229': 1093, 'servicing': 17009, 'Greenville': 4108, 'forgiven': 11370, 'HighHopes': 4259, 'presidential': 15893, '899': 1690, 'Rerouted': 6160, 'FSZ4YO': 3667, '505': 1251, '6mos': 1489, 'Early': 3460, 'ASSIGNED': 1948, 'LAS2BUF': 4746, 'Alas': 2064, 'Books': 2519, 'KC': 4652, 'hv': 13376, 'spoken': 17456, '4040': 1056, '3113': 866, 'OMAgtDEN': 5554, 'sev': 17019, '2k': 810, 'Decided': 3228, 'cx': 9946, 'Getyourlife': 4038, 'wounded': 19305, 'vets': 18814, 'Hv': 4341, '3252': 889, 'ManchesterBWI': 5137, 'vet': 18813, 'healing': 11925, 'idols': 13417, 'Sooooo': 6602, 'amazing💖': 8077, 'CallMeStanley7': 2757, 'flySW': 11287, 'particular': 15444, '525': 1291, 'Travelers': 7030, 'urged': 18705, 'forty': 11386, 'Finish': 3763, 'Oops': 5624, '45minflight': 1172, 'been3hours': 8620, 'celebration': 9164, 'heck': 11945, '408': 1062, 'windy': 19171, 'sunny': 17741, '70F': 1505, 'httptco2IR7ynMBdU': 12260, 'ticketing': 18137, 'unorganized': 18629, 'Mass': 5172, 'craziness': 9830, 'Half': 4183, 'stations': 17538, 'unmanned': 18622, 'tweak': 18446, 'skip': 17222, 'fl': 11167, '4158': 1078, 'nyc': 15113, 'microsecond': 14578, '😂😂😂😂😂😭😭😭😭😢😢😢😢': 19616, 'after2': 7908, 'httptcovLCI2KV1IP': 13271, 'corner': 9736, 'Online': 5622, 'pleasehelp': 15706, 'whenitsnowsitpours': 19106, 'tgcyaLate': 17994, 'library': 14115, '3899': 994, 'HOU': 4163, '2PM': 781, 'WheelsUp': 7568, 'httptcoORY89eEGek': 12677, 'portion': 15780, 'Holding': 4280, 'opinion': 15252, 'grandmothers': 11703, 'positionhow': 15785, 'colleague': 9454, 'Anyway': 2162, 'anhour': 8140, '😅': 19624, 'httptcomHA3xXaeD5': 13088, 'EVERY': 3431, 'bgr1061': 8693, 'insist': 13621, 'werenot': 19068, '2chng': 790, 'Tld': 6992, 'going2': 11646, 'whch': 19099, 'trvl': 18415, 'advsry': 7891, 'english': 10718, 'removes': 16409, 'Indianapolis': 4439, 'readily': 16194, 'ImJustSaying': 4408, '😔😔😔': 19652, 'httptcot6fYyBHjhL': 13216, 'Comcast': 2942, 'mouth': 14761, '3403': 916, '8hr': 1707, 'FREE': 3663, 'Cable': 2747, 'Technology': 6883, 'mans': 14414, 'PORTABLE': 5748, 'httptcoQw1til96YA': 12720, 'httpstcoucVnilMb4x': 12212, 'ryand2285': 16753, 'HappyBirthday': 4194, 'Incredible': 4433, 'httptco3nsUSfSBPv': 12286, 'k': 13884, 'profitable': 15979, 'venture': 18800, 'IsItTheGaryKellyWay': 4486, 'httptco0BJNz4EIX5': 12222, 'disrespectful': 10367, 'learned': 14056, 'Travelling': 7032, 'greetings': 11729, 'THANKYOU': 6787, 'cutoff': 9941, 'counting…just': 9778, 'httptco5Siczx1oez': 12323, 'LOST': 4821, 'Kay': 4691, 'Chapman': 2838, 'Designs': 3271, 'artluggage': 8295, 'httptcoFxNv618B1A': 12517, '3970': 1007, 'bnardu': 8778, '15minutes': 350, 'getmorehands': 11581, 'Indian': 4438, 'aunties': 8390, 'Aruna': 2202, 'httptcoaypyaDUY6a': 12895, 'airlineIve': 7982, 'SouthwestOliver': 6622, 'worknogood': 19259, 'tremendously': 18372, 'Saw': 6439, 'gt2': 11766, 'cspkcats': 9885, 'Tix': 6989, 'Velour': 7417, 'showentered': 17120, 'TheEllenShow': 6928, 'kdepetro313': 13892, 'httptcoN3LrFo4UaY': 12646, 'que': 16095, 'Plz': 5908, 'complicated': 9570, 'DALMDW': 3078, '4053': 1060, 'WinterWeather': 7604, 'gt134': 11764, 'httptcoPgwUkrpMOx': 12694, '3867': 989, 'invited': 13709, 'cockpit': 9431, 'getmeoffthisbird': 11578, 'crutches': 9878, 'httptcoa3YCFlaLxV': 12873, 'massive': 14446, 'resched': 16478, 'tmw': 18199, 'backroads': 8481, 'STLBOS': 6362, 'SDF': 6271, 'NE': 5366, 'httptcoNGG3N0wIaR': 12656, 'Show': 6536, '💝too': 19596, '3ticketsforJax': 1030, 'phone25': 15588, 'olive201': 15191, '🚫': 19715, '↔️': 19492, 'directs': 10288, 'okcdirects': 15181, 'okcprofessionals': 15182, 'competitors': 9553, '😏': 19640, 'minutesI': 14634, 'customerloyalty': 9921, 'pulse': 16055, 'httptcoauFM4xdaj2': 12892, 'batteries': 8576, 'httptcoiWoiGRLHXb': 13019, '4315': 1111, 'N231WN': 5338, 'FlyNashville': 3859, 'httptcoIDRa8keNoH': 12559, 'fort': 11383, 'launder': 14026, 'dale': 9964, 'phoneridiculous': 15595, 'PortColumbusCMH': 5922, 'waitin': 18908, 'BadService': 2389, 'hiremorepeople': 12027, 'Suggestions': 6723, 'approximate': 8248, 'cxld': 9950, 'Cs': 3043, '1h': 504, 'KeepItMovin': 4695, '3260': 890, 'mht': 14572, 'grandkids': 11700, 'Jack': 4555, 'httptcoBHOOiyT6ZQ': 12430, 'jumped': 13871, 'gun': 11798, 'Louisville': 4970, 'supvsr': 17770, 'Sally': 6411, 'gr8': 11685, 'timedout': 18163, 'horror': 12118, 'implement': 13459, 'httptcoLIQWoblFbT': 12615, 'hyperlinked': 13378, 'httptcoIH5w9nfKz2': 12561, '800IFLYSWA': 1617, '51': 1266, 'handing': 11842, 'sleet': 17244, 'Sun': 6728, 'evedidnt': 10811, 'Clarence': 2899, 'Frank': 3904, '😜😂': 19660, '65000': 1442, '22nd': 650, 'childrens': 9288, 'seatstray': 16912, 'sanitized': 16792, 'purifier': 16070, '😷😱': 19703, 'troubadour': 18397, 'httptcorKlQXXaWhc': 13192, 'Wee': 7539, 'baking': 8533, '3415': 917, 'blue': 8774, 'sourhwest': 17396, 'airlineHave': 7981, 'httptcoEczHcmM5vi': 12488, 'Salted': 6413, 'vote': 18867, 'salted': 16782, 'dread': 10500, 'roasted😖': 16655, 'httptcoRHw78ktQFO': 12727, 'surveys': 17795, 'TifffyHuang': 6975, 'Troubadour': 7043, 'httptcolf69waf5ad': 13068, '⭐️': 19536, 'SAC': 6249, 'Passengers': 5815, 'betch': 8675, '3472': 923, 'FortuneMagazine': 3893, 'nationwide': 14848, 'Buffalo': 2587, '410': 1069, '68': 1463, '1140': 151, 'bone': 8796, 'Tomorrow': 7008, 'Alls': 2084, 'httptco1AAVvoREpH': 12237, 'kmdw': 13941, 'b738': 8463, 'httptco6cpYPGFnD6': 12349, 'Gotta': 4090, 'stretch': 17643, 'JasonWhitely': 4577, '947': 1751, 'Emer': 3505, 'Albuquer': 2070, 'condition': 9599, 'Maverick': 5181, 'divert': 10394, 'adjusting': 7863, 'snowstorms': 17324, 'airpt': 8001, 'Open': 5627, 'httptcozFrOINPSzI': 13331, 'LUVed': 4839, '372': 962, 'purely': 16069, '17mph': 430, 'SwagglikeBean': 6752, 'NOLAOrlando': 5388, 'applauded': 8219, 'takemeback': 17876, 'httptcoOQZ7Wc4lLA': 12676, 'lunch': 14341, 'STL2ATL': 6360, 'Whens': 7571, 'FWHEI6': 3682, 'alist': 8022, 'wifiless': 19154, 'Screw': 6457, 'Az': 2263, 'Eat': 3469, 'buzz': 9000, '300s': 844, 'anxious': 8179, 'Ahah😃💕🎵': 2035, 'SW✈❗❤': 6388, 'Destination': 3277, 'Annamarie': 2140, 'Norris': 5518, 'recognized': 16254, 'changesDeval': 9207, '2bwi': 788, 'nMaryland': 14819, '2morrw': 817, 'inclement': 13505, 'dultch97': 10549, 'scumbag': 16893, 'wouldve': 19304, 'WANTED': 7462, 'SEE': 6280, 'TONIGHT': 6808, 'BAD': 2290, 'CRYING': 2725, 'SacIntlAirport': 6396, 'Feels': 3736, 'bestinclass': 8670, '30000ft': 841, 'takemehome': 17877, '2672': 736, '192': 478, 'rndtrp': 16647, '43055': 1109, 'DJQKC': 3135, 'djimpact': 10403, 'horse': 12119, 'radish': 16129, '😤🐴': 19678, 'receiving': 16238, 'wednesday': 19033, 'NOC': 5386, 'marry': 14435, 'lamp': 13987, 'desperate': 10184, 'promotionscodes': 16004, 'NashvilleDenver': 5430, '517': 1278, 'GO': 3973, 'VEGAS': 7383, 'SHOW': 6307, 'MAN': 5014, 'intend': 13657, 'JulGood1': 4637, 'miscommunicated': 14645, 'popped': 15771, 'aminaur': 8098, 'students': 17672, 'prospective': 16019, 'schools': 16867, 'graduate': 11694, 'eternally': 10801, '͡°': 19459, '͜ʖ': 19458, 'bless': 8756, 'Blatimore': 2486, 'httptcotTXRSyNLxr': 13228, 'songs': 17369, 'HOOM': 4157, 'soul': 17388, 'interferes': 13670, 'wEllen': 18896, 'concerts': 9593, 'alway': 8063, 'treasure': 18363, 'LiveAtFirefly': 4928, 'httptcoo3sRL1hfho': 13125, 'range': 16151, 'defcon': 10060, 'weathered': 19016, 'Stacy': 6664, 'Gary': 4011, 'Kelly': 4698, 'corporation': 9741, 'rip': 16632, 'Buyer': 2612, 'beware': 8685, 'Credit': 3032, 'Attendant': 2225, 'Wernicke': 7552, 'Beat': 2431, 'LACMA': 4741, 'Fairfax': 3697, 'Noone': 5511, 'ACCESS': 1895, 'theTroubadour': 18021, 'Crying': 3042, 'rn': 16645, 'ripme': 16633, 'Disneyland': 3309, 'httptconKAFbjyARi': 13107, 'heyo': 11997, '1836': 448, 'arrivals': 8286, '5pm': 1375, 'headlines': 11921, 'LiveOnFOX17': 4929, 'FebruaryFreezeFox17': 3727, '😍': 19637, 'httptcotGSB1DfPS3': 13223, 'Northeast': 5520, 'httptco1ZT2kEe8up': 12246, 'pleasecan': 15701, 'httptcoeQqi1nfSZh': 12950, 'okaaaaay': 15176, 'UGH': 7225, 'IM': 4367, 'MIN': 5058, 'AWAY': 1969, 'franks105': 11408, 'httptcoxiJiFYmvqP': 13315, 'Jacquie': 4562, 'Plitt': 5904, 'gal': 11525, 'CABO': 2636, 'httptcoVbUxfPCKfa': 12801, 'Happily': 4192, 'fouryrolds': 11394, 'Capn': 2779, 'httptcoC8mqEzXVdH': 12445, 'httptcoQxWW1p09a0': 12721, 'httptcobbZiJWFDL3': 12901, '3056': 848, 'southwestAir': 17401, 'Orangecounty': 5637, 'manana': 14405, 'StLouis': 6662, 'httptcoRcdH183Q1J': 12733, 'leftEven': 14071, 'Bradley': 2536, 'wway': 19348, 'Spvsr': 6655, 'blows': 8773, 'httptco7ujt8VTCpa': 12367, 'stupid': 17679, 'stories': 17609, 'WAIT': 7457, 'ME😭😭😭': 5043, '4146': 1076, 'summer': 17735, 'labor': 13970, 'httptcoysqbVq6Mgb': 13328, 'cash': 9129, 'THO': 6790, '😭😭💔💔💔💔💔💔💔': 19695, 'bna': 8777, 'Tonight': 7009, 'rock😎': 16675, 'PadresST': 5786, '😂😂': 19612, 'destinationdragons': 10193, 'httptcoiqu0PPVq2S': 13022, 'teamspirit': 17927, 'httpstcoX5JenA7NyE': 12190, 'SAMoore10': 6252, 'acknowledgement': 7820, 'southwestrocks': 17406, 'cocktails': 9435, 'Includes': 4425, 'Inclement': 4423, 'httptcoKeyrpFlHil”': 12602, 'bestairlineever': 8665, 'neverchange': 14905, 'controllove': 9708, 'unhappycustomer': 18579, 'mytimeismoney': 14817, 'roundtrips': 16694, 'SouthwestAir4569': 6617, 'refer': 16301, 'SouthwestVerity': 6626, 'wmn4lifehotmailcom': 19213, 'sf': 17029, 'printed': 15927, 'Deficiency': 3235, 'LuvAgent': 4996, 'planesnot': 15668, 'assuring': 8341, 'guessweflyingdelta': 11786, 'Apples': 2177, 'iPodTouch': 13389, 'httptcoXxSaomBdGS': 12846, 'needtogethome': 14878, 'buck': 8937, 'Lucky': 4988, '630am': 1419, '9000': 1719, 'SouthwestAirs': 6619, 'draws': 10499, 'crowd': 9871, 'BWIAirport': 2374, 'Partnership': 5808, 'httptcoCVba4olcBl': 12449, 'httptcowTa5pX70A5': 13296, 'httptcohrvuKtpvn1': 13009, 'httptcoMY3dnVBZAZ': 12638, 'CarryOnBagsSlowEverybodyDown': 2800, 'Sound': 6608, 'Volleyball': 7452, 'httptcotN5cXCld6M': 13225, 'Brother': 2569, 'laws': 14032, 'graduation': 11695, 'VelourLive': 7418, 'Utah': 7370, 'fall': 10992, 'ABSOULUTELY': 1893, 'LOWEST': 4829, 'manufactured': 14417, 'quirkiness': 16111, 'Mmm': 5277, 'Signed': 6545, 'CaptiveAudience': 2782, 'triflight': 18386, 'AshevilleAir': 2205, 'functional': 11500, '20th30th': 577, 'midB': 14580, 'Spend': 6641, 'MurraySawChuck': 5333, 'machine': 14359, 'luxuries': 14350, 'expireswhy': 10920, 'nowmightmismybrosgraduation': 15087, 'flight…': 11247, '☺': 19498, 'shhhh': 17064, 'steal': 17550, 'deal😉': 10030, 'Deborah': 3225, 'me💁': 14569, 'raisegreat': 16139, 'Empty': 3514, 'wantcharge': 18948, 'Srsly': 6657, 'accommodating': 7792, 'extending': 10936, 'creditWhats': 9843, 'daysnotahappytraveler': 10011, 'enforcing': 10712, 'obey': 15119, 'luvIts': 14346, 'Imdetermined': 4412, 'httptcooXm6cWGaB7': 13135, 'relay': 16373, 'howwhy': 12164, 'allowabl': 8035, 'Shopping': 6526, 'horizon': 12106, 'gosh': 11675, 'YOURE': 7672, 'GOING': 3977, 'CRY': 2724, '1215': 191, '1010': 49, 'forfeited': 11364, 'DestinationDragon': 3278, 'Kats': 4688, '930': 1743, '3458': 921, '314505529': 873, 'geekstiel': 11551, 'VindictivetK': 7436, 'Larry': 4863, 'MoveAboutTheCountry': 5314, 'FJBFSC': 3639, '77620': 1577, 'Amex': 2117, '656xx': 1451, 'ISP': 4384, 'FrigidFriday': 3925, 'httptcobfPfW6eyKU': 12903, 'Rocks': 6222, 'httpstcoq8VSfFRd1u': 12208, '4386': 1121, 'flight122': 11201, 'STLAUS': 6361, 'Ahhhhh': 2037, 'Jackpot': 4557, 'httptcoZO2iceG4lI': 12865, 'devaluation': 10212, 'iD': 13382, '2bestfriends': 787, 'Longer': 4951, 'retire': 16570, 'excruciatingly': 10868, 'happiness': 11870, '😭🙏': 19698, 'inbrowser': 13492, 'hover': 12159, 'intrusive': 13694, 'responsive': 16538, 'Helped': 4240, 'Repeating': 6147, 'repeating': 16429, 'pockets': 15735, 'tarmack': 17899, 'ImagineDragons': 4410, 'selfie': 16956, 'goingtovegas': 11647, 'PayPal': 5835, 'getconnected': 11574, 'Southwestair': 6627, 'SWEET': 6382, 'achieving': 7818, 'Wx': 7648, 'Advisory': 2023, 'Cold': 2929, 'luxury': 14353, 'missedflight': 14667, 'Blue': 2495, 'releasing': 16377, 'lbb': 14044, 'tripofalifetime': 18391, 'Gracias': 4093, 'Provo': 5989, 'Crossed': 3040, 'chi': 9278, 'Baitampswitch': 2398, 'Laguardiadal': 4855, 'sorta': 17381, 'freezing😜': 11426, 'sinuses': 17179, 'contend': 9681, 'landings': 13992, 'preregistration': 15883, 'IMAGINE': 4368, 'DRAGONS': 3158, 'EOULD': 3410, 'DIE': 3126, 'TICKETS': 6796, 'WANNAA': 7460, 'DOO': 3152, 'ANYTHING': 1937, 'dragons': 10494, 'flipping': 11254, '♥️': 19504, 'WOULD': 7487, 'whiny': 19121, 'accommodated': 7790, 'httptcolO6LghPcdU': 13060, 'BETSY': 2311, 'BESTY': 2309, 'Gettin': 4036, 'mostbut': 14747, 'homewardbound': 12070, 'betsy': 8676, 'besty': 8672, 'bringin': 8900, 'mor': 14734, 'parhetic': 15434, 'bagawim': 8510, 'httptconGxAl9OmL6': 13105, 'memo': 14525, 'stoked': 17595, 'buttons': 8993, 'bands': 8545, 'atlanta': 8350, '😆': 19625, 'Blames': 2484, 'VeryLoyalCustomer': 7424, 'itd': 13754, 'looong': 14258, 'vaca': 18760, '😊🌴': 19631, 'httptco9TRvfnCedL': 12389, 'useable': 18736, 'Possible': 5926, '8X7XVM': 1703, '❤️you': 19530, 'Turned': 7072, 'TOS': 6810, 'NASCAR': 5361, 'BeBetter': 2428, 'invalid': 13699, 'Android': 2132, 'MRN': 5081, 'DISupdates': 3132, 'BudweiserDuels': 2583, 'unacceptableI': 18510, 'lined': 14157, 'cattle': 9145, 'desirable': 10176, 'Jason': 4576, '108639': 95, 'stellarservice': 17560, 'MichaelBColeman': 5236, 'byebyeusairline': 9006, 'knowexpect': 13948, 'EB': 3397, 'nearby': 14863, '4028': 1052, 'medically': 14505, 'perform': 15542, 'SouthwestAirgive': 6618, '4007': 1043, 'AV8B': 1967, 'XW': 7657, 'bostonlogan': 8829, 'brd': 8868, 'nowfrustrated': 15084, 'ROCif': 6054, 'tld': 18194, 'gng': 11632, '2b': 786, 'messcng': 14556, 'overbk': 15337, 'Chiberia': 2866, 'Miracles': 5265, 'wheelsup': 19104, 'REFUND': 6033, 'execution': 10876, '2851': 759, 'overbookedGng': 15340, 'destFeel': 10190, 'bec': 8611, 'AMiltx3': 1928, 'Customerits': 3060, 'LL”': 4808, 'weekends': 19039, '👍👍': 19563, 'done0': 10439, 'Carolina': 2793, 'resort': 16511, '305pm': 849, '740': 1545, 'Thanks✈️✈️': 6917, 'wilco': 19158, 'Boyfriend': 2535, '2009': 536, 'nvm': 15107, 'rescue': 16485, 'Sundown': 6732, 'httptcorQBpmwETtq': 13195, '4200': 1090, '335': 904, 'subterfuge': 17700, 'rid': 16615, 'Aug': 2231, 'Sept': 6490, '8HH4P2': 1699, '317': 875, 'Support': 6739, 'httptcolJzDTHD9Bv': 13058, '♥️🙏': 19505, 'panchojoe': 15418, 'mustve': 14803, 'mixtapethough': 14689, 'recordI': 16261, '64': 1430, 'EASIEST': 3396, 'DEAL': 3098, 'LOVEEEE': 4827, '11AM': 175, 'empathize': 10679, 'capitalized': 9089, 'lowercase': 14311, 'gotcha': 11677, '✈️😃👍': 19517, 'Oopsno': 5625, 'bathrooms': 8574, 'fairly': 10984, '702': 1501, 'excitement': 10865, 'livvyports16': 14194, 'became': 8612, 'Bcuz': 2425, 'sammijon3s': 16785, '❤️❤️❤️': 19532, 'awaywhy': 8437, 'setting': 17015, 'heroes': 11993, 'SouthwestRally': 6623, 'bestemployees': 8667, 'swaculture': 17805, 'httptcoJTxyHQHfJJ': 12586, 'gmail': 11631, 'swapic': 17811, 'AUSCUN': 1962, 'DreSparkles': 3363, 'Luvin': 5000, 'Paypal': 5837, 'PresCEO': 5947, 'TheRoFo': 6937, 'addressing': 7857, 'cbsbaltimore': 9156, 'httptcoOI32uq2tTZ': 12675, 'bowl': 8846, '😩help': 19683, 'OAK': 5541, 'Pleaseeeeee': 5899, 'HRL': 4169, 'UNOBaseball': 7240, 'singing': 17176, 'LuvInTheAir': 4997, 'joy': 13862, 'videos': 18822, 'heartlanta': 11933, 'noticed': 15059, 'fist': 11152, 'bumphigh': 8963, 'iGotMonte': 13383, 'hopin': 12101, 'reviewing': 16603, 'oversize': 15363, 'Hardcase': 4199, 'golfbags': 11651, 'instruments': 13640, 'saianel': 16774, 'IfThe80sNeverStopped': 4404, 'rocking': 16669, 'charttopping': 9233, '4467': 1145, '152': 310, '503': 1249, '226th': 641, 'PWM': 5780, 'Saturdays': 6432, 'permanent': 15552, 'ineligible': 13558, 'forgotten': 11373, 'Budget': 2582, 'answersno': 8169, 'fiancee': 11092, 'protocol': 16024, '411': 1070, 'evrytime': 10840, '955': 1761, 'Correct': 3003, 'rolled': 16680, 'NASBWI': 5360, 'bz': 9009, 'BWISJD': 2378, 'fallow': 10996, 'prettyplease': 15902, 'JOKE': 4544, 'customersTime': 9924, 'goto': 11678, 'airliner': 7986, 'cache': 9025, '159': 340, '😑': 19643, 'HayleyMad': 4213, 'AList': 1922, 'Pref': 5940, 'exclusive': 10866, 'HUGE': 4174, 'seasonal': 16903, 'Scott': 6455, 'bottom': 8837, 'heart💕DestinationDragons': 11936, '445pm': 1141, 'BOSBNA': 2341, 'CMHOAK': 2700, 'daydreaming': 10000, 'bayespecially': 8583, 'OhioProbz': 5604, 'origami': 15279, 'OldPoliciesWayBetter': 5612, 'WORSTAIRLINEEVER': 7485, 'park': 15436, 'yeehaw': 19373, 'vent': 18797, 'ensured': 10732, '830': 1646, 'malfunctioning': 14395, 'BrittanyOBX11': 2564, 'quirky': 16112, 'archaic': 8258, 'accommodates': 7791, 'Report': 6151, 'Info': 4445, 'OneLove': 5619, 'bestairline': 8664, '578': 1348, 'favoriteairline': 11042, 'luvforSW': 14347, 'unserved': 18651, 'service🐩': 17008, 'httptcoVQTyza6Mzu': 12797, 'dialup': 10232, 'speeds': 17435, 'Flight7': 3789, '319323': 877, 'A60': 1807, 'Whether': 7575, 'Bird': 2471, 'B15': 2269, 'childish': 9286, 'remain': 16388, 'LOYAL': 4830, 'constructive': 9662, 'criticism': 9863, 'Cancun❤️': 2771, 'feesbut': 11071, 'bringbacktheluvtordu': 8899, 'directflights': 10283, 'httptcop8Vcz4XTHM': 13152, 'DispatchAlerts': 3313, 'httptco1ESmMnIZEk': 12240, '261633561838': 733, 'Mail': 5111, 'RUDE': 6064, 'Wholly': 7580, 'sw': 17803, 'forever😃💕😍⤴⤴': 11362, 'consultant': 9664, 'kiosks': 13930, 'yearly': 19369, 'accumulation': 7811, 'Congratulations': 2974, 'phishing': 15579, 'cheapest': 9244, 'personallyabout': 15563, 'ATLNO': 1956, 'Superb': 6736, 'raving': 16170, 'glitches': 11624, 'custexp': 9914, 'Social': 6588, 'Listening': 4923, 'Ctr': 3047, 'timerest': 18168, 'areas': 8261, 'RaganDisney': 6074, 'jlittle100': 13841, 'Double': 3349, 'GONE': 3978, 'nonstops': 15012, 'Download': 3355, '021mbps': 10, 'UTAH': 7290, 'wmy': 19215, 'infanttoddler': 13566, 'Harbor': 4197, 'Willing': 7596, 'whyso': 19143, 'fewdirectflights': 11087, 'bestfriend': 8669, 'MAC': 5006, '14th': 296, 'Reward': 6179, 'recovery': 16271, 'ownerHELP': 15378, '😒👎': 19647, 'presenting': 15891, 'ragandisney': 16131, 'httptco5ZNMwxDI9U': 12324, 'roadmap': 16650, 'intelligent': 13656, 'path': 15483, 'embed': 10666, 'enterprise': 10737, 'oak': 15117, '115': 157, 'thirtylives': 18078, 'integrating': 13652, '2012': 541, '4464': 1143, 'myers': 14811, 'milwaukee': 14610, 'httptco07XhCacjax': 12221, 'supporter': 17763, 'Jesus': 4591, 'portrayed': 15782, 'homosexual': 12071, 'Judas': 4635, 'performs': 15545, '“gay': 19479, 'wedding”': 19032, 'WN4287': 7480, '935pm': 1747, '1137': 149, 'ATLAUS': 1954, 'Whoot': 7582, 'gap': 11531, 'lasted': 14010, 'redeeming': 16283, '423': 1094, '☀️amp': 19495, 'races': 16123, 'aww': 8450, 'wknd': 19207, 'England': 3522, '50K': 1256, 'logo': 14239, 'airplanes': 7992, 'rapids': 16159, 'lovetotravel': 14306, 'chaching': 9187, 'whens': 19107, 'college': 9458, 'luxclark': 14349, 'Laura': 4872, 'shortlyCB': 17097, 'weekmakes': 19041, 'onlywaytofly': 15227, 'leathery': 14063, '4251': 1098, 'Faaaannntastic😭': 3686, 'httptcoJM8gQ1KGrF': 12581, 'airwe': 8007, '😜😎': 19661, 'thaw': 18018, 'Kinda': 4715, 'horribleattitudes': 12111, 'players': 15691, 'Chgd': 2864, 'acoustic': 7823, 'DisneyPrincessHalfMarathon': 3308, 'girlsweekend': 11608, 'bffs': 8690, '463': 1183, 'CO': 2705, 'Ops': 5632, 'Agt': 2032, 'Rich': 6184, 'Westagard': 7555, 'Att': 2222, 'Nancy': 5422, 'AirportHeld': 2055, '1027': 62, 'Bus': 2602, 'CustomersFirst': 3062, 'MVP': 5096, 'kicking': 13912, 'httptcosbEhi46bMk': 13207, 'qualification': 16088, 'httptconw7vx7DGMF': 13119, 'flightspots': 11238, 'mobileboarding': 14696, 'bridesmaid': 8889, 'tbuccheriFRNC3E': 17914, '135': 262, 'Beijing': 2439, 'understands': 18551, 'unpredictable': 18633, 'Pound': 5930, '👊': 19557, 'tiks': 18150, '😱❤️im': 19700, 'aside': 8305, 'Herb': 4248, 'gracias': 11689, 'LA😄Flying': 4769, 'guest': 11787, 'NEED': 5367, 'canPlease': 9065, 'Willie': 7595, 'Nelson': 5450, 'impersonator': 13458, 'sang': 16791, 'peanutsandtoons': 15514, 'httptcokCDdOD7uFF': 13037, '65hr': 1453, '1172': 169, 'skymalls': 17227, 'ripskymall': 16637, 'passngr': 15473, 'physically': 15605, '134': 260, 'flythroughs': 11313, 'tonightGreat': 18248, 'TIME': 6798, 'timieyancey': 18175, 'httptcoTkVCMhbPim': 12761, 'httptcoqn5odUGFqK': 13182, 'A30': 1796, 'Rethinking': 6171, 'misleading': 14657, 'httptcoa68d5fULmH': 12874, 'sporadically': 17461, 'Uncharacteristic': 7313, 'httptcoTXhYJ40llG': 12759, 'alls': 8044, 'aired': 7975, 'BETs': 2313, 'BookofNegroes': 2518, '77': 1574, '730': 1529, 'sests': 17012, 'Savannah': 6434, 'GA': 3953, 'Pleeeease': 5901, 'ChicagoLAXPHX': 2868, 'spotting': 17469, '18th': 470, 'sweatshirt': 17817, 'leinenkugels': 14083, 'craftbeer': 9816, 'Norfolk…': 5516, 'httptcoTgSLjjN6g0': 12760, 'inbox': 13491, 'httptcoNbZ45jCd1r': 12663, 'Knoxville': 4725, 'filing': 11108, 'transports': 18336, 'monthly': 14725, 'httptcoCyoOnZfTdC': 12459, 'caution': 9152, 'dependents': 10148, 'eligible': 10642, 'phoneinperson': 15592, '952': 1759, '540pm': 1311, 'CHIMID': 2677, 'woohoo': 19237, 'whyyy': 19145, '4223': 1092, 'Damion': 3190, 'damionflight4223': 9970, 'YO': 7671, 'InternJohnRadio': 4469, 'mrerickv': 14771, 'threatening': 18102, 'Kaneshow': 4679, 'EVERYTHING': 3432, 'Whoa': 7578, 'Working': 7627, 'specifics': 17428, 'anticipate': 8172, 'httptco16c9ex79Rk': 12235, '😁😁😁😁': 19607, 'LeeAnnHealey': 4887, 'places': 15650, 'beatsmusic': 8605, 'velourlive': 18795, 'saturday': 16811, 'personalized': 15561, 'snapchat': 17308, 'ONE': 5557, 'demolish': 10126, '3933': 1002, 'iMessage': 13384, 'instagram': 13628, 'bloody': 8769, 'reservationWe': 16497, 'alas': 8013, 'witty': 19201, 'repartee': 16424, 'BSO': 2362, 'attentive': 8375, 'bicycles': 8699, '62': 1407, 'criteria': 9862, 'bikes': 8706, '75each': 1566, 'FAQ': 3620, 'AustinBergstrom': 2237, 'lanes': 13996, 'LuvSW': 4998, 'curb': 9896, 'rico': 16614, 'Alistey': 2077, 'Bingo': 2469, 'Noah': 5505, 'MR”': 5083, 'postcode': 15797, 'Ireland': 4481, 'Pre': 5934, 'messaging': 14555, 'loveluv': 14302, 'SW900001vyiL1XKlROG24fS918jA': 6375, 'giant': 11595, 'require': 16465, '1A': 493, 'stewardesses': 17571, 'Cun': 3050, 'Atl': 2218, 'sing': 17174, 'Humphrey': 4331, 'httpstcomAvIgetbBw': 12204, '87yearsLate': 1680, 'maybeijustlost': 14462, 'whyyounoloveme': 19144, 'lovedragonss': 14298, 'LAUREN': 4752, 'GOD': 3974, 'AHHHH': 1903, 'Noted': 5529, 'sets': 17014, 'Hard': 4198, 'GAVE': 3955, 'EVEN': 3429, 'HAHA': 4134, 'httptcosKKewqhssG': 13204, '10mins': 110, 'taylormdowns': 17912, '1800Flowers': 437, '21415': 599, 'karajusto': 13889, '8FKQW': 1698, 'Times': 6981, 'httptcoosox9h7fWY': 13143, 'worstthingever': 19291, 'fedexed': 11057, 'Updated': 7356, 'httptcoWrWqrUblPs': 12824, 'ubergizmo': 18495, 'rr': 16708, 'Courtney': 3019, 'LGABWI': 4783, 'expedite': 10904, '3526665682': 933, 'VinylVegas': 7439, '1031': 68, 'anni': 8144, 'Worried': 7631, 'c': 9010, 'httptcoBApE6RuMNE': 12424, 'PAID': 5676, 'JamesAsworth': 4566, 'Brent': 2554, '70plus': 1508, 'additonal': 7852, 'cantblametheweather': 9077, 'NH': 5373, 'MHTforlife': 5047, 'SWADiversity': 6378, 'shortly“SouthwestAir': 17099, 'brendanpshannon': 8885, 'Brendan': 2553, 'shortlyRS”': 17098, 'announcing': 8154, 'Account': 1991, 'kindly': 13926, 'celebrating': 9162, 'MardiGras2015': 5148, 'httptco8WBzOrRn3C': 12378, 'lemme': 14085, '😭😭😭': 19696, 'university': 18612, 'books': 8806, 'straying': 17632, 'thingsishouldknow': 18066, 'ifeeldumb': 13420, 'httptcolEdNoCdQee': 13055, 'craving': 9828, 'yay': 19363, 'roadtrip': 16652, 'Deal': 3218, 'httpstcoCFI1E3KXA9': 12180, 'sureIll': 17773, 'southwestairSWADiversity': 17403, 'httptcoS3EsW5AgUm': 12737, 'Days': 3212, 'PastMyPatienceExpirationDate': 5819, 'Inclusion': 4426, 'popping': 15772, 'OHing': 5550, 'jackass': 13782, 'kirkwoodtiger': 13932, 'Hmmm': 4275, 'Caribbean': 2789, 'httpstcoAAY5avg99b': 12177, 'LD”': 4774, 'WARM': 7463, 'saysorrychris': 16833, 'SW”followed': 6387, 'lead': 14046, 'BABY': 2287, 'Apology': 2168, 'customerserviceWIN': 9926, 'itravelalot': 13766, 'httptcoz5znfwkKWP': 13329, 'Basically': 2419, 'okI': 15174, '355': 936, 'Costa': 3007, 'Rica': 6182, 'government': 11682, 'approval': 8243, 'CompanionPasses': 2953, 'residing': 16504, 'httptcomdN5ED58ze': 13098, 'SCREAMING': 6268, 'DEAD': 3097, 'sooo': 17373, 'compete': 9546, 'hidden': 12005, 'fuckinf': 11478, 'HoLY': 4277, 'SHT': 6309, 'gain': 11522, 'httptcoILqzmMJiYQ': 12562, 'deltanews': 10122, 'SCREAKJMF': 6267, 'Emerging': 3508, 'Leader': 4878, 'Development': 3282, 'httptcojLHM0x7UkB': 13029, 'PV': 5776, '3854': 986, 'forecasted': 11353, 'display': 10356, 'httptco0kN7PjelZL': 12231, 'Thought': 6957, 'flysouthwest': 11311, 'lovesouthwest': 14305, 'mybday': 14810, 'Sagerooski': 6405, 'GOSH': 3980, '😭😭': 19694, 'august': 8389, 'Ahhhh': 2036, 'TWO': 6842, 'undignified': 18558, 'behavior': 8635, 'freedrinkcoupons': 11421, 'mltple': 14694, 'pmCan': 15729, 'Jax2BNA': 4579, 'notokay': 15073, 'Lastly': 4868, 'letters': 14104, '2078': 565, 'Balt': 2401, 'babies': 8464, 'cried': 9859, 'vomited': 18866, 'Chaos': 2837, 'Caroline': 2795, 'superhero': 17751, '1703': 402, 'BNASnow': 2332, 'Therefore': 6943, 'astounded': 8342, 'contempt': 9680, 'purse': 16072, 'Tired': 6988, 'Wendell': 7548, 'Holton': 4286, 'N8661A': 5356, '7378H4': 1540, 'httptco5z9STyUQJ3': 12333, 'Secondly': 6469, 'Thus': 6966, 'packingayak': 15395, 'BrianReganComic': 2556, 'cockroaches': 9432, 'crawling': 9829, 'traps': 18340, 'displeased': 10359, 'httptcoRYXbPLgMnK': 12732, 'FS4VE7': 3666, 'nutsamp': 15106, 'DeltaPoints': 3251, 'unlike': 18615, 'policyfees': 15756, 'DevotedyYours': 3284, 'NL': 5381, 'disappointments': 10303, '4110': 1071, 'discusses': 10334, 'possibilities': 15791, 'NHL': 5375, 'arena': 8263, 'httptcot3E4SH5xNg': 13212, 'SMUSportMgt': 6329, 'sportsbiz': 17465, 'closetoverhead': 9386, 'CAKairport': 2640, 'winner': 19177, 'httptcop6r5rt5Ow5': 13148, 'Octavia': 5588, 'fll': 11258, 'httptco2Boh2Mh3cb': 12256, 'downnnnn': 10480, 'CourtSnod': 3018, 'HillAConlin': 4265, 'solar': 17343, 'charger': 9220, 'Amazon': 2102, 'Game': 4008, 'changer': 9205, 'plug': 15723, 'usb': 18734, 'tryin': 18419, 'bicycle': 8698, 'bike': 8705, 'Fla': 3777, 'TinaIsBack': 6983, 'SW”': 6386, 'SMH': 6326, 'unloaded': 18618, 'neveind': 14902, 'ModeloDeNegocio': 5282, 'innovacion': 13602, 'BusinessModel': 2607, 'Flightchecked': 3802, 'OAKgtMSY': 5542, 'JohnWayneAir': 4620, 'Official': 5596, 'DivadaPouch': 3317, 'ThePoopQueen': 6936, 'httptcoXXY2d2iMnP': 12839, 'wonderfully': 19228, 'film': 11112, 'yesnot': 19383, 'reload': 16384, 'txt': 18466, 'emp': 10677, 'wide': 19147, 'Phi': 5863, 'freecomedyshow': 11419, 'newlifetimecustomer': 14921, 'Engadget': 3521, 'Theverge': 6945, 'Wired': 7605, 'reddit': 16280, 'Bigger': 2463, 'Dick': 3288, 'People': 5847, 'iusedtoloveu': 13774, 'httptcotEFHpuWMdJ': 13219, 'emerg': 10669, 'communicated': 9508, '1831': 447, 'ERW': 3419, '442998': 1132, 'Dale': 3179, 'commit': 9501, 'Patience': 5824, 'kisses': 13933, 'snacksThank': 17302, 'httptcoNKloZcNtto': 12657, 'disheartening': 10342, 'familyand': 11005, 'response❤️': 16533, 'covered': 9802, 'ROCKS': 6052, 'LEAST': 4776, 'smaller': 17272, 'requirements': 16468, 'backpacks': 8480, 'Shotwest': 6528, 'FVF9YW': 3680, 'SWRR': 6383, '298033455': 776, 'codes': 9439, 'serviceOpen': 16999, '154': 319, 'acting': 7831, 'shortshorts': 17101, 'assistanceyou': 8327, 'ROCK💯': 6053, 'reachable': 16181, 'thrueverything': 18118, 'According': 1990, 'interviews': 13689, 'uneventful': 18564, 'outline': 15315, 'scenarios': 16849, 'travelportland': 18358, 'Mt': 5323, 'hood': 12084, 'httptcoy3SAHVX3Zk': 13318, 'NashvilleShould': 5431, 'snag': 17305, 'NAS': 5359, 'pumped': 16058, 'essential': 10787, 'attire': 8377, 'monthwill': 14727, 'grant': 11706, 'StL': 6661, 'Majority': 5117, 'Commercial': 2946, 'test': 17982, 'tomoro': 18233, 'concentrate😭😭': 9586, 'feelingtheluv': 11066, 'ProfitBeforePeople': 5971, 'IMO': 4369, '2020': 548, 'Throw': 6960, '3111': 865, 'N614SW': 5348, 'httptcoqefKFWZo7d': 13177, 'rubs': 16719, 'wasn’t': 18966, 'BAGS': 2294, 'wigs': 19156, 'Michele': 5237, 'rocked': 16667, 'Natures': 5438, 'goodhumored': 11664, 'aus': 8392, 'Drove': 3369, '4968': 1214, 'N8325D': 5355, 'NOAirport': 5385, 'httptcofd4SnvKIeM': 12968, 'poisonpill76': 15749, '1945': 483, 'snowbama': 17316, 'pieces': 15618, 'promos': 16000, '✈️anywhere': 19511, 'fly130': 11282, 'NoThanks': 5503, 'evaluate': 10809, 'Bullshit': 2590, '💩💩💩💩': 19598, '😠😠': 19665, 'flights😔': 11241, 'dealsMay❤❤❤😍🌏': 10028, 'Undefined': 7316, 'workingFamily': 19256, 'Cgroup': 2826, '4125': 1074, 'comeon': 9479, 'MatteBoss': 5178, 'predict': 15847, 'Disney': 3307, 'httptcoPIvxean3jY': 12688, 'iiiii': 13430, 'slowfi': 17266, 'timeand': 18161, '1802': 441, 'CostaRica': 3008, 'pennies': 15530, 'VacaTime': 7401, '✈️💺': 19516, '771': 1576, 'DENBNA': 3108, 'DONT': 3151, '😜✈️': 19659, 'reopens': 16418, '☺️': 19499, 'fattuesday': 11032, 'mardigras': 14425, 'Awwweesssooomee': 2261, 'prchase': 15830, 'retailer': 16562, 'L8': 4739, 'keepmy': 13900, 'swamped': 17808, 'TREMENDOUS': 6817, 'Mardi': 5146, 'Gras': 4098, 'dealt': 10029, 'Fastest': 3719, 'instrument': 13639, 'involved': 13714, 'Deicer': 3240, 'Thankfully': 6914, '1613': 361, 'slc': 17234, 'bushleague': 8979, 'weakservice': 19007, 'SouthWestAirlines': 6613, '3768': 973, '2522': 707, 'rt': 16712, 'nochill': 14967, 'httptcoesd3XD5V1r': 12962, 'MCOgtDCA': 5024, 'MSYDCA': 5089, 'SWAmistake': 6380, 'electric': 10635, 'skateboard': 17210, 'regular': 16347, 'FP9M6Y': 3659, 'jennifercascinogmailcom': 13804, 'becuz': 8617, 'SWfan': 6385, 'httpstcojU9rHZ4RQc': 12200, '4914': 1209, 'GSP': 3994, 'DSM': 3164, 'separately': 16983, '7min': 1606, 'spreading': 17473, 'MardiGras': 5147, 'NFTYConvention': 5372, 'httptcottbtY89Ilo': 13237, 'gt30mins': 11769, 'Originally': 5644, 'store': 17608, 'necessities': 14866, 'Tulsa': 7066, 'SouthwestLuvSweeps': 6621, 'runways': 16748, 'waitingcan': 18912, 'TomVH': 7007, 'httptco0HmmQCzkCf': 12225, '330am': 898, 'starving': 17527, '211pilot': 591, 'spilled': 17445, 'hahayeah': 11827, 'elevator': 10641, 'southworst': 17407, 'girlfriend’s': 11606, 'grades': 11693, 'Nature': 5437, 'create': 9835, 'DtW': 3370, '1155am': 162, 'desparately': 10183, 'BNAgt': 2333, 'TUL': 6831, 'annebevi': 8143, 'PaulBev1': 5830, 'MikeAbramson': 5250, 'lodge': 14225, 'bummed': 8958, 'callbacks': 9039, 'wresos': 19319, 'FRAUD': 3662, 'VegasChicago': 7414, '3397': 912, 'caller': 9045, 'CBSsoxfan': 2654, 'offcalls': 15143, 'phonedied': 15590, 'AListpreferred': 1923, 'httptco1TZZ0vbMbS': 12244, '87': 1675, '43rd': 1122, 'soured': 17395, 'thu': 18120, 'screencap': 16881, 'unspecified': 18655, 'Buying': 2613, 'PaytonTaylor129': 5840, 'Payton': 5839, 'SWAir': 6379, 'tortured': 18269, '1971': 488, 'assisted': 8330, '1079871763': 90, 'incidents': 13503, 'Heard': 4220, 'gt60': 11771, 'willmake': 19161, 'guidance': 11789, 'bham': 8694, '648': 1437, 'Buf': 2586, 'ConfFGKXV5': 2967, '587701925COUNT': 1354, 'Oct': 5587, '25oct': 726, '31': 860, 'BernhardtJH': 2451, 'attitudes': 8379, 'adjustment': 7864, 'ding': 10275, 'bruh': 8924, 'bool': 8808, 'niggaz': 14940, 'imma': 13446, 'ta': 17854, 'loyalRRmember': 14317, 'Ya': 7682, 'LOVESOUTHWESTAIR': 4828, 'NotPghTimothy': 5526, 'national': 14845, 'Integration': 4463, 'Valentine': 7404, 'gruber': 11757, 'dontchangeathing': 10445, '350': 928, 'Biggest': 2464, 'snowing': 17322, 'snowfall': 17319, 'httptcoapRZsPxigE': 12887, 'Fhk2te': 3741, 'Measles': 5198, 'outbreak': 15306, 'F5R3ZZ': 3605, 'challemann': 9195, 'jvstatus': 13882, 'It’ll': 4504, 'streamline': 17635, 'commute': 9520, '😊☕📲✈': 19629, 'condescension': 9598, 'co': 9419, 'messing': 14559, 'serenitynow': 16987, 'hournot': 12147, 'insight': 13620, 'LAXgtJFK': 4764, 'octaviannightmare': 15138, 'dr': 10490, 'chart': 9231, 'PAX': 5683, 'alleviate': 8030, 'graded': 11691, 'EQP': 3415, 'modifications': 14701, 'FUSTURATED': 3677, 'httptcoIyUZM2PUVS': 12573, '464': 1184, '3574': 939, 'HiMy': 4256, 'morning1814': 14739, 'TULDAL': 6832, '100PM': 46, '“SouthwestAirSouthwest': 19472, 'httptcoxmRvR4lGEg': 13316, 'httptcowJoc9f14SU”torileggieri': 13294, '😠': 19664, 'Beautiful': 2434, '4720': 1195, 'hangup': 11859, '3060': 850, 'gt30': 11768, 'disconnectedNew': 10318, 'Nuts': 5540, 'daycare': 9998, 'httptcoN5O43sVl8i': 12648, 'harass': 11878, 'mistakeFURIOUS': 14678, 'NOTHING': 5393, '6yo': 1496, 'inability': 13480, 'temporary': 17958, 'GEG': 3959, 'HorribleService': 4302, 'NeverAgain': 5458, 'AnswerThePhone': 2150, 'SJU': 6319, 'staffing': 17499, 'ballsturn': 8542, 'JetBlueSoFly': 4599, 'httptco9xkiy0Kq2j': 12403, '1041': 74, '462': 1181, 'httptco1syWlmTZek': 12249, 'aisles': 8009, 'evermoreroom': 10824, 'Waste': 7518, 'jetbluebos': 13814, '’s': 19466, 'Marty': 5167, 'George': 4022, 'nobaggagefees': 14964, 'httptcotjDzaMHPEw': 13233, 'PGFRYZ': 5699, 'Submitted': 6718, 'tied': 18145, 'Proposal': 5982, '27th': 754, 'Gala': 4006, 'Org': 5642, 'Boundless': 2533, 'Readers': 6095, 'sameday': 16784, 'Republic': 6154, 'more👺': 14736, 'tan': 17892, 'june': 13873, 'rejecting': 16365, '1170': 167, 'canister': 9071, 'powder': 15810, 'formula': 11382, 'divider': 10401, '117': 166, 'thatd': 18013, 'Area': 2188, 'Lame': 4858, 'optin': 15260, 'Verified': 7421, 'sxsw': 17835, 'fleek': 11180, 'PointsMe': 5911, 'JB': 4519, 'overchging': 15346, 'bg': 8692, 'herded': 11988, 'cattle2slaughter': 9146, 'rainy': 16136, 'poop': 15761, 'signing': 17154, 'TrueBlue': 7048, 'credentials': 9840, 'BaeJet': 2391, 'amirite': 8099, '“JetBlue': 19470, 'terrybrokebad': 17981, 'ya”': 19364, 'AskAmex': 2210, 'Plat': 5895, 'Airspace': 2058, 'Destin': 3276, 'Walton': 7510, 'Beach': 2429, 'CatfoodBeerGlue': 2806, 'fleets': 11182, 'httptco2thC9RKURT”': 12271, 'yer': 19381, 'NYCgtPDX': 5407, 'NYCgtPGHwish': 5408, 'Headed': 4215, 'LBC': 4772, 'napkins': 14837, 'httptcoOxY1Jnpjm3': 12683, 'httptcob5ttno68xu”': 12896, '🙈': 19706, 'RuthSlobodin': 6246, 'JustDoIt': 4644, 'YouKnowYouWantTo': 7703, '”': 19486, '💘': 19591, 'versa': 18807, 'Longing': 4952, 'firstlove': 11146, 'flyfi': 11299, 'leatherseats': 14062, 'hipunis': 12024, 'httptcoW5NL0AY9Bl”': 12808, 'Guyana': 4129, 'eatgregeat': 10597, 'WOWThx': 7489, 'Greg': 4111, 'TeamNKH': 6880, 'Annnndddd': 2143, 'httptcoclu5pdPrHP”': 12916, 'glowing': 11629, 'sparkled': 17418, 'nokidhungry': 14985, 'partnership': 15453, 'JetBlueCheeps': 4597, 'help”': 11979, 'FoodNetwork': 3881, 'tummy': 18433, 'snack': 17300, 'sunrises': 17743, 'jetbluesofly': 13824, 'httptcoJGdu5us8Dz': 12576, 'Input': 4451, 'BTV': 2365, 'jetbluehatesbtv': 13818, 'TruBlue': 7046, 'answeringdont': 8166, 'Veterans': 7425, 'Advantage': 2019, 'MCOKeep': 5022, '👏👏👏👏': 19578, 'Vieques': 7432, 'Offering': 5592, 'Special': 6635, 'Fares': 3713, 'GoPureGrenada': 4063, 'discovergrenada': 10331, 'httptcoMBcEhCSZX3': 12632, 'CaribbeJan': 2788, 'islandexpert': 13733, 'httptco2Zm4jkAlZl': 12265, 'occasion': 15130, 'Question': 6011, 'jannasaurusrex': 13793, 'Janna': 4572, 'WeAppreciateYou': 7527, 'TrueBlue”': 7052, 'jetbluefame': 13816, 'sosmart': 17387, 'frequentflyerappreciates': 11432, 'alsoyayforsnacks': 8055, '1856': 456, 'transportation': 18334, 'deplorable': 10156, 'PRBound': 5757, '2016': 545, 'N598JB': 5347, 'UVF': 7293, 'weekday': 19037, 'trueblue': 18406, 'httptcoiIMTJxcvLG': 13015, 'pr': 15818, 'NATCA': 5363, 'ATCT': 1951, 'httptcohPsiEaokwh': 12999, 'lane': 13995, '1447': 284, 'N351JB': 5343, 'JBLU': 4521, 'Westchester': 7556, 'County': 3017, 'httptcoxX2M2jxQep': 13310, 'flightline': 11228, 'MarinaDomine': 5152, '💙': 19592, 'Customs': 3063, 'EricBradleyPT': 3540, 'httptcoJ6Hb4JDvER': 12574, 'BrianSumers': 2557, 'suffered': 17716, 'fifth': 11100, 'persistence': 15556, 'httptcoWEZUMDimYF': 12812, '1373': 268, 'pooling': 15760, 'Soooooo': 6603, 'sleepy': 17243, 'NoPlaceLikeHome': 5499, 'eventhoughits2degreesathome': 10818, 'setup': 17018, 'join': 13849, 'pid': 15615, 'Twice': 7080, 'dim': 10270, 'maatkare67': 14357, 'TatianaKing': 6874, 'thewayoftheid”haa': 18046, 'Blushing': 2500, 'container': 9677, '18Gal': 467, 'totes': 18277, 'httptcomJtK2SFuhG': 13090, '1680': 386, 'flight108': 11199, 'pwm': 16082, 'redirect': 16288, 'httptcoVxn2J36M7V”': 12806, 'stole': 17596, 'discovered': 10330, 'theft': 18026, 'stealing': 17551, 'Security': 6471, 'cameras': 9059, 'SYR': 6393, 'hitch': 12035, 'hike': 12015, 'passengersarepeople': 15467, 'LUGGAGE': 4836, 'GET': 3961, 'TOGETHER': 6805, 'Relax': 6133, 'Adv': 2017, 'companies': 9523, 'madness': 14366, 'httptco7x9uSbj2FV': 12368, 'goodnight': 11667, '616': 1401, 'comfortably': 9485, 'civilized': 9338, 'DatingRev': 3204, 'lag': 13981, 'infants': 13565, 'aiecraft': 7958, 'CODE': 2706, 'TEST': 6783, 'httptcoBBM6PAbORt”': 12426, 'ltltNow': 14326, 'fuckin': 11477, 'LBAirport': 4771, 'LongBeachCity': 4950, 'establish': 10792, 'facilities': 10966, 'httptcojByVMsOd29': 13026, 'nytimes': 15115, 'httptcoatd2Sm8HF4': 12890, 'Navigating': 5441, 'rebooks': 16226, 'flu': 11276, 'possibility': 15792, 'gonenow': 11653, 'charlestonvery': 9227, 'pricy': 15921, '1274': 224, 'zombie': 19451, 'Welp': 7547, 'httptcokwUEk1uKbC”': 13051, 'httptcoui9M8YpzH2': 13255, 'WSJ': 7491, 'thy': 18125, 'httptco7XMaV13G2W”': 12360, 'httptcoEla7TNtcIR': 12490, 'SC': 6265, 'chging': 9277, 'isit': 13731, 'redemption': 16284, 'barbados': 8554, 'Cuba': 3049, 'httptcoFTv2NWWQF1”': 12503, 'froward': 11458, 'httptcoM2wSg2olgo”': 12628, 'Btw': 2579, 'workednot': 19247, 'Works': 7628, 'deny': 10134, 'httptcoeNXV64RkbU': 12948, '👉🚪RT': 19556, 'httptcodSDEbodmEL': 12929, 'httptcog97HAbyeP5”': 12978, 'sway': 17814, 'httptcotQc96tKcI9”': 13227, 'um': 18503, 'wut': 19347, 'httptcoM4UWcPxtXJ”': 12629, 'httptcolchVJoliDg': 13066, 'httptcoEUl6sDURbU': 12487, 'SHUT': 6310, 'DOOR': 3153, '🙅': 19704, 'transferring': 18323, 'contributiontopool': 9702, 'Gotcha': 4089, 'Enjoy': 3525, 'ARC': 1941, 'rely': 16386, 'extractions': 10943, 'abducted': 7754, 'lessening': 14092, 'parts': 15455, 'agencies': 7924, 'httptcoQRxz0bGbtq': 12712, 'WMCActionNews5': 7478, 'MEM': 5038, 'httptcoGbd5R1OlSI': 12526, 'httptcovO3eQsEPqH': 13272, 'httptcoP6eef1zWzc': 12685, 'hereWhen': 11989, 'httptcoIRiXaIfJJX': 12566, 'BucketObolts': 2580, 'httptco7iM9rHIvyR”': 12364, 'httptcoTnKIXXrxHB”': 12762, 'CEOs': 2664, 'appease': 8218, 'Wall': 7505, 'Street': 6708, 'Columbian': 2939, 'httptcopG96ys9aSW': 13155, 'weepysweetmonty': 19045, 'compartments': 9535, 'MrJustyn': 5320, 'studying': 17673, 'lingo': 14162, 'depressing': 10158, '1316': 251, 'Jax': 4578, 'ty': 18469, '😳': 19701, 'LOLOLOLOLOL': 4814, 'httptcoYXSwFq9tGP”': 12854, 'httptcompi4yuo9jR”': 13099, 'overreacting': 15360, 'httptco5KshTUe6Q0”': 12320, 'chips': 9294, 'E190': 3391, 'tails': 17871, 'relieved': 16383, 'neighboring': 14887, 'httptcog12sn5qsqZ”': 12977, 'httptcoLSYbgLF59j”': 12619, 'OMGee': 5556, 'OnFleek': 5615, '😭😁😆😵': 19693, 'JetBlues': 4600, 'battles': 8580, 'Waterbury': 7523, 'Republican': 6155, 'httptcofW3cy8HGdJ': 12966, 'httptcoaJM3BhJVaa”': 12879, 'foh': 11321, 'httptcotEjrN09tfw”': 13220, 'NOOOOOOOOOOOOOOOOOO': 5392, 'chats': 9238, 'httptcorKorHvR9z1': 13193, 'contentmarketing': 9683, 'staring': 17518, 'blank': 8748, 'httpstcog4WwR6VBRQ': 12196, 'httptcozQuTUS7epW”': 13334, 'mag': 14367, 'kangaroos': 13885, 'rectified': 16274, 'httptco58B7swRpmq”': 12315, '😂😂😂': 19613, 'httptcoBBaONx9txD”': 12427, 'deemed': 10056, 'httptcoW9BQiw0aou”': 12809, 'investors': 13706, 'Toledo': 7005, 'Blade': 2482, 'httptcoR4xJXQRX1z': 12724, 'httptcoHovuAIsG16”': 12554, '😂😂😂😂': 19614, 'httptcoIUX94Rgc83”': 12567, 'httptcoXX5QSCjlL1”': 12838, 'BrandsSayingBae': 2544, 'Freberg15': 3909, '😩RT': 19682, 'httptcolsxJI0oUvR”': 13070, 'httptcopr3OeBC2N2”': 13167, 'httptcoX7iLzqdwe2': 12829, 'httptco4LlWi5oxvO”': 12302, 'lmfaooooo': 14199, 'httptcoFVYzjLDTON”': 12505, '🚶🚶🚶🚶': 19716, 'Indeed': 4435, 'planewide': 15673, 'System': 6767, '3yrold': 1035, 'Nassau': 5432, 'greatgranny': 11719, '103': 64, 'FlyingitForward': 3872, 'YASSSSS': 7664, 'Da': 3172, 'Fuccc': 3937, 'httptcooAJ5mnuchA': 13128, 'httptcowe7Pf5Ll1Y”': 13299, 'sm': 17270, 'httptcol0i8fnz3KU”': 13052, 'httptcoERzht75kqZ': 12486, 'unfollowing': 18572, 'fustrated': 11513, 'preciation': 15841, 'Nj': 5491, '✈️Tampa': 19510, '🔵🔵🔵': 19601, 'lord': 14265, 'why“JetBlue': 19146, 'httptconlzS1Ehnee”': 13114, 'httptcopa7dCjXlzL”': 13163, 'fam😭😭': 11009, 'httptcoiZfofgjzUi”': 13020, 'httptcocRFrwpc1Sx”😂😂😂': 12912, 'Fedora': 3732, 'httptcoqqlzk2jkzR': 13183, 'NO“JetBlue': 5394, 'httptcoUgFCKErmrW”': 12782, 'httptcoRLWBJ80mA5”': 12729, 'httptcoHP9RPPCvHx': 12544, 'httptcorinzYSK6kI': 13197, 'httptco1incNCaV4n”': 12247, 'lolol': 14242, 'smyc88': 17298, 'tongueincheek': 18245, 'etiquette': 10806, 'httptcoGGuAA1JvDF': 12523, 'httptcoG4O6yX7TMJ': 12519, 'httptcoW0HOAewhwS': 12807, 'fights': 11102, 'httptcoQ16Xvwg0L6”': 12701, 'httptcodxn58rxDkS”jameskraw': 12941, 'STAHHPPP': 6352, 'httptcoVHFJGneOZO': 12793, 'JetBlue…': 4601, 'Just…': 4647, 'httptcomB3IPGs8zQ”': 13082, 'Brands': 2543, 'httptcosKEbqKtxvX': 13203, 'httptconJ5Ga1gds5”': 13106, 'this“JetBlue': 18083, 'httptcokHZrCCyp2A”': 13040, 'shits': 17075, 'httptcoPEQ90pqMpp': 12687, 'httptcoa7NvbJ8ipx”': 12875, 'JetBae': 4593, 'httpstcoyZXfe7au22': 12216, 'Welllllll': 7546, 'httptcodHHomG2kiX': 12921, 'httptcogHJBp5Gg67”': 12981, 'Peak': 5843, 'Caucasity': 2808, 'httptcocSNRPVY9b9': 12913, 'httptcouTdfqF5WPA': 13248, 'Moves': 5316, 'httptcot9s68korSN': 13218, 'Sir': 6556, 'httptcoF5IXyw8XyB': 12495, 'httptcoAc6zwmuOOn”': 12412, 'httptcolvIrTDtqly”': 13072, 'httptcoQ5a7jtkI5K”': 12705, 'httptcouKM4e99Dz0”': 13245, 'lmaoooo': 14197, 'Delete': 3245, 'httptcoy5qE9HcQzT”': 13319, 'duh': 10545, 'hired': 12026, 'Lmfaooo': 4936, 'httptco1G9RnmYUQe”': 12241, 'thewayoftheid': 18044, 'assuage': 8333, 'indignation': 13549, 'records': 16265, 'exits': 10892, 'wens': 19065, 'a320s': 7731, 'Okayd': 5607, 'httptcoknUVuOVhub': 13049, 'ago“JetBlue': 7945, 'httptcoLYcARlTFHl”': 12621, 'httptcoudPq0flIQo”': 13252, 'cultural': 9891, 'appropriation': 8241, '😩😩😩': 19685, 'httptco46am1BSi2G”': 12293, '😑“JetBlue': 19644, 'httptcoV5QWkYXSW6”': 12789, 'community': 9518, 'managers': 14403, 'httptcoe2AXlqzWvh': 12947, 'martysg': 14438, 'Regards': 6126, 'ballin': 8539, 'httptcojm4GeyXbY5”LOL': 13034, 'httptcocpZB285o71': 12918, 'bostongarden': 8828, 'welcoming': 19057, 'BLOCK': 2326, 'BIKE': 2323, 'httptco2z3hGqPRSG': 12273, '704': 1503, 'Awww': 2260, 'manbut': 14406, 'thisor': 18082, 'httptcovw2v8GVnGq”': 13286, '😐😑': 19642, '1065': 87, 'httptco4KH92mKoTZ': 12299, 'toss': 18270, 'ticketits': 18138, 'wit': 19196, '👀👀': 19555, 'httptcoWJYAs2D94n”': 12815, '……': 19488, 'httptcovOsIzh17sl”': 13274, 'httptcoK66SRFnw77”': 12592, 'httptcoXASPqDsqhE”': 12831, 'httptco3kVkd8yRxa”': 12285, '340': 915, 'brink': 8903, 'bankruptcy': 8550, 'httptco01ldxn3QqQ”': 12219, 'LAXNYC': 4759, '190': 472, 'Xx': 7660, 'httptcoxxppZo88j1': 13317, '1way': 527, 'LAXNYCarea': 4760, 'httptcoCXTTxV2lMP”': 12450, 'httptcoar0VayLmFc”': 12889, 'Lmao': 4935, 'fleet’s': 11183, 'httptcoHi6Fl1AX9E': 12552, 'httptco5xGnyHGAFz”': 12331, 'sporting': 17463, 'httptcoFRAqDPKyga”': 12500, 'hellobrittNEY': 11955, 'httptcoNfjAuW16vZlt😕': 12668, 'STAHP': 6353, '😂😂😭😭😭😭': 19617, 'httptcoBM2unRaOnI': 12432, 'httptcot2qBGAMfpc”': 13211, '👀': 19554, 'BOOOO': 2339, '🍅🍅🍅🍅': 19545, 'httptco0WbJAWx7xD': 12228, '😐': 19641, 'httptcoQavvlAXLkl”': 12714, 'bops': 8818, 'newspaper': 14925, 'thewayoftheid”': 18045, 'httptcoY39YzDpBvU': 12848, 'httptco62GoDFaKNB”': 12334, 'httptcoMB0hVfqB1t”see': 12631, 'ihop': 13429, 'httptcoRkwugmanM9”': 12735, 'lmao': 14196, 'httptco413GiAL0yl': 12290, 'multimedia': 14788, '❤️❤️❤️“JetBlue': 19533, 'httptcoUHUmAskLdv”': 12775, 'httptco826Pkiq5HI': 12370, 'too😊😊': 18261, 'httptconcguZDgDaQ': 13113, 'httptco8o3SCR5EFW”': 12381, 'Nah': 5418, 'httptcoHez4jk4ZsK”': 12550, 'httptcotLGoihqkvS”': 13224, 'YALL': 7662, 'httptcoLQjT2jvOYS”': 12618, 'good💙💙💙💙': 11671, 'courteroy': 9795, 'LOLZ': 4815, 'Fleek': 3780, 'tweeter': 18449, 'USINGTHISWORD': 7285, 'COMPANY': 2708, 'httptcoFd2TNYcTrB': 12508, 'httptcoJMnkJ6Bmc2”': 12582, 'Blizzue': 2489, 'hizouse': 12038, 'httptcoLv9HwQDK9A”': 12627, '✌️': 19518, '123': 205, 'Mint': 5262, 'httptco6H5uEZH4cv': 12339, 'httptcoyZH4ZRQM0i”': 13324, 'petty': 15570, 'httptcoH11jglw74L”ayyy': 12533, 'hahah': 11822, '😂👌👌👌': 19610, 'httptco7VeE44MACM': 12359, 'httptcomFSsh2UHUe”': 13087, 'LMFAO': 4811, 'httptcovOUUFRN4jS”': 13273, 'YASSS': 7663, 'reconsidering': 16259, 'httptco1yLn1Gx4QX”': 12251, 'woof': 19236, 'thatlol': 18015, 'httptcoI7Ut2ZvHCO': 12556, 'httptco3Ltx7JKBo9”': 12280, 'httptcowGYzTnjCXm': 13293, 'httptco2UaICFJRmS”': 12263, 'httptcoPULp4i0w96”': 12690, 'httptcooxsA8btVTB': 13145, 'Bruhreal': 2574, 'httptcodqny4aKTg9': 12938, 'httptco9SHhTvIOTI': 12388, '💯💯💯': 19600, 'httptcoSrM13qbRZD': 12751, '😩😩😩“JetBlue': 19686, 'httptcoBBHTlZgH2C”': 12425, 'httptcogdzadXzBYA”': 12987, 'httptcoaIyC9WV5oq”': 12878, 'digg': 10262, 'Haha': 4179, 'httptcoKmaNLdQbh4”': 12608, 'httptcokVXs1lCqLp”': 13043, 'alynewton': 8068, 'donut': 10452, 'designer': 10175, '😩😂😂😂😂': 19684, 'httptcoyco9dikpt9”': 13326, 'ducttaped': 10540, 'ohboy': 15168, 'shouldigetoutandpush': 17111, 'flying…': 11306, 'httptcoR9ZsVzuRLw': 12725, 'httptcoIMVMpnQXAI': 12564, 'chairs': 9193, 'TLC': 6799, 'UniversalORL': 7342, 'httptcotNY9uIpha5': 13226, 'citystrangeand': 9336, 'alternatively': 8059, 'charter': 9232, 'PITT': 5725, 'gladly': 11616, 'Tweet': 7077, 'York…': 7702, 'httptcoQygXGmd3Sn': 12722, 'drawing': 10498, 'Irina': 4483, 'flipside': 11255, 'EatUp': 3470, 'Cafe': 2749, '1914': 475, 'buggy': 8947, 'mons': 14723, 'abassinet': 7750, 'Gerne': 4028, 'Stupid': 6717, 'methods': 14564, 'debit': 10035, 'BillMeLate': 2467, 'timesEverytime': 18170, 'Auto': 2241, 'Vmsgyour': 7448, 'Rates': 6088, 'sudden': 17711, 'httptcoKk6EixifP5': 12605, 'Nantucket': 5423, 'Aviation': 2247, 'Mark': 5155, 'glass': 11620, 'dig': 10261, 'heels': 11949, 'novel': 15080, 'jeffhofmann': 13802, 'DeniseJTaylor': 3256, 'LaurieAMeacham': 4873, 'multix': 14793, 'strollers': 17654, 'EMS': 3405, 'environment': 10753, 'surely': 17775, 'misspelled': 14676, '19JUN6SEP': 492, 'Joanna': 4615, 'Geraghty': 4024, 'Unlike': 7344, 'nyjets': 15114, 'GoPatriots': 4061, '25m': 722, 'westpalmbeach': 19073, 'flybetter': 11292, 'Chasing': 2849, 'selfcheck': 16955, 'Ended': 3517, 'RedSox': 6117, '❤️NY': 19528, 'catsanddogslivingtogether': 9144, 'httptcoKFUyYoKUFv': 12597, 'pearl': 15518, '460': 1177, 'Departure': 3261, 'complex': 9568, 'pulldown': 16050, 'suboption': 17690, 'formsmaddening': 11381, '25100': 704, 'Waldorf': 7503, 'Astoria': 2217, 'outfit': 15310, 'liking': 14147, 'Hence': 4247, '653': 1445, 'opposite': 15257, '2324': 658, 'Dca': 3215, 'Robert': 6213, 'shocker': 17086, 'Mosaic': 5309, 'attended': 8369, 'Daniel': 3196, '1557': 326, 'Webpage': 7533, '8162': 1637, 'Fl382': 3776, 'sittin': 17196, 'birder': 8716, 'trap': 18337, 'Rats': 6091, 'sloooooow': 17257, 'year”': 19372, 'JFKSFO': 4533, 'pure': 16068, 'awesomeness': 8442, 'Tim': 6979, '1918': 477, 'separating': 16984, 'safetyconcerns': 16770, 'httptcozTrDwV0N4l': 13337, 'Cali': 2754, 'idk': 13414, 'FlyFi': 3854, 'httptcoT1RYpzEBc8': 12755, '15hrs': 345, 'mint': 14631, 'emaleesugano': 10661, 'odds': 15140, 'reunited': 16590, 'delinquent': 10114, 'homeward': 12069, 'specified': 17429, 'Monsoon': 5297, 'selfies': 16957, 'amybruni': 8117, 'DIRECTTV': 3127, 'devastated': 10214, 'bridges': 8891, 'gatestill': 11541, 'jetblues': 13823, 'httptconcB2oNcS9i': 13112, 'measured': 14490, 'Large': 4862, 'extralight': 10944, 'Flyfi': 3868, 'zakkohane': 19444, 'Ricoh': 6189, 'happytohelp': 11876, '611': 1398, 'worlds': 19266, 'maimi': 14375, 'maimi😭': 14376, 'backup': 8485, 'Cosmopolitan': 3005, 'blacklist': 8741, 'Goodwill': 4084, '12500': 216, '27000': 743, 'x': 19350, 'Fine': 3759, '136': 266, '1123': 139, 'contactless': 9674, 'EMV': 3406, 'testing': 17983, 'younger': 19408, 'siblings': 17138, 'diffused': 10260, 'mosaic': 14744, 'perks': 15551, '5lbs': 1373, 'inflation': 13572, 'nexttime': 14927, 'andthewinneris': 8127, 'guys😍😍😍': 11808, 'httptco3X9NRUOvtS': 12281, 'WEEK': 7471, 'terms': 17970, 'httptcoJi2pg4gom9': 12590, 'ABCNetwork': 1885, 'permissions': 15555, 'whyabcwhy': 19135, 'shannonwoodward': 17051, 'nerds': 14896, 'geeks': 11550, 'dressed': 10508, '0510': 21, 'informs': 13585, 'exceed': 10852, 'the16': 18020, 'julesdameron': 13868, 'Considering': 2980, 'Accessibility': 1988, 'MUST': 5094, 'Equality': 3538, 'abc': 7752, 'missingtheoscars': 14673, 'ooookay': 15234, 'reactions': 16187, 'tap': 17895, 'readers': 16193, 'shiver': 17081, 'forevercold': 11360, 'Scheduled': 6449, '815p': 1635, 'SDQ': 6273, 'httptco7gB0hgW51t': 12363, 'dissapointed': 10372, 'paseengers': 15457, 'Santo': 6425, 'Domingo': 3334, '9hrs': 1786, '98': 1769, 'surfboard': 17778, 'BQN': 2353, 'gif': 11596, 'thng': 18085, 'httptcoML1JaCpmch': 12636, 'forecast': 11352, 'prechk': 15839, '8PM': 1700, 'costumers': 9758, 'disorganization': 10350, 'GetItTogether': 4030, 'Medium': 5201, 'tanked': 17894, 'JUSTWRONG': 4552, 'Names': 5421, 'SJ': 6315, 'Alamo': 2062, 'Tatiana': 6873, 'Ali': 2073, 'aha': 7953, 'serv': 16992, 'Smith': 6582, 'oust': 15303, '2070': 563, 'Space': 6630, 'Tx': 7087, 'accurately': 7813, 'FinleyBklynCFS': 3765, 'video”': 18823, 'mgood': 14570, '2601': 731, 'sayas': 16828, 'dissatisfiedthanks': 10378, 'Treat': 7036, '1106': 125, 'Preciate': 5939, 'WELLmy': 7473, 'essentially': 10788, 'focus': 11318, '214': 598, 'psgrs': 16037, 'AKA': 1909, 'BUS': 2371, 'httptcoKfKjF1ZtGi': 12603, 'Nikon': 5488, 'reliablefriendly': 16380, 'repexper': 16430, 'smell': 17279, 'nd': 14861, 'undrstnd': 18560, 'wlcm': 19209, 'onbrd': 15203, 'bulb': 8952, 'cabcelled': 9018, 'Jetblue': 4605, 'apologizes': 8203, 'Wrong': 7644, 'DONE': 3150, 'Byebyejetblue': 2616, 'Token': 7000, '7500': 1557, 'stairs': 17503, 'distances': 10382, 'itboarding': 13753, 'untz': 18665, 'untzlike': 18666, 'httptcolj2lARivE0': 13069, 'jetbluefail': 13815, 'httptcov8SB0RBICx': 13262, 'httptcovPDRPLXj5a': 13276, 'snowbound': 17318, 'scent': 16852, 'tht': 18119, 'httptcoLAiGgef9Kj': 12612, 'deli': 10108, 'sFO': 16755, 'customerservicenot': 9928, '2008': 535, 'prefference': 15859, 'Esp': 3546, 'httptcox6SYW3MDVu': 13302, '1025': 61, '805am': 1624, '1117': 133, 'httptcoHDoXiM6NZ2': 12538, 'north': 15028, 'httptcoclvlhfgUZw': 12917, 'criminal': 9860, 'httptcoqgtCao1J2U': 13179, 'httptcolKFh9HYHW8': 13059, 'resulting': 16558, '10minute': 111, 'httptcoMzZfGqfHu2': 12643, 'JFKEven': 4527, '50000': 1240, 'inconceivable': 13521, 'httptcoq9n6NZYSpK': 13170, 'Third': 6951, 'Syracuse': 6766, 'ishouldhavedriven': 13730, 'dick': 10236, 'httptco2HXsDP0ha4': 12258, 'httptco49FLbgzZkd': 12295, 'Domestic': 3333, 'ChrisHasMadeUsBLUSH': 2880, 'trending': 18374, 'increments': 13537, 'cArpet': 9015, 'httptcoiIdrbLNOoX': 13016, 'pics': 15612, '37000ft': 959, 'bluecarpet': 8776, 'SEA✈️BOS': 6279, 'Wouldve': 7642, 'Hayes': 4212, 'USChamber': 7280, 'summit': 17736, 'ought': 15300, 'perspective': 15565, 'expressed': 10932, 'communicationiskey': 9515, '599': 1362, '1970': 487, '3yr': 1034, 'Hawaiian': 4209, 'HawaiianAir': 4210, 'PEOPLE': 5694, 'ventilation': 18798, '🙌✈️': 19709, 'president': 15892, 'goodwill': 11670, 'hunkydory': 13363, '1159': 164, '1384': 270, 'broinlaw': 8909, 'Craziness': 3028, '118': 170, 'garage': 11532, '🌴': 19543, 'replyingI': 16440, '☺️✈️': 19500, 'dobut': 10417, 'timethatll': 18173, 'Yea': 7686, 'Expediatheres': 3591, '☺👍👍': 19502, '561': 1337, 'httptco4Ktk2hsmGy': 12301, '584': 1352, 'luggagegate': 14336, 'Yoga': 7700, 'edits': 10611, 'msbgu': 14772, 'MBAs': 5015, 'am✈️': 8119, 'justify': 13877, '1415': 280, 'reassign': 16217, 'Endless': 3518, 'SRQ': 6348, 'PTO': 5772, 'MintyFresh': 5264, 'brandmance': 8862, 'Fourhour': 3897, 'Tv': 7075, 'B6': 2275, '1691': 391, 'CTG': 2734, '1562': 328, 'Figure': 3746, '2littlebirds': 812, 'captured': 9094, 'Brittany': 2563, 'ride”': 16618, 'Newburgh': 5473, '795': 1591, 'loweredexpectations': 14313, 'yest': 19385, '12amToday': 234, 'txtemail': 18467, 'inform': 13579, 'Enzo': 3535, 'Setorii': 6501, 'pooch': 15759, 'httptcodLh9138HBg': 12924, 'T5': 6771, 'directing': 10284, 'Promo': 5978, 'httptcoleNaOwFyvU': 13067, 'httptcoepqqONHO2H': 12960, 'buf': 8943, '845am': 1656, 'bevies': 8684, 'alcohol': 8017, 'CookJaycook123': 2995, 'Amagrino': 2097, 'Landing': 4861, 'wiyh': 19202, 'jetbluerocks': 13822, 'newborns': 14919, 'HPN': 4167, 'Several': 6502, 'inebriated': 13553, 'league': 14050, 'DEPLANE': 3116, 'closure': 9389, 'THIRD': 6789, 'httptcoUfBdr5AxeO': 12781, 'Using': 7368, 'quickie': 16107, '1533': 315, 'Cartagena': 2802, 'praises': 15824, 'pact': 15396, 'organizational': 15275, 'Chartering': 2847, 'sugar': 17720, 'idlovetoask': 13415, 'httptcoDPX3yoGTEj': 12466, 'startled': 17523, 'description': 10167, 'expanded': 10895, 'Bonnie': 2512, 'gorgeous': 11674, 'httptco5Db9eSBNzG': 12318, 'beach': 8594, 'httptcoobqIro1bUJ': 13138, 'Newburg': 5472, 'Touchdown': 7018, '226': 639, 'JetBlueRocks': 4598, 'any1': 8180, 'rly': 16644, '830a': 1647, '9a': 1779, '930a': 1744, '10a': 104, '11a': 177, '1130a': 142, 'gracious': 11690, 'BUY': 2372, 'beltI': 8651, 'Investigation': 4475, 'tux': 18442, 'UMosaicMeCrazy': 7229, 'httptcohap4gboSTU': 13005, 'cannedtweet': 9074, 'autoresponse': 8407, 'demanded': 10124, 'handles': 11847, 'ALOT': 1915, 'waved': 18983, '489': 1206, '589': 1355, 'inserted': 13618, 'TrueBlueColors': 7049, 'flight16': 11203, 'circling': 9326, 'timeSomeone': 18160, 'updateyourwebsite': 18678, 'lil': 14149, 'desires': 10178, 'httptcoWmX12F33ZC': 12822, '1045': 75, '11am': 178, 'communicationFAIL': 9512, 'dobetterJetBlue': 10416, 'ideal': 13406, 'flt1533': 11267, 'Carta': 2801, 'wat': 18974, 'cpap': 9810, 'apnea': 8198, 'httptcoBTvpxTZJu0': 12435, 'Glenn': 4053, 'Coles': 2930, 'BuffaloNiagara': 2589, 'Top': 7012, 'direction': 10285, 'httptcosEUlpvfn95': 13201, 'airportwide': 8000, 'unlucky': 18621, 'nowSunshine': 15082, 'Tryna': 7058, '502': 1248, 'woulda': 19299, 'hmmm': 12040, 'haning': 11860, 'mosaicmecrazy': 14745, 'nofilterneeded': 14976, 'FlyFi…': 3855, 'httptcoNY6CS7jRuV': 12662, 'circle': 9324, 'upstate': 18702, 'miraculously': 14640, 'liftin': 14132, 'higherandhigher': 12011, 'httpstcoxGfS6tJTMo': 12214, 'httptcoixM3t5mIZc': 13023, 'resources': 16514, '😭😭😭😭': 19697, 'BrandLoveAffair': 2540, 'soulandinspiration': 17389, 'httpstcoIGkoGyWksr': 12183, 'umosaicmecrazy': 18505, 'Issue': 4492, 'Closer': 2918, 'ACY': 1897, 'takr': 17884, '1100pm': 122, '906': 1726, 'httptcozvfmxnuELJ': 13342, '904AM': 1722, 'httptcoiEG2ObcEpp': 13013, '622': 1411, '2301': 653, '405': 1058, 'Erie': 3541, 'fllairport': 11259, 'kill': 13917, 'nine': 14947, 'port': 15777, 'authority': 8396, '751': 1559, 'america': 8084, 'scheme': 16862, 'badairline': 8490, 'Pitts': 5885, 'MDE': 5029, '475': 1196, 'tf': 17991, 'tfgreenairport': 17992, 'wore': 19243, 'protection': 16022, 'Int': 4462, 'sylvie75015': 17837, 'Sylvie': 6765, 'yourock”': 19413, 'mxo42': 14808, 'henrikwagner73': 11983, 'followup': 11334, 'Yep': 7692, 'srsly': 17488, 'eternity': 10802, '5amMisery': 1366, '723': 1523, 'Animal': 2137, 'HELLA': 4145, '948': 1752, 'Highlight': 4260, 'bumper': 8962, 'AmericanAirBR': 2106, 'Everyones': 3566, '2emailed': 797, 'surprises': 17789, '1222': 198, 'e190': 10564, 'Shocked': 6525, 'misbehavior': 14642, 'airways': 8006, 'Dubai': 3372, 'controllers': 9707, 'equalizer': 10761, 'dgruber1700': 10226, 'shucks': 17131, 'GOOD': 3979, 'engagements': 10714, 'tarmat': 17900, 'minimum': 14621, 'Earlier': 3458, 'Pandoras': 5796, 'backhome': 8476, 'noplacelikehome': 15022, 'relationships': 16368, 'httptcovGqOihtRkH': 13268, 'MaddieFlood': 5105, 'hesitant': 11995, 'sized': 17206, 'LET': 4778, 'MAKE': 5013, 'FUN': 3676, 'SIZE': 6314, 'COOKIES': 2714, 'stuckonaplane': 17670, 'sos': 17386, 'babyfood': 8466, 'rum': 16736, 'coke': 9448, 'cushy': 9911, 'HelpLindsey': 4238, 'motherinlaw': 14752, 'NHLonNBCSports': 5377, 'Inept': 4441, 'JFKyou': 4536, 'rethink': 16567, 'Unprofessional': 7348, '454': 1161, 'PBIJFK': 5686, '25hours': 720, 'hatch': 11896, 'flite454': 11257, 'interupt': 13686, 'Staduim': 6666, 'Series': 6492, 'Emergency': 3507, 'release': 16375, 'ijustwanttobeinBoston': 13431, 'thanksDC': 18003, 'flite': 11256, 'suckwe': 17710, '790': 1589, 'LBurley11': 4773, 'praise': 15822, 'CHS': 2682, 'callbackthe': 9040, 'concerning': 9590, 'hasshe': 11891, 'loststolen': 14278, 'ADA': 1898, 'sex': 17025, '2202': 616, 'goodcustomerservice': 11658, '8088': 1626, 'SXMgtJFK': 6391, 'c26': 9014, 'nj': 14955, 'wouldn’t': 19303, '2morrow': 816, 'compd': 9539, 'Cory': 3004, 'Greatcustomerservice✈☺': 4102, 'Party': 5809, 'incase': 13494, 'Charles': 2843, 'cave': 9153, 'glasses': 11621, 'annual': 8158, 'HeinekenUSACorp': 4227, 'distributor': 10387, 'livethelegend': 14190, 'mercy': 14541, 'playlist': 15693, 'seeks': 16933, 'Journal': 4632, 'httptco9bzqZQx8DC': 12391, 'C12': 2619, 'httptcoltwhmOL1Dr': 13071, 'rainsleet': 16135, 'instant': 13633, 'lipstick': 14170, 'pig': 15619, 'belttoolong': 8652, 'restless': 16546, 'ST': 6350, 'Maarten': 5101, 'Exciting': 3577, '😁🎉': 19605, 'httptcoXf9MPnAaJE': 12842, 'tempting': 17960, 'sodone': 17339, 'treacherous': 18362, 'Counting': 3015, '989': 1770, 'rockers': 16668, 'knock': 13946, 'JohnNosta': 4619, 'SXM': 6389, '684': 1467, '526': 1292, '1272': 223, 'httptcoE0R0NTO4TR': 12479, 'httptcoNRpWmGyv3e': 12658, 'allowances': 8038, 'helped🆘🆘🆘🆘🆘🆘🆘🆘🆘🆘🆘🆘🆘🆘': 11965, 'lizaapproved': 14195, '82°': 1644, 'predicted': 15849, 'httptcoufyxXkIsa3': 13254, 'PGAShow': 5697, 'Mosaiccant': 5310, 'weathers': 19021, 'Phew': 5862, 'Pant': 5798, 'Wheeze': 7569, 'httptcoZPZ78POeON': 12866, 'warmer': 18955, '1089': 96, '1098': 97, '716': 1516, '2030': 551, 'pricewise': 15918, 'cough': 9763, 'compact': 9522, 'folding': 11323, 'httptco9nivw9ftZw': 12394, 'redo': 16291, 'thismosaicnothappy': 18081, '1002': 40, 'httptcoK7uBOTMr1r': 12593, 'regularly': 16348, 'asleep': 8311, 'bestdressed': 8666, 'Stewardess': 6693, 'giggled': 11600, 'goodgenes': 11662, 'ilookyoung': 13438, '31317': 871, 'LB': 4770, 'ItsLaLoca': 4503, 'CARE': 2646, 'jumping': 13872, 'downThanks': 10473, 'airlinehate': 7984, 'Absolute': 1982, 'Needs': 5447, 'condolences': 9603, 'viraltech': 18834, 'creates': 9837, 'institutional': 13636, 'Revenue': 6177, 'predictive': 15850, 'analytics': 8120, 'forecasts': 11354, 'Alicia': 2074, 'ExceptionalService': 3575, 'lauderdaleBogotá': 14019, 'Colombian': 2935, 'disapptment': 10306, 'bdng': 8592, 'tad': 17864, 'ASSURED': 1949, 'earthquakeHaiti': 10587, 'rebuilding': 16229, 'flyingitforward': 11304, 'chatted': 9239, 'lowdown': 14309, '33036': 896, 'paulgordonbrown': 15498, 'hug': 13347, 'httptcoLT1pYKfvRq': 12620, '2gether': 799, 'confs': 9619, 'session': 17011, 'beloved': 8649, 'paulgordonbrownI': 15499, 'httptcovv8cFyhKVb': 13284, 'itenary': 13757, 'heckbooked': 11946, 'foreverrrrrr': 11361, 'CUSTOMER': 2739, 'marathon': 14421, '2a': 783, 'FlightLED': 3794, 'Fliers': 3783, 'Gain': 4003, 'Access': 1987, 'Content': 2986, 'Analyst': 2123, 'Blog': 2490, 'Nasdaq': 5427, 'httptcodWEse7Xidr': 12932, 'nixchangefees': 14954, 'PortAuPrince': 5921, 'Haiti': 4182, 'orphan': 15287, 'httptcofn2QXybT9K': 12972, 'villages': 18828, 'httptcolTf2quD3Xc': 13062, 'booksampmedicine': 8807, 'orphanage': 15288, 'httptcopGoeUXnsPI': 13156, 'Covered': 3021, 'Dakota': 3177, 'Financial': 3756, 'News': 5475, 'httptcoWOwxhpU5qv': 12817, '17monthold': 429, 'foldup': 11324, 'crib': 9857, 'Forward': 3894, 'campaign': 9062, 'httptcoYh1KZkYZrR': 12857, 'httptcowmO6tKqhXp': 13300, 'usatodaytravel': 18733, 'dualcam': 10538, 'RedReserve': 6116, 'Stock': 6697, 'Rating': 6090, 'Lowered': 4980, 'Vetr': 7426, 'Inc': 4420, 'httptcoQW2eBEEMVg': 12713, 'Greedy': 4105, 'foolish': 11340, 'waiver': 18924, 'benjaminokeefe': 8658, 'coat”Unfortunately': 9429, '❄️⛄️': 19522, 'WereNotinCaliAnymore': 7551, 'beverages': 8683, 'NYers': 5414, 'happytweet': 11877, 'TuftsEnergyConf': 7065, 'Breaking': 2550, 'Barriers': 2413, 'Clean': 2908, 'Energy': 3519, 'Iata': 4393, 'httptcoFFc13zYGJS': 12497, 'httpstcodbcvEPn5QC': 12194, 'Bluemanity': 2498, 'CoreValues': 2999, 'Passion': 5816, 'AeroJobMarket': 2024, 'LifeIsGood': 4906, 'nigga': 14939, 'guacamole': 11779, 'weatherhere': 19018, 'westpalmbeachbound': 19074, '🌞✈️👸': 19542, 'Strong': 6712, 'Sell': 6482, 'Mideast': 5241, 'httptcoyMMH9k4CBr': 13322, 'zackscom': 19443, 'httptcoGouzrdT7ZF': 12528, 'Define': 3237, 'incidentals': 13502, '162': 365, 'anyways': 8191, 'nomoreaggravation': 14993, 'BOSSJU': 2349, '519': 1282, 'flywhonotblue': 11315, '102': 56, 'wailing': 18904, '672': 1460, '1147': 156, 'nov': 15079, 'kin': 13921, 'bay': 8582, 'flt348': 11270, 'ping': 15631, 'Ping': 5883, 'FerrisSalameh': 3739, 'likelihood': 14144, 'httptcoebxC94kFJD': 12952, '1183': 173, '1225': 200, 'delayforwhat': 10095, '6318915722': 1420, '348': 924, 'sittingonthetarmac': 17199, 'decide': 10042, 'httptcolxwbsfxfj0': 13074, 'nix': 14953, '834': 1651, 'dlewis2412': 10405, 'Inflght': 4443, 'to”': 18296, '2034': 554, 'Shouldnt': 6530, 'thre': 18098, 'ABCLetJetBlueStreamFeed': 1884, '6F': 1478, '1818': 444, 'Planned': 5891, 'cavs': 9154, 'Nooooo': 5513, 'bein': 8637, 'loosing': 14263, 'disturb': 10388, 'dl': 10404, 'httptcoNh2i9ZlzMk': 12669, 'Pura': 5997, 'Vida': 7431, 'Inflight': 4444, 'SharkTank': 6515, 'toplay': 18265, 'vainglorygame': 18769, 'httptcoCmjRIWOP7O': 12456, 'makingthingseasy': 14392, 'feelbetter': 11063, '266': 735, 'LGB': 4790, 'Cal': 2751, 'httptcoV015PK7DSi': 12788, 'effect': 10615, 'markiepost': 14431, 'Markie': 5159, 'Mayweather': 5186, 'Pacquiao': 5785, 'Terra': 6894, 'Mommy': 5289, 'daddy': 9958, 'Corporation': 3002, 'Insider': 4455, 'Trading': 7021, 'Hill': 4264, 'httptcovvzkSMFKVw': 13285, 'airports1st': 7999, 'fitbit': 11155, 'flexes': 11186, 'hgeronemus': 11999, 'completing': 9567, 'installation': 13629, 'A320s': 1799, 'httptcosGckBopATA”': 13202, 'sooooooo': 17376, 'Ridiculously': 6191, '2168': 606, 'checkinbag': 9255, 'blueblackish': 8775, 'MT': 5090, 'httptcomTHM9waObu': 13094, '122': 196, 'pbiboston': 15510, 'NASDAQJBLU': 5362, 'Reaches': 6093, 'High': 4258, 'Range': 6083, 'StreetWise': 6709, 'httptcoC7tpdKqULM': 12444, 'chaos': 9211, 'underway': 18554, 'query': 16097, 'scrum': 16892, 'learnt': 14058, '16mont': 395, 'sondo': 17367, 'Birth': 2473, 'certificateSS': 9182, 'exceptionally': 10859, 'uncourteous': 18539, 'Push': 5999, 'reality': 16203, 'Dare': 3198, 'burger': 8968, 'butnot': 8989, 'grumpy': 11758, 'flight1407': 11202, 'diverting': 10396, 'inflatable': 13570, 'savethoseseats': 16820, '☀️': 19494, 'httptcoTpzhjX7Hbt': 12764, '951pm': 1758, '💔': 19584, 'Thoughts': 6958, '691': 1471, 'Ah': 2034, 'grasshopper': 11710, 'twitterz': 18462, 'kung': 13964, 'fu': 11473, 'httptco8MWItRi9kF': 12375, 'discontinue': 10323, '471': 1193, 'Negroni': 5448, 'bitcoin': 8729, 'dec': 10037, 'Lucia': 4985, '😷': 19702, 'natural': 14850, 'beefjerky': 8619, 'snacks😉': 17303, '1572': 332, 'muscles': 14797, 'frown': 11459, 'SMILE': 6327, 'flyin': 11300, 'JDHADP': 4523, 'Joe': 4617, '633': 1421, 'howhardcanthatreallybe': 12161, 'van': 18779, 'nogearnotraining': 14980, 'warmest': 18956, 'negativedegrees': 14880, 'snowwillnevermelt': 17325, 'hanneslohmann': 11861, 'httptcojWL26G6lRw': 13031, 'Pandora': 5795, 'steward': 17569, 'sunshine': 17746, 'escape': 10780, 'bliss': 8761, 'InDenial': 4417, 'WhatFrozenPipes': 7563, 'httptco6TtzEJV3hY': 12345, 'dontflythem': 10447, 'random': 16148, '1729': 409, 'alarm': 8012, 'older': 15187, 'misread': 14662, '1202': 186, 'AfterAll': 2028, 'httpstcoswWhYhEn76': 12210, 'LoveSongFriday': 4975, 'Cheesy': 2861, '80sweresomuchfun': 1629, 'trading': 18305, 'colder': 9451, 'journal': 13859, 'httptcoPTsbkA4cDJ': 12689, 'lay': 14039, 'BedofRoses': 2436, 'colored': 9461, 'httpstco3QYEzHjGsb': 12171, 'guns': 11800, 'IWouldDoAnythingForLove': 4391, 'httpstcoYx1DQJn8nL': 12191, 'BrandMance': 2541, 'smart': 17276, 'We’ve': 7561, 'partnered': 15450, 'digital': 10265, 'httptco0LiwEcAsOe': 12227, 'OOH': 5559, 'Speaking': 6634, 'MiAmore': 5230, 'IAdore': 4352, 'httpstcofWZClBvuG4': 12195, 'Loving': 4979, 'IDontWannaLiveWithoutYourLove': 4357, 'httpstcoi9KCgaxxFa': 12197, 'ItWasMintToBe': 4495, 'BestInClassSocial': 2455, 'Offer': 5591, 'InFlight': 4418, 'Digital': 3294, 'httptcoucF0B0bQ8r': 13251, 'Stevie': 6692, 'jetgreen': 13827, 'jetred': 13828, 'flightlanding': 11227, 'sunscreen': 17744, 'feelsgood': 11068, 'httptco5PvG2hJXKp': 12321, 'StacyCrossB6': 6665, 'SaharaSams': 6406, 'FLAWLESS': 3642, 'PROUD': 5764, 'BlueHeros”': 2496, 'JETBLUE': 4525, 'disabledtraveler': 10293, 'jamaica': 13789, 'httptcoUr60Un86gy': 12787, 'finder': 11128, 'WikiPearl': 7592, 'NatProdExpo': 5433, 'ExpoWest': 3596, 'EvenMoreSpace': 3559, 'EvenMoreView': 3560, 'httptcodXuX6DBfd3': 12933, 'firsttimeflyingwa16mo': 11148, '2nt': 821, 'internship': 13682, '277': 749, 'tke': 18191, 'div': 10390, 'sis': 17182, 'mega': 14516, 'evenings': 10815, 'Challenge': 2830, 'wager': 18901, 'IsItSummerYet': 4485, 'Thankful': 6913, 'Wylie': 7649, 'httptcojgor0vdI3S': 13033, 'Dre': 3362, 'Snoop': 6585, 'classes': 9351, 'thanksJetBlue': 18005, 'Bring': 2559, 'Princess': 5956, 'Marathon': 5141, 'httptcoD1eRGPdWsJ': 12460, 'trivia': 18395, 'httptcoAucSYKFUHD': 12415, 'WSJPlus': 7492, 'MakingLoveOutofNothingAtAll': 5122, 'brandloveaffair': 8861, 'httpstcokdHRUF54sW': 12202, 'Bottom': 2531, 'taxiing': 17908, 'patienceiswearingthin': 15486, 'AmericanAirs': 2111, 'Admirals': 2013, 'slide': 17248, '290': 765, 'itscostingmeincome': 13767, 'Mintalicious': 5263, 'TrueBlueLove': 7050, 'ShelleyandMarcRock': 6522, 'httptcoxDjzkC34GB': 13306, 'gtgtgt': 11777, 'LostinLove': 4965, 'httpstcoBzwgp7aDVE': 12179, 'wemosaictogether': 19064, 'httptcoLA397zaoAY': 12611, 'whod': 19128, 'bearable': 8600, 'notwheelsup': 15078, 'BOSMCO': 2346, 'Hits': 4272, '52Week': 1297, 'sleekmoney': 17238, 'httptcozdKXn4kTOu': 13338, 'steamed': 17553, 'conjunction': 9629, '7hour': 1603, 'complainer': 9557, 'wyou': 19349, 'Shanese': 6509, 'BryantMelton': 2578, 'grandmother': 11702, 'bucket': 8938, 'flyitforward': 11307, 'TB': 6777, 'Success': 6720, 'httptcoYxn00pnOav': 12861, 'httptcoOf7PFvQpOY': 12679, 'Lines': 4917, 'HoldOn': 4279, 'EverythingsGonnaBeAlright': 3568, 'httpstco64kN6GEEP8': 12173, 'Paper': 5799, 'serviced': 17001, 'Crewmember': 3035, 'CCNDJP': 2657, 'Inconvenience': 4430, 'torture': 18268, 'cling': 9376, 'crewmember': 9851, '3HrDelay': 1012, '669': 1458, 'countless': 9779, 'strips': 17650, 'workhard': 19253, 'playsoon': 15694, 'TheVDT': 6939, 'httptcoVD0tLomtwu': 12792, 'DenverBoston': 3259, '994': 1773, 'BostonDenver': 2529, '493': 1210, 'crumbs': 9876, 'Felt': 3737, 'insult': 13644, 'seven': 17020, 'hip': 12022, 'Sirius': 6557, 'XM': 7653, 'sounded': 17391, '1at': 503, '1stTimeFlyer': 523, 'httptcoo5sifHp4RT': 13126, 'Frustrated': 3929, 'contain': 9676, 'Ricardo': 6183, 'Olavarria': 5610, 'Fixed': 3774, 'walls29': 18941, 'NNY': 5383, 'Mom': 5286, 'kitties': 13937, 'countingdown': 9776, 'erring': 10772, 'Summer': 6727, 'Broadway': 2565, 'httptcodS22ceeEnj': 12928, 'UpWhereWeBelong': 7354, 'httpstcoKtAWbiUUro': 12186, 'httptcoAsYqE1tDjp': 12414, 'suuuuper': 17799, 'HOT': 4161, 'ardent': 8259, 'Poughkeepsie': 5929, 'httptcozSdGzyDNDe': 13335, '12Month': 233, 'WKRB': 7476, 'httptcoXvBjCzlMDA': 12845, '802': 1621, 'A321': 1800, 'JFKSEA': 4532, 'Core': 2998, 'Config': 2969, 'island': 13732, 'SamChampion': 6415, 'httptcoN3SUIip0VW': 12647, 'MarketWatch': 5156, 'httptcoyI4wGUk5tr': 13321, '1055pm': 84, 'Inform': 4446, '😒👺': 19648, 'schedules': 16860, 'Havana': 4205, 'photography': 15598, 'pictures': 15614, 'muchneeded': 14782, 'slowest': 17265, 'cflanagian': 9186, 'httptco7E5bxwG16t': 12357, 'scenario': 16848, 'Camp': 2763, 'starts': 17525, 'toolittletooLate': 18256, 'camp': 9061, '108': 91, '😘🙌': 19657, 'httptco2Nzh3QOaZo': 12261, '670': 1459, 'predictable': 15848, '1503': 303, 'icyflight': 13403, 'poorcommunication': 15763, 'waitingsince': 18915, '424': 1096, 'flight424': 11209, 'carsl': 9122, 'comedic': 9477, 'othr': 15296, '1051pm': 82, 'Unloaded': 7345, 'incomprehensible': 13520, 'frM': 11398, 'HR': 4168, 'fromthefrontseat': 11452, 'jetblueBlues': 13812, 'anku': 8142, 'yaffasolin': 19360, '2302': 654, 'Pereira': 5850, 'Cartago': 2803, 'streets': 17637, 'misunderstanding': 14683, 'kgonzales89': 13908, 'Scandal': 6447, '10hrs': 107, 'tower': 18292, 'inoperable': 13604, 'N615JB': 5349, 'Sox': 6629, 'livery': 14188, 'capture': 9093, 'Uvf': 7373, 'httptcoLj2ZXZN8kG': 12623, 'N775JB': 5353, 'Island': 4488, 'Angel': 2133, '415': 1077, 'loyalmosaicmember': 14318, 'gettingoffplane': 11587, 'BuffaloAirport': 2588, '💙💙': 19593, '606': 1391, '2maro': 813, 'currentlysittingontarmac': 9903, 'mosiacfail': 14746, '833': 1650, 'Helene': 4230, 'reevaluate': 16298, 'httptcopEUc0BMij9': 13154, 'JET': 4524, 'BLUE': 2328, 'NinaDavuluri': 5489, '😃cool': 19619, '😊✈️': 19630, 'lopezlaymari': 14264, 'patronizing': 15492, 'Gangway': 4009, 'massages': 14445, 'Catering': 2805, '101030': 50, 'hurts': 13370, 'lovejetblue': 14301, 'bottles': 8836, 'static': 17533, 'NovemberDecember': 5535, 'Markets': 5158, 'Bureau': 2597, 'httptcoaPY3zLSqUu': 12882, '❤️✨': 19531, 'airbusintheus': 7968, 'arubaairport': 8297, 'warmweather': 18958, 'httpstcoKaej9G0CHd': 12185, 'tvsmusic': 18445, 'SYSCON': 6394, 'httptcoZoFWLdQXbe': 12871, 'hopes': 12098, 'Cutting': 3064, 'firefighters': 11140, 'AL': 1910, 'bugging': 8946, 'expand': 10894, '2007': 534, '224227': 633, '320': 882, 'doubled': 10466, 'Inquiring': 4453, '1684': 387, 'MCOgtJFK': 5026, 'disclose': 10313, 'httptcop6ucbVlv5E': 13149, '2416': 679, 'Orlandoridiculous': 5647, 'notbabysitters': 15040, 'whrsthecoach': 19133, 'coffeeat': 9442, '☕✈👍': 19497, 'httptcourcyfcp2Lx': 13256, 'savannah': 16814, 'semantics': 16965, 'dictionary': 10239, 'heated': 11938, 'ItsCold': 4502, 'Thatd': 6922, 'rack': 16125, 'latte': 14017, 'disappoints': 10305, '😢😢': 19673, 'RT“JetBlue': 6062, 'Peaches275': 5842, 'qualify': 16091, 'points”': 15745, 'bdldca': 8591, '1800flowers': 439, '1553': 324, '419': 1083, 'httptcowVGpp3Ymz1': 13298, 'pages': 15400, 'lick': 14117, 'Ahoy': 2038, 'AllYouCanJetPass': 2078, 'Mosiac': 5311, 'itThis': 13752, 'ruins': 16732, 'okie': 15185, 'doke': 10430, 'Knowing': 4723, 'acces': 7782, 'hub': 13343, '“only”': 19481, 'vino': 18830, '🍷': 19546, 'Receives': 6110, 'Coverage': 3020, 'Analysts': 2125, 'Legacy': 4890, 'httptcodORuxBqla1': 12926, '69': 1470, 'Oveur': 5670, 'Murdock': 5331, '1099': 98, 'Julian': 4638, 'substitute': 17698, 'Disneys': 3310, 'Magical': 5110, 'AMI': 1925, 'httptco5fmipW9dhi': 12327, 'Rockys': 6223, 'milehighselfieclub': 14598, 'httptcoA1ChOxKPJp': 12404, 'reassigned': 16218, 'fraud': 11411, 'physical': 15604, 'telephones': 17944, 'Capital': 2778, 'NHLBruins': 5376, 'repping': 16447, 'Bruins': 2575, 'Roll': 6225, 'HOF': 4153, 'Story': 6705, 'JetBlueBruins': 4596, 'httptcoJKnWuGJ778': 12580, 'marked': 14428, 'reposted': 16445, 'JetScrew': 4602, 'AwfulCustomerService': 2258, 'Alternatives': 2091, 'Pooling': 5914, 'gifting': 11598, '375': 968, 'Wendi': 7549, 'noting': 15067, 'dealings': 10026, 'Stubborn': 6713, 'Demanding': 3252, 'Unwilling': 7352, 'choices': 9306, 'LAish': 4768, 'comparing': 9533, '😊😊😊✈️✈️✈️': 19634, 'dunkin': 10553, 'donuts': 10453, 'hazard': 11911, 'thingsyoucantmakeup': 18068, 'switch2SBux': 17830, 'remembers': 16397, 'excuseGeez': 10871, 'coffeeneeded': 9444, 'hourHope': 12144, 'relying': 16387, 'needcoffee': 14870, '730AM': 1530, 'INeedCoffee': 4380, 'princesses': 15924, 'glassslipperchallenge': 11622, 'WDW': 7467, '533': 1302, 'onlyblue': 15225, 'jetblueforever': 13817, 'descent': 10164, 'truebluemember4life': 18407, 'rifle': 16623, 'hunting': 13365, 'pistol': 15639, 'themed': 18031, 'TSAnightmare': 6825, 'transferable': 18321, 'acquired': 7826, 'Kravitz': 4728, '3Xs': 1014, 'ZKatcher': 7721, '😂😂😂😂😂OMG': 19615, 'Bored': 2521, 'convo': 9724, 'fixthis': 11165, 'bretharold': 8886, 'isthisreal': 13748, 'nevertoldus': 14913, 'lile': 14150, 'florida': 11263, 'buyer': 8996, 'sea': 16895, 'DELIVER': 3104, 'fancy': 11011, 'Saxonandparole': 6440, 'LobsterMac': 4938, 'BloodyMary': 2492, 'JetSetter': 4603, 'httptcozf5wjgtXzT': 13339, '1318': 252, 'telleveryone': 17948, 'JustifyThisSupport': 4646, 'lostrevenue': 14277, 'angryandsober': 8135, 'bachelorpartymishap': 8468, 'sham': 17043, 'httptcovYUAnh4Iqr': 13280, 'diversions': 10393, 'NotTRUE': 5527, 'httptco3oq1T4ohjl': 12287, 'FlySouthwest': 3864, '597': 1360, '56680': 1342, 'CASH': 2648, 'RIPOFF': 6043, 'NoSupport': 5502, 'INFORMED': 4376, 'Instructed': 4458, 'httptcoc7Kzbvf8h8': 12906, 'infuriated': 13589, 'ionlyflyblue': 13718, 'TA': 6773, 'thelodge': 18029, 'YeniettElswood': 7691, 'AndrewBiga': 2128, 'CodyCleverly': 2927, 'HeidiMacey': 4226, 'motherpollock': 14753, 'fi': 11091, 'television': 17946, 'staticy': 17534, 'ithelpsabit': 13758, 'Disneyworld': 3311, 'runDisney': 16740, 'httptcosTQY9V8256': 13205, 'Brazil': 2547, '42415': 1097, '1131': 145, '1208': 188, 'bestplanesever': 8671, 'AirlineAdviser': 2048, 'sayget': 16829, 'lessme': 14093, 'seeampeter': 16929, 'dissatisfied': 10377, 'rqstd': 16707, 'bcz': 8586, 'YEAH': 7666, 'httpstcodFmvmiBH4x': 12193, '577': 1347, 'pillow': 15624, 'Gains': 4005, 'Altitude': 2093, 'SkyWest': 6569, 'Turbulence': 7069, 'SKYW': 6320, 'httptcoP2HUM7lXUR': 12684, 'TailfinThursday': 6854, 'httptcoNc0ES6e4Lf': 12664, 'httptcoh6cE3mWCqj': 12994, 'Reveals': 6176, 'Livery': 4931, 'TravelPulse': 7027, 'httptcofTTfyFMvCO': 12965, 'httptcoueGgKN79zA': 13253, 'Marks': 5160, 'Design': 3269, 'httptcoE5NaxBUe4s': 12481, 'httptcoKlxivnbCYh': 12607, 'Jetblue👌☺️': 4606, 'bday😏☺️': 8589, 'miboston': 14577, 'icelandair': 13399, 'iceland': 13398, 'Jetbae': 4604, 'ozs': 15383, 'Letting': 4900, 'sexy': 17028, 'tattoo': 17904, 'httptcoOx4w6KtsGI': 12682, '1951': 486, 'StBernard': 6660, 'comm': 9490, 'Gnight': 4057, 'Jua': 4633, 'Ask': 2209, 'Jorge': 4629, 'cri': 9856, 'ClosePWCS': 2917, 'this🙏🙏❤️': 18084, 'btw😏': 8935, 'favor🙏❤️': 11043, 'closepwcs': 9381, 'out😢': 15334, 'Samantha': 6416, 'w19': 18886, 'BOSSAN': 2348, 'evasive': 10810, 'KyleComer': 4736, '958': 1763, 'Amazingly': 2101, 'Helping': 4241, 'Marthas': 5165, 'African': 2027, 'Film': 3751, 'Festival': 3740, 'attendees': 8370, 'MV': 5095, 'significant': 17151, 'gripeo': 11734, 'httptcoF6COpX1Fvj': 12496, 'T5Sparrow': 6772, 'birds': 8717, 'fed': 11055, 'chrome': 9315, 'Perfect': 5851, 'Swift': 6758, 'programming': 15985, 'TeamTreehouse': 6881, 'Statement': 6684, 'Incentive': 4421, 'httptcoGqP69g9ZGW': 12529, 'ANYWHERE': 1938, 'httptcoFeFHPmFPlE': 12509, 'Fare': 3710, 'Finder': 3758, 'youth': 19418, 'refresher': 16314, 'courses': 9792, 'FlyItForward': 3857, 'fridge…that': 11439, 'dorm': 10461, 'genius': 11560, 'lovedoll': 14297, 'Reminded': 6136, 'pattonoswalts': 15497, 'themhence': 18032, 'huxleyesque': 13375, 'Reliability': 6134, 'allergies': 8028, '8oz': 1710, 'bottle': 8835, 'Benadryl': 2446, 'epipens': 10758, 'httptcoesUu0hiAjM': 12961, 'sand': 16788, 'palm': 15416, 'Donkey': 3338, 'Balls': 2400, 'warriors': 18963, 'sofly': 17340, 'firststari': 11147, 'seetonight': 16941, 'httptcopyJAoayNx6': 13168, 'waters': 18980, 'annnnnd': 8147, 'hall': 11833, 'Carousel': 2796, '8found': 1705, 'crewsignage': 9855, 'Headphone': 4217, 'memgrizz': 14524, 'spurs': 17479, 'okcthunder': 15183, 'Triedconsiderable': 7039, 'confusionno': 9624, 'announcementno': 8151, 'JetBlueBOS': 4595, 'DCABOS': 3087, 'pointer': 15740, 'NBA': 5364, 'skytrax': 17231, 'corpgreed': 9738, 'nevertakeno': 14912, 'httptco6MBVJFlpBM': 12343, '006': 4, 'WallStreet': 7507, 'Scope': 6453, 'httptcooFW4A8b5WS': 13131, 'teaampnot': 17919, 'nvr': 15108, '2x': 830, 'BWIBOSTON': 2375, '😩': 19681, 'sch': 16853, 'dads': 9962, 'Earliest': 3459, 'wrestle': 19320, 'Target': 6869, 'Stafford': 6669, 'httptcovQmdmZaFUJ': 13277, 'Italy': 4497, 'FlyingItForward': 3870, '453': 1159, 'Reported': 6152, '12A': 231, '11A': 174, '2792125083854': 750, '😢😢😢': 19674, 'ATH': 1952, 'airlinequality': 7985, 'httptcotU9JX2jaZN': 13229, 'Cty': 3048, 'httptcoJI7xkS2jkk': 12577, 'jetbluesucks': 13825, 'gears': 11547, 'grinding': 11733, 'highest': 12012, 'httptcoxZY7pHKFGR': 13311, 'Patriarc': 5825, 'httptcobdUaUZFhW2': 12902, 'affects': 7897, 'entrusted': 10750, 'Portsmouth': 5924, 'postpone': 15800, 'PRfriendly': 5766, 'Mr': 5318, 'cometoAustin': 9482, 'there🌴': 18040, 'Marie': 5151, 'Harf': 4200, 'Iraiq': 4480, 'marieharf': 14426, 'Port': 5920, 'au': 8383, 'earthquake': 10586, 'relief': 16382, 'Impact': 4413, 'Share': 6514, 'Count': 3013, 'httptcoVU7XSWJKiY': 12799, 'Unsure': 7351, 'Registers': 6128, 'Short': 6527, 'Interest': 4467, 'Pulse': 5995, 'httptcohXSnv7fbbh': 13002, 'True': 7047, 'xD': 19352, 'SEAT': 6276, 'SET': 6285, 'Badges': 2390, 'laptoplarge': 14003, 'swap': 17810, 'fool': 11339, '5a': 1364, 'feelings': 11065, 'MINT': 5059, 'happy4them': 11872, 'pilyoc': 15629, 'thefutureisweird': 18027, 'incidentally': 13501, 'Sheila': 6521, 'grandpas': 11705, 'ashes': 8304, 'Naples': 5424, 'lived': 14186, '50s': 1264, 'serving': 17010, 'USNavy': 7286, 'swooped': 17834, 'helpfaith': 11967, 'restored': 16548, 'Stockhouse': 6698, 'httptcoobF9jbPc6A': 13137, 'LGAFLLpoor': 4785, 'android': 8126, 'applicable': 8223, 'FARE': 3621, 'FoodAllergy': 3880, 'insensitive': 13617, 'FoodAllergies': 3879, 'lifethreatening': 14128, 'Unsolicited': 7350, 'UNEDUCATED': 7235, 'opinions': 15253, 'reckless': 16247, 'dangerous': 9979, 'Sees': 6478, 'Significant': 6546, 'Decline': 3231, 'httptcolZFGUTxIYN': 13065, 'DaytonaBeach': 3214, 'February…': 3729, 'httptcooYLlRZQU5m': 13136, 'httptco5t4FpCGREJ': 12329, 'Truly': 7053, 'FANTASTIC': 3619, 'extraspeed': 10947, 'engaging': 10715, 'personable': 15559, 'tore': 18267, 'hid': 12004, 'badge': 8497, 'Seatac': 6461, 'Dude': 3375, 'valued': 18776, 'LisaPal': 4920, 'httptcoFRhuXiB8II': 12502, 'Magic': 5109, 'eight': 10628, 'steered': 17557, 'sensitive': 16976, 'jbeatz247': 13797, 'consult': 9663, 'NOLA': 5387, 'httptcoSjVEelween': 12748, '👍👍👍': 19565, 'httptco67k4N9eQ6E': 12337, 'interns': 13681, 'greatest': 11718, '💕✈️💺': 19586, 'TrueBluePoints': 7051, 'jetbluemember': 13820, 'sliced': 17247, 'bread': 8870, 'Beatriz': 2432, 'Susan': 6749, '0xjareds': 28, 'AIs': 1908, 'FTL': 3669, 'pizza': 15646, 'WHATS': 7474, 'WEBSITE': 7469, 'INFO': 4375, 'Easter': 3466, '“it': 19480, 'depends”': 10151, 'vibe': 18817, 'UDUB': 7223, 'cameronroe': 9060, 'httptcokbHYM5GkAP': 13044, 'CaymanIslands': 2812, 'Charter': 2846, 'httptcolYQrb4HCYU': 13064, '4helped': 1226, 'SeattleBound': 6465, 'armrest': 8275, 'controller': 9706, 'agianand': 7938, '😔😓😤': 19651, 'Cinnabon': 2890, 'cinnabons': 9323, 'BonsInTheSky': 2513, 'httptco8jceDiKY9U': 12380, 'hotter': 12138, 'Celebrates': 2815, '15Year': 343, 'httptcop7skxZVe1A': 13151, '40min': 1066, '904': 1721, 'Turns': 7073, 'smitten': 17286, '1401': 277, '25A': 718, 'slog': 17255, 'LikeAGirl': 4910, 'SMM': 6328, 'Brand': 2539, 'httpstconTGl2WnQVM': 12206, 'Lekvhg': 4892, '430': 1107, '1348': 261, 'lift': 14131, 'itsthelittlethings': 13768, 'compounded': 9578, 'jetbluemess': 13821, 'exists': 10889, 'httptcoNsJWVTTjGo': 12670, 'drwinston001': 10534, 'philpete': 15578, 'suddenly': 17713, 'Argh': 2190, 'okayIm': 15178, '645': 1433, '1408': 278, 'nogood': 14981, 'Dumps': 3385, 'httptcoDZg99JFIiK': 12473, 'justdippin': 13875, 'TheTakeover': 6938, 'produced': 15966, 'YpOnTheBeat': 7712, 'httpstcoIKQBdZA7TN': 12184, 'End': 3516, 'httptcoWhuFmI2Ytd': 12821, 'httptcofbTEMFwRsP': 12967, 'Blumanity': 2499, 'paint': 15408, 'httptcolFGR0Nifut': 13056, 'Battles': 2422, 'Appease': 2173, 'httptcoE1Mex0t6Q5': 12480, 'BloombergNews': 2493, 'httptco6redD3vC73': 12352, 'LASFLLSJU': 4749, 'Anywhere': 2163, 'Clients': 2913, 'career': 9101, 'possible2': 15794, 'Italian': 4496, 'robbed': 16656, '1366': 267, '1552': 323, 'ocean': 15137, 'Flightledrebooked': 3827, 'daydelayed': 9999, 'httptcosk6W9XQaQB': 13210, 'httptcoU5HXri6Crx': 12771, 'awe': 8438, 'Announced': 2144, 'impressedand': 13466, 'brushing': 8926, 'Orbitz': 5638, 'ValentinesDay': 7406, 'loveisintheair': 14299, 'httptcoDoCmvoTWTI': 12477, 'Geraldine': 4025, 'centerWorst': 9170, 'jetbluejfk': 13819, 'httptcobTb4awQtln': 12900, '705': 1504, 'KleinErin': 4720, 'Know': 4722, 'pastor': 15480, 'homeschool': 12067, 'SpiritED': 6646, 'PrefundiahttptcojRbZLHRW7y': 5943, 'ControllableIrregularity': 2993, 'fluid': 11278, 'shoutout': 17117, '2017': 546, 'Bosgtjfk': 2524, '486': 1205, 'jfkgtroc': 13835, 'c19': 9013, 'applepay': 8222, 'hacked': 11817, 'Alaska': 2065, 'Highway': 4262, 'httptcotynchOeLac': 13241, 'Kate': 4684, 'spade': 17411, 'spiced': 17444, 'LeopoldsIC': 4893, 'Phillip': 5868, 'Heller': 4232, 'IFC': 4359, 'delicious': 10110, 'gum': 11797, 'httptcon9hmcrJChb': 13102, 'ChillyCVZ': 2873, 'ThankGoodness': 6908, 'mypompanobeach': 14812, 'Email': 3498, 'httpstcosoiQrN19aj': 12209, 'httptcoIbVvTzLS4E': 12570, 'fitz': 11157, '1326': 255, 'bwiBos': 9003, 'invitation': 13707, 'participate': 15443, 'erewards': 10769, 'humiliated': 13354, 'uncompromising': 18535, 'blindsided': 8760, '2275': 643, 'pp': 15814, 'flatiron': 11176, 'SIL': 6312, 'declined': 10051, 'accused': 7815, 'activity': 7840, 'dispatcher': 10353, 'warehouse': 18953, 'mon': 14712, 'OhNo': 5599, 'BundleUp': 2595, 'Leastthebeverageswillbecold': 4884, 'Analystdoc': 2124, '211': 586, 'fashioned': 11023, 'accessing': 7785, 'becomes': 8614, 'httptcoczOr4nyh9n': 12920, 'structures': 17659, 'hated': 11898, 'targeting': 17897, 'vulnerable': 18882, 'thieves': 18060, 'Citi': 2895, 'safetyfirst': 16771, 'Accepting': 1986, 'Enterprise': 3530, 'httptcoCi5cfrlqBe': 12453, '2033823312': 553, 'towed': 18291, 'Risk': 6200, 'corrupt': 9749, '83': 1645, 'Supertzar85': 6737, 'httptcoQRANZImHTr': 12711, 'whilst': 19119, 'delivering': 10118, '😀Tinman2IronMan': 19603, 'meggersrocks': 14517, 'penalized': 15526, 'lightly': 14137, 'unloading': 18619, 'writes': 19324, 'spotty': 17470, 'Request': 6156, 'backpack': 8479, 'b6': 8461, 'satellite': 16804, 'crewmembers': 9852, 'BOOKS': 2337, 'httptco9rAGncw2Bk': 12395, 'N559JB': 5346, 'Kid': 4708, 'httptcoqeaDA92MW6': 13176, 'ProfessorpaUL15': 5970, 'profits': 15981, 'Cramming': 3025, 'planeNO': 15660, 'TSAPre': 6823, '☀️🌴✈️🍸🎲': 19496, 'TRUE': 6818, 'delayedl': 10088, 'peanuttreenut': 15517, '654': 1447, 'EllaHenderson': 3495, 'freeconcert': 11420, '894': 1688, 'httptcouy28D1UEgX': 13257, 'httptcovJFV7KSGcQ': 13270, 'TSApre': 6826, 'HP': 4166, 'printers': 15929, 'MFPs': 5044, 'vincenzolandino': 18829, 'CBarrows': 2655, 'cantlike': 9079, '1133': 146, 'N353JB': 5344, 'La': 4844, 'httptcoSWZm2fX3nu': 12742, 'httptcoeiGaJyzcW2': 12956, 'we’ll': 19081, 'Enraging': 3528, 'thursday': 18122, 'wellpriced': 19063, 'Oahu': 5583, 'anybody': 8181, '305': 847, 'Voice': 7450, 'Drop': 3368, 'httptcoSSBaUJtOuW': 12740, 'style': 17682, 'rings': 16630, 'mailbox': 14373, 'forwarding': 11389, 'Hot': 4304, 'nightlife': 14943, 'Wires': 7606, 'httptcoSwb1gR57Cc': 12752, 'Aww': 2259, 'oui': 15301, 'awesomeee': 8441, 'ment': 14532, 'Quoting': 6017, 'effective': 10616, 'upgrade😉': 18686, 'KeepItUp': 4696, 'httptcoBKmfeY7QOL': 12431, 'CinziannaP': 2891, 'BLUEtiful': 2329, 'lifeneedsfrosting': 14125, '1601': 357, 'generated': 11557, 'hint': 12019, 'painted': 15409, 'httptco9vTFM7kNad': 12401, 'Constitution': 2981, 'Declaration': 3230, 'Independence': 4436, 'Navy': 5442, 'tailfin': 17870, 'httptcoqxV45MV0Ug': 13186, 'httptcoKKAY8XaPs1': 12599, 'httptcoMCSI0dzpnz”': 12633, 'geekandahalf': 11549, 'Slash': 6574, 'engagement': 10713, 'cooler': 9729, 'those😂': 18090, 'PDW': 5689, 'ilovejetblue': 13439, 'Connecticut❄️': 2976, '👏👍': 19574, 'stpatricksfoundation': 17615, 'rotary': 16689, 'httptcoznsUjP86Bv': 13340, 'httptcocH0NmjyMgh': 12909, 'PamGrout': 5792, 'backtodelta': 8483, 'KyleJudah': 4737, 'tighter': 18149, 'Colonist': 2936, 'httptcoNzDXRvszWv': 12672, 'meaning': 14482, 'NA': 5358, 'McGraw': 5189, '16000': 356, 'embody': 10667, 'thanksDave': 18004, 'httptcoiNNP0Kkyby': 13017, 'learning': 14057, 'famous': 11007, 'asset': 8317, 'PhDMama': 5861, 'Learning': 4882, 'Marketing': 5157, 'SXU': 6392, 'BlueManity': 2497, 'inspiring': 13626, 'vegecomgirl': 18791, 'JayVig': 4581, 'JVMChat': 4553, 'roxydigital': 16704, 'awww': 8451, 'realtime': 16208, 'rockingthetweets': 16670, 'alittle': 8023, 'Weyburn': 7559, 'Review': 6178, 'httptcortQyjCvTQ3': 13198, 'okayyyy': 15179, 'irons': 13721, 'Promise': 5975, 'no2jetblue': 14958, 'NZherald': 5415, 'httptcoQ4Amiw7FSw': 12703, 'brands': 8863, 'things…': 18069, 'flightwouldve': 11245, 'liked': 14143, 'Ella': 3494, 'simultaneously': 17169, 'wishmyflightwaslonger': 19195, 'lovejetBlue': 14300, 'didFlyFi': 10240, 'foodso': 11338, 'httptcofrrfxCCw7Z': 12975, 'httptconKlW9SsVRQ': 13108, 'knowledgeProvide': 13952, 'JBI': 4520, 'squished': 17485, 'Peggy': 5845, '⭐️⭐️⭐️⭐️⭐️': 19537, 'LFT5': 4780, 'getittogether': 11575, 'hemophilia': 11981, 'rudeservice': 16724, 'httptcow8MTmSP2RY': 13290, 'bleed': 8755, 'Leeds': 4888, 'selectionchange': 16951, '918': 1738, 'NYCgtBOS': 5406, 'httptcodUhBJ41jHx': 12931, 'weighs': 19049, 'ChronicleHerald': 2884, 'registration': 16344, 'httptco9vKj9S7jrM': 12400, 'oversleeping': 15365, 'uncontrollable': 18537, 'irregularity': 13723, 'stocking': 17594, 'Wedding': 7536, 'VT': 7392, 'Grateful': 4099, 'httptcol2n0egHdgn': 13053, 'nerves': 14897, 'Greenfield': 4107, 'Reporter': 6153, 'httptcoLM3opxkxch': 12617, 'Fortunately': 3892, 'DeeDee': 3232, 'NICE': 5378, 'badwebsite': 8503, 'Richard': 6185, 'ripping': 16636, 'tixs': 18190, 'deboards': 10036, 'crummyservice': 9877, 'whydidntiflysouthwest': 19139, 'goodluckamericanair': 11665, 'Cathy': 2807, 'oki': 15184, 'PHO': 5711, 'impossibly': 13463, '1lesscustomer': 512, 'cheesy': 9269, 'travelPurchased': 18344, 'CheapOairChat': 2853, 'xtra': 19356, 'donotflyusair': 10442, 'Germany': 4027, 'Sadly': 6400, 'Iowa': 4479, 'AIRWAYS': 1907, 'lifes': 14126, 'srv': 17489, 'Carolinas': 2794, 'AlsoNoDrinkCartComingAround': 2090, 'AshleyKAtherton': 2207, 'usairways': 18723, 'Dmoukdarath': 3326, 'usair': 18718, 'leakingwhats': 14052, 'USAIR': 7270, '43': 1106, 'httptcocHGy5yrVka': 12910, 'httptco5cwH1yfOow': 12326, 'diamond': 10233, 'challenging': 9198, '1925': 480, 'friendlyteam': 11445, 'httptco0JJT4X3YxG': 12226, 'finish': 11137, 'pump': 16057, 'disciplined': 10312, 'sb': 16834, 'divided': 10397, 'sympathy': 17840, 'breast': 8878, 'pumps': 16060, 'referred': 16305, '17A': 428, 'US4551': 7255, 'PHLBOS': 5705, 'impressions': 13468, 'reverse': 16597, 'presentation': 15889, 'Pandu': 5797, 'dividend': 10398, '167': 382, 'chairman': 9190, '22614': 640, 'you…I': 19425, 'Spain': 6632, 'Israel': 4491, 'whining': 19120, 'Coincidence': 2928, 'openskies': 15243, 'overcharged': 15343, 'hold1': 12045, 'minsthank': 14629, 'Beamske': 2430, 'wrecked': 19315, 'yorkshire2002': 19396, 'clt': 9397, 'lengthy': 14088, 'endless': 10706, 'retweeted': 16586, 'mystery': 14816, 'spelling': 17439, 'Iv': 4506, 'cxd': 9947, '4011': 1048, 'HELLO': 4146, 'availableYour': 8412, 'UX': 7294, '300RT': 842, 'National': 5434, 'Forever': 3886, 'impaired': 13452, 'jetblueanyone': 13813, 'weather…call': 19022, 'outofbusiness': 15317, 'ruiningmy': 16731, 'gas': 11537, 'cap': 9083, '1801': 440, 'revision': 16604, 'casual': 9132, 'httptcoJIEYCat1Ek': 12578, 'TARMAC': 6776, 'Recording': 6114, 'earlyconnecting': 10575, '2139': 597, 'HOLD': 4154, '781': 1584, '879': 1679, '4505': 1157, 'Opposite': 5630, 'thete': 18042, 'employ': 10685, 'grandparents': 11704, 'Mechanical': 5199, 'qd': 16084, '3837': 983, 'sarita': 16801, 'statusdelays': 17542, 'httptcovuxf4r4Unu': 13283, 'flaw': 11179, '5203': 1285, 'insanity': 13616, '581': 1351, 'semester': 16966, 'Chkd': 2876, 'httptcoMbLTALr4BS': 12640, 'STATUSAWAITING': 6355, 'ASGMNT': 1946, 'DRIVER': 3162, '1015am': 53, 'listSomeone': 14172, 'Wouldt': 7641, 'yellow': 19377, '2063': 559, '250pm': 703, '18feb': 468, 'herba': 11986, 'Chairman': 2828, '7day': 1602, '1946': 484, '41min': 1087, 'citizen': 9333, 'Entire': 3532, 'flexibility': 11187, 'flexible': 11189, '504': 1250, 'forgets': 11367, 'Ricky': 6187, 'Excuses': 3578, 'utterly': 18756, 'US624': 7260, 'va': 18759, '1140am': 152, '1820': 445, '2rsw': 827, 'courtsey': 9797, '2min': 814, '1001pm': 39, '719': 1518, '22214': 623, 'illness': 13436, 'forfeits': 11365, 'doctors': 10421, 'swallowed': 17807, 'picks': 15611, 'solves': 17352, 'dmscusairwayscom': 10411, 'helpcomplaint': 11962, 'applies': 8227, '44000': 1125, '20748': 564, 'forfeit': 11363, 'inactivity': 13484, 'CSM': 2727, 'daryl': 9986, 'Aa': 1978, 'httptcoUld0hWFkfo': 12784, 'louder': 14286, 'Bhm': 2460, 'army': 8277, 'sine': 17173, '950pm': 1757, 'Process': 5968, 'initiated': 13594, 'coverage': 9801, 'glitchy': 11625, 'BOOK': 2336, 'DIVIDEND': 3133, 'TRAVEL': 6815, '1130pm': 144, 'NoExcuses': 5495, 'GRACE': 3984, 'MADE': 5007, '“USAirways': 19474, 'RWG': 6068, 'powers': 15813, 'flight”': 11246, 'charac': 9214, 'shortcomings': 17094, 'wiil': 19157, 'agency': 7925, 'wrongfully': 19329, 'Dividend': 3319, '639': 1428, 'weary': 19011, 'frustrations': 11470, '730a': 1531, 'socialtantrum': 17335, 'tonightnot': 18249, 'bougth': 8839, 'mc': 14465, 'caren': 9103, 'mccaren': 14466, 'US1799': 7247, 'CLTgtSFO': 2696, 'desert': 10168, 'basket': 8569, 'What’s': 7566, 'transf': 18319, '1518': 309, 'supv': 17769, 'fing': 11134, 'skyscanner': 17230, '2046': 555, 'BOSCLT': 2342, 'narrow': 14838, 'httptcowSgYckCIIO': 13295, 'USAW': 7273, 'responsiveThoughts': 16539, 'vm': 18852, 'joyadventuremom': 13863, 'breastfeeding': 8879, 'mommas': 14708, 'DividendRewards': 3321, 'Urgently': 7359, 'fulfilled': 11488, 'reqs': 16459, 'mediocre': 14507, 'combo': 9472, 'SwitchingBoth': 6762, 'DividendMiles': 3320, 'cardholder': 9097, 'fligths': 11251, 'steering': 17558, 'disconnecting': 10319, 'schooler': 16865, 'FlyKnoxville': 3858, 'established': 10793, 'NoClothesNoInfo': 5493, 'FAILINGYOURCUSTOMER': 3616, 'PhilaCarService': 5865, 'delaymissed': 10099, 'connectionand': 9637, '122322': 199, 'usairwaysfailscustomers': 18725, 'guinea': 11794, 'pigs': 15622, '5612': 1338, '1798': 427, 'Chairmans': 2829, 'missedupgrades': 14668, 'Bumped': 2592, 'Rudest': 6235, 'customerrelationsaacom': 9922, 'Hopkins': 4299, 'Intel': 4464, 'Flightaware': 3800, 'mitchsunderland': 14685, 'Mitchell': 5275, 'Hii': 4263, 'I’d': 4510, 'dissemination': 10379, '5545': 1323, 'B18': 2271, 'argue': 8270, 'tailwind…': 17874, '1500': 299, 'convey': 9719, 'emailmailtocustomerrelationsusairwayscom': 10657, 'unmonitored': 18624, 'PAY': 5684, 'argued': 8271, 'Exec': 3579, 'ITFITS': 4385, 'httptcoAUrn07pWD4': 12409, 'toes': 18219, 'candy': 9069, '449': 1151, 'exe': 10873, 'plat': 15682, '686': 1468, '521': 1286, 'VincesViews': 7435, 'Attendants': 2226, 'Embarrassing': 3502, 'Gregm528': 4113, 'scenes': 16851, 'Noaccountability': 5504, 'Rachel': 6071, 'httptcoHG7vEqhGHy': 12540, 'grandcayman': 11698, 'httptcoGX7QbtckBr': 12525, 'againLate': 7913, '200trip': 538, 'goes…': 11641, 'tailwinds': 17873, '“It': 19469, 'now”': 15089, 'asking…': 8309, 'greeted': 11727, 'welcomes': 19055, 'drinksnack': 10514, 'detailed': 10201, 'httpstco9zA6xb1h89': 12176, 'httptcoLfT7QD23Sy': 12622, 'HANG': 4136, 'WEATHER': 7468, 'ARIZONA': 1942, 'moveup': 14766, 'terminology': 17969, 'brings': 8902, 'verbiage': 18803, 'priv': 15936, 'httptcoWbhbljJkS7': 12820, 'queries': 16096, 'airway': 8005, 'FOUND': 3657, 'hhagerty': 12000, 'Standby': 6671, 'CBSNews': 2652, 'shined': 17068, 'inout': 13605, 'Single': 6555, 'PLANS': 5731, 'CHANGED': 2667, 'BEIN': 2307, 'ABLE': 1891, 'PARK': 5679, 'PLANES': 5730, 'W': 7455, 'LAYOVER': 4767, 'CONNECTION': 2712, 'Thur': 6963, 'chairmans': 9192, 'bigger': 8702, 'TLH': 6800, 'downgraded': 10475, 'lostandforgotten': 14273, 'Doors': 3345, 'CTL': 2735, 'httptco1XdLbiBClP': 12245, 'nailed': 14825, '555': 1325, 'exchangecredit': 10863, 'shadier': 17036, 'White': 7577, 'House': 4312, 'Dissatisfied': 3315, 'nines': 14948, 'shutting': 17134, 'flydelta': 11294, 'flyjetblue': 11308, 'theyareallbetter': 18049, 'exhaustion': 10882, 'runnin': 16743, '2rent': 826, 'killin': 13919, 'OFFERING': 5546, 'force': 11347, 'shock': 17084, 'Derrick': 3266, 'Bussey': 2609, 'reiterate': 16363, 'misunderstood': 14684, 'unreasonable': 18643, 'women': 19224, 'offended': 15144, 'Props': 5983, 'notourfaultyoudontuseyourgatesright': 15074, 'sided': 17142, 'owes': 15376, 'Tammy': 6864, 'WinstonSalem': 7602, 'shaking': 17040, 'bussey': 8985, '2500': 701, 'logistically': 14237, 'desition': 10179, 'nade': 14822, 'weatherbackup': 19014, 'goodgriefpeople': 11663, 'Parizad': 5802, 'balls': 8541, 'voucherconfirmation': 18871, 'checkout': 9261, 'manifests': 14409, 'wedontcarebecauseyoupaidalready': 19034, 'backs': 8482, 'Phones': 5874, '58pm': 1356, 'CLTDouglas': 2694, 'Printed': 5959, 'TakeResponsibility': 6857, 'Diane': 3287, 'EYW': 3454, 'Dulleswe': 3381, 'onmultiple': 15228, '838': 1654, '728Feb': 1525, 'Kim': 4713, 'enters': 10738, 'deteriorating': 10209, 'Unhelpful': 7326, 'assurances': 8338, 'marvinatorsb': 14439, 'thnk': 18086, 'responseall': 16528, 'wother': 19296, 'Ground': 4117, 'shorts': 17100, 'Weary': 7530, 'German': 4026, 'deplanes': 10154, 'jealous': 13800, 'Auf': 2230, 'wiedersehen': 19148, '728': 1524, 'Refuel': 6122, 'Look': 4953, 'Actual': 2001, 'org': 15273, 'flyWere': 11290, 'nonprofitcant': 15006, 'planets': 15672, 'Applaud': 2174, 'MEL': 5037, 'sticker': 17573, 'endlessly': 10707, 'Gatwick': 4016, 'Moments': 5287, 'periods': 15548, '8D': 1696, '545': 1315, 'dividendsmember': 10400, 'httptcoNUhpLNXRIq': 12661, 'publicity': 16045, 'cargo': 9107, 'Understand': 7318, '1715': 408, 'httptcoHQHdAD7fvK': 12547, 'resorting': 16512, 'afterward': 7911, 'US5268': 7258, 'US728': 7264, '5268': 1293, 'avduffy': 8415, 'Ivebeen': 4508, 'ff': 11089, 'nbr': 14856, 'wAA': 18894, 'fathers': 11031, 'Gnv': 4058, 'GNV': 3971, 'Depot': 3264, 'WD40': 7466, 'squeaks': 17484, 'restrooms': 16554, 'FlightAware': 3791, '456': 1164, 'inconvenienced': 13525, 'Faced': 3691, 'apology25': 8206, 'inputted': 13608, 'sittingontheplane': 17198, '445': 1139, 'readded': 16191, 'Asha': 2204, 'Wilmington': 7598, 'involve': 13713, 'removing': 16410, 'lists': 14179, 'initiative': 13595, 'minefits': 14616, '1mnth': 514, 'CONFIRMED': 2711, 'bcs': 8585, 'ticketnow': 18139, 'ownership': 15379, 'breathing': 8882, 'Aye': 2262, 'OneWorld': 5620, 'buys': 8998, 'bracket': 8854, 'problemIve': 15948, 'callguys': 9047, 'jhughes1025': 13837, 'grrrrrrrr': 11755, '5077': 1252, 'twist': 18458, 'plot': 15716, 'unsecured': 18650, 'HARDWORKING': 4138, 'taping': 17896, 'httptcoI5V9wfbtuE': 12555, 'attach': 8354, '94LXA62': 1753, 'E2KVM4': 3392, 'Thansk': 6920, 'aa': 7733, '2119': 589, 'BOSDCA': 2343, 'Flightedrescheduled': 3810, '5594': 1331, '3937': 1004, 'admirals': 7867, 'stare': 17517, 'Speed': 6639, 'Stick': 6695, '610362749899': 1396, 'VM': 7389, 'chillpill': 9291, '6170': 1403, 'HutchinsJim': 4340, 'workout': 19260, '603': 1387, '2705': 745, '1899': 466, 'await': 8428, 'height': 11951, 'SPEAK': 6342, 'SOMEBODY': 6334, 'RESERVATION': 6037, 'prompting': 16007, 'stepitup': 17563, 'lightning': 14138, 'struggling': 17661, 'downHow': 10471, 'pleads': 15696, '1937': 481, 'Grrrr': 4121, 'Roads': 6207, '2102': 584, 'proactively': 15943, 'DOMINICK': 3149, 'L': 4738, 'Guardia': 4123, 'Thanku': 6918, 'chosen': 9313, 'offline': 15158, 'rodeo': 16676, 'acnewsguy': 7822, 'Acarl4hotmailcom': 1985, 'identical': 13409, '1826': 446, 'wk': 19204, 'delayedCancelled': 10083, 'US1562': 7245, 'RIC2DFW': 6040, '610pm': 1397, 'EST4': 3423, 'bora': 8819, 'Oprah': 5631, 'httptco8TJUuM22dD': 12376, '5097': 1255, 'Strike': 6711, 'minors': 14625, 'httptco4kLfywwMq1': 12309, 'Finnair': 3766, 'phomia': 15586, 'Foolish': 3882, 'documentation': 10423, 'itineraryconfirmation': 13762, 'fend4urself': 11080, 'tonnes': 18252, 'maam': 14356, 'laughter': 14024, '905am': 1724, '841am': 1655, '857am': 1668, 'recordings': 16264, 'orf': 15272, 'mia': 14574, 'Cincy': 2888, 'phoneonline': 15594, 'merging': 14549, 'EXACTLY': 3445, 'Burned': 2600, 'contagious': 9675, 'virus': 18842, 'wth': 19338, 'restrictions': 16551, 'measurements': 14491, 'TIA': 6795, 'Discovered': 3301, '330PM': 897, 'americanairlnes': 8089, '0316': 18, 'health': 11926, '4473': 1148, 'sport': 17462, 'bashing': 8565, 'unproductive': 18635, 'NEEDED': 5368, 'pumping': 16059, 'FIX': 3638, 'freeflight': 11422, 'relied': 16381, 'weighing': 19048, 'affecting': 7896, 'referring': 16306, 'httptcoN8UvCLMADA': 12652, 'gloves': 11628, 'verification': 18804, 'THX': 6794, 'Quintana': 6015, 'Roo': 6227, 'pamper': 15417, 'fend4yourself': 11081, 'youareonyourown': 19399, 'httptcoPw1eudlcZg': 12698, 'Drive': 3366, 'Savings': 6438, 'hegshmeg': 11950, 'O”': 5673, 'elaborate': 10631, 'httptcohb799CCo0t': 13006, 'wannagohome': 18945, '3841': 985, 'jail': 13785, 'sections': 16920, 'differently': 10255, 'bailed': 8529, 'negatively': 14881, 'integrity': 13654, 'FOLLOW': 3653, 'PLEASE🙏🙏🙏': 5734, '457': 1167, '4469': 1146, 'Est': 3549, 'Tallahassee': 6862, 'Gainesville': 4004, 'long😒': 14252, 'reflection': 16309, 'extinct': 10940, 'RINGLING': 6042, 'BROTHERS': 2359, 'BARNUM': 2297, 'BAILEY': 2296, 'KEEP': 4656, 'EYES': 3452, 'PEELED': 5692, 'CLOWN': 2691, 'CAR': 2644, 'COMPUTERS': 2710, 'trivialize': 18396, 'PST': 5770, 'communist': 9517, 'Russia': 6244, 'Ben': 2445, 'PHXfor': 5717, 'legitimately': 14079, 'mundane': 14795, 'qs': 16086, 'PDQuigley': 5688, 'Patrick': 5828, 'landonschott': 13993, 'likes': 14146, 'inconsiderate': 13522, 'pride': 15922, 'httptco5cDX2ROAE6': 12325, 'upholding': 18691, 'alwayshappensthere': 8067, 'angrytraveler': 8138, 'todaygiving': 18212, '1245am': 212, '138': 269, 'httptcoPs9Q9RPSiL': 12697, 'TheWorstAirline': 6940, 'ultimately': 18502, 'flightno': 11231, 'Time😡😡😡': 6982, 'cvg': 9945, '5163': 1277, '6so': 1491, '3751': 970, 'Flightrexcept': 3837, 'rescued': 16486, 'C29': 2626, 'A18': 1793, 'EXPLANATION': 3448, 'carts': 9124, 'handicap': 11840, 'todaythis': 18215, 'PHLMIA': 5708, '20years': 579, 'eventprof': 10819, 'merged': 14544, 'departments': 10142, 'recover': 16268, 'Enjoyed': 3526, 'managing': 14404, 'undelayed': 18542, 'offload': 15159, 'Bwahahaha': 2614, 'notafanofyourmerger': 15037, 'wewanttoknow': 19079, 'sauce': 16812, '544pm': 1314, 'flightIts': 11216, 'clarion': 9348, 'RenHotels': 6139, 'MarriottRewards': 5162, 'PeterPiatetsky': 5858, 'Ummmm': 7305, 'Airs': 2056, 'computersweredown': 9583, 'Instructions': 4459, 'USairways': 7288, 'meright': 14550, 'hindered': 12018, 'snapped': 17309, 'fudgin': 11482, 'justwantmybed': 13880, 'billed': 8708, 'phonenot': 15593, 'DENPHL': 3113, 'synch': 17842, 'Fudgers': 3939, 'pattonoswalt': 15496, 'longbeachairport': 14247, 'onholdwith': 15217, 'Gave': 4017, 'instructions': 13638, '694': 1472, 'followdm': 11329, 'BREAKFAST': 2355, 'httptcov24QNp3DOi': 13260, '6x': 1494, 'poorplanning': 15769, 'Flightd…incompetence': 3805, 'farmy': 11021, 'ABCNetworks': 1886, 'WhatCustomerService': 7562, '518758': 1281, '4424': 1131, 'FlyRepublicAir': 3862, 'N813MA': 5354, 'httptcoOSc9OFlol3': 12678, 'httptcooyLgeao7Y8': 13146, 'teen': 17938, 'Flight5182': 3787, 'Southern': 6614, 'Hospitality': 4303, 'SAV': 6261, 'AWFUL': 1975, '8hrsampwaiting': 1709, 'transported': 18335, 'stupidity': 17680, 'compliments': 9575, 'Worlds': 7630, 'GoingForGreatnessFAIL': 4070, '4500': 1156, 'httptcoXFWXsRwkHa': 12832, 'waaaaaaiting': 18900, '5182': 1279, 'roll': 16678, 'httptcoeQePkkPSXM': 12949, '4047': 1057, 'GregWallace66': 4112, 'cents': 9175, 'drunks': 10533, 'abysmal': 7774, 'efficencies': 10617, '1581': 336, 'sexually': 17027, 'ELMIRA': 3403, 'detectors': 10207, 'specialist': 17424, 'plains': 15655, 'Son': 6597, 'agentthen': 7931, 'disconnects': 10322, 'CSRs': 2729, '✈': 19508, '2120': 593, 'httptcok0MHZrJF6e': 13035, 'raleigh': 16142, 'charlote': 9228, 'lexington': 14110, 'istead': 13747, 'Costs': 3009, 'Restrictions': 6168, 'FunFlightAttendants': 3941, 'flt635': 11272, 'SundayFunday': 6730, '759': 1565, 'soLate': 17328, '4278': 1101, 'bozos': 8853, 'Lot': 4966, 'smarter': 17277, 'mooks': 14731, 'goDelta': 11634, '614': 1399, 'brokenpromises': 8913, 'jetways': 13831, 'planepisspoor': 15665, '2118': 588, 'pissing': 15638, '540': 1310, '10m': 108, '1h40m': 506, 'nofood': 14977, 'nodrinks': 14972, 'nohelp': 14982, 'NONE': 5390, 'Shouldve': 6531, '729': 1526, '⌚️': 19493, 'ALWAYSLate': 1919, '4827': 1201, 'ELM': 3402, '878': 1678, 'F6': 3606, 'todayall': 18209, 'issuesShe': 13744, 'grounds': 11744, 'failover': 10975, 'Truthh4': 7055, 'Smh': 6579, 'locating': 14219, '555PHLtoSLC': 1327, 'UnansweredQuestions': 7310, 'off😂😂😂': 15162, '4609': 1180, 'aflame': 7904, 'Rumors': 6237, 'Sabre': 6395, '837': 1653, 'printer': 15928, 'checkIn': 9250, 'AuroraBIZ': 2233, 'improves': 13475, 'americanairlines': 8087, 'angryairtravel': 8134, 'winterstorm': 19185, 'Massive': 5173, 'Poorly': 5918, 'USAirwaysCenter': 7278, '639p': 1429, 'Danbury': 3192, 'Geeks': 4020, 'servers': 16995, '21515': 602, 'BUFCLT': 2368, 'Emily': 3509, 'gso': 11760, 'Account…': 1992, 'drunkpilots': 10532, 'httptcoZira2z3UDc': 12869, 'Islands': 4489, 'stuckintheloop': 17668, 'HI': 4149, 'httptco214i0RTIH4': 12253, 'crashedeverywhere': 9824, 'flight2031': 11205, 'valuables': 18774, 'us2146': 18712, 'aa2924': 7737, 'outtage': 15330, '2031': 552, 'Regretting': 6129, 'hotterandlongerthanhell': 12139, 'confirmedso': 9614, 'shameonyou': 17047, '45minutes': 1175, 'AMS': 1927, 'downright': 10481, 'hostile': 12126, 'AWE474': 1972, '20th': 576, 'httptcoBgtJFmnEOT': 12440, 'CBSPhilly': 2653, 'DCAManual': 3090, 'ystrdy': 19431, 'tryng': 18423, 'rsrv': 16710, 'Intentionally': 4465, 'unsuitable': 18657, 'preventing': 15909, '601': 1386, 'cus': 9908, 'Rett': 6173, 'Cavan': 2811, 'gofundme': 11642, 'breath': 8880, 'BGR': 2319, '695': 1473, 'deferring': 10063, 'at😳': 8382, '8AM': 1693, 'behave': 8633, 'offensively': 15147, 'Message': 5225, 'particulars': 15446, '55min': 1334, 'US755AA2595': 7266, 'realistic': 16201, '2595': 717, 'BOSPHL': 2347, 'httptco9rx5HOmM25': 12396, 'helpinfo': 11972, 'SampGs': 6418, 'gt70': 11772, '480': 1200, 'CSTSVC': 2732, 'honors': 12082, 'RCD': 6020, '4035': 1054, 'usaireays': 18720, 'httptcovU5lBZXtRX': 13278, 'eating': 10598, 'TRAIN': 6814, 'STAFF': 6351, 'unload': 18617, 'interpreting': 13683, 'sarcastic': 16798, 'KPHL': 4669, 'excellentcustomerservice': 10855, 'waitinginphilly': 18913, 'flight838': 11211, 'USDELAYways': 7282, 'letsgoalready': 14100, '2022': 549, 'Phil': 5864, 'wonderingirritated': 19230, '4454': 1140, '3818': 980, 'whyisusairALWAYSDELAYED': 19141, 'emotional': 10676, 'incurred': 13540, 'approximately': 8249, '600117': 1383, 'superiors': 17753, 'BarclaycardUS': 2409, 'emplid': 10684, 'AA67': 1860, '20feb15': 569, 'appealing': 8214, '4565': 1165, 'SUNDAY': 6371, 'influx': 13575, 'httptcotyXAZtMQ1U': 13240, 'sum1': 17734, 'SIX': 6313, 'wlil': 19211, 'LOTS': 4823, 'wthat': 19339, 'Todays': 6997, 'utilize': 18754, 'theUSO': 18022, 'C26': 2625, 'nocommunication': 14968, 'nocrew': 14970, 'httptcohFjYN2vtVj': 12997, 'housing': 12157, 'httptcoGiEnNyqN22': 12527, 'ClaudOakeshott': 2906, 'Milesneed': 5257, 'httptcodr5oCtp1DY': 12939, '10x': 116, 'Dividends': 3322, 'sympathize': 17839, 'reweather': 16611, '4minute': 1230, 'US5235': 7257, 'httptcoclOB5qwMXR': 12915, 'httptco8Je1h3666w': 12374, 'wtop': 19343, '4210': 1091, 'BradleyAirport': 2537, 'FAs': 3624, 'httptcoEEqWVAMmiy': 12483, 'lodging': 14226, 'st': 17491, 'CHA': 2666, 'planeso': 15669, 'FLIGHTS': 3644, 'OPTIONS': 5561, 'FireVan': 3768, 'EXTREMELY': 3450, 'Father': 3721, 'development': 10217, 'Painless': 5790, 'effortless': 10623, 'Tory': 7015, 'rivets': 16643, 'churn': 9320, 'service✌️': 17007, 'httptcoWDAKTmr7Mj': 12811, 'nondelayed': 14997, 'na': 14820, 'todayno': 18213, 'AmericanAirother': 2110, 'fear': 11048, 'takingthistothetop': 17883, 'overhaul': 15350, 'employees✌️': 10691, 'baggageridiculous': 8518, 'httptcoBRCsjBxG2s': 12433, 'stuffing': 17675, 'sweat': 17816, 'MrRenevendez': 5321, 'httptcogn30p75KqB': 12989, 'Competitor': 2956, 'scoop': 16871, 'accomplish': 7797, 'AAdvantage': 1878, 'corybronze': 9750, 'INCONVENIENCE': 4371, 'KIDS': 4661, 'STRAND': 6365, 'stt': 17663, 'john': 13848, 'TheHaileyTate': 6931, 'Round': 6230, 'aboout': 7760, 'JosephTReis': 4631, 'MHtT': 5048, '2hrs35minOnHold': 809, 'weekampinbound': 19036, 'lastnight': 14013, 'philadelphia': 15576, 'Careless': 2786, 'httptcojN3V3k3qGv': 13030, 'overloads': 15356, '4435': 1133, 'brush': 8925, 'sorude': 17385, 'delayshandling': 10103, '1898': 465, 'BZE': 2380, 'httptcoAwGjkjIIac': 12419, '54': 1309, 'brutal': 8927, 'httptcoVsKXyAmnom': 12805, 'httptco3LPVFhKy2F': 12279, 'fm': 11316, 'Sby': 6445, 'nose': 15031, 'Flightglobal': 3814, 'httptcoYf9NhMwyFF': 12856, 'reinforcements': 16355, '2go': 800, '1735': 410, 'conditioning': 9600, 'PHONEEEEE': 5713, 'Wth': 7647, '4097': 1064, '850': 1662, '4478': 1149, '1848': 453, 'Malcome': 5124, 'K': 4648, 'Replicate': 6148, 'dayI': 9996, 'contingency': 9690, 'assholes': 8320, 'empl': 10683, 'greatjob': 11720, 'boggling': 8790, 'melting': 14519, 'httptcojJdoSFYIBM': 13028, 'Clt': 2920, 'Oversold': 5668, 'CARRY': 2647, 'luggageCancelled': 14335, 'agents…no': 7930, 'Past': 5818, 'tense': 17963, 'F623': 3607, 'attndt': 8381, 'wrecking': 19316, 'havoc': 11908, 'smugsmirk': 17297, 'norush': 15030, 'ALfamilyoffour': 1920, 'FlightrFor': 3835, 'tues': 18430, 'exhibited': 10883, 'newamericanairline': 14917, 'cheapslogannotmotto': 9245, '623': 1412, 'attdt': 8358, 'decides': 10044, 'aggravating': 7935, 'flt1727': 11268, 'httptcow3XS6TVpZg': 13289, 'UsAirways': 7361, 'overwhelming': 15371, 'msscottwg': 14777, 'unusual': 18669, 'Mellani': 5215, 'superstars': 17754, 'nburnside26': 14859, 'Mellie': 5216, 'vouchers…any': 18876, 'Icecream': 4396, 'Sb5551': 6444, 'Um': 7303, 'USeless': 7289, 'Collectively': 2931, 'Desperately': 3274, 'percentage': 15538, 'yout': 19417, 'sectionturn': 16921, 'reaccommodation': 16179, 'Liza': 4932, 'IDIOTIC': 4356, 'diet': 10249, 'cokenice': 9449, 'bizness': 8735, 'A4': 1804, 'b16': 8457, 'colleagues': 9455, 'inlaws': 13599, 'suggesting': 17723, '8004284322': 1614, 'podium': 15736, '1773': 418, '1903': 473, 'Tiffany': 6973, 'H': 4131, 'httptcoHHOxQPsUbA': 12541, 'usairsucks': 18722, 'autoreFlight': 8405, 'nanceebing': 14833, 'momentand': 14705, 'infrastructure': 13587, 'massivefail': 14447, 'failphone': 10976, '3739': 964, 'flgjt': 11191, 'Fll': 3844, 'pops': 15773, 'dozens': 10487, 'BRizzyberg27': 2360, 'httptcoNeHnsDCkTY': 12666, 'UhI': 7301, 'grief': 11731, '0400': 20, 'ANSWER': 1935, 'BLOODY': 2327, 'PHONE': 5712, 'Fing': 3760, 'Usairways': 7364, 'selling': 16962, 'loans': 14210, 'FlowersSMFH': 3847, 'travelpoints': 18357, 'abounds': 7761, 'EVV': 3435, '4663': 1187, '3960': 1006, 'Overbooked': 5666, 'SXMCLT': 6390, 'missedconnection': 14666, 'forcedovernight': 11349, 'lodgingfood': 14227, 'worstflightexperienceever': 19288, 'getmehome': 11576, '3hr': 1021, '26min': 740, 'loanr5084773604': 14209, 'canld': 9072, 'resch': 16477, '130If': 247, 'opt': 15259, 'tom': 18231, 'cng': 9413, 'httptco6CGFv02gzb': 12338, 'lapse': 14001, 'exercise': 10879, 'miserably': 14649, 'Ten': 6891, 'Army': 2197, 'cots': 9762, 'poorlyhandled': 15767, 'usairheads': 18721, 'httptco18fMr06mn6': 12236, 'onhold': 15215, 'gifts': 11599, 'revers': 16596, 'agt': 7950, 'Family': 3705, 'vacationing': 18765, 'LITERALLY': 4805, 'estPlatinumEventually': 10791, 'Tabitha': 6851, 'hd': 11912, '3min': 1024, '300am': 843, '50minssss': 1262, 'processes': 15963, 'anotherfail': 8160, 'hanged': 11855, '41CGQueen': 1085, 'vows': 18877, 'smoothtransition': 17294, 'Tight': 6976, 'secs': 16918, 'jabevan221': 13780, 'httptcoG3Uy6w28QH': 12518, 'flightamp': 11221, 'jtrexsocial': 13866, 'midght': 14582, 'fkn': 11166, 'unbelieavle': 18525, 'unaccpetable': 18515, 'failback': 10972, 'actualy': 7844, 'situationsYour': 17203, 'hostel': 12125, 'fakeSnow': 10989, 'airmiles': 7988, 'XNA': 7654, 'Precheck': 5938, 'fwd': 11515, 'stillbagless': 17579, 'departureDealing': 10145, 'Des': 3267, 'Moines': 5283, 'commitments': 9503, 'excusable': 10869, 'Lynchburg': 5003, 'Wld': 7611, 'Orl': 5645, 'Char': 2840, 'httptcoDkZl57uPQI': 12474, 'Husband': 4338, 'NoExcusesAccepted': 5496, 'MORNING': 5073, 'KieranMahan': 4710, '58': 1349, 'usuck': 18750, 'Answering': 2151, 'httptcopD7R1lL6Re': 13153, 'pleading': 15695, 'crackers': 9813, 'grt': 11756, 'uppp': 18696, 'imtired': 13478, 'abandoned': 7748, 'flierssomeone': 11196, 'saveface': 16817, 'showup': 17126, 'professors': 15974, 'classwrite': 9354, 'midterm': 14585, 'Youll': 7705, 'whichever': 19117, 'Hooray': 4295, 'EBHSET': 3398, 'caterobbie': 9139, 'PATIENCE': 5682, 'Pleasehurryup': 5900, 'answerphone': 8167, 'reschedulemyflight': 16481, 'FIOUSAirways': 3636, '💁': 19583, 'FIVE': 3637, 'FOLKS': 3652, 'Teach': 6878, 'tools': 18257, 'prayerdisappointed': 15827, 'mishaps': 14653, 'lotttttttt': 14284, '74': 1544, 'chmom': 9301, 'wait”': 18920, '734': 1534, 'nm4agoodlife': 14957, 'synergy': 17843, 'RobPrice': 6212, 'Contingency': 2991, 'Safe': 6402, 'httptcoP8xFhq4kps': 12686, 'idontwanttocallback': 13419, 'becuase': 8616, 'disappearing': 10297, 'tovery': 18288, '4000': 1040, 'followers': 11331, 'Dozens': 3357, 'allready': 8042, 'fulleven': 11492, 'voucherno': 18874, 'traveloneworld': 18356, 'Utterly': 7372, 'amend': 8081, 'OW': 5582, 'Emerald': 3506, 'ru': 16715, '2h30m': 801, '680': 1464, 'dumped': 10551, 'needlessly': 14874, 'Wronganswer': 7645, 'Talk': 6861, 'FAILED': 3615, 'ReaganAirport': 6098, 'Dumped': 3384, 'unnoticed': 18628, '3yroldtwins': 1036, '1796': 425, 'CHL': 2679, 'faulty': 11035, 'Coming': 2945, 'WorstAirlineInAmerica': 7636, 'mod': 14698, '4322': 1112, '3hr30min': 1022, 'hosp3': 12120, 'trys': 18424, 'sys': 17845, 'cuts': 9942, 'hlp': 12039, '496': 1213, 'kitchen': 13935, 'Nowhere': 5536, '558': 1329, 'mewhat': 14566, 'Amsterdam': 2120, 'SnowStorm': 6587, 'hasty': 11894, 'unwise': 18673, 'pushback': 16074, 'plows': 15720, 'pullin': 16052, 'sh': 17033, 'OBJ3': 5544, 'httptcoAv2rfFHMcV': 12416, 'TRBL': 6816, 'terriblecommunication': 17973, 'gangway': 11530, 'Sexy': 6503, 'httptcoqgMfCB7yT4': 13178, 'essence': 10786, '5283': 1295, 'Knew': 4721, 'WX': 7496, 'reschedules': 16483, '2hr15min': 805, 'cherry': 9273, 'topflight': 18264, '880': 1681, 'E36': 3393, 'truthful': 18413, '40th': 1068, 'onTarmac': 15198, '1881': 463, 'donaldaroberts1gmailcom': 10435, 'PHLMCO': 5707, 'srvc': 17490, 'Srvc': 6658, '94': 1748, 'Flex': 3782, 'workforces': 19252, 'house👋': 12156, 'Eyyyy': 3601, 'drift': 10509, 'httptcoi1SfMI7zat': 13011, 'Gmas': 4056, 'FlyDelta': 3852, 'AF': 1901, 'clog': 9378, 'alreadycrowded': 8050, 'vegetarianproblems': 18793, 'Expecting': 3589, 'Ontario': 5623, 'informationstill': 13581, 'Bravo': 2545, '2023': 550, '60th': 1395, 'tripNever': 18388, 'depending': 10149, 'determination': 10210, 'cabinfever': 9021, 'hve': 13377, 'flght': 11190, 'nw': 15109, 'LANDED': 4744, '5530': 1321, '717': 1517, 'D1MQF5': 3069, '1776': 419, 'respectful': 16517, '5hourwait': 1369, 'cesspool': 9185, 'germs': 11568, 'undelay': 18541, 'dividends': 10399, 'rylietolbert15': 16754, 'tequila': 17965, 'through”': 18112, '2692': 737, '1861': 458, 'recorded': 16262, 'US643': 7263, 'stopover': 17603, 'flustered': 11279, 'Kristy': 4731, 'ShoutOut': 6534, 'Kristiesp': 4730, 'Gate4': 4015, 'RockStar': 6220, 'PromoteThatGirl': 5979, 'tomrw': 18241, 'key': 13907, 'flightCancelled': 11214, 'custservicehasnonumber': 9936, 'US733': 7265, 'horriblecustomerservice': 12112, 'backanother': 8472, '45minhour': 1173, 'httptcoAygAOeB6Uu': 12421, 'joined': 13850, '1world': 528, 'CLTNYC': 2695, 'notion': 15068, 'versace': 18808, 'biceps': 8697, 'toll': 18229, 'nght': 14930, 'Flightedmechprobs': 3809, 'Flightedsnow': 3812, 'cls': 9396, 'sche': 16855, 'genious': 11559, 'AA1061': 1812, 'preggo': 15862, 'hormones': 12108, '417pm': 1082, 'httptcoemRUbu4WzD': 12958, 'curvygirltravels': 9907, 'digit': 10264, 'diversion': 10392, 'familys': 11006, 'Okee': 5609, '1875': 461, 'stats': 17539, 'Nick': 5482, '742': 1548, 'DELIVERED': 3105, 'comin': 9488, 'h8': 11813, 'g': 11519, 'ThankJesus': 6909, 'ThankMe': 6910, 'ladys': 13980, 'amppraying': 8110, 'hubbys': 13345, 'httptcoFupf0UAyir': 12514, 'callers': 9046, 'HUSBANDS': 4177, 'SweetingR': 6756, 'eaten': 10596, 'DoBetter': 3327, 'UsAirwaysSuck': 7362, 'Bunch': 2593, 'Ute': 7371, 'V': 7376, 'DullesWashington': 3380, 'Effin': 3481, 'shitting': 17077, '229': 647, 'respondI': 16520, '150000': 300, 'i❤usair': 13779, 'multi': 14785, '275': 747, 'differ': 10252, 'USAirSucks': 7275, 'weatherflight': 19017, 'attendantCan': 8365, 'thisgreen': 18079, 'ACU': 1896, 'httptco0jUtCDRLjl': 12230, 'timbennettg3': 18153, '4532': 1160, 'assed': 8315, 'httptcoUA6doUA34l': 12773, 'dmv': 10412, 'noshadetothedmv': 15034, 'pregame': 15861, 'KentuckyMBB': 4700, 'Amtrak': 2121, 'Flightsrefunds': 3841, 'httptcoRKVCZBpdCE': 12728, 'Tamara': 6863, 'badcustomersrvice': 8495, 'whereismybag': 19111, 'ITIS': 4386, 'POORCUSTUMERSERVICE': 5746, 'veg': 18788, 'flightnever': 11229, 'httptcouTfDhxa8pU': 13249, 'Eagle': 3457, 'ew': 10841, 'httptcoB4xhiRuGzV': 12423, 'undermines': 18544, 'intelligence': 13655, 'tempLate': 17955, 'Flightget': 3813, '😑😩': 19645, 'httptcoCm4roIypc2': 12455, 'enormous': 10724, 'httptcoffanixJhwh': 12970, 'Flight850': 3790, 'CLTBNA': 2693, 'chose': 9312, '667': 1456, 'COME': 2707, 'inaccessibility': 13481, 'marccopely': 14422, 'discourteous': 10328, 'FrequentFlyers': 3917, 'chuckhole': 9318, 'Failing': 3694, 'issuesmy': 13745, 'delayedconnection': 10087, 'menow': 14531, 'shivadelrahim': 17080, 'AAL': 1871, 'AWE': 1970, 'httptco04SDytT7zd': 12220, 'retweets': 16587, 'dedicated': 10053, '1815': 443, 'N747UW': 5351, 'httptcoTtLwZgIyAg': 12767, 'feeyou': 11074, 'aligned': 8021, 'Connecting': 2977, '80°': 1631, 'MoBay': 5278, 'Sapphire': 6427, 'quoting': 16119, '900': 1718, 'PRofSolutions': 5767, 'represent': 16449, 'urgentlyget': 18709, 'SeanVRose': 6459, 'Sean': 6458, 'callplan': 9051, 'largesize': 14006, 'Owen': 5671, 'usairwaysfflyer': 18726, 'F6DK04': 3608, 'XZMSCW': 7658, 'quarter': 16094, 'weatherbut': 19015, '212': 592, 'basketball': 8570, 'wheresmyrefund': 19115, 'jerks': 13808, '🐳': 19553, 'Clown': 2919, 'leak': 14051, 'getmeoffthisplane': 11579, 'ineedabeer': 13555, 'franchise02': 11404, '813': 1633, '826': 1642, 'MBJ': 5016, '816': 1636, 'callnow': 9050, 'hourswhat': 12154, 'stating': 17535, 'Least': 4883, 'MC': 5017, 'timehave': 18164, 'flt5127keeping': 11271, 'delaygreatcustomerservice': 10096, 'LAST': 4750, '830am': 1648, 'selves': 16964, 'reativation': 16219, 'backed': 8474, 'hospice': 12121, 'soc': 17333, 'dontflyusairways': 10448, 'shitshow': 17076, 'destinationrude': 10194, 'weights': 19051, 'jobfail': 13844, 'guesstimate': 11785, 'Weak': 7529, 'incapable': 13493, '2yo': 835, 'Toddler': 6998, 'airbus321seat14Fproblems': 7967, 'httptcoZKOE6clGiU': 12863, 'prepare': 15877, 'scareways': 16843, 'neverfails': 14906, 'AUmilo1': 1965, 'FRACAT': 3661, 'zigzagging': 19447, 'movements': 14765, '4297': 1105, '849s': 1660, 'free5': 11418, 'havin': 11907, 'DESPICABLE': 3118, 'shuttles': 17136, 'authorize': 8397, 'gt250k': 11767, 'Billing': 2468, 'wasteoftime': 18972, 'alreadygot': 8051, 'dadeland': 9960, 'misery': 14650, 'lawsuit': 14033, 'lawyerup': 14035, 'disbelief': 10311, 'stephenrodrick': 17562, 'TheMagicalStranger': 6932, 'zip': 19448, '730pmtold': 1532, '150am': 305, 'CR': 2721, 'advisorynow': 7890, 'Fl': 3775, 'goHELP': 11635, '30timesenough': 859, 'dumping': 10552, 'theworstairlineever': 18048, 'miles😡': 14606, 'httptcoYqhk8LJaBN': 12860, 'winclement': 19165, 'USAIRsucks': 7272, 'LostFound': 4964, 'delightful': 10113, 'Cherry': 2863, 'DenverAirport': 3258, 'GreatService': 4101, 'professionalism': 15970, '49': 1208, 'pulls': 16054, 'pleeeeeeeease': 15713, '3797': 975, 'corporatepaid': 9740, 'Jeanine': 4583, 'Sailor': 6408, 'wsomeone': 19334, 'keithlaw': 13903, 'propositioned': 16016, 'attendanttrue': 8368, 'Creditcardsales': 3033, 'Naval': 5439, 'commands': 9492, 'slogan': 17256, 'recharging': 16241, 'AnyHelp': 2157, 'fresno': 11435, 'pittsburgh': 15643, 'HORRID': 4160, 'jammed': 13791, 'dontmakemegooutside': 10451, 'httptcoWJIiGZtiwg': 12814, 'reservationExplain': 16496, 'incedentals': 13495, 'noworstairline': 15088, 'worstever': 19285, 'httptcomyNZitCovn': 13100, 'daddyshome': 9959, 'notnice': 15072, 'tellyourstory': 17952, 'terrifyingly': 17979, 'JWA': 4554, 'Throwing': 6962, 'shade': 17034, 'reachingnewlows': 16185, 'smelly': 17282, 'aruba': 8296, 'waitingagain': 18911, 'misjudging': 14655, 'deliberate': 10109, 'Seen': 6477, 'expens': 10907, '1851': 454, '1769': 417, 'Burroughs': 2601, 'yourairlinesucks': 19409, 'triage': 18375, 'Personality': 5856, 'prepurchase': 15882, '23”L': 673, '9”W': 1790, '12”H': 240, 'GOGO': 3976, 'travelfail': 18348, 'Sc': 6446, 'MIGHT': 5056, 'Nightmarish': 5487, 'patiencerunningout': 15487, 'barclay': 8555, 'Freeze': 3914, 'AVP': 1968, 'TGIF': 6784, 'httptcoWXowZhpgfL': 12819, 'findurgrip': 11131, 'offeringAt': 15151, 'advis': 7883, 'phil': 15575, '213': 595, 'missingstollen': 14672, 'anyones': 8185, 'Mobil': 5279, 'Wishing': 7608, 'yousuck': 19416, 'PRN': 5762, 'planebroken': 15661, 'neverontime': 14911, 'paymytab': 15508, '4284322': 1103, 'CHO': 2680, 'httptco3KhGjoFgpX': 12278, 'fastest': 11027, 'MYRCLTORD': 5100, 'problematic': 15949, '5238': 1290, 'US1765': 7246, 'Shavon': 6517, 'evn': 10836, 'dayReward': 9997, 'Sat2morrow': 6430, 'CHOCLT': 2681, 'squashed': 17482, 'notmy': 15070, 'nrhodes85': 15091, 'httptcoocqk0JFXuA': 13139, 'MiamiI': 5233, 'itthen': 13769, 'achieve': 7816, 'Batting': 2421, 'comps': 9580, 'Merging': 5223, 'yield': 19391, 'navigate': 14852, '2066': 561, 'congratulation': 9627, '4009': 1044, 'Solution': 6592, '35X': 946, 'NationalAirpor': 5435, 'NothinI': 5530, 'bout': 8845, 'ghettofab': 11593, 'httptcomAqw2nLNiU': 13081, 'SOMEONE': 6335, 'z1': 19442, 'proceeded': 15960, 'tricities': 18379, 'Tn': 6993, 'Obviously': 5586, 'patience”': 15488, 'AWE1701': 1971, 'appreciates': 8235, 'C38': 2628, 'US626': 7261, 'Irritated': 4484, 'boyfriends': 8851, 'Iwas': 4509, '12amsound': 235, '25min': 723, '676': 1462, 'emphasize': 10682, 'VAPE': 7380, 'Welcome': 7543, 'Housing': 4313, 'Education': 3480, 'opportunities': 15254, 'GR8': 3983, 'State': 6683, 'Saddens': 6399, 'mini': 14619, 'nofee': 14975, 'UpInAirClaire': 7353, 'timeI': 18157, 'Melinda': 5212, 'greensboro': 11725, 'nc': 14860, 'jewel': 13833, 'workng': 19258, 'ET': 3424, 'pushy': 16077, 'GAgent': 3956, 'Danny': 3197, 'US628': 7262, 'DFWCLT': 3121, 'sarahpompei': 16795, 'beareavement': 8601, '235pm': 665, 'grace': 11688, 'bttr': 8931, 'lunchtime': 14342, 'httptcoBy3vDioSUA': 12442, 'AndrewFallis': 2129, 'stillnotonmyflight': 17584, 'Daughter': 3205, 'NotImpressed': 5525, '2133': 596, 'mimosa': 14611, 'kinder': 13924, 'breavement': 8883, 'sync': 17841, '1707': 405, 'reschedulereplane': 16482, 'youcandobetter': 19401, 'groan': 11736, 'Bloody': 2491, 'Marys': 5170, '5223': 1288, 'valuing': 18778, 'curt': 9905, 'eternal': 10800, 'mergerdisaster': 14547, 'Gets': 4035, 'comms': 9506, 'crowded': 9872, 'DCAPIT': 3091, 'httptcojasKYPLWt5': 13032, 'Weds': 7538, 'D9': 3072, '835': 1652, '“We': 19477, '851ticket': 1663, 'API': 1940, 'Flightedflight': 3808, 'Yvonne': 7717, 'HappyFriday': 4196, 'tier': 18146, 'burning': 8970, 'httptcoqjLzrYWFj2': 13180, 'complainers': 9558, 'inperson': 13606, 'Robyn': 6218, 'Manch': 5135, 'Started': 6677, 'Sit': 6558, 'gsp': 11761, 'sprawled': 17471, 'Choice': 2877, 'Grossedout': 4116, 'nicedismissive': 14932, 'recycle': 16277, 'bagtag': 8527, '⛄️☀️': 19506, 'Thks': 6953, '1786': 422, 'Overall': 5665, 'httptcopKy7ZhnNRH': 13158, 'Scotch': 6454, 'crosswords': 9870, 'Glasses': 4052, 'oldseatnocushion': 15190, 'worstflight': 19286, 'nohelponboard': 14983, 'coathanging': 9427, 'Obama': 5585, '428': 1102, 'frozentoilet': 11462, 'medicalissue': 14504, 'mechanicalissue': 14497, 'dispatchissue': 10354, 'LetsGo': 4899, 'Able': 1981, '950': 1755, 'Gassing': 4012, 'finalstretch': 11124, 'execplat': 10875, 'mileagerun': 14597, '6k': 1488, '1839': 450, 'PROVIDING': 5765, 'httptco3dDQq0gQni': 12283, '130pm': 249, 'DCAzero': 3095, 'faithful': 10987, 'Absolutely': 1983, '1838': 449, 'willsunday': 19163, '1907': 474, 'offloading': 15160, 'jdbwaffles': 13799, 'be”': 8688, 'Break': 2548, 'dishonest': 10343, 'Exicted': 3584, 'psychological': 16041, 'tricks': 18382, 'colors': 9462, 'embarrassment': 10665, 'worldwide': 19267, 'usairwayssucks': 18729, 'guys…see': 11807, 'circles': 9325, 'STRANDED': 6366, '1121p': 138, '3935': 1003, 'DCAgtHPN': 3094, 'prof': 15968, 'takersWe': 17880, 'minnow': 14623, 'mvmt': 14805, '890': 1686, '5136': 1271, 'connection…': 9639, '1857': 457, 'google': 11672, 'occupied': 15132, 'RipoffQuick': 6199, 'unemployment': 18563, 'Consumer': 2982, 'Affairs': 2026, '4553': 1163, 'fab': 10960, '1F': 496, 'ffstatusdontmatter': 11090, 'thenewaa': 18034, 'grandbabies': 11697, 'births': 8722, '46min': 1189, 'wNO': 18897, 'Evaluate': 3556, 'Geeeeezzzzz': 4019, 'PHLtoLAS': 5710, 'Cinci': 2886, '29': 764, 'thinkof': 18074, 'Promised': 5976, 'baggagelost': 8517, 'zfv': 19446, 'AskPayPal': 2211, 'USAIRWAYS': 7271, 'httptcoKigfKVXxDQ': 12604, 'minutesand': 14635, '5137': 1272, '5547': 1324, '1777': 420, 'clearance': 9363, 'Paypals': 5838, 'tedious': 17936, '605pm': 1390, 'Manager': 5134, 'overfilled': 15347, '10000lbs': 34, 'lavoratories': 14030, 'est': 10790, '437': 1119, 'PHXgtORD': 5719, 'Lead': 4877, 'Bill': 2466, 'AB': 1881, '—gt': 19463, 'httptcoAXRYeIWzh0': 12410, 'vuelo24es': 18880, 'vuelos24es': 18881, 'MADNYC': 5008, 'webs': 19027, 'anarchy': 8121, 'arms': 8276, 'knowhockey': 13949, 'sticks': 17576, 'Pleeeeease': 5902, 'pits': 15642, 'overwhelmed': 15370, 'Nbr': 5443, 'Dept': 3265, 'Bdl': 2427, 'babys': 8467, 'httptcon9vGe2nPIB': 13103, 'httptcoKCqeBEej7S': 12594, 'stillbut': 17580, 'ihatemergers': 13428, '4420': 1130, 'Monterey': 5300, 'fog': 11320, 'veggies': 18794, 'olives': 15192, 'Velcro': 7416, 'footrest': 11343, 'shelf': 17060, 'A330': 1801, 'httptcoZL4bVEXmcJ': 12864, 'Realizing': 6100, 'mask': 14443, 'polite': 15757, 'habitually': 11816, 'FUK': 3673, 'SHITTY': 6306, 'CHICKEN': 2675, 'SALAD': 6251, 'SANDWICH': 6255, 'OVERPRICED': 5581, 'FUKING': 3674, 'uncertainty': 18530, 'undue': 18561, 'reqing': 16458, 'wewantcomps': 19078, 'strandedattheairport': 17623, 'Highly': 4261, 'meds': 14508, 'sponsorship': 17458, 'httptcoq6Xedzvhh9': 13169, 'silicon': 17159, 'valleys': 18772, 'festival': 11084, 'garywerk': 11536, 'sandwiches': 16790, 'csr': 9886, 'yuma': 19434, '2702': 744, '2696': 738, 'MontereyRegionalAirport': 5301, 'alanbledsoe': 8011, 'Alan”': 2063, 'Lve': 5002, 'wopen': 19238, 'httptcoetfjqIwUvt': 12963, 'onlineRep': 15220, 'inferior': 13567, 'mergers': 14548, 'irony': 13722, 'barking': 8559, 'cocktail': 9433, 'chkd': 9296, 'College': 2932, '666': 1455, '1783': 421, 'chathes': 9237, 'everleft': 10823, '297': 775, 'MasterCard': 5174, 'scattered': 16846, 'Yuma': 7714, 'backwards': 8486, 'destroying': 10199, 'GastonCounty': 4013, 'lively': 14187, 'Bit': 2476, 'nostalgic': 15036, 'exec': 10874, 'benes': 8657, 'problemjust': 15951, '5095': 1254, 'CAK': 2639, 'scheming': 16863, 'OBJ': 5543, 'LMAOOO': 4810, 'Reminder': 6137, 'httptcomFMNKmvOTR”RT': 13086, 'h2o': 11812, 'flight1797': 11204, 'END': 3407, 'httptcoNBpCJCpEW9': 12655, 'Dreading': 3364, 'httptcoWBMHRl3bvl': 12810, 'AlbertBreer': 2069, 'interchangeably': 13663, '556': 1328, 'MP3': 5075, 'player': 15690, 'usage': 18717, 'httptcoNvk3IrG4KP': 12671, '1005am': 41, '1917': 476, 'Lilly': 4911, 'badcustomerexperience': 8493, '657': 1452, 'Candice': 2773, 'dothatd': 10463, 'onion': 15218, 'tbt': 17913, 'jax': 13795, 'A9': 1808, 'B13': 2268, 'tiredampfrustrated': 18183, 'CakeNDeath': 2750, 'DL': 3137, 'Ethan': 3551, 'revive': 16606, 'laundry': 14027, 'tabs': 17860, '1217': 193, 'Passed': 5814, 'Frozen': 3928, 'pipes': 15634, 'skys': 17229, 'imagined': 13443, 'SPEND': 6343, 'Stubbornly': 6714, 'phf': 15574, '1135': 147, 'too👍': 18260, 'Icing': 4399, 'FlyUS': 3866, 'Ripoff': 6198, 'Mphx': 5317, 'accts': 7810, 'Flighthis': 3815, '4438': 1134, 'holz': 12060, 'labeled': 13969, 'occupy': 15133, 'musical': 14799, 'KUDOS': 4674, 'correLate': 9742, 'HirasmusBidragi': 4269, '925': 1742, 'DublinAirport': 3374, 'LoveLoughNeagh': 4974, '20000': 533, 'httptcoFRd0cAy6DA': 12501, '1870': 459, 'Part': 5805, 'RSWwebsite': 6057, 'httptcoSl6BDRXfN8': 12749, 'preciate': 15840, '5015': 1244, 'knoxville': 13956, 'ideasshe': 13408, 'todayat': 18210, 'petition': 15568, 'faa': 10958, 'namemarried': 14829, '50no': 1263, 'docs': 10419, 'TYS': 6846, 'gtCLT': 11774, 'GTH239': 3995, 'usaiways': 18731, 'coded': 9438, 'trumping': 18409, 'booster': 8812, '7F': 1597, 'problemhad': 15950, 'brochure': 8908, 'touting': 18287, 'mergedbaggage': 14545, '130am': 248, 'you3860': 19397, 'cincyjust': 9322, 'landedyou': 13990, 'Cteam': 3046, 'NotEvenJV': 5523, 'recvd': 16276, 'sucksi': 17708, '40k': 1065, '125': 215, 'tckt': 17916, 'PHXPHL': 5715, 'pointy': 15746, 'Def': 3234, 'ApplePay': 2176, 'anyone40min': 8184, 'Flightrcould': 3836, 'AnnetteNaif': 2141, 'Roberto': 6216, 'words”': 19242, 'flight4592': 11210, 'CheapOair': 2852, '1000p': 36, '1007p': 44, 'SmoothOperation': 6583, 'misplace': 14659, '1pm1015': 520, 'httptcoN7pSuEJDC8': 12651, '48hrs': 1207, 'Freaky': 3908, 'DCADSM': 3088, 'Inconvenient': 4431, 'nofun': 14978, 'httptcom7MMq2f5FA': 13079, 'ckin': 9340, 'Emailed': 3499, 'AllegiantTravel': 2080, 'crewand': 9849, 'evenLate': 10813, 'ThereIsAFirstForEverything': 6942, 'Solid': 6591, 'attendantEliz': 8366, '673': 1461, 'crosswinds': 9869, 'Eliz': 3491, 'yell': 19374, 'amateur': 8069, 'WellDone': 7545, 'Loosing': 4958, 'Barclays': 2410, 'Myrtle': 5336, 'transactions': 18316, 'TMRW': 6801, '319': 876, 'WallStSlumLord': 7506, 'PKG49': 5727, 'notfriendly': 15047, 'bush': 8978, 'Yell': 7689, 'devs': 10220, 'wdeicingThree': 19003, 'sill': 17160, 'USExpressPSA': 7284, 'Door': 3344, 'reopened': 16417, 'wd': 19002, 'Secondary': 6468, 'screenings': 16883, 'tomorrowhelp': 18237, 'TSAPreCheck': 6824, 'disconnection': 10320, 'prompts': 16009, 'desired': 10177, '5141': 1275, 'TarmacThanks': 6871, 'Cha': 2827, 'MarciaVeronicaa': 5143, 'uncles': 18533, 'considerate': 9650, 'Marsha': 5164, 'ThankYouForEverything': 6912, 'AWOL': 1976, 'lite': 14181, 'httptcomT8sPlm02v': 13093, 'Joined': 4624, 'pity': 15644, 'misguided': 14652, 'preparedhonestly': 15879, 'nothings': 15057, 'creating': 9838, 'itI': 13751, 'interest3880': 13666, 'Suggestion': 6722, 'vrm': 18878, 'ignorant': 13423, 'staffAmericanAir': 17494, 'fallen': 10994, 'farTHANKS': 11016, 'DOUG': 3155, 'PARKER': 5680, 'vile': 18826, 'moneywhy': 14718, 'US4485': 7254, 'way💺✈️': 18991, 'portlandjetport': 15781, 'httptcokDMq0jps02': 13039, 'us2118': 18711, 'pple': 15816, 'httptcor7ibqr4CYd': 13187, 'Usair': 7363, '2218': 621, 'US2218': 7251, '36min': 957, 'countingphoto': 9777, 'flattering': 11177, 'daysand': 10007, 'worstnever': 19289, 'Betty': 2458, 'ILM': 4365, 'DRVRugby': 3163, 'blizzard': 8762, 'surprisingly': 17790, 'strandedinnashville': 17624, 'againlost': 7917, 'FRUSTRATED': 3665, 'LivePersonPlease': 4930, 'occasions': 15131, 'Doubt': 3350, '35x': 948, 'encounter': 10698, 'outright': 15323, 'Priorities': 5960, 'FLT1999': 3648, 'upsetting': 18700, 'Wondering': 7616, 'disguised': 10339, 'httptcouH6UwuOSC0': 13244, 'coffeemaker': 9443, 'FT1892': 3668, 'be4': 8593, 'coma': 9466, 'in…': 13715, 'mins…': 14630, 'requiring': 16471, 'rumors': 16738, 'TVmovie': 6837, 'installing': 13631, 'muzak': 14804, 'tsaprecheck': 18426, '3000': 840, 'Samsonite': 6419, 'totaled': 18273, 'baked': 8532, 'replys': 16441, 'usairwaysssuck': 18727, 'comforting': 9486, 'stationary': 17537, '2147251966': 600, 'WAITLOL': 7458, 'sucksusairwayssucks': 17709, 'lucycat': 14333, 'scm1133': 16869, 'httptco7STktJXAN1': 12358, 'timbit': 18154, 'PLEASE🙏🙏🙏✌️✌️✌️🙏🙏🙏': 5735, 'reassess': 16216, 'Goal': 4064, 'usairwayssuck': 18728, 'thatbut': 18012, 'numberthe': 15101, '1151': 160, 'rejected': 16364, 'fendforyourself': 11082, 'locator': 14222, 'Div': 3316, '2k424j0': 811, 'DNX58V': 3146, 'Starving': 6681, 'hourconnected': 12146, 'systemtransferred': 17850, 'flailing': 11172, 'httptcoJhXWMuTx4G': 12588, 'severally': 17022, 'chairmanlove': 9191, 'httptcomEOAlCIPdD': 13084, 'monetary': 14714, 'DAYS': 3082, 'overloaded': 15355, 'PLUS': 5739, 'emergencies': 10670, 'REAL': 6026, 'whatajoke': 19089, '⤵': 19534, 'httptcoQ5SB0DaVuy': 12704, 'Isabelle': 4487, 'Gramp': 4094, 'PLEASE🙏🙏🙏🙏🙏🙏🙏🙏🙏🙏🙏🙏🙏🙏🙏🙏🙏🙏': 5736, 'Divident': 3323, '⤵for': 19535, 'httptcoef4P0HISHb': 12953, '1748': 412, 'systemic': 17847, '15369214203': 318, 'SPF': 6344, 'disallows': 10294, 'makeovertimecustomerserviceplease': 14386, 'donthavehighhopes': 10449, 'noreplyusairwaysmobilecom': 15024, 'filters': 11116, 'DNS': 3145, 'admin': 7866, '19B': 491, '1943': 482, 'httptcoHAJ5lKqjW4': 12537, 'Antitrust': 2155, 'unprofessionalism': 18637, '2daysLate': 794, 'httptcoJhaU4K48yv': 12589, 'itin': 13759, 'httptco79waJk7EyT': 12356, 'httptcoBuwjTVUWKM': 12441, 'secret': 16916, 'Pordes': 5919, '5080': 1253, '5129': 1270, 'helpfulIm': 11969, 'holdtime': 12053, 'httptcoUPp41AbxrQ': 12778, 'srq': 17487, 'BohnJai': 2509, '👎✈️': 19569, '👎😬': 19572, '👎😡': 19570, '😊👏': 19632, 'verbally': 18802, 'cussed': 9912, 'cae': 9027, '😤': 19676, 'SDFAirport': 6272, 'peeved': 15524, '5534': 1322, 'Pascucci': 5810, 'httptcoYiwLhQhZgp': 12858, 'mumbled': 14794, 'uses': 18746, 'httptco2eDgc6TbLs': 12267, 'SVLLINDIA': 6372, 'provides': 16032, 'logistics': 14238, 'Mumbai': 5329, 'Surat': 6743, 'NaviMumbai': 5440, 'ForsythFactor': 3890, 'passengersLose': 15466, 'gthour': 11778, 'dsearls': 10536, 'gooutofbusiness': 11673, 'fispahani': 11151, 'disruptions': 10371, '325': 888, 'httptcoe09keJ9bv1': 12944, 'worsttraveldayever': 19292, 'maddening': 14363, 'unexplained': 18567, 'Communication': 2950, 'httptcopkAxUNYfn2': 13165, 'Dallasraisenow': 3189, 'tweetin': 18450, 'Doin': 3332, 'anythin': 8186, 'wiser': 19193, 'leads': 14049, 'US558': 7259, '216': 604, 'crewI': 9847, 'NeverflyUSairways': 5459, '👠👠👠': 19580, 'heel': 11948, 'clicks': 9371, '4439': 1135, 'redheaded': 16287, '3389': 911, 'thislinehasntmovedforanhour': 18080, 'Shaquille': 6513, 'scotch': 16873, 'grouping': 11749, 'TYSVM': 6847, '3121': 868, '1874get': 460, 'fate': 11029, 'write😑': 19325, 'TYVM': 6849, 'hectic': 11947, 'husainhaqqani': 13372, 'Husain': 4337, 'shld': 17083, 'protest': 16023, 'Rehman': 6130, 'Malik': 5126, 'httptcoL7lWjaZiOA': 12610, 'noltnancy': 14989, 'bewhat': 8686, 'issucks': 13738, 'jokeBoston': 13852, 'ladyONE': 13978, 'httptcoDH2rfUIJYP': 12464, 'erickofiejones': 10770, 'billing': 8709, 'cycles': 9954, 'httptcoDPhQRgkdoA': 12467, 'spreadtheword': 17474, 'borrow': 8823, 'F38ish': 3603, 'Commitment': 2948, 'praised': 15823, 'Barklays': 2412, 'bookin': 8804, 'throne': 18109, '470': 1192, 'conn': 9630, '763': 1568, 'ExecutivePlatinumMeansNothing': 3582, 'IWantCoffee': 4390, 'Eh': 3483, 'Member': 5218, 'Profits': 5972, 'powered': 15812, 'longday': 14248, 'waivethefee': 18927, 'Neptune': 5451, 'reposting': 16446, 'imateacher': 13445, 'neptunewaivethefee': 14893, 'notmyfault': 15071, 'vmail': 18853, 'techcontd': 17931, 'C68LD9': 2632, 'Manage': 5132, 'httptcobCwckWtnlE': 12897, 'C14': 2621, '1791': 424, '5302': 1300, '551': 1320, '620still': 1409, 'schedulecontact': 16858, 'snaps': 17310, 'cups': 9895, 'EIGHT': 3401, 'LONGER': 4817, 'steaming': 17554, '744': 1549, 'Lord': 4959, 'Sold': 6590, 'WheresTheCustomerServiceAt': 7573, 'httptcophI2IfNjIT': 13164, '893': 1687, 'emilylyonss': 10674, 'ordeal': 15267, '4524': 1158, 'deadhead': 10021, 'versus': 18811, 'Hungary': 4333, '0372389047497': 19, 'daysNo': 10005, 'USAirway': 7276, 'satesq': 16805, 'PHLCRW': 5706, 'httptco8Hh0c63TIe': 12373, 'HTS': 4173, '604': 1388, 'DialUp': 3286, 'TheEnd': 6929, 'GoodDay': 4081, 'ErnieVigil': 3543, 'fd': 11047, 'sickcrew': 17140, '🙏🙏🙏🙏🙏🙏🙏🙏🙏🙏🙏😢😢😢😢😢😢😢😢🙏🙏🙏🙏🙏🙏🙏🙏🙏🙏🙏🙏🙏🙏🙏🙏🙏🙏🙏🙏🙏': 19714, 'Uncalled': 7312, 'neptune': 14892, 'BostonBBB': 2528, '🙏🙏🙏😢😢😢🙏🙏🙏': 19713, 'Tanpa': 6867, 'tic': 18127, 'waive200fee': 18922, 'please🙏🙏🙏🙏🙏🙏🙏🙏🙏🙏🙏🙏🙏🙏🙏🙏🙏🙏🙏🙏🙏🙏🙏🙏🙏🙏🙏': 15709, 'WAIVE': 7459, 'FUTURE': 3678, 'DATE': 3080, '312': 867, 'unprofessionally': 18638, 'uncalled': 18528, 'FMJTYL': 3650, 'BACK🙏🙏🙏✌️😉': 2289, '9º': 1789, 'anticipation': 8174, '1808': 442, 'Crappy': 3027, 'Freddie': 3911, 'sibling': 17137, 'wether': 19076, 'approproately': 8242, 'tooooo': 18258, 'command': 9491, 'absorb': 7765, 'deceiving': 10038, 'reprehensible': 16448, 'Joke': 4625, '50hrs': 1257, 'winkwink': 19176, 'intimate': 13690, '5202': 1284, 'Firefox': 3769, 'Button': 2610, 'gray': 11714, 'submits': 17687, '2check': 789, '322': 885, '1855': 455, 'httptcohLZaHXkdSn': 12998, 'Travis': 7035, 'Skis': 6566, 'rush': 16749, 'jetway—why': 13832, 'usaa': 18715, '4443We': 1138, '33for': 913, 'apx': 8254, '✈️🌞': 19514, 'closing': 9387, '4443': 1137, 'nobackup': 14963, '1005pm': 42, '245': 684, 'begun': 8631, 'JackKairys': 4556, 'lineoh': 14158, 'LGAIAH': 4786, 'customerfriendly': 9920, 'accessible': 7784, 'planestrainsandautomobiles': 15670, 'preparedness': 15880, 'snowballed': 17315, 'couldwanted': 9768, 'httptcoxGPaAyFDwt': 13307, '1923': 479, 'Pull': 5993, 'aforementioned': 7905, 'patron': 15491, 'hoodlums': 12085, 'httptcoC24cEfa9pl': 12443, '3729but': 963, 'doI': 10414, 'speciifc': 17430, 'character': 9215, 'AAUS': 1875, '3923': 1001, 'hogs': 12043, 'Fabulous': 3689, 'Quality': 6010, '628': 1416, '1PM': 500, 'impediment': 13455, 'tips': 18180, 'Duke': 3377, 'hat': 11895, '1761': 416, 'Mason': 5171, 't24': 17853, 'registering': 16342, 'httptcoa0YoSJHZMc': 12872, 'researching': 16488, 'wclass': 18995, 'contaced': 9669, 'EYEWITNESS': 3453, 'NEWS': 5371, 'unheard': 18582, 'manned': 14411, '2069': 562, 'HSV': 4172, 'crickets': 9858, '3900': 999, 'ubetter': 18496, 'smth': 17296, 'seet': 16940, 'offwish': 15161, 'dating': 9991, 'Nov': 5533, 'eDreamsen': 10565, 'Optimistic': 5634, 'Oy': 5672, 'Tara': 6868, '1145am': 154, 'delayedthats': 10093, 'gem': 11553, 'Furious': 3944, 'someoneawesome': 17358, 'coin': 9446, 'SM': 6323, 'upsmh': 18701, 'OneHourOnHold': 5618, '1797': 426, 'senseless': 16974, 'reactivate': 16188, 'casimir': 9130, 'Believe': 2442, '2955': 771, 'unwilling': 18671, 'rotten': 16690, 'nocareforcustomers': 14966, 'Mold': 5285, 'US3825': 7253, 'filthyplane': 11118, 'hopeidonotgetsick': 12096, 'httptcozIK2UoXGnW': 13332, '2013': 542, 'AvGeek': 2243, 'httptco1yWXRfn0Gr': 12252, 'slapintheface': 17232, '945': 1750, '788': 1587, '188': 462, 'frustratingit': 11467, 'nexttimeiwillflysouthwest': 14928, 'TPADFWLAX': 6813, 'GRK': 3987, 'LEX': 4779, 'XT': 7656, 'f1571AUS': 10957, 'add’l': 7861, 'prolonged': 15993, 'prds': 15831, '304min': 846, 'AA2444': 1837, 'ohio': 15170, 'dallas': 9965, 'httptcoDNMsblzumr': 12465, 'Chef': 2862, 'Miguel': 5248, 'Allende': 2081, 'httptco7t1rDRCRe6': 12366, 'Followed': 3877, 'horriblewent': 12114, 'button4thatCalled': 8992, 'ampwait': 8112, 'minsampput': 14627, '800calledampit': 1618, 'hungupNOHELP': 13362, 'cot': 9761, '“AmericanAir': 19467, 'AndrewWasila': 2130, 'Andrew': 2127, 'you”': 19424, 'SMA': 6324, 'rollercoaster': 16682, 'yesso': 19384, 'guysfor': 11806, 'Killeen': 4711, 'wcustomer': 19000, 'droped': 10525, 'rwrd': 16752, 'AAno': 1879, 'AAdv': 1877, 'narrowly': 14840, 'standbylots': 17511, 'snags': 17307, 'pbpinftworth': 15511, '64GB': 1439, 'RobertDwyer': 6214, 'choppiest': 9310, 'Whiplash': 7576, 'americanairlinesfail': 8088, 'iwantmymoneyback': 13776, 'reversed': 16598, 'bereavement': 8660, '580815': 1350, '“Inconvenient”': 19468, 'TRUSTGET': 6819, 'okYou': 15175, 'stuckinmemphis': 17666, 'texasisclosed': 17986, 'httptcoVMqUURZUpW': 12794, 'httptco22iPGeIcSm': 12254, 'faves': 11039, '1357': 263, 'sju': 17209, 'thenewamerican': 18035, 'Sheesh': 6520, 'Alex': 2072, 'Espinosa': 3548, 'httptco0HXLNvZknP': 12224, 'crated': 9827, 'wouldbe': 19300, 'pets': 15569, 'painfully': 15406, 'inexperienced': 13563, 'paged': 15399, 'spaced': 17409, 'httptcoaCebo6ELPa': 12876, 'mattersIts': 14455, 'Clarkey19': 2902, 'biggie': 8704, 'iTunesMusic': 13390, 'Spagnuolo': 6631, 'coached': 9422, 'Rams': 6079, '1181': 172, 'whammie': 19087, 'httptcooUmC1LrXDN': 13134, '386': 987, 'robocalls': 16661, 'onplane': 15229, 'TwitterDM': 7083, 'AA76': 1861, 'gems': 11554, 'origindestinationdates': 15284, '777200': 1579, 'ORDPVG': 5569, 'arbitrary': 8257, 'Pafe': 5787, 'AADFW': 1869, 'AMso': 1930, 'trvLove': 18414, 'gogo': 11643, 'boatstyle': 8787, 'swivel': 17833, 'dietcoke': 10250, 'happyflier': 11875, 'rampers': 16145, 'b40': 8459, 'marshaled': 14436, 'there’s': 18039, 'retired': 16571, 'MD80': 5027, 'resoled': 16505, 'Kax': 4690, 'beantownmatty': 8598, 'ExecPlat': 3580, 'grievance': 11732, 'rno': 16648, 'Maria”': 5150, 'beanie': 8596, 'httptcoAnEqXZR4bp': 12413, 'lpalumbo': 14320, 'rdu': 16176, 'sexual': 17026, 'assult': 8334, 'Woohoo': 7622, 'LaGuardiaAir': 4846, 'diapers': 10234, '3100': 862, 'manners': 14413, 'dfwairport': 10223, 'FYIcall': 3684, 'stilling': 17581, 'dialing': 10230, 'Attempted': 2223, 'SouljaCoy': 6607, 'obscene': 15121, 'acquisition': 7827, '1843': 452, 'youyou': 19421, 'dwell': 10559, 'encouragement': 10702, '1565': 329, '57': 1343, 'logical': 14235, 'ALLOWING': 1914, 'timeJust': 18158, 'wear': 19009, 'xxx': 19358, 'LIVING': 4806, 'CLOSE': 2690, 'VIEWS': 7384, 'costwhy': 9760, 'vastly': 18785, 'httptcovOxcghciJi': 13275, 'Bundle': 2594, 'applause': 8220, '1the': 524, 'freezes': 11424, 'nitrogen': 14952, '3a': 1015, 'inflating': 13571, 'fligt': 11249, 'httptcowCSAZZQPae': 13291, 'Barbados': 2407, 'beaches': 8595, '1636': 372, 'temorris2010hotmailcom': 17953, 'GoldSapphire': 4072, 'httptcotY9C0Gae2o”': 13230, 'greatI': 11716, 'md80dc10': 14472, 'md80': 14471, 'ods1819': 15141, 'httptcoHEpkNpuzwU': 12539, 'CDG': 2659, '12888155964': 228, 'httptcofgJbex480D': 12971, 'Brrr': 2572, 'chilly': 9292, '😮': 19699, '1463': 289, 'probls': 15955, 'wcomm': 18996, 'Cxld': 3067, 'rtrn': 16714, 'COOL': 2715, 'nickeled': 14937, '2559': 712, '855': 1665, 'DC9s': 3084, 'TT': 6827, '3322': 900, 'planB': 15657, 'upgrademe': 18684, 'httptco9Gx5mMmubb': 12386, '2526th': 708, 'httptcowDyEkVB1Ze': 13292, 'Wichita': 7587, 'Falls': 3701, 'gtgt': 11776, 'httptcoIb8kyjBCJM': 12569, 'animals': 8141, 'americandairlinesSUCKS': 8091, 'southern': 17399, 'experts': 10915, 'httptcomPliO6DYgn': 13091, 'AA3688': 1853, 'preventable': 15906, 'wcompanies': 18997, 'forU': 11346, 'Luck': 4986, 'Birthday': 2475, 'Kept': 4701, 'allowable': 8036, 'admitted': 7869, '24951170': 692, '1229': 204, 'wconnection': 18999, '1120am': 137, 'daysplans': 10012, 'AA3490': 1850, 'delaypending': 10100, 'hormonal': 12107, 'teenager': 17939, 'wastedeffort': 18970, 'reappeared': 16209, 'BA': 2285, 'Avios': 2248, 'undone': 18559, 'MCE': 5018, 'BOARDING': 2334, 'respondingMy': 16523, 'UTEVGW': 7292, 'bragging': 8857, 'JS': 4548, 'Frustration': 3931, 'donedeal': 10440, 'talktoahuman': 17890, 'strength': 17638, 'MauererPower': 5179, 'reached': 16182, 'Gogo': 4067, 'David”': 3208, 'guysI': 11805, 'RNODFW': 6048, 'tomorrowPlane': 18236, 'AMshould': 1929, 'Fêroute': 3949, 'struts': 17662, 'nozzle': 15090, 'calibrated': 9034, 'US1937': 7248, 'wayBig': 18985, 'groundoutside': 11743, 'HelloMy': 4234, 'absorber': 7766, 'ksml': 13960, 'Should’ve': 6532, 'enhance': 10719, 'dooronly': 10457, 'fuelamplikely': 11484, 'fuelcycle': 11485, 'communicationcompetition': 9513, '4285': 1104, 'we’re': 19082, 'yucki': 19433, 'httptco9R9OmzQAVI': 12387, 'AmericanAirstill': 2112, 'AA4285': 1855, '128': 226, 'PRERECORDED': 5758, 'httptcohYrAo7A4Uu': 13004, 'US2065': 7250, 'Smiles': 6580, 'milesThank': 14601, 'ORDWe': 5571, 'RefundProcedureNotTooPainful': 6124, 'tmr': 18197, 'lala': 13985, 'leather': 14061, 'ay': 8452, 'seams': 16897, 'Marsh': 5163, 'cityandsand': 9335, 'handoff': 11849, 'Nutella': 5539, 'veryimportantproject': 18812, 'refurbish': 16329, 'exEU': 10844, 'haulBA': 11904, 'intraEU': 13692, 'drain': 10495, 'fearing': 11049, 'potable': 15802, 'MCIgtDFW': 5020, 'recommendation': 16256, 'ticket12': 18131, 'depends': 10150, 'Breakfast': 2549, 'burrito': 8972, '1119': 134, 'overzealous': 15372, 'parentthey': 15433, 'pns': 15732, 'frequently': 11433, 'advisories': 7887, 'Hub': 4323, 'httptcodzKc3auZU9': 12942, 'wiggle': 19155, 'AA1119': 1815, 'AA157': 1825, 'Killing': 4712, '3M': 1013, 'sliver': 17254, 'NeedCoffee': 5446, 'YESTERDAY': 7669, 'Dumas2TTG': 3382, 'can”NoXTraLegRoom': 9082, 'NoCoatCloset': 5494, 'faail': 10959, 'mci': 14468, 'Yayayay': 7685, '2448': 683, 'BA1551': 2286, '4628': 1182, 'Wack': 7497, 'Bueno': 2584, '5348': 1304, 'cheque': 9272, 'Unknowledgeable': 7343, '11c': 179, 'potatoes': 15803, 'httptcom2PHoavRxC': 13077, 'DCASTL': 3093, 'httptcoiFESPcBzTm': 13014, 'ballbag': 8538, 'SAT': 6258, 'worrisome': 19272, 'preoccupied': 15873, 'flagging': 11171, 'observer': 15124, 'counterparts': 9772, '1278': 225, 'BSUXLU': 2363, 'AA3465': 1849, '8090': 1627, 'Beforeafter': 2438, 'whereas': 19109, 'SGF': 6302, 'TYR': 6845, 'crewnow': 9853, 'outta': 15329, '3200': 883, 'mebe': 14493, 'mikes': 14591, 'Tk': 6990, 'spk': 17449, 'chk': 9295, 'sufficiently': 17718, 'presumably': 15898, 'reproach': 16454, 'reform': 16310, 'preTSA': 15833, 'bitchy': 8728, 'wayi': 18987, 'cater': 9136, 'superyan': 17757, '8A': 1692, 'happenedwhat': 11865, 'AA3186': 1844, 'AA2401': 1834, 'Confirm': 2970, 'USXLON': 7287, '522': 1287, 'US84': 7267, 'weekly': 19040, '5hs': 1372, '20yr': 580, 'NoFunAtAll': 5498, 'Uwont': 7374, 'me2make': 14474, 'me2sit': 14475, 'excess': 10861, 'timesampstill': 18171, 'chasefoster': 9235, 'celebs': 9165, 'press': 15894, 'Requiring': 6159, 'That’s': 6924, 'clunky': 9404, '2160': 605, 'account”': 7805, 'Ref12990176298': 6120, '13001885409': 245, 'motor': 14757, 'CVGairport': 2742, 'rising': 16639, 'httptcoVAhdekVOKe': 12791, 'awheelchair': 8446, 'MIASFO': 5054, 'nonewplanes': 15002, 'httptcoTwETPXUpPN': 12768, 'Changes': 2834, 'countingThanks': 9775, 'noshow': 15035, 'scoot': 16872, 'AA1103': 1813, 'EXPERIENCE': 3447, 'miserablemorning': 14648, 'restaff': 16543, 'commence': 9493, 'DPDFPP': 3156, 'Regina': 6127, 'argg': 8269, 'AAs': 1880, 'BPDFPP': 2352, 'trite': 18394, 'platitudes': 15685, 'Embassy': 3503, 'Suites': 6725, '13341': 257, 'Woodland': 7620, 'Park': 5803, 'Herndon': 4251, 'Virginia': 7443, '20171': 547, '17034640200': 403, 'neededWhy': 14872, 'Provide': 5984, 'tcf': 17915, 'LAXOGGLAX': 4761, 'Midnight': 5244, 'infoBag': 13577, 'shrug': 17129, 'IATA': 4350, 'TheFAAOnline': 6930, 'JayFranceschi': 4580, '“Tide': 19473, 'Century”': 2823, 'Drawing': 3361, 'machines': 14360, 'pouting': 15809, 'AttitudeIssues': 2227, 'abilities': 7756, 'httptco4MQFMxeBXt': 12303, 'extenuating': 10939, 'downstairs': 10483, 'Elise': 3489, 'EEs': 3399, 'K20': 4650, 'chking': 9298, 'schd': 16854, 'HRS': 4170, 'plainly': 15654, 'compmech': 9577, '1679': 385, 'N76200': 5352, 'httptcoXbKvcraOKn': 12841, 'reboarded': 16220, 'Policy': 5913, 'makers': 14387, 'mindset': 14614, 'httptcoDQnn0Rf1V8': 12469, 'journalist': 13860, 'medication': 14506, '4daysampapologise': 1223, 'appalling': 8211, 'Slacksoftuk': 6571, 'colours': 9464, 'Skippers': 6565, 'walkaround': 18933, 'Veers': 7412, 'Icy': 4400, 'httptcoDW6VDvqXBB': 12471, 'IFE': 4360, '6hr': 1485, 'noone': 15018, 'timemoney': 18167, 'suprise': 17768, 'vanity': 18782, 'httptcofA7Nygn1Ux': 12964, 'gah': 11521, 'disorganised': 10349, 'timeshand': 18172, 'letterwent': 14105, 'airportcalledplease': 7996, 'abc7newsBayArea': 7753, 'onAfter': 15196, 'inhumane': 13592, 'humanity': 13352, 'terror': 17980, 'roomsthat': 16688, 'twicegot': 18455, 'bills': 8711, 'helpphone': 11976, 'xox': 19355, 'subscription': 17693, 'hopingpraying': 12103, 'again😞': 7920, 'daysampcharging': 10006, 'toarrange': 18203, 'upin': 18692, 'argentinaclaiming': 8268, 'tollfree': 18230, 'Nightmare': 5486, 'emxlyy': 10696, 'swear': 17815, 'earrings': 10584, 'a8': 7732, 'a15': 7729, 'earring': 10583, 'dayjustgotWORSE': 10001, 'httptcoUieSR3GHHO': 12783, 'Texting': 6902, 'winks': 19175, 'LONG': 4816, 'AUH': 1960, 'commutation': 9519, 'dialogue': 10231, 'drives': 10521, 'worstcustomerserviceever': 19283, '2284': 646, 'Flightrs': 3838, 'outtoo': 15331, 'bagits': 8521, 'curfew': 9898, 'AA1237': 1817, '👎😡✈️': 19571, 'notahappycustomer': 15038, 'leavingtomm': 14067, 'lounge😂': 14291, 'Bleh': 2488, 'Clubs': 2922, 'Reference': 6121, '13001408092': 244, 'onlineis': 15222, 'CRJs': 2723, 'airstairs': 8003, 'Valet': 7407, '1020pm': 58, 'brave': 8865, 'conferenceWe': 9607, '1568': 330, 'SpiritAirPR': 6644, 'ChicagosMayor': 2872, 'Noise': 5507, 'NoRahm': 5500, 'httptcoCFzdJmn0uI': 12446, 'sure👌': 17776, 'djevolutionhd': 10402, 'EP': 3411, '125K': 219, 'lawyer': 14034, 'wrath': 19313, 'planelooks': 15664, 'Provides': 5987, 'LAXshe': 4766, 'drag': 10492, 'gerrielliott': 11569, 'Impossible': 4414, 'chronological': 9317, 'mispurchase': 14661, 'FOOTAGE': 3654, 'filmcrew': 11113, 'latimes': 14014, 'chicagotribune': 9280, 'ABI': 1889, '2298': 649, '2339': 661, 'veers': 18787, 'httptcoQ37pOWn6uv': 12702, 'Cowboycerrone': 3023, 'figures': 11105, 'MEGENTRIPODI': 5036, 'jordnnicole7': 13858, 'retaining': 16564, 'Responding': 6167, 'Q2': 6003, 'Q3': 6004, 'clueless': 9402, 'midnite': 14584, 'whisper': 19124, 'react': 16186, 'responsibilityToo': 16535, 'httptcoatwyiFh6Zy': 12891, 'XOXO': 7655, 'reread': 16472, '1045pm': 76, 'Joanne': 4616, 'flightnightmare': 11230, '1239': 209, 'DART': 3079, 'DENDFW': 3111, 'dartmedia': 9985, 'gunna': 11799, '23483499': 662, 'Suntimes': 6734, 'cameragear': 9058, 'delayedstill': 10092, 'waitingyou': 18916, 'httptco1m36NTPTR8': 12248, 'DUB': 3167, 'injuries': 13597, 'periolodicly': 15549, 'snowice': 17321, 'Tu': 7060, 'pmWe': 15730, 'leeway': 14069, '25mn': 725, 'sna2ord': 17299, '1644': 376, 'geez': 11552, 'flt2417': 11269, 'unserviceable': 18652, 'usair4603': 18719, '4591': 1169, '2417': 680, 'SWU': 6384, 'JFKMAN': 4531, 'onei': 15209, 'yestwicefor': 19389, 'TWA': 6839, 'yikes': 19392, 'AA5411': 1858, 'httptcoI7Vdi9WqSF': 12557, 'thanksm': 18008, 'louprice13': 14292, 'aacustomerservice': 7743, 'cabs': 9024, 'wsmall': 19333, 'slides': 17249, 'taxiway': 17911, 'STORY': 6364, 'httptco4pONJ3jidE': 12312, 'httptco3DCWerZ1kr': 12276, '1074': 89, 'outoftouchwithreality': 15319, 'nrosenb1': 15092, 'aafail': 7745, 'appointment': 8231, 'deactivated': 10019, 'deactivate': 10018, '227Just': 644, 'acctits': 7809, 'inv': 13698, 'AA1679': 1828, 'successful': 17703, '4369': 1118, 'wbuses': 18993, 'Rizzilient': 6203, 'ridicules': 16620, '5392': 1307, 'httptcoXGgCNTco8m': 12833, 'infinite': 13568, 'loop': 14260, 'hamsters': 11835, 'rabbits': 16121, 'agentbooked': 7928, 'pregnantwithtwins': 15864, '2498': 693, 'httptcoIMRLAu77iH': 12563, 'TheCandaceSmith': 6927, 'Candace': 2772, 'krescate': 13959, 'posting': 15799, 'fourth': 11393, 'contactcej': 9671, 'BQONPA': 2354, '1641': 374, 'POSMIA': 5750, '2214': 620, 'AirPort': 2042, 'Executive': 3581, 'displeasure': 10360, 'WorstCustomerService': 7637, '3487': 925, 'Advised': 2022, 'BBBmedia': 2300, 'DoNotFlyWithThem': 3328, 'Fidencio': 3743, '👌👌👌': 19560, 'KYBILC': 4676, 'isle': 13734, 'Gabriela': 4001, 'employeeWorking': 10687, 'MIALGA': 5053, '402': 1051, 'lip': 14169, '3611': 951, '510pm': 1268, '734pm': 1535, 'maryellagreen': 14441, 'continuesstill': 9695, 'directbag': 10281, 'shafted': 17038, 'twins': 18457, 'abandon': 7747, '740pm': 1547, 'DESTINATION': 3119, 'Pensacola': 5846, '3670': 956, 'jokerunning': 13854, 'Lima': 4912, 'Cuzco': 3066, 'saidi': 16776, 'Buenos': 2585, 'ares': 8266, 'JFKnot': 4535, 'sre': 17486, 'hon': 12072, 'Inquired': 4452, 'Sauvignon': 6433, 'blanc': 8747, 'pronounce': 16010, 'gt40': 11770, 'Mistake': 5273, 'multibillion': 14786, 'multimillion': 14789, 'CustServ': 3056, 'barrettkarabis': 8561, 'httptco66NXZhBbMT': 12336, 'btr': 8930, 'agts': 7951, 'unamericanairlines': 18516, 'Southwestairwasthere': 6628, 'Envoys': 3534, 'Envoy': 3533, 'B1': 2265, '5347': 1303, 'ReallyThey': 6102, 'of40I': 15142, '1039': 72, 'wudda': 19345, 'ktn': 13962, 'AmericanView': 2113, 'unfold': 18570, 'Advise': 2021, '😩😭💔': 19689, '1014am': 51, '919pm': 1740, '1389': 272, 'wrench': 19317, 'uvf': 18757, 'apron': 8252, 'suree': 17774, '362': 953, 'grnd': 11735, 'Havoc': 4207, 'Tshirt': 7059, 'jeans': 13801, 'suits': 17732, 'TPADFWAUS': 6812, 'IAHDFW': 4346, 'cnn': 9414, 'nbc': 14854, 'httptcoFWKJ49B1LE': 12506, '195': 485, 'Pounds': 5931, 'amen': 8080, 'Meelan': 5203, 'rec': 16230, 'funerals': 11506, 'httptcoIN24Bpb7dw': 12565, 'unaccommodating': 18512, 'capability': 9085, '3349': 903, 'boom': 8809, 'httptcoPzGc6Jch7n': 12700, 'hitawall': 12034, 'Newplanesmell': 5474, 'httptcodJJjN9sLHT': 12923, 'Y’all': 7718, 'pissedvery': 15637, 'evil': 10835, 'anythingJust': 8188, '6wks': 1493, 'chariot': 9225, 'angle': 8131, 'httptco3ZZKQWWbJz': 12282, 'oneworld': 15213, 'oldplanes': 15188, 'damageluggage': 9968, 'Replied': 6149, 'httptcoNBZkhiZF3V': 12654, 'Tvs': 7076, 'httptcoUq2ooPjPwg': 12786, 'originating': 15283, 'chge': 9276, 'Americans': 2114, 'Ecuador': 3476, 'httpstco5ON3KlzVMT': 12172, 'httptco4SFpcbyy9m': 12305, 'triedits': 18384, 'yepfiled': 19379, '1510': 306, 'ud': 18497, 'chnge': 9302, 'retrn': 16579, 'pickng': 15610, 'phoneOnly': 15589, 'complaintquestions': 9562, 'preparation': 15875, 'Depending': 3262, 'US4623': 7256, 'commend': 9494, 'rubbed': 16716, 'B787': 2281, 'PN': 5742, '320008A': 884, 'deflator': 10071, 'Chapter': 2839, 'AMM': 1926, 'httptcokfD4WQRkLW': 13046, 'AirportCardio': 2054, 'httptcooilnCfWEyg': 13141, '1152': 161, 'BRO': 2357, 'Partial': 5806, 'refundDM': 16323, '3127': 869, 'Complaint': 2957, 'TravelProblems': 7026, '1642': 375, 'entree': 10748, 'nosedived': 15033, 'NewAmerican': 5462, 'httptco56eSsfOOwt': 12314, 'Delaney': 3241, 'Shawn': 6518, 'kanne822': 13886, 'AA291': 1839, 'mex': 14567, 'httptcose57dmjHiW': 13209, 'AATeam': 1874, 'rigorous': 16626, 'Staffer': 6668, 'minutewere': 14637, '400we': 1047, 'Brownsville': 2571, 'hardtodo': 11885, 'AA1675': 1827, 'hrsthere': 12167, 'problemsBTWthe': 15953, 'MiamiPhL': 5234, 'hoursI': 12149, 'WANT': 7461, 'hah': 11820, 'hahahah': 11824, '2mins': 815, 'LIAR': 4800, 'pacify': 15388, 'foolthats': 11341, 'span': 17415, 'daysnone': 10010, 'un': 18507, 'Fin': 3752, 'believable': 8642, 'elwoodblues77': 10650, 'Americant': 2115, 'reuse': 16593, 'Hm': 4273, 'httptcoLE4H2gTzXZ': 12613, 'aaadvantage': 7741, 'balloons': 8540, 'need2know': 14869, 'todayRather': 18207, 'MAF': 5009, 'httptcogVgKHbx1RB': 12984, 'hardest': 11883, 'agentwhats': 7932, 'httptcoPfseNJk5Pw': 12693, 'minutessaid': 14636, '6A': 1475, '1620': 366, 'httptcoX4rsvAGIjN': 12827, 'Delivery': 3247, '1338': 259, 'Providenciales': 5986, '1651': 378, 'httptco31cFHtK60r': 12274, '1672': 383, 'httptco5SdlyN9MSS': 12322, 'Becky': 2435, 'Piela': 5878, 'Orange': 5635, 'sooooo': 17375, 'httptcocEHrOeurC5': 12908, '89ish': 1691, '4302': 1108, 'pounds': 15808, 'Bar': 2406, 'phlmia': 15582, 'Meaning': 5194, 'AAdavantage': 1876, 'LAN': 4743, '1120': 136, 'lessand': 14091, 'bankruptcies': 8549, 'probability': 15945, '1330': 256, '👍👍👍👍👍': 19566, 'Uhmmm': 7302, 'JColeNC': 4522, 'DallasTx': 3187, '😫😫😫': 19690, 'dog’s': 10429, 'helpline': 11975, 'Holler': 4283, 'GTSVYB': 3996, 'unprepared': 18634, 'lacked': 13973, 'ho': 12041, 'booklet': 8805, 'revs': 16607, 'ystday': 19430, 'angrybird': 8136, 'wheresmybag': 19114, 'xx': 19357, 'AA199': 1830, 'MXPJFK': 5098, 'SVU': 6373, 'gang': 11529, 'Mind': 5260, '77min': 1582, 'pats': 15493, 'doyourjob': 10485, 'extraordinary': 10946, 'GoingForGreat': 4069, 'acpt': 7824, 'trickling': 18381, 'httptco4KbTzVjU3b': 12300, 'buses': 8976, 'Disorganized': 3312, 'WakingInMemphis': 7502, '80100': 1620, 'maxfitgirl29': 14458, 'Specially': 6637, 'Carlton': 2790, '767300': 1571, 'goodbye': 11657, 'up…': 18703, 'httptcoR1OQAVEO7I': 12723, 'Gladys': 4049, 'es': 10778, 'mi': 14573, 'Amiga': 2118, 'fllight': 11260, 'bussines': 8986, 'genuine': 11565, 'umm': 18504, 'shortage': 17093, 'Natt': 5436, '1300': 243, 'PanAm': 5793, '249': 691, 'neverflyAAagain': 14907, 'CXL': 2744, 'evoucher': 10838, 'fluctuated': 11277, 'backEnded': 8470, 'MattThomasNews': 5177, 'Siberia': 6542, 'followback': 11328, 'Hahaha': 4180, 'woase2015': 19220, 'HelsinkiAirport': 4244, 'winterops': 19183, 'Prebook': 5936, 'MIDOExhibition': 5055, 'derekc21': 10162, 'nastiest': 14842, 'yesterdayRubber': 19387, 'slime': 17252, 'ENTIRE': 3408, 'backFAs': 8471, 'meIt': 14476, 'congested': 9625, 'dissapointing': 10373, 'Attempting': 2224, 'EdPlotts': 3477, '31F': 880, 'AA1469': 1823, '22215': 624, 'httptcot9JBN9WZtq': 13217, 'thanksamericanairlines': 18006, 'Talent': 6860, 'BDSM': 2304, 'porn': 15776, 'httptcoUQGW6qsFFU': 12779, 'Dungeon': 3386, 'httptcopl9Sop5IHu': 13166, 'op': 15236, 'TulsaNot': 7067, 'serviceLooks': 16998, 'Fight': 3745, '1337': 258, 'raft': 16130, 'httptcoDTHEyOFXrB': 12470, 'dmed': 10410, 'Yessir': 7695, 'yourlocalnyer': 19412, 'Rob': 6209, 'gate”': 11542, 'botched': 8831, 'absurdity': 7768, 'tug': 18432, '8004337300': 1615, 'meetingoutraged😡😡': 14513, '49min': 1217, 'memorize': 14527, 'fiveword': 11159, 'phrase': 15601, 'numerical': 15102, 'shortcuts': 17095, 'TyWinter': 7089, 'thingsthe': 18067, 'detailsthat': 10204, 'Ohi': 5602, 'itover': 13764, 'nbsnewsr': 14858, 'cnnbrk': 9415, '106': 86, '104': 73, 'Company': 2955, 'protocols': 16025, 'Relations': 6132, '10hour': 106, 'laughed': 14021, 'reservationchange': 16498, 'NUTS': 5399, 'mikehertz7gmailcom': 14590, 'phrased': 15602, '1081': 93, '2513': 705, '1555': 325, '2334': 660, 'fakeawards': 10990, 'LUVisbetter': 4840, 'justynmoro': 13881, 'automatic': 8402, 'attendent': 8371, 'terribleBeen': 17972, 'MTY': 5091, 'Mex': 5227, 'agentI': 7927, '7hours': 1604, 'surfer': 17780, 'noloveforsurfers': 14988, 'ANYONE': 1936, 'LAXMAD': 4758, 'Iberia': 4394, '2321': 657, '1217pm': 194, 'thankU': 17997, 'Center': 2817, 'escaLate': 10779, 'Retrain': 6172, 'adjustments': 7865, 'Mistakes': 5274, 'seemless': 16936, 'surfboardbag': 17779, 'nomoAA': 14992, 'mait': 14381, 'Repair': 6146, 'formality': 11376, 'rudelyreturning': 16722, 'reader': 16192, 'nohotel': 14984, 'ahem': 7955, '353': 934, 'frowny': 11460, 'K13': 4649, 'httptcorKPRxTGvfL': 13191, 'brothers': 8920, 'unsat': 18648, 'UNBELIEVABLE': 7232, '3months': 1025, 'SJCgtLAX': 6317, 'Angelo': 2135, 'LucyMay': 4989, 'discussing': 10335, 'Record': 6113, 'HFJKTO': 4148, 'Unimpressed': 7328, 'DallasAirportI': 3181, '2208': 617, 'CLEWould': 2688, 'Starbucks': 6673, 'A20': 1794, 'Howdy': 4320, 'erroring': 10775, '20minute': 574, 'skycaps': 17226, 'educate': 10612, 'LOSING': 4820, 'GUITAR': 3998, 'THOUSANDTH': 6791, 'mistreated': 14681, 'weekthats': 19044, 'guru': 11801, 'ease': 10588, 'evidently': 10834, 'meetingsinterviews': 14515, 'DOMESTIC': 3148, 'rides': 16617, 'circuit': 9327, 'breaker': 8873, 'busfirst': 8977, 'milesaaver': 14603, 'Explain': 3594, 'whyfly': 19140, '2hourwaitsucks': 803, 'madhouse': 14365, 'Yikes': 7698, 'skycap': 17225, 'responseTough': 16527, 'Montrose': 5305, '18004337300': 435, 'allrepresentativesbusy': 8043, 'nooption': 15020, 'packermama1': 15393, '4333': 1114, 'pit': 15640, 'bademployeeproblem': 8496, 'Students': 6716, '1542': 320, 'flight353': 11208, 'surgeryHELP': 17783, 'flightupset': 11244, 'Locator': 4939, 'IRRLCD': 4381, 'UNAmerican': 7231, 'cathaypacific': 9141, 'cathaypacificUS': 9142, '😥😥': 19680, 'AA3230': 1846, 'AirSouthwest': 2043, 'httptcoWnY9TzsR8N': 12823, 'dehydrated': 10074, 'httptconwF2FkA8fY': 13120, '50k': 1258, 'oaaret': 15116, '2917': 767, 'CIDDFW': 2683, 'beis': 8639, 'chaperone': 9213, 'RLDelahunty': 6045, 'loaaret': 14202, 'answerthephone': 8170, 'againestimated': 7914, 'MRobinson': 5082, 'crazybitch': 9833, 'c11': 9011, '1130am': 143, 'andyellwood': 8128, 'delk': 10120, 'halfthought': 11831, 'AA2334': 1833, 'httptco45kTsSK18J': 12292, 'pie': 15616, 'BRING': 2356, 'FIANCÉ': 3632, 'meerikangas': 14509, 'hahahaha': 11825, '2224': 626, 'hoagy10': 12042, 'pasting': 15479, 'wreservations': 19318, 'anticipating': 8173, '655pm': 1450, 'honeymoonI': 12078, 'bride': 8888, 'attending': 8373, 'earlieror': 10570, 'notreceive': 15075, 'Brooklyn': 2567, 'Jacqueline': 4560, 'amexserve': 8096, 'witnessed': 19200, 'Denise': 3255, 'Extend': 3598, 'rtn': 16713, 'noWorse': 14960, 'morninghow': 14740, 'airat': 7964, 'rudestaff': 16726, 'incompetentmanagers': 13518, 'Eleonora7': 3486, 'tisk': 18186, 'httptcoXHSUUpHeZe': 12834, 'awfully': 8444, 'unclear': 18532, 'audio': 8387, 'PIR': 5722, 'cud': 9888, '1230am': 207, '230am': 655, 'Wong': 7617, 'Marisol': 5154, 'Pimentel': 5882, '1AM': 494, '1605': 358, '625': 1415, 'reasonably': 16214, 'alternative': 8058, 'MallowFairy': 5128, 'C2Next': 2627, 'Telling': 6890, 'kthxbai': 13961, 'strict': 17645, 'statuswill': 17544, 'lacks': 13975, 'doorclose': 10456, 'drinkssnacks': 10515, 'selfupgraded': 16960, '2396': 670, 'Automated': 2242, '😋I': 19636, 'Jaipur': 4563, 'Dehli': 3239, 'CCwhy': 2658, '2plains': 824, '2fails': 798, 'MurphyJulie': 5332, '1108': 126, 'ABCs': 1888, 'basics': 8568, 'stiiiil': 17577, 'malhoit': 14396, 'hating': 11901, 'CAC': 2637, 'familyFriends': 11004, 'cle': 9358, '259': 716, 'httptcohF8aJZ4ffl': 12996, 'lmk': 14200, 'mwangbickler': 14806, 'Michael': 5235, 'rebooked”': 16224, '1200dont': 185, 'the15hours': 18019, 'flightTherere': 11219, 'Infuriating': 4447, '7hrs': 1605, 'youI': 19398, 'Riedel': 6193, 'ActiveAly': 2000, 'iberia': 13395, 'usairwis': 18730, 'Kaha58': 4677, 'teamit': 17925, 'AA3390': 1848, 'AmericanAirIf': 2107, 'itAmericanAirlines': 13750, 'UMM': 7227, 'QSVGRU': 6009, 'stmt': 17590, 'GetYourActTogether': 4034, 'painandsuffering': 15404, 'emrey35': 10695, 'locTJYCQH': 14212, 'niteNot': 14951, 'PU': 5774, 'unt': 18660, 'aft': 7907, 'remained': 16389, '3days': 1018, 'callbag': 9041, 'Insanehelp': 4454, 'unreachable': 18640, 'Callbacks': 2758, '2516': 706, '2244': 634, 'datetime': 9990, 'revieving': 16600, 'uk': 18501, 'agreed': 7948, 'Parker': 5804, '4275': 1100, 'httptcorxmjWoo7Qi': 13199, 'CHECK': 2670, 'POOR': 5745, 'chkin': 9297, 'wsupervisor': 19335, 'mtg': 14778, 'BaggageDrama': 2395, 'httptcoCS1673hrqQ': 12447, 'Eventually': 3561, '2413': 678, 'AA65': 1859, 'squawked': 17483, '7700': 1575, 'AdmiralsClub': 2014, 'worstcustservice': 19284, 'ZurichNew': 7728, 'flightsThis': 11235, 'nationalized': 14846, 'nations': 14847, 'AAL65': 1872, 'declared': 10049, 'Squawking': 6656, 'AA106': 1811, 'weather✈️': 19023, 'Horrendous': 4300, '953': 1760, 'fligth': 11250, 'Somthing': 6596, 'dayneed': 10002, '2062': 558, 'dawn': 9994, 'nickcunningham1': 14936, 'QQBMUG': 6007, 'reticketed': 16569, 'loganex': 14231, 'westjet': 19072, 'Dealt': 3220, 'epicfailure': 10757, '1030a': 66, '400a': 1045, 'aa5BA1506': 7738, 'unsettling': 18653, 'emeyerson': 10672, 'ggreenwald': 11592, 'Walmart': 7508, 'httptco4G0K0z2rei': 12297, 'KOALAXPHLORD': 4666, 'savr': 16825, 'awrd': 8449, 'KOALAXPHXORD': 4667, 'apologise': 8200, 'BlameShiftOverload': 2483, 'helpThanks': 11959, 'to4': 18202, 'JFKLAS': 4528, 'france': 11403, 'shirt': 17072, 'pair3': 15411, 'visiting': 18848, 'paris': 15435, 'nothing1': 15054, 'languages': 13998, 'latinamerican': 14015, 'th': 17995, 'NEW': 5370, 'HS': 4171, 'Ithaca': 4499, 'xld': 19353, 'rulesshouldbend': 16735, 'mastercard': 14448, 'AA973': 1866, '247': 688, 'Losing': 4962, 'sheer': 17059, 'reigning': 16351, 'GD': 3958, 'sloooowresponses': 17258, 'robinreda': 16660, '3hours': 1020, 'TWENTY': 6840, 'MINUTES': 5060, 'HASNT': 4139, 'SPOKEN': 6345, 'prank': 15825, 'plt': 15722, 'KARAAX': 4651, 'Neuer': 5454, 'flyingflighttravel': 11303, 'Reebooked': 6119, 'LVDFW': 4842, '1250pm': 217, '1h08': 505, '1080': 92, 'REPLY': 6035, '1418': 282, 'EXP': 3446, 'champagne': 9199, 'AA153': 1824, 'ORDNRT': 5567, 'TokyoMarathon2015': 7002, 'httptcoIj4xL01tKX': 12571, '2222': 625, 'TUES': 6829, 'mom’s': 14711, 'somethingwhich': 17361, 'nothinghoping': 15056, 'waynot': 18988, 'insure': 13648, 'fricken': 11437, 'responsibilityamp': 16536, 'AmericanAireveryone': 2108, 'weeksampthose': 19043, 'dickheads': 10237, 'methey': 14562, 'callings': 9049, '235': 663, 'finale': 11120, 'rebookplease': 16225, 'instance': 13632, 'unsuccessful': 18656, 'nonperformance': 15004, 'onholdfordays': 15216, 'Hanging': 4190, 'plebes': 15712, 'YoureDoingItWrong': 7708, 'tree': 18369, '2390': 669, 'foresight': 11357, 'Tahiti': 6853, 'Err': 3544, 'KEVOLT': 4659, 'SOZLDJ': 6340, 'httptcoNcrMqIBIWo': 12665, '2962': 774, 'CLL': 2689, 'IMPORTANTFLIGHT': 4370, 'sample': 16786, 'chargersclothescoatcontact': 9221, 'lenses': 14089, '4606': 1179, 'scareair': 16841, 'callcentre': 9042, 'Whoooo': 7581, 'Hooooo': 4294, '25367': 710, 'pace': 15386, '152202': 311, 'for40': 11345, 'for4': 11344, 'passengersstranded': 15469, 'Nashinmypants': 5428, 'quitting': 16115, 'cars': 9120, 'amp250': 8106, '1610': 359, 'sounding': 17392, 'bitchslapped': 8727, 'juliasinton948': 13869, '2424': 681, 'DMstill': 3144, 'waitingSo': 18910, '1110p': 128, 'interestingAgent': 13669, 'refers': 16307, 'autorebooked': 8406, 'AA3370': 1847, '22515': 637, 'AA1457': 1821, 'Staying': 6689, 'trial': 18376, 'WONDERFUL': 7482, 'we’ve': 19083, 'crystal': 9881, 'Shows': 6539, 'Toby': 6995, 'Thanx': 6921, 'holdcan': 12046, 'lieslieslies': 14121, 'ArminRosen': 2194, 'BensonHenderson': 2447, 'BMI': 2330, '1457': 287, 'reciprocate': 16246, 'dogbuckeye': 10428, 'txfd': 18465, '37': 958, 'OnHoldForever': 5616, 'Suboptimal': 6719, 'incompetency': 13516, 'B16': 2270, '1261': 220, 'TUSDFW': 6834, 'wcx': 19001, '9hr': 1785, 'centre': 9173, 'itwhy': 13770, 'EPs': 3413, 'forgotmiahe': 11372, 'oscar😄💝💝💝': 15293, 'TON': 6807, 'WillNeverFlyWithYou': 7593, '2386': 668, 'LeslieWolfson': 4894, 'ltr': 14329, 'nlrphoto': 14956, 'photos”': 15600, 'dmd': 10409, 'ESPNCoachMack': 3421, '😤ANGRY': 19677, 'waa': 18899, 'conv': 9710, '1046': 77, 'ticks': 18141, '1579': 334, 'pigeon': 15620, 'warn': 18959, 'AA951': 1864, '1388': 271, '515': 1276, '409': 1063, '0671': 25, '😡😤😖😲😩': 19670, 'AA111': 1814, 'MDBEEI': 5028, 'McMullen': 5192, 'WhyAreYouYelling': 7584, 'httptcov1RADYKEP2': 13259, 'doll': 10431, '😘😑': 19656, 'Virtual': 7445, 'httptcoUpaz1eF3Dl': 12785, 'ago…still': 7946, 'users': 18745, 'Emailtext': 3501, '2010': 539, 'ratchet': 16163, 'Watson': 7524, 'Kelsey': 4699, 'Jennings': 4589, 'GreyhoundBus': 4114, 'AA304': 1841, 'els': 10646, '1891': 464, 'ow': 15373, 'queuing': 16103, 'quickest': 16106, 'exboyfriend': 10851, 'Note': 5528, 'maps': 14420, 'electronics': 10638, 'AA215': 1832, 'httptcohcNN0wXQQr': 13007, 'mentions': 14538, 'gratitude': 11713, '🇺🇸✈️': 19540, 'httptcoJ6icLV8DTs': 12575, 'LTALJX': 4834, 'goodthingscome': 11669, 'ti2469': 18126, 'shiz': 17082, 'barrier': 8562, 'racist': 16124, 'barcodes': 8556, 'betterother': 8679, 'whereisthelove': 19112, 'whybeAAFF': 19138, 'PERSON': 5696, 'DuaneNClark': 3371, 'Citynot': 2897, 'sizer': 17207, 'apathetic': 8195, 'organized': 15277, 'breeze': 8884, 'httptcouOARyQ98PU': 13246, 'Plse': 5906, 'meThe': 14478, 'httptcoCSddCCMvbD': 12448, 'equivalent': 10767, 'DIRT': 3129, 'SFOJFK': 6290, 'legacy': 14073, 'httptco6MBK79mdnW': 12342, 'programmers': 15984, 'instantly': 13634, 'avenue': 8416, '528': 1294, 'Pissed': 5884, 'jal': 13787, 'cathay': 9140, '1675': 384, '4828': 1202, 'marshall': 14437, 'tracker': 18301, 'AA45': 1856, 'americanairsucks': 8090, 'hiremorepoeple': 12028, 'hints': 12021, 'wnothing': 19218, 'WTW': 7495, 'assistance”': 8328, 'Hasnt': 4202, 'waitabout': 18906, '1perhr': 517, 'burden': 8967, '5350': 1305, 'kys': 13966, 'oxgen': 15381, 'tank': 17893, 'Cincinnati': 2887, 'informing': 13584, 'aircraftrunways': 7972, 'todaytomorrow': 18216, 'hurry': 13367, 'combative': 9468, 'hury': 13371, 'aa977': 7739, 'MIACUR': 5051, '3D': 1011, 'detailsu': 10205, '2350': 664, 'americanview': 8095, 'httptcoGt6umHbh43': 12531, 'httptconOPq5xIsbS': 13109, '90mins': 1729, 'Texarkana': 6900, 'shouldhavedriven': 17108, 'DallasFort': 3183, '5320': 1301, 'psych': 16040, 'customersshafted': 9930, '2463': 686, 'AA1401': 1820, '855pm': 1666, '959': 1764, 'yourphonesystemsucks': 19414, 'Shoutout': 6535, 'phldfw': 15581, 'angel': 8129, 'blessed': 8757, 'Adolfo': 2015, 'Garcia': 4010, 'Twiiter': 7081, 'VCP': 7382, 'hats': 11902, 'banana': 8543, 'undies': 18557, 'Mall': 5127, 'httptcoN7ExdbcRHg': 12649, 'vanessaannz': 18780, 'inclemental': 13506, '825': 1641, 'strtd': 17657, 'pummeled': 16056, 'slcairport': 17235, 'Pulled': 5994, 'Onhold': 5621, 'arpt': 8280, 'AA2450': 1838, 'Wat': 7520, 'activated': 7835, '1058': 85, 'Final': 3753, 'destn': 10196, 'Seeing': 6475, 'Circle': 2892, 'nosecuritylines': 15032, 'poorest': 15765, 'httptcomF7rABGn8a': 13085, 'Alabama': 2061, 'thickens': 18058, 'AAALWAYSLate': 1867, 'dandy': 9976, 'httptcoFvlxIRh1F1': 12515, 'LookforwardtoflywithAA': 4955, 'aa223': 7736, 'nbr1': 14857, 'helper': 11966, 'MO3TVida': 5069, 'aged': 7923, 'internally': 13677, '2258': 638, 'preferably': 15855, '😢😕😦': 19672, 'profiting': 15980, 'billions': 8710, 'hurting': 13369, 'covert': 9804, 'tactics': 17863, 'jeopardy': 13806, 'DAIPresident': 3073, 'hoursgot': 12152, 'cncdld': 9409, 'flighttold': 11242, '390': 998, 'snuck': 17327, 'cookie': 9726, 'AA2402': 1835, 'spectacularFed': 17432, 'CineDrones': 2889, 'httptcoo3CjsVSsqF': 13123, 'carlw1980': 9109, '1512': 307, 'N924AN': 5357, 'httptcoj0mhMkDiVl': 13024, 'bear': 8599, 'retains': 16565, 'Flight293': 3785, '382': 981, 'Cstmr': 3044, 'ctr': 9887, 'httptcouCvEU2hurZ': 13243, 'grossThe': 11738, 'Survey': 6748, '2470': 689, 'cancld': 9067, 'discnctAny': 10314, 'AA3195': 1845, 'ABIDFW': 1890, 'En': 3515, 'AA1458': 1822, 'ticketI': 18133, 'you’ve': 19423, 'Goodbye': 4082, 'cheat': 9246, 'horribly': 12115, 'stray': 17630, 'praywinn': 15829, 'understaffing': 18546, 'slowdown': 17263, 'spectacular': 17431, 'LHRDFW': 4796, 'priceline': 15916, 'troubleshot': 18401, 'paranoid': 15429, 'jaynegelman': 13796, 'Howabout': 4319, 'moreBlacklist': 14735, 'retrieved': 16578, 'flightIve': 11217, 'httptcoNA5G5EAKPA': 12653, 'insisted': 13622, 'HeyMyNameIsSEAN': 4254, 'newairplanes': 14916, 'kconti44': 13891, 'Berlin': 2450, 'jameswester': 13790, 'James': 4565, 'wflights': 19085, 'cjdjpdx': 9339, 'multinational': 14790, 'Unmoving': 7346, 'httptcoASW6QwUf1Z': 12407, 'kaps12': 13887, '28hrs': 762, 'plane😡': 15674, 'totallyconfused': 18276, 'httptcodvSLtQZKmQ': 12940, 'AA919': 1863, 'freaks': 11415, 'Surreal': 6747, '901': 1720, 'Rio': 6196, 'RCMOficial': 6021, 'representing': 16452, 'CisnerosMedia': 2894, 'yourstoryhere': 19415, 'cyncyn661': 9955, '763s': 1569, 'DFWORD': 3122, 'watered': 18979, 'PatrichRuben': 5826, 'maximization': 14459, 'registers': 16343, 'dinosaurs': 10279, 'CNBC': 2702, 'BloombergRadio': 2494, 'httptcoHPgXYZRW8o': 12545, 'derekaustincentury21ca': 10161, 'manuelc': 14416, 'flight293': 11207, '745': 1550, '815': 1634, 'Flat': 3778, 'ezemanalyst': 10955, 'impersonal': 13457, 'impatient': 13454, 'skillful': 17219, 'Flightness': 3833, 'snafu': 17304, 'httptcoYPVPVdlTYs': 12853, 'untrue': 18663, 'cncld': 9411, 'gt1': 11763, 'httptcoQKkJdFObOS': 12709, 'everythings': 10830, 'brothaaaaaa': 8918, 'repaired': 16423, 'sarahzou': 16796, 'translation': 18328, 'reinvest': 16360, 'FlightED': 3792, 'colossal': 9463, 'infringement': 13588, 'JimDayTV': 4611, 'HOME': 4155, 'Unannounced': 7309, '1228': 203, 'FingersCrossed': 3762, 'pleasegod': 15705, 'missmykids': 14675, '3198': 878, 'AEX': 1900, 'g8': 11520, 'c17': 9012, 'Close': 2916, '1265': 221, 'Sincerely': 6553, 'overflow': 15348, 'REM': 6034, 'Mess': 5224, 'ensued': 10730, 'Marcos': 5144, 'Concierge': 2964, 'Key': 4706, 'GRU': 3992, 'sorting': 17384, 'PHI': 5702, 'chargesI': 9223, 'AA104': 1810, '2330': 659, 'sleepless': 17242, 'worthy': 19295, 'useles': 18739, 'siss': 17183, 'AA362': 1851, 'DFWgtgtMKE': 3123, '293': 768, 'allll': 8033, 'convenience': 9711, 'yuck': 19432, '16A': 392, '2238': 631, 'D6': 3071, 'A15': 1792, 'Hail': 4181, 'Joplin': 4628, 'JLN': 4542, 'AA363': 1852, 'ORDLGA': 5565, 'temper': 17956, 'INSIDE': 4379, 'WeeklyCommuteOnAA': 7541, 'httptcoJQHg4jTm4w': 12585, 'sour': 17394, 'taste': 17901, 'customer’s': 9932, '“we': 19485, 'us”': 18753, '24hours': 695, 'flight919': 11213, 'saveus': 16821, 'AA1691': 1829, 'hassles': 11893, 'PatheticCX': 5823, 'compares': 9532, 'aa106': 7734, 'shortstaffed': 17102, 'adress': 7873, 'spontaneously': 17459, 'overtime': 15368, 'bershawnjackson': 8661, 'ampamp': 8107, 'DDean': 3096, '❤❤': 19526, 'deoderant': 10135, 'httpstcooM1vIEg74a': 12207, 'AA3181': 1843, 'french': 11427, 'Teco': 6884, 'teco': 17935, 'reclameaqui': 16249, 'TripAdvisor': 7041, 'httptcoauGJsCmoLu': 12893, 'Yousuck': 7709, 'sabotaging': 16757, 'Advan': 2018, 'Mem': 5217, '4491': 1152, 'unloads': 18620, 'badbusiness': 8492, 'Others': 5656, 'Supvrs': 6742, 'fruit': 11464, 'mistreatment': 14682, 'Austic': 2235, 'changemassive': 9204, 'H2O': 4132, '2oz': 823, 'numberPhone': 15098, 'EGE': 3400, 'ORDgtCDG': 5573, 'delayedNOT': 10084, '356': 938, 'replyOur': 16438, '2934': 769, 'repainted': 16421, 'AA1344': 1818, '623544': 1414, 'dot': 10462, 'passengerbillofrights': 15464, 'httptcoGxvFumn3iZ': 12532, 'AA1657': 1826, 'foodnothing': 11337, '1019': 55, 'parameters': 15428, 'usable': 18716, 'Sharon': 6516, 'saviour': 16824, 'RTW': 6061, 'planner': 15678, 'spec': 17422, 'Iceday': 4397, 'gather': 11543, 'Flightledcant': 3824, 'ThxU': 6968, 'ABCNews': 1887, 'MSNBC': 5086, 'httptcoOoEJ4d4JoP': 12680, '655but': 1449, 'sacraig': 16758, 'hinted': 12020, 'abandonment': 7749, 'Philly1213pm': 5870, 'PLATINUMS': 5732, 'stupidly': 17681, '1416': 281, 'nothelpful': 15051, 'badmgmt': 8500, 'aggravated': 7934, 'DawnDavis': 3210, 'Dawn': 3209, 'again”': 7919, '😓😭': 19649, 'hospitals': 12123, 'Flightchange': 3801, 'hoops': 12089, '12B': 232, '41G': 1086, 'tofrom': 18220, 'delayedwow': 10094, 'AA375': 1854, '0223': 12, 'cncled': 9412, 'arrangement': 8283, 'AA1224': 1816, 'INOP': 4377, '1702': 401, 'dotnetnate': 10464, 'EXPs': 3449, 'SeguineJ': 6479, 'nevergettinghome': 14910, '2293': 648, '1138': 150, 'aw': 8427, 'mk': 14690, 'warrants': 18962, 'YeseniaHernandez': 7694, 'peculiar': 15520, 'FixYourStuff': 3773, 'complt': 9576, '295Lav': 772, 'pln': 15715, 'lnded': 14201, 'inedible': 13554, 'shrimp': 17127, 'httptcoSotl8XQsrp': 12750, 'theydontanswer': 18052, 'SentieriMelinda': 6488, 'httptcoypbkCiRBXu': 13327, 'pasta': 15477, 'tastes': 17902, 'consumption': 9667, 'Surely': 6745, 'hateful': 11899, 'spell': 17437, 'gobankrupt': 11637, 'httptcoaM9CuieWO4': 12880, 'AA953': 1865, 'usvi': 18752, 'httptcoDnDOepquKz': 12475, 'niece': 14938, 'sitecomplicated': 17190, 'ordering': 15271, 'volumecan': 18860, '600am': 1384, 'httptcoBTTGmyN0A0': 12434, 'AA91': 1862, 'LHRORD': 4798, '3231DTW': 886, 'LAG': 4742, 'skype…well': 17228, 'viracopos': 18833, 'httptco3FheS0lPMU': 12277, 'travisamex': 18360, 'fuckoff': 11481, 'D4': 3070, 'helped2': 11964, 'men': 14530, 'UA4753': 7171, 'minsrescue': 14628, 'AA3074': 1842, 'LGASat': 4788, 'US1951US874Do': 7249, 'inventory': 13700, '3A➡️8C': 1010, 'americanforlife': 8092, 'toledo': 18227, 'fiscal': 11150, '16132440': 362, 'AA2416': 1836, '0303': 16, 'GUC': 3997, '1491': 291, 'BAGs': 2295, '7403607771': 1546, 'backattempt': 8473, '13cant': 273, 'gvn': 11810, 'Rented': 6142, 'httptconxQiJCoJNj': 13121, 'customercant': 9918, 'tcunningham10': 17917, 'columbus': 9465, 'Jacquelyn': 4561, '2251': 636, 'tomo': 18232, 'onlineuseless': 15223, 'stucked': 17665, 'AADelay': 1870, '2954': 770, 'Junction': 4641, 'AmazingFlightCrew': 2100, 'aftr': 7912, 'bng': 8779, 'hstg': 12168, 'refsd': 16318, 'med': 14499, 'fnd': 11317, 'cnceld': 9410, 'downloaded': 10479, 'Notice': 5532, 'tick😃': 18143, 'cop': 9731, 'fcuk': 11046, 'Shit': 6524, 'vacancies': 18761, '343': 918, 'foreveranyone': 11359, 'Extra': 3599, 'Saver': 6437, 'httptcoYokkHHQcMP': 12859, 'karabuxthomps': 13888, 'dare': 9982, 'USAA': 7269, 'renewed': 16411, '500mile': 1242, 'PE': 5691, 'thnkx': 18087, 'bt': 8929, 'sux': 17800, 'httptcooTTy5rYMzD': 13133, 'Somehow': 6593, '2312': 656, 'macario2': 14358, 'cal': 9030, 'GolfWithWoody': 4077, 'Woody': 7621, 'prerookie': 15884, 'aa2227': 7735, 'miatoiah': 14576, 'RussellsWriting': 6243, 'Russ': 6241, 'options”': 15263, 'Slammed': 6572, 'advisoryReally': 7889, 'DALLAS': 3077, 'Nail': 5419, 'coffin': 9445, 'Nicest': 5481, 'ChicagoThanks': 2870, 'Deane': 3221, 'Norma': 5517, 'Sedholm': 6472, '✈️✈️✈️✈️✈️✈️✈️': 19512, 'aacom': 7742, 'Accurate': 1993, 'authoritative': 8395, 'stagnant': 17501, 'doubletriple': 10468, 'METARs': 5040, 'orange': 15264, 'burbank': 8966, 'topdown': 18263, 'TheNateK': 6934, 'Dec': 3226, 'HEARD': 4143, 'Greatest': 4103, 'Luz': 5001, 'Calderon': 2752, 'king': 13928, 'struggle': 17660, 'httptcohQdB5IRuVg': 13000, '2488': 690, 'la': 13968, 'WA': 7456, '02282015': 14, '03032015': 17, 'securing': 16925, 'cheerUPDATES': 9266, '2401': 676, '650am': 1443, 'MONDAY': 5071, '2586': 715, 'FAT': 3622, '1359helpAA': 265, 'naomicooper': 14835, 'Form': 3888, '86d': 1674, '1359': 264, 'BDinDallas': 2305, 'AA138': 1819, 'neglected': 14883, '✈️✌️': 19513, 'boofin': 8800, '7a': 1600, 'httptcoXPM98Igqjn': 12836, 'emmaclifford': 10675, 'attackingbabymomma': 8356, 'crazinessintherockies': 9831, 'ejacqui': 10630, 'russelneiss': 16751, 'Basic': 2418, 'Guatemala': 4124, 'Canadians': 2768, 'ringing': 16629, 'Appleton': 2178, 'Eliza': 3492, 'AirTahitiNui': 2044, 'httptcop7fSLuxEGW': 13150, 'sweetmel': 17824, 'communicateor': 9509, '1320oranything': 254, 'evidence': 10833, 'ILS': 4366, 'CAexhibitions': 2649, 'incompetenceunderstaffing': 13515, 'compounding': 9579, 'tennetexan': 17962, 'marxsterbcow': 14440, 'AA3031so': 1840, 'ActingOutMgmnt': 1997, 'brewcrewfan8': 8887, 'emailingcallingDMing': 10656, 'unavoidable': 18522, 'Understaffing': 7317, 'controllable': 9704, '5418': 1312, 'yvonneokaka': 19437, 'twitterhug': 18460, 'shesaidrun': 17063, 'messes': 14558, 'aadvantage': 7744, 'wthis': 19342, 'nthin': 15094, 'EVR': 3434, 'ohare': 15167, 'natl': 14849, 'DFWno': 3124, 'hourFlight': 12143, 'httptcosDm2wvR3zr': 13200, 'Manuel': 5139, 'SAPgtMia': 6257, '1504': 304, '1102': 124, 'disconnections': 10321, 'ear': 10568, 'chewey': 9274, 'oatmeal': 15118, 'AA504': 1857, 'AA200': 1831, 'Entered': 3529, 'CST': 2731, 'ahhhh': 7956, 'golden': 11649, 'tops': 18266, 'custy': 9937, 'PVR': 5779, 'ShannonBloom': 6512, 'Stone9956': 6700, 'duck': 10539, 'httptcoEIw2sYb8Fu': 12484, 'robertsamps1': 16659, 'stuffy': 17676, 'laguardia': 13983, 'louisville': 14288, 'ky': 13965, '296': 773, 'Advice': 2020, 'arbitrarily': 8256, 'Weekend': 7540, 'Ky': 4735, 'passengersdont': 15468, 'retribution': 16576, 'Backwards': 2385, 'Dump': 3383, '3078': 854, 'cxldprotection': 9951, 'PLS': 5738, 'amenities': 8082, 'function': 11499, 'NoCharge': 5492, 'httptcodRW08djHAI': 12927, 'NYCBuenos': 5403, 'Aires': 2046, '10PM': 103, 'jlhalldc': 13840, 'John”': 4622, 'TilleyMonsta': 6978, 'httptco4gr39s91Dl”😂': 12307, 'delays👌': 10104, 'BlackBerry10': 2478}\n"
     ]
    }
   ],
   "source": [
    "print(bow_transformer.vocabulary_)"
   ]
  },
  {
   "cell_type": "code",
   "execution_count": 92,
   "metadata": {},
   "outputs": [],
   "source": [
    "tweet4=df1['text'][3]"
   ]
  },
  {
   "cell_type": "code",
   "execution_count": 93,
   "metadata": {},
   "outputs": [
    {
     "name": "stdout",
     "output_type": "stream",
     "text": [
      "@VirginAmerica it's really aggressive to blast obnoxious \"entertainment\" in your guests' faces &amp; they have little recourse\n"
     ]
    }
   ],
   "source": [
    "print(tweet4)"
   ]
  },
  {
   "cell_type": "code",
   "execution_count": 94,
   "metadata": {},
   "outputs": [],
   "source": [
    "bown=bow_transformer.transform([tweet4])"
   ]
  },
  {
   "cell_type": "code",
   "execution_count": 95,
   "metadata": {},
   "outputs": [
    {
     "name": "stdout",
     "output_type": "stream",
     "text": [
      "  (0, 7441)\t1\n",
      "  (0, 7937)\t1\n",
      "  (0, 8105)\t1\n",
      "  (0, 8751)\t1\n",
      "  (0, 10742)\t1\n",
      "  (0, 10965)\t1\n",
      "  (0, 11788)\t1\n",
      "  (0, 14184)\t1\n",
      "  (0, 15120)\t1\n",
      "  (0, 16206)\t1\n",
      "  (0, 16267)\t1\n"
     ]
    }
   ],
   "source": [
    "print(bown)"
   ]
  },
  {
   "cell_type": "code",
   "execution_count": 96,
   "metadata": {},
   "outputs": [
    {
     "name": "stdout",
     "output_type": "stream",
     "text": [
      "(1, 19717)\n"
     ]
    }
   ],
   "source": [
    "print(bown.shape)"
   ]
  },
  {
   "cell_type": "code",
   "execution_count": 97,
   "metadata": {},
   "outputs": [
    {
     "data": {
      "text/plain": [
       "'comping'"
      ]
     },
     "execution_count": 97,
     "metadata": {},
     "output_type": "execute_result"
    }
   ],
   "source": [
    "bow_transformer.get_feature_names()[9554]"
   ]
  },
  {
   "cell_type": "code",
   "execution_count": 98,
   "metadata": {},
   "outputs": [],
   "source": [
    "tweets_bow=bow_transformer.transform(df1['text'])"
   ]
  },
  {
   "cell_type": "code",
   "execution_count": 99,
   "metadata": {},
   "outputs": [
    {
     "name": "stdout",
     "output_type": "stream",
     "text": [
      "shape of sparse matrix (14640, 19717)\n"
     ]
    }
   ],
   "source": [
    "print('shape of sparse matrix',tweets_bow.shape)"
   ]
  },
  {
   "cell_type": "code",
   "execution_count": 100,
   "metadata": {},
   "outputs": [
    {
     "data": {
      "text/html": [
       "<div>\n",
       "<style scoped>\n",
       "    .dataframe tbody tr th:only-of-type {\n",
       "        vertical-align: middle;\n",
       "    }\n",
       "\n",
       "    .dataframe tbody tr th {\n",
       "        vertical-align: top;\n",
       "    }\n",
       "\n",
       "    .dataframe thead th {\n",
       "        text-align: right;\n",
       "    }\n",
       "</style>\n",
       "<table border=\"1\" class=\"dataframe\">\n",
       "  <thead>\n",
       "    <tr style=\"text-align: right;\">\n",
       "      <th></th>\n",
       "      <th>airline_sentiment</th>\n",
       "      <th>negativereason</th>\n",
       "      <th>airline</th>\n",
       "      <th>text</th>\n",
       "      <th>length</th>\n",
       "    </tr>\n",
       "  </thead>\n",
       "  <tbody>\n",
       "    <tr>\n",
       "      <th>0</th>\n",
       "      <td>neutral</td>\n",
       "      <td>NaN</td>\n",
       "      <td>Virgin America</td>\n",
       "      <td>@VirginAmerica What @dhepburn said.</td>\n",
       "      <td>35</td>\n",
       "    </tr>\n",
       "    <tr>\n",
       "      <th>1</th>\n",
       "      <td>positive</td>\n",
       "      <td>NaN</td>\n",
       "      <td>Virgin America</td>\n",
       "      <td>@VirginAmerica plus you've added commercials t...</td>\n",
       "      <td>72</td>\n",
       "    </tr>\n",
       "    <tr>\n",
       "      <th>2</th>\n",
       "      <td>neutral</td>\n",
       "      <td>NaN</td>\n",
       "      <td>Virgin America</td>\n",
       "      <td>@VirginAmerica I didn't today... Must mean I n...</td>\n",
       "      <td>71</td>\n",
       "    </tr>\n",
       "    <tr>\n",
       "      <th>3</th>\n",
       "      <td>negative</td>\n",
       "      <td>Bad Flight</td>\n",
       "      <td>Virgin America</td>\n",
       "      <td>@VirginAmerica it's really aggressive to blast...</td>\n",
       "      <td>126</td>\n",
       "    </tr>\n",
       "    <tr>\n",
       "      <th>4</th>\n",
       "      <td>negative</td>\n",
       "      <td>Can't Tell</td>\n",
       "      <td>Virgin America</td>\n",
       "      <td>@VirginAmerica and it's a really big bad thing...</td>\n",
       "      <td>55</td>\n",
       "    </tr>\n",
       "  </tbody>\n",
       "</table>\n",
       "</div>"
      ],
      "text/plain": [
       "  airline_sentiment negativereason         airline  \\\n",
       "0           neutral            NaN  Virgin America   \n",
       "1          positive            NaN  Virgin America   \n",
       "2           neutral            NaN  Virgin America   \n",
       "3          negative     Bad Flight  Virgin America   \n",
       "4          negative     Can't Tell  Virgin America   \n",
       "\n",
       "                                                text  length  \n",
       "0                @VirginAmerica What @dhepburn said.      35  \n",
       "1  @VirginAmerica plus you've added commercials t...      72  \n",
       "2  @VirginAmerica I didn't today... Must mean I n...      71  \n",
       "3  @VirginAmerica it's really aggressive to blast...     126  \n",
       "4  @VirginAmerica and it's a really big bad thing...      55  "
      ]
     },
     "execution_count": 100,
     "metadata": {},
     "output_type": "execute_result"
    }
   ],
   "source": [
    "df1.head()"
   ]
  },
  {
   "cell_type": "code",
   "execution_count": 101,
   "metadata": {},
   "outputs": [
    {
     "data": {
      "text/plain": [
       "150578"
      ]
     },
     "execution_count": 101,
     "metadata": {},
     "output_type": "execute_result"
    }
   ],
   "source": [
    "tweets_bow.nnz"
   ]
  },
  {
   "cell_type": "code",
   "execution_count": 102,
   "metadata": {},
   "outputs": [],
   "source": [
    "sparcity=(100.0*tweets_bow.nnz/(tweets_bow.shape[0]*tweets_bow.shape[1]))"
   ]
  },
  {
   "cell_type": "code",
   "execution_count": 103,
   "metadata": {},
   "outputs": [
    {
     "name": "stdout",
     "output_type": "stream",
     "text": [
      "sparcity: 0.05216504799747022\n"
     ]
    }
   ],
   "source": [
    "print('sparcity: {}'.format(sparcity))"
   ]
  },
  {
   "cell_type": "code",
   "execution_count": 104,
   "metadata": {},
   "outputs": [],
   "source": [
    "from sklearn.feature_extraction.text import TfidfTransformer"
   ]
  },
  {
   "cell_type": "code",
   "execution_count": 105,
   "metadata": {},
   "outputs": [],
   "source": [
    "tfidf_transformer=TfidfTransformer().fit(tweets_bow)"
   ]
  },
  {
   "cell_type": "code",
   "execution_count": 106,
   "metadata": {},
   "outputs": [],
   "source": [
    "tfidfn=tfidf_transformer.transform(bown)"
   ]
  },
  {
   "cell_type": "code",
   "execution_count": 107,
   "metadata": {},
   "outputs": [
    {
     "name": "stdout",
     "output_type": "stream",
     "text": [
      "  (0, 16267)\t0.340612643088467\n",
      "  (0, 16206)\t0.19998358392712764\n",
      "  (0, 15120)\t0.36744212933970194\n",
      "  (0, 14184)\t0.24721580242737126\n",
      "  (0, 11788)\t0.34766972106338656\n",
      "  (0, 10965)\t0.3563068864590533\n",
      "  (0, 10742)\t0.28695367058599697\n",
      "  (0, 8751)\t0.36744212933970194\n",
      "  (0, 8105)\t0.1638073165067685\n",
      "  (0, 7937)\t0.3563068864590533\n",
      "  (0, 7441)\t0.16996419654222727\n"
     ]
    }
   ],
   "source": [
    "print(tfidfn)"
   ]
  },
  {
   "cell_type": "code",
   "execution_count": 108,
   "metadata": {},
   "outputs": [
    {
     "data": {
      "text/plain": [
       "9.492968802525372"
      ]
     },
     "execution_count": 108,
     "metadata": {},
     "output_type": "execute_result"
    }
   ],
   "source": [
    "tfidf_transformer.idf_[bow_transformer.vocabulary_['university']]"
   ]
  },
  {
   "cell_type": "code",
   "execution_count": 109,
   "metadata": {},
   "outputs": [],
   "source": [
    "tweets_tfidf=tfidf_transformer.transform(tweets_bow)"
   ]
  },
  {
   "cell_type": "code",
   "execution_count": 110,
   "metadata": {},
   "outputs": [
    {
     "data": {
      "text/html": [
       "<div>\n",
       "<style scoped>\n",
       "    .dataframe tbody tr th:only-of-type {\n",
       "        vertical-align: middle;\n",
       "    }\n",
       "\n",
       "    .dataframe tbody tr th {\n",
       "        vertical-align: top;\n",
       "    }\n",
       "\n",
       "    .dataframe thead th {\n",
       "        text-align: right;\n",
       "    }\n",
       "</style>\n",
       "<table border=\"1\" class=\"dataframe\">\n",
       "  <thead>\n",
       "    <tr style=\"text-align: right;\">\n",
       "      <th></th>\n",
       "      <th>airline_sentiment</th>\n",
       "      <th>negativereason</th>\n",
       "      <th>airline</th>\n",
       "      <th>text</th>\n",
       "      <th>length</th>\n",
       "    </tr>\n",
       "  </thead>\n",
       "  <tbody>\n",
       "    <tr>\n",
       "      <th>0</th>\n",
       "      <td>neutral</td>\n",
       "      <td>NaN</td>\n",
       "      <td>Virgin America</td>\n",
       "      <td>@VirginAmerica What @dhepburn said.</td>\n",
       "      <td>35</td>\n",
       "    </tr>\n",
       "    <tr>\n",
       "      <th>1</th>\n",
       "      <td>positive</td>\n",
       "      <td>NaN</td>\n",
       "      <td>Virgin America</td>\n",
       "      <td>@VirginAmerica plus you've added commercials t...</td>\n",
       "      <td>72</td>\n",
       "    </tr>\n",
       "    <tr>\n",
       "      <th>2</th>\n",
       "      <td>neutral</td>\n",
       "      <td>NaN</td>\n",
       "      <td>Virgin America</td>\n",
       "      <td>@VirginAmerica I didn't today... Must mean I n...</td>\n",
       "      <td>71</td>\n",
       "    </tr>\n",
       "    <tr>\n",
       "      <th>3</th>\n",
       "      <td>negative</td>\n",
       "      <td>Bad Flight</td>\n",
       "      <td>Virgin America</td>\n",
       "      <td>@VirginAmerica it's really aggressive to blast...</td>\n",
       "      <td>126</td>\n",
       "    </tr>\n",
       "    <tr>\n",
       "      <th>4</th>\n",
       "      <td>negative</td>\n",
       "      <td>Can't Tell</td>\n",
       "      <td>Virgin America</td>\n",
       "      <td>@VirginAmerica and it's a really big bad thing...</td>\n",
       "      <td>55</td>\n",
       "    </tr>\n",
       "  </tbody>\n",
       "</table>\n",
       "</div>"
      ],
      "text/plain": [
       "  airline_sentiment negativereason         airline  \\\n",
       "0           neutral            NaN  Virgin America   \n",
       "1          positive            NaN  Virgin America   \n",
       "2           neutral            NaN  Virgin America   \n",
       "3          negative     Bad Flight  Virgin America   \n",
       "4          negative     Can't Tell  Virgin America   \n",
       "\n",
       "                                                text  length  \n",
       "0                @VirginAmerica What @dhepburn said.      35  \n",
       "1  @VirginAmerica plus you've added commercials t...      72  \n",
       "2  @VirginAmerica I didn't today... Must mean I n...      71  \n",
       "3  @VirginAmerica it's really aggressive to blast...     126  \n",
       "4  @VirginAmerica and it's a really big bad thing...      55  "
      ]
     },
     "execution_count": 110,
     "metadata": {},
     "output_type": "execute_result"
    }
   ],
   "source": [
    "df1.head()"
   ]
  },
  {
   "cell_type": "code",
   "execution_count": 111,
   "metadata": {},
   "outputs": [],
   "source": [
    "from sklearn.naive_bayes import MultinomialNB"
   ]
  },
  {
   "cell_type": "code",
   "execution_count": 112,
   "metadata": {},
   "outputs": [],
   "source": [
    "model=MultinomialNB().fit(tweets_tfidf,df1['text'])"
   ]
  },
  {
   "cell_type": "code",
   "execution_count": 113,
   "metadata": {},
   "outputs": [],
   "source": [
    "all_pred=model.predict(tweets_tfidf)"
   ]
  },
  {
   "cell_type": "code",
   "execution_count": 114,
   "metadata": {},
   "outputs": [],
   "source": [
    "from sklearn.model_selection import train_test_split"
   ]
  },
  {
   "cell_type": "code",
   "execution_count": 115,
   "metadata": {},
   "outputs": [],
   "source": [
    "tweet_train,tweet_test,label_train,label_test=train_test_split(tweets_tfidf,df1['airline_sentiment'],test_size=0.3)"
   ]
  },
  {
   "cell_type": "code",
   "execution_count": 116,
   "metadata": {},
   "outputs": [
    {
     "data": {
      "text/plain": [
       "MultinomialNB(alpha=1.0, class_prior=None, fit_prior=True)"
      ]
     },
     "execution_count": 116,
     "metadata": {},
     "output_type": "execute_result"
    }
   ],
   "source": [
    "model.fit(tweet_train,label_train)"
   ]
  },
  {
   "cell_type": "code",
   "execution_count": 117,
   "metadata": {},
   "outputs": [],
   "source": [
    "predictions=model.predict(tweet_test)"
   ]
  },
  {
   "cell_type": "code",
   "execution_count": 118,
   "metadata": {},
   "outputs": [
    {
     "data": {
      "text/html": [
       "<div>\n",
       "<style scoped>\n",
       "    .dataframe tbody tr th:only-of-type {\n",
       "        vertical-align: middle;\n",
       "    }\n",
       "\n",
       "    .dataframe tbody tr th {\n",
       "        vertical-align: top;\n",
       "    }\n",
       "\n",
       "    .dataframe thead th {\n",
       "        text-align: right;\n",
       "    }\n",
       "</style>\n",
       "<table border=\"1\" class=\"dataframe\">\n",
       "  <thead>\n",
       "    <tr style=\"text-align: right;\">\n",
       "      <th></th>\n",
       "      <th>airline_sentiment</th>\n",
       "      <th>negativereason</th>\n",
       "      <th>airline</th>\n",
       "      <th>text</th>\n",
       "      <th>length</th>\n",
       "    </tr>\n",
       "  </thead>\n",
       "  <tbody>\n",
       "    <tr>\n",
       "      <th>0</th>\n",
       "      <td>neutral</td>\n",
       "      <td>NaN</td>\n",
       "      <td>Virgin America</td>\n",
       "      <td>@VirginAmerica What @dhepburn said.</td>\n",
       "      <td>35</td>\n",
       "    </tr>\n",
       "    <tr>\n",
       "      <th>1</th>\n",
       "      <td>positive</td>\n",
       "      <td>NaN</td>\n",
       "      <td>Virgin America</td>\n",
       "      <td>@VirginAmerica plus you've added commercials t...</td>\n",
       "      <td>72</td>\n",
       "    </tr>\n",
       "    <tr>\n",
       "      <th>2</th>\n",
       "      <td>neutral</td>\n",
       "      <td>NaN</td>\n",
       "      <td>Virgin America</td>\n",
       "      <td>@VirginAmerica I didn't today... Must mean I n...</td>\n",
       "      <td>71</td>\n",
       "    </tr>\n",
       "    <tr>\n",
       "      <th>3</th>\n",
       "      <td>negative</td>\n",
       "      <td>Bad Flight</td>\n",
       "      <td>Virgin America</td>\n",
       "      <td>@VirginAmerica it's really aggressive to blast...</td>\n",
       "      <td>126</td>\n",
       "    </tr>\n",
       "    <tr>\n",
       "      <th>4</th>\n",
       "      <td>negative</td>\n",
       "      <td>Can't Tell</td>\n",
       "      <td>Virgin America</td>\n",
       "      <td>@VirginAmerica and it's a really big bad thing...</td>\n",
       "      <td>55</td>\n",
       "    </tr>\n",
       "  </tbody>\n",
       "</table>\n",
       "</div>"
      ],
      "text/plain": [
       "  airline_sentiment negativereason         airline  \\\n",
       "0           neutral            NaN  Virgin America   \n",
       "1          positive            NaN  Virgin America   \n",
       "2           neutral            NaN  Virgin America   \n",
       "3          negative     Bad Flight  Virgin America   \n",
       "4          negative     Can't Tell  Virgin America   \n",
       "\n",
       "                                                text  length  \n",
       "0                @VirginAmerica What @dhepburn said.      35  \n",
       "1  @VirginAmerica plus you've added commercials t...      72  \n",
       "2  @VirginAmerica I didn't today... Must mean I n...      71  \n",
       "3  @VirginAmerica it's really aggressive to blast...     126  \n",
       "4  @VirginAmerica and it's a really big bad thing...      55  "
      ]
     },
     "execution_count": 118,
     "metadata": {},
     "output_type": "execute_result"
    }
   ],
   "source": [
    "df1.head()"
   ]
  },
  {
   "cell_type": "code",
   "execution_count": 119,
   "metadata": {},
   "outputs": [],
   "source": [
    "from sklearn.metrics import classification_report,confusion_matrix"
   ]
  },
  {
   "cell_type": "code",
   "execution_count": 120,
   "metadata": {},
   "outputs": [
    {
     "name": "stdout",
     "output_type": "stream",
     "text": [
      "[[2728   21    0]\n",
      " [ 822   90   10]\n",
      " [ 594   30   97]]\n"
     ]
    }
   ],
   "source": [
    "print(confusion_matrix(label_test,predictions))"
   ]
  },
  {
   "cell_type": "code",
   "execution_count": 121,
   "metadata": {},
   "outputs": [
    {
     "name": "stdout",
     "output_type": "stream",
     "text": [
      "              precision    recall  f1-score   support\n",
      "\n",
      "    negative       0.66      0.99      0.79      2749\n",
      "     neutral       0.64      0.10      0.17       922\n",
      "    positive       0.91      0.13      0.23       721\n",
      "\n",
      "   micro avg       0.66      0.66      0.66      4392\n",
      "   macro avg       0.73      0.41      0.40      4392\n",
      "weighted avg       0.69      0.66      0.57      4392\n",
      "\n"
     ]
    }
   ],
   "source": [
    "print(classification_report(label_test,predictions))"
   ]
  },
  {
   "cell_type": "code",
   "execution_count": 122,
   "metadata": {},
   "outputs": [
    {
     "data": {
      "text/html": [
       "<div>\n",
       "<style scoped>\n",
       "    .dataframe tbody tr th:only-of-type {\n",
       "        vertical-align: middle;\n",
       "    }\n",
       "\n",
       "    .dataframe tbody tr th {\n",
       "        vertical-align: top;\n",
       "    }\n",
       "\n",
       "    .dataframe thead th {\n",
       "        text-align: right;\n",
       "    }\n",
       "</style>\n",
       "<table border=\"1\" class=\"dataframe\">\n",
       "  <thead>\n",
       "    <tr style=\"text-align: right;\">\n",
       "      <th></th>\n",
       "      <th>airline_sentiment</th>\n",
       "      <th>negativereason</th>\n",
       "      <th>airline</th>\n",
       "      <th>text</th>\n",
       "      <th>length</th>\n",
       "    </tr>\n",
       "  </thead>\n",
       "  <tbody>\n",
       "    <tr>\n",
       "      <th>0</th>\n",
       "      <td>neutral</td>\n",
       "      <td>NaN</td>\n",
       "      <td>Virgin America</td>\n",
       "      <td>@VirginAmerica What @dhepburn said.</td>\n",
       "      <td>35</td>\n",
       "    </tr>\n",
       "    <tr>\n",
       "      <th>1</th>\n",
       "      <td>positive</td>\n",
       "      <td>NaN</td>\n",
       "      <td>Virgin America</td>\n",
       "      <td>@VirginAmerica plus you've added commercials t...</td>\n",
       "      <td>72</td>\n",
       "    </tr>\n",
       "    <tr>\n",
       "      <th>2</th>\n",
       "      <td>neutral</td>\n",
       "      <td>NaN</td>\n",
       "      <td>Virgin America</td>\n",
       "      <td>@VirginAmerica I didn't today... Must mean I n...</td>\n",
       "      <td>71</td>\n",
       "    </tr>\n",
       "    <tr>\n",
       "      <th>3</th>\n",
       "      <td>negative</td>\n",
       "      <td>Bad Flight</td>\n",
       "      <td>Virgin America</td>\n",
       "      <td>@VirginAmerica it's really aggressive to blast...</td>\n",
       "      <td>126</td>\n",
       "    </tr>\n",
       "    <tr>\n",
       "      <th>4</th>\n",
       "      <td>negative</td>\n",
       "      <td>Can't Tell</td>\n",
       "      <td>Virgin America</td>\n",
       "      <td>@VirginAmerica and it's a really big bad thing...</td>\n",
       "      <td>55</td>\n",
       "    </tr>\n",
       "  </tbody>\n",
       "</table>\n",
       "</div>"
      ],
      "text/plain": [
       "  airline_sentiment negativereason         airline  \\\n",
       "0           neutral            NaN  Virgin America   \n",
       "1          positive            NaN  Virgin America   \n",
       "2           neutral            NaN  Virgin America   \n",
       "3          negative     Bad Flight  Virgin America   \n",
       "4          negative     Can't Tell  Virgin America   \n",
       "\n",
       "                                                text  length  \n",
       "0                @VirginAmerica What @dhepburn said.      35  \n",
       "1  @VirginAmerica plus you've added commercials t...      72  \n",
       "2  @VirginAmerica I didn't today... Must mean I n...      71  \n",
       "3  @VirginAmerica it's really aggressive to blast...     126  \n",
       "4  @VirginAmerica and it's a really big bad thing...      55  "
      ]
     },
     "execution_count": 122,
     "metadata": {},
     "output_type": "execute_result"
    }
   ],
   "source": [
    "df1.head()"
   ]
  },
  {
   "cell_type": "code",
   "execution_count": 59,
   "metadata": {},
   "outputs": [],
   "source": [
    "df2=df1"
   ]
  },
  {
   "cell_type": "code",
   "execution_count": 60,
   "metadata": {},
   "outputs": [
    {
     "data": {
      "text/html": [
       "<div>\n",
       "<style scoped>\n",
       "    .dataframe tbody tr th:only-of-type {\n",
       "        vertical-align: middle;\n",
       "    }\n",
       "\n",
       "    .dataframe tbody tr th {\n",
       "        vertical-align: top;\n",
       "    }\n",
       "\n",
       "    .dataframe thead th {\n",
       "        text-align: right;\n",
       "    }\n",
       "</style>\n",
       "<table border=\"1\" class=\"dataframe\">\n",
       "  <thead>\n",
       "    <tr style=\"text-align: right;\">\n",
       "      <th></th>\n",
       "      <th>airline_sentiment</th>\n",
       "      <th>negativereason</th>\n",
       "      <th>airline</th>\n",
       "      <th>text</th>\n",
       "      <th>length</th>\n",
       "    </tr>\n",
       "  </thead>\n",
       "  <tbody>\n",
       "    <tr>\n",
       "      <th>0</th>\n",
       "      <td>neutral</td>\n",
       "      <td>NaN</td>\n",
       "      <td>Virgin America</td>\n",
       "      <td>@VirginAmerica What @dhepburn said.</td>\n",
       "      <td>35</td>\n",
       "    </tr>\n",
       "    <tr>\n",
       "      <th>1</th>\n",
       "      <td>positive</td>\n",
       "      <td>NaN</td>\n",
       "      <td>Virgin America</td>\n",
       "      <td>@VirginAmerica plus you've added commercials t...</td>\n",
       "      <td>72</td>\n",
       "    </tr>\n",
       "    <tr>\n",
       "      <th>2</th>\n",
       "      <td>neutral</td>\n",
       "      <td>NaN</td>\n",
       "      <td>Virgin America</td>\n",
       "      <td>@VirginAmerica I didn't today... Must mean I n...</td>\n",
       "      <td>71</td>\n",
       "    </tr>\n",
       "    <tr>\n",
       "      <th>3</th>\n",
       "      <td>negative</td>\n",
       "      <td>Bad Flight</td>\n",
       "      <td>Virgin America</td>\n",
       "      <td>@VirginAmerica it's really aggressive to blast...</td>\n",
       "      <td>126</td>\n",
       "    </tr>\n",
       "    <tr>\n",
       "      <th>4</th>\n",
       "      <td>negative</td>\n",
       "      <td>Can't Tell</td>\n",
       "      <td>Virgin America</td>\n",
       "      <td>@VirginAmerica and it's a really big bad thing...</td>\n",
       "      <td>55</td>\n",
       "    </tr>\n",
       "  </tbody>\n",
       "</table>\n",
       "</div>"
      ],
      "text/plain": [
       "  airline_sentiment negativereason         airline  \\\n",
       "0           neutral            NaN  Virgin America   \n",
       "1          positive            NaN  Virgin America   \n",
       "2           neutral            NaN  Virgin America   \n",
       "3          negative     Bad Flight  Virgin America   \n",
       "4          negative     Can't Tell  Virgin America   \n",
       "\n",
       "                                                text  length  \n",
       "0                @VirginAmerica What @dhepburn said.      35  \n",
       "1  @VirginAmerica plus you've added commercials t...      72  \n",
       "2  @VirginAmerica I didn't today... Must mean I n...      71  \n",
       "3  @VirginAmerica it's really aggressive to blast...     126  \n",
       "4  @VirginAmerica and it's a really big bad thing...      55  "
      ]
     },
     "execution_count": 60,
     "metadata": {},
     "output_type": "execute_result"
    }
   ],
   "source": [
    "df2.head()"
   ]
  },
  {
   "cell_type": "code",
   "execution_count": 61,
   "metadata": {},
   "outputs": [],
   "source": [
    "df2.drop(['airline','text'],axis=1,inplace=True)"
   ]
  },
  {
   "cell_type": "code",
   "execution_count": 62,
   "metadata": {},
   "outputs": [],
   "source": [
    "df2_rea=pd.get_dummies(df2.drop('negativereason',axis=1))"
   ]
  },
  {
   "cell_type": "code",
   "execution_count": 63,
   "metadata": {},
   "outputs": [
    {
     "data": {
      "text/html": [
       "<div>\n",
       "<style scoped>\n",
       "    .dataframe tbody tr th:only-of-type {\n",
       "        vertical-align: middle;\n",
       "    }\n",
       "\n",
       "    .dataframe tbody tr th {\n",
       "        vertical-align: top;\n",
       "    }\n",
       "\n",
       "    .dataframe thead th {\n",
       "        text-align: right;\n",
       "    }\n",
       "</style>\n",
       "<table border=\"1\" class=\"dataframe\">\n",
       "  <thead>\n",
       "    <tr style=\"text-align: right;\">\n",
       "      <th></th>\n",
       "      <th>length</th>\n",
       "      <th>airline_sentiment_negative</th>\n",
       "      <th>airline_sentiment_neutral</th>\n",
       "      <th>airline_sentiment_positive</th>\n",
       "    </tr>\n",
       "  </thead>\n",
       "  <tbody>\n",
       "    <tr>\n",
       "      <th>0</th>\n",
       "      <td>35</td>\n",
       "      <td>0</td>\n",
       "      <td>1</td>\n",
       "      <td>0</td>\n",
       "    </tr>\n",
       "    <tr>\n",
       "      <th>1</th>\n",
       "      <td>72</td>\n",
       "      <td>0</td>\n",
       "      <td>0</td>\n",
       "      <td>1</td>\n",
       "    </tr>\n",
       "    <tr>\n",
       "      <th>2</th>\n",
       "      <td>71</td>\n",
       "      <td>0</td>\n",
       "      <td>1</td>\n",
       "      <td>0</td>\n",
       "    </tr>\n",
       "    <tr>\n",
       "      <th>3</th>\n",
       "      <td>126</td>\n",
       "      <td>1</td>\n",
       "      <td>0</td>\n",
       "      <td>0</td>\n",
       "    </tr>\n",
       "    <tr>\n",
       "      <th>4</th>\n",
       "      <td>55</td>\n",
       "      <td>1</td>\n",
       "      <td>0</td>\n",
       "      <td>0</td>\n",
       "    </tr>\n",
       "  </tbody>\n",
       "</table>\n",
       "</div>"
      ],
      "text/plain": [
       "   length  airline_sentiment_negative  airline_sentiment_neutral  \\\n",
       "0      35                           0                          1   \n",
       "1      72                           0                          0   \n",
       "2      71                           0                          1   \n",
       "3     126                           1                          0   \n",
       "4      55                           1                          0   \n",
       "\n",
       "   airline_sentiment_positive  \n",
       "0                           0  \n",
       "1                           1  \n",
       "2                           0  \n",
       "3                           0  \n",
       "4                           0  "
      ]
     },
     "execution_count": 63,
     "metadata": {},
     "output_type": "execute_result"
    }
   ],
   "source": [
    "df2_rea.head()"
   ]
  },
  {
   "cell_type": "code",
   "execution_count": 64,
   "metadata": {},
   "outputs": [
    {
     "data": {
      "text/html": [
       "<div>\n",
       "<style scoped>\n",
       "    .dataframe tbody tr th:only-of-type {\n",
       "        vertical-align: middle;\n",
       "    }\n",
       "\n",
       "    .dataframe tbody tr th {\n",
       "        vertical-align: top;\n",
       "    }\n",
       "\n",
       "    .dataframe thead th {\n",
       "        text-align: right;\n",
       "    }\n",
       "</style>\n",
       "<table border=\"1\" class=\"dataframe\">\n",
       "  <thead>\n",
       "    <tr style=\"text-align: right;\">\n",
       "      <th></th>\n",
       "      <th>length</th>\n",
       "      <th>airline_sentiment_negative</th>\n",
       "      <th>airline_sentiment_neutral</th>\n",
       "      <th>airline_sentiment_positive</th>\n",
       "      <th>negativereason</th>\n",
       "    </tr>\n",
       "  </thead>\n",
       "  <tbody>\n",
       "    <tr>\n",
       "      <th>0</th>\n",
       "      <td>35</td>\n",
       "      <td>0</td>\n",
       "      <td>1</td>\n",
       "      <td>0</td>\n",
       "      <td>NaN</td>\n",
       "    </tr>\n",
       "    <tr>\n",
       "      <th>1</th>\n",
       "      <td>72</td>\n",
       "      <td>0</td>\n",
       "      <td>0</td>\n",
       "      <td>1</td>\n",
       "      <td>NaN</td>\n",
       "    </tr>\n",
       "    <tr>\n",
       "      <th>2</th>\n",
       "      <td>71</td>\n",
       "      <td>0</td>\n",
       "      <td>1</td>\n",
       "      <td>0</td>\n",
       "      <td>NaN</td>\n",
       "    </tr>\n",
       "    <tr>\n",
       "      <th>3</th>\n",
       "      <td>126</td>\n",
       "      <td>1</td>\n",
       "      <td>0</td>\n",
       "      <td>0</td>\n",
       "      <td>Bad Flight</td>\n",
       "    </tr>\n",
       "    <tr>\n",
       "      <th>4</th>\n",
       "      <td>55</td>\n",
       "      <td>1</td>\n",
       "      <td>0</td>\n",
       "      <td>0</td>\n",
       "      <td>Can't Tell</td>\n",
       "    </tr>\n",
       "  </tbody>\n",
       "</table>\n",
       "</div>"
      ],
      "text/plain": [
       "   length  airline_sentiment_negative  airline_sentiment_neutral  \\\n",
       "0      35                           0                          1   \n",
       "1      72                           0                          0   \n",
       "2      71                           0                          1   \n",
       "3     126                           1                          0   \n",
       "4      55                           1                          0   \n",
       "\n",
       "   airline_sentiment_positive negativereason  \n",
       "0                           0            NaN  \n",
       "1                           1            NaN  \n",
       "2                           0            NaN  \n",
       "3                           0     Bad Flight  \n",
       "4                           0     Can't Tell  "
      ]
     },
     "execution_count": 64,
     "metadata": {},
     "output_type": "execute_result"
    }
   ],
   "source": [
    "fin_dt=pd.concat([df2_rea,df2['negativereason']],axis=1)\n",
    "fin_dt.head()"
   ]
  },
  {
   "cell_type": "code",
   "execution_count": 65,
   "metadata": {},
   "outputs": [
    {
     "ename": "NameError",
     "evalue": "name 'factors' is not defined",
     "output_type": "error",
     "traceback": [
      "\u001b[1;31m---------------------------------------------------------------------------\u001b[0m",
      "\u001b[1;31mNameError\u001b[0m                                 Traceback (most recent call last)",
      "\u001b[1;32m<ipython-input-65-8b999d81ef58>\u001b[0m in \u001b[0;36m<module>\u001b[1;34m()\u001b[0m\n\u001b[0;32m      1\u001b[0m \u001b[0mfactors1\u001b[0m\u001b[1;33m=\u001b[0m\u001b[0mpd\u001b[0m\u001b[1;33m.\u001b[0m\u001b[0mfactorize\u001b[0m\u001b[1;33m(\u001b[0m\u001b[0mfin_dt\u001b[0m\u001b[1;33m[\u001b[0m\u001b[1;34m'negativereason'\u001b[0m\u001b[1;33m]\u001b[0m\u001b[1;33m)\u001b[0m\u001b[1;33m\u001b[0m\u001b[0m\n\u001b[1;32m----> 2\u001b[1;33m \u001b[0mfin_dt\u001b[0m\u001b[1;33m.\u001b[0m\u001b[0mnegativereason\u001b[0m\u001b[1;33m=\u001b[0m\u001b[0mfactors\u001b[0m\u001b[1;33m[\u001b[0m\u001b[1;36m0\u001b[0m\u001b[1;33m]\u001b[0m\u001b[1;33m\u001b[0m\u001b[0m\n\u001b[0m\u001b[0;32m      3\u001b[0m \u001b[0mdefinations1\u001b[0m\u001b[1;33m=\u001b[0m\u001b[0mfactors\u001b[0m\u001b[1;33m[\u001b[0m\u001b[1;36m1\u001b[0m\u001b[1;33m]\u001b[0m\u001b[1;33m\u001b[0m\u001b[0m\n\u001b[0;32m      4\u001b[0m \u001b[0mfin_dt\u001b[0m\u001b[1;33m.\u001b[0m\u001b[0mhead\u001b[0m\u001b[1;33m(\u001b[0m\u001b[1;33m)\u001b[0m\u001b[1;33m\u001b[0m\u001b[0m\n",
      "\u001b[1;31mNameError\u001b[0m: name 'factors' is not defined"
     ]
    }
   ],
   "source": [
    "factors1=pd.factorize(fin_dt['negativereason'])\n",
    "fin_dt.negativereason=factors[0]\n",
    "definations1=factors[1]\n",
    "fin_dt.head()"
   ]
  },
  {
   "cell_type": "code",
   "execution_count": 307,
   "metadata": {},
   "outputs": [],
   "source": [
    "from sklearn.model_selection import train_test_split\n",
    "reas_x=fin_dt.drop('negativereason',axis=1)\n",
    "reas_y=fin_dt['negativereason']"
   ]
  },
  {
   "cell_type": "code",
   "execution_count": 308,
   "metadata": {},
   "outputs": [],
   "source": [
    "xreas_train,xreas_test,yreas_train,yreas_test=train_test_split(reas_x,reas_y,test_size=0.3,random_state=100)"
   ]
  },
  {
   "cell_type": "code",
   "execution_count": 309,
   "metadata": {},
   "outputs": [
    {
     "name": "stderr",
     "output_type": "stream",
     "text": [
      "C:\\Users\\Medha.Ch\\Anaconda3\\lib\\site-packages\\sklearn\\svm\\base.py:196: FutureWarning: The default value of gamma will change from 'auto' to 'scale' in version 0.22 to account better for unscaled features. Set gamma explicitly to 'auto' or 'scale' to avoid this warning.\n",
      "  \"avoid this warning.\", FutureWarning)\n"
     ]
    }
   ],
   "source": [
    "from sklearn.svm import SVC\n",
    "modelreas=SVC()\n",
    "modelreas.fit(xreas_train,yreas_train)\n",
    "predreas=modelreas.predict(xreas_test)"
   ]
  },
  {
   "cell_type": "code",
   "execution_count": 310,
   "metadata": {},
   "outputs": [
    {
     "name": "stdout",
     "output_type": "stream",
     "text": [
      "[[ 920    0    0]\n",
      " [   0  696    0]\n",
      " [   1    0 2775]]\n",
      "              precision    recall  f1-score   support\n",
      "\n",
      "           0       1.00      1.00      1.00       920\n",
      "           1       1.00      1.00      1.00       696\n",
      "           2       1.00      1.00      1.00      2776\n",
      "\n",
      "   micro avg       1.00      1.00      1.00      4392\n",
      "   macro avg       1.00      1.00      1.00      4392\n",
      "weighted avg       1.00      1.00      1.00      4392\n",
      "\n"
     ]
    }
   ],
   "source": [
    "from sklearn.metrics import confusion_matrix,classification_report\n",
    "print(confusion_matrix(yreas_test,predreas))\n",
    "print(classification_report(yreas_test,predreas))"
   ]
  },
  {
   "cell_type": "code",
   "execution_count": 123,
   "metadata": {},
   "outputs": [
    {
     "data": {
      "text/html": [
       "<div>\n",
       "<style scoped>\n",
       "    .dataframe tbody tr th:only-of-type {\n",
       "        vertical-align: middle;\n",
       "    }\n",
       "\n",
       "    .dataframe tbody tr th {\n",
       "        vertical-align: top;\n",
       "    }\n",
       "\n",
       "    .dataframe thead th {\n",
       "        text-align: right;\n",
       "    }\n",
       "</style>\n",
       "<table border=\"1\" class=\"dataframe\">\n",
       "  <thead>\n",
       "    <tr style=\"text-align: right;\">\n",
       "      <th></th>\n",
       "      <th>airline_sentiment</th>\n",
       "      <th>negativereason</th>\n",
       "      <th>airline</th>\n",
       "      <th>text</th>\n",
       "      <th>length</th>\n",
       "    </tr>\n",
       "  </thead>\n",
       "  <tbody>\n",
       "    <tr>\n",
       "      <th>0</th>\n",
       "      <td>neutral</td>\n",
       "      <td>NaN</td>\n",
       "      <td>Virgin America</td>\n",
       "      <td>@VirginAmerica What @dhepburn said.</td>\n",
       "      <td>35</td>\n",
       "    </tr>\n",
       "    <tr>\n",
       "      <th>1</th>\n",
       "      <td>positive</td>\n",
       "      <td>NaN</td>\n",
       "      <td>Virgin America</td>\n",
       "      <td>@VirginAmerica plus you've added commercials t...</td>\n",
       "      <td>72</td>\n",
       "    </tr>\n",
       "    <tr>\n",
       "      <th>2</th>\n",
       "      <td>neutral</td>\n",
       "      <td>NaN</td>\n",
       "      <td>Virgin America</td>\n",
       "      <td>@VirginAmerica I didn't today... Must mean I n...</td>\n",
       "      <td>71</td>\n",
       "    </tr>\n",
       "    <tr>\n",
       "      <th>3</th>\n",
       "      <td>negative</td>\n",
       "      <td>Bad Flight</td>\n",
       "      <td>Virgin America</td>\n",
       "      <td>@VirginAmerica it's really aggressive to blast...</td>\n",
       "      <td>126</td>\n",
       "    </tr>\n",
       "    <tr>\n",
       "      <th>4</th>\n",
       "      <td>negative</td>\n",
       "      <td>Can't Tell</td>\n",
       "      <td>Virgin America</td>\n",
       "      <td>@VirginAmerica and it's a really big bad thing...</td>\n",
       "      <td>55</td>\n",
       "    </tr>\n",
       "  </tbody>\n",
       "</table>\n",
       "</div>"
      ],
      "text/plain": [
       "  airline_sentiment negativereason         airline  \\\n",
       "0           neutral            NaN  Virgin America   \n",
       "1          positive            NaN  Virgin America   \n",
       "2           neutral            NaN  Virgin America   \n",
       "3          negative     Bad Flight  Virgin America   \n",
       "4          negative     Can't Tell  Virgin America   \n",
       "\n",
       "                                                text  length  \n",
       "0                @VirginAmerica What @dhepburn said.      35  \n",
       "1  @VirginAmerica plus you've added commercials t...      72  \n",
       "2  @VirginAmerica I didn't today... Must mean I n...      71  \n",
       "3  @VirginAmerica it's really aggressive to blast...     126  \n",
       "4  @VirginAmerica and it's a really big bad thing...      55  "
      ]
     },
     "execution_count": 123,
     "metadata": {},
     "output_type": "execute_result"
    }
   ],
   "source": [
    "df1.head()"
   ]
  },
  {
   "cell_type": "code",
   "execution_count": 124,
   "metadata": {},
   "outputs": [
    {
     "name": "stdout",
     "output_type": "stream",
     "text": [
      "Enter your review hated it\n",
      "['negative']\n"
     ]
    }
   ],
   "source": [
    "#Deployment\n",
    "import sys\n",
    "ip1 = input(\"Enter your review \")\n",
    "type(ip1)\n",
    "def deployment(ip1):\n",
    "    preproc=text_process(ip1)\n",
    "    ip1_transformer=CountVectorizer(analyzer=text_process).fit(df1['text'])\n",
    "    ip1_tr=ip1_transformer.transform(preproc)\n",
    "    tfidf_transformer=TfidfTransformer().fit(ip1_tr)\n",
    "    tfidfip1=tfidf_transformer.transform(ip1_tr)\n",
    "    dep_no_pipe=model.predict(tfidfip1)\n",
    "    #return dep_no_pipe\n",
    "    print(dep_no_pipe)\n",
    "    #if(dep_no_pipe=='negative'):\n",
    "        #rea1=modelreas.predict(dep_no_pipe)\n",
    "        #print(rea1)\n",
    "deployment(ip1)"
   ]
  },
  {
   "cell_type": "code",
   "execution_count": 125,
   "metadata": {},
   "outputs": [],
   "source": [
    "from sklearn.feature_extraction.text import CountVectorizer\n",
    "from sklearn.feature_extraction.text import TfidfTransformer\n",
    "from sklearn.naive_bayes import MultinomialNB"
   ]
  },
  {
   "cell_type": "code",
   "execution_count": 126,
   "metadata": {},
   "outputs": [
    {
     "name": "stdout",
     "output_type": "stream",
     "text": [
      "11712 2928 14640\n"
     ]
    }
   ],
   "source": [
    "from sklearn.model_selection import train_test_split\n",
    "\n",
    "tweet_train, tweet_test, airline_sentiment_train, airline_sentiment_test = \\\n",
    "train_test_split(df1['text'], df1['airline_sentiment'], test_size=0.2)\n",
    "\n",
    "print(len(tweet_train), len(tweet_test), len(tweet_train) + len(tweet_test))"
   ]
  },
  {
   "cell_type": "code",
   "execution_count": 127,
   "metadata": {},
   "outputs": [],
   "source": [
    "from sklearn.pipeline import Pipeline\n",
    "\n",
    "pipeline = Pipeline([\n",
    "    ('bow', CountVectorizer(analyzer=text_process)),  # strings to token integer counts\n",
    "    ('tfidf', TfidfTransformer()),  # integer counts to weighted TF-IDF scores\n",
    "    ('classifier', MultinomialNB()),  # train on TF-IDF vectors w/ Naive Bayes classifier\n",
    "])"
   ]
  },
  {
   "cell_type": "code",
   "execution_count": 128,
   "metadata": {},
   "outputs": [
    {
     "data": {
      "text/plain": [
       "Pipeline(memory=None,\n",
       "     steps=[('bow', CountVectorizer(analyzer=<function text_process at 0x00000161CD81A1E0>,\n",
       "        binary=False, decode_error='strict', dtype=<class 'numpy.int64'>,\n",
       "        encoding='utf-8', input='content', lowercase=True, max_df=1.0,\n",
       "        max_features=None, min_df=1, ngram_range=(1, 1), preprocesso...f=False, use_idf=True)), ('classifier', MultinomialNB(alpha=1.0, class_prior=None, fit_prior=True))])"
      ]
     },
     "execution_count": 128,
     "metadata": {},
     "output_type": "execute_result"
    }
   ],
   "source": [
    "pipeline.fit(tweet_train,airline_sentiment_train)"
   ]
  },
  {
   "cell_type": "code",
   "execution_count": 129,
   "metadata": {},
   "outputs": [],
   "source": [
    "predictions=pipeline.predict(tweet_test)"
   ]
  },
  {
   "cell_type": "code",
   "execution_count": 130,
   "metadata": {},
   "outputs": [
    {
     "name": "stdout",
     "output_type": "stream",
     "text": [
      "[[1793   10    0]\n",
      " [ 564   63    7]\n",
      " [ 408   12   71]]\n"
     ]
    }
   ],
   "source": [
    "print(confusion_matrix(airline_sentiment_test,predictions))"
   ]
  },
  {
   "cell_type": "code",
   "execution_count": 131,
   "metadata": {},
   "outputs": [],
   "source": [
    "from sklearn.metrics import classification_report,confusion_matrix"
   ]
  },
  {
   "cell_type": "code",
   "execution_count": 132,
   "metadata": {},
   "outputs": [
    {
     "name": "stdout",
     "output_type": "stream",
     "text": [
      "              precision    recall  f1-score   support\n",
      "\n",
      "    negative       0.65      0.99      0.79      1803\n",
      "     neutral       0.74      0.10      0.18       634\n",
      "    positive       0.91      0.14      0.25       491\n",
      "\n",
      "   micro avg       0.66      0.66      0.66      2928\n",
      "   macro avg       0.77      0.41      0.40      2928\n",
      "weighted avg       0.71      0.66      0.56      2928\n",
      "\n"
     ]
    }
   ],
   "source": [
    "print(classification_report(airline_sentiment_test,predictions))"
   ]
  },
  {
   "cell_type": "code",
   "execution_count": 134,
   "metadata": {},
   "outputs": [
    {
     "name": "stdout",
     "output_type": "stream",
     "text": [
      "Enter your review hated it\n",
      "['negative']\n"
     ]
    }
   ],
   "source": [
    "#Deployment\n",
    "import sys\n",
    "ip2 = input(\"Enter your review \")\n",
    "type(ip2)\n",
    "def deployment(ip2):\n",
    "    preproc=text_process(ip2)\n",
    "    ip2_transformer=CountVectorizer(analyzer=text_process).fit(df1['text'])\n",
    "    ip2_tr=ip2_transformer.transform(preproc)\n",
    "    tfidf_transformer=TfidfTransformer().fit(ip2_tr)\n",
    "    tfidfip2=tfidf_transformer.transform(ip2_tr)\n",
    "    dep_no_pipe=model.predict(tfidfip2)\n",
    "    #return dep_no_pipe\n",
    "    print(dep_no_pipe)\n",
    "    #if(dep_no_pipe=='negative'):\n",
    "        #rea1=modelreas.predict(dep_no_pipe)\n",
    "        #print(rea1)\n",
    "deployment(ip2)\n"
   ]
  },
  {
   "cell_type": "code",
   "execution_count": 375,
   "metadata": {},
   "outputs": [
    {
     "data": {
      "text/plain": [
       "['final_trans_data.pkl']"
      ]
     },
     "execution_count": 375,
     "metadata": {},
     "output_type": "execute_result"
    }
   ],
   "source": [
    "from sklearn.externals import joblib\n",
    "joblib.dump(df1,\"final_trans_data.pkl\")\n",
    "\n"
   ]
  },
  {
   "cell_type": "code",
   "execution_count": 376,
   "metadata": {},
   "outputs": [
    {
     "data": {
      "text/plain": [
       "['model_nb.pkl']"
      ]
     },
     "execution_count": 376,
     "metadata": {},
     "output_type": "execute_result"
    }
   ],
   "source": [
    "joblib.dump(model,\"model_nb.pkl\")\n"
   ]
  },
  {
   "cell_type": "code",
   "execution_count": 377,
   "metadata": {},
   "outputs": [
    {
     "data": {
      "text/plain": [
       "['model_nb_pipe.pkl']"
      ]
     },
     "execution_count": 377,
     "metadata": {},
     "output_type": "execute_result"
    }
   ],
   "source": [
    "joblib.dump(pipeline,\"model_nb_pipe.pkl\")\n"
   ]
  },
  {
   "cell_type": "code",
   "execution_count": 313,
   "metadata": {},
   "outputs": [
    {
     "name": "stdout",
     "output_type": "stream",
     "text": [
      "Enter your review hated it\n"
     ]
    },
    {
     "ename": "KeyError",
     "evalue": "'text'",
     "output_type": "error",
     "traceback": [
      "\u001b[1;31m---------------------------------------------------------------------------\u001b[0m",
      "\u001b[1;31mKeyError\u001b[0m                                  Traceback (most recent call last)",
      "\u001b[1;32m~\\Anaconda3\\lib\\site-packages\\pandas\\core\\indexes\\base.py\u001b[0m in \u001b[0;36mget_loc\u001b[1;34m(self, key, method, tolerance)\u001b[0m\n\u001b[0;32m   2524\u001b[0m             \u001b[1;32mtry\u001b[0m\u001b[1;33m:\u001b[0m\u001b[1;33m\u001b[0m\u001b[0m\n\u001b[1;32m-> 2525\u001b[1;33m                 \u001b[1;32mreturn\u001b[0m \u001b[0mself\u001b[0m\u001b[1;33m.\u001b[0m\u001b[0m_engine\u001b[0m\u001b[1;33m.\u001b[0m\u001b[0mget_loc\u001b[0m\u001b[1;33m(\u001b[0m\u001b[0mkey\u001b[0m\u001b[1;33m)\u001b[0m\u001b[1;33m\u001b[0m\u001b[0m\n\u001b[0m\u001b[0;32m   2526\u001b[0m             \u001b[1;32mexcept\u001b[0m \u001b[0mKeyError\u001b[0m\u001b[1;33m:\u001b[0m\u001b[1;33m\u001b[0m\u001b[0m\n",
      "\u001b[1;32mpandas/_libs/index.pyx\u001b[0m in \u001b[0;36mpandas._libs.index.IndexEngine.get_loc\u001b[1;34m()\u001b[0m\n",
      "\u001b[1;32mpandas/_libs/index.pyx\u001b[0m in \u001b[0;36mpandas._libs.index.IndexEngine.get_loc\u001b[1;34m()\u001b[0m\n",
      "\u001b[1;32mpandas/_libs/hashtable_class_helper.pxi\u001b[0m in \u001b[0;36mpandas._libs.hashtable.PyObjectHashTable.get_item\u001b[1;34m()\u001b[0m\n",
      "\u001b[1;32mpandas/_libs/hashtable_class_helper.pxi\u001b[0m in \u001b[0;36mpandas._libs.hashtable.PyObjectHashTable.get_item\u001b[1;34m()\u001b[0m\n",
      "\u001b[1;31mKeyError\u001b[0m: 'text'",
      "\nDuring handling of the above exception, another exception occurred:\n",
      "\u001b[1;31mKeyError\u001b[0m                                  Traceback (most recent call last)",
      "\u001b[1;32m<ipython-input-313-0ed85e71e393>\u001b[0m in \u001b[0;36m<module>\u001b[1;34m()\u001b[0m\n\u001b[0;32m     11\u001b[0m     \u001b[1;31m#print(dep_no_pipe)\u001b[0m\u001b[1;33m\u001b[0m\u001b[1;33m\u001b[0m\u001b[0m\n\u001b[0;32m     12\u001b[0m     \u001b[1;32mreturn\u001b[0m \u001b[0mdep_no_pipe\u001b[0m\u001b[1;33m\u001b[0m\u001b[0m\n\u001b[1;32m---> 13\u001b[1;33m \u001b[0mt1\u001b[0m\u001b[1;33m=\u001b[0m\u001b[0mdeployment\u001b[0m\u001b[1;33m(\u001b[0m\u001b[0mip1\u001b[0m\u001b[1;33m)\u001b[0m\u001b[1;33m\u001b[0m\u001b[0m\n\u001b[0m",
      "\u001b[1;32m<ipython-input-313-0ed85e71e393>\u001b[0m in \u001b[0;36mdeployment\u001b[1;34m(ip1)\u001b[0m\n\u001b[0;32m      4\u001b[0m \u001b[1;32mdef\u001b[0m \u001b[0mdeployment\u001b[0m\u001b[1;33m(\u001b[0m\u001b[0mip1\u001b[0m\u001b[1;33m)\u001b[0m\u001b[1;33m:\u001b[0m\u001b[1;33m\u001b[0m\u001b[0m\n\u001b[0;32m      5\u001b[0m     \u001b[0mpreproc\u001b[0m\u001b[1;33m=\u001b[0m\u001b[0mtext_process\u001b[0m\u001b[1;33m(\u001b[0m\u001b[0mip1\u001b[0m\u001b[1;33m)\u001b[0m\u001b[1;33m\u001b[0m\u001b[0m\n\u001b[1;32m----> 6\u001b[1;33m     \u001b[0mip1_transformer\u001b[0m\u001b[1;33m=\u001b[0m\u001b[0mCountVectorizer\u001b[0m\u001b[1;33m(\u001b[0m\u001b[0manalyzer\u001b[0m\u001b[1;33m=\u001b[0m\u001b[0mtext_process\u001b[0m\u001b[1;33m)\u001b[0m\u001b[1;33m.\u001b[0m\u001b[0mfit\u001b[0m\u001b[1;33m(\u001b[0m\u001b[0mdf1\u001b[0m\u001b[1;33m[\u001b[0m\u001b[1;34m'text'\u001b[0m\u001b[1;33m]\u001b[0m\u001b[1;33m)\u001b[0m\u001b[1;33m\u001b[0m\u001b[0m\n\u001b[0m\u001b[0;32m      7\u001b[0m     \u001b[0mip1_tr\u001b[0m\u001b[1;33m=\u001b[0m\u001b[0mip1_transformer\u001b[0m\u001b[1;33m.\u001b[0m\u001b[0mtransform\u001b[0m\u001b[1;33m(\u001b[0m\u001b[0mpreproc\u001b[0m\u001b[1;33m)\u001b[0m\u001b[1;33m\u001b[0m\u001b[0m\n\u001b[0;32m      8\u001b[0m     \u001b[0mtfidf_transformer\u001b[0m\u001b[1;33m=\u001b[0m\u001b[0mTfidfTransformer\u001b[0m\u001b[1;33m(\u001b[0m\u001b[1;33m)\u001b[0m\u001b[1;33m.\u001b[0m\u001b[0mfit\u001b[0m\u001b[1;33m(\u001b[0m\u001b[0mip1_tr\u001b[0m\u001b[1;33m)\u001b[0m\u001b[1;33m\u001b[0m\u001b[0m\n",
      "\u001b[1;32m~\\Anaconda3\\lib\\site-packages\\pandas\\core\\frame.py\u001b[0m in \u001b[0;36m__getitem__\u001b[1;34m(self, key)\u001b[0m\n\u001b[0;32m   2137\u001b[0m             \u001b[1;32mreturn\u001b[0m \u001b[0mself\u001b[0m\u001b[1;33m.\u001b[0m\u001b[0m_getitem_multilevel\u001b[0m\u001b[1;33m(\u001b[0m\u001b[0mkey\u001b[0m\u001b[1;33m)\u001b[0m\u001b[1;33m\u001b[0m\u001b[0m\n\u001b[0;32m   2138\u001b[0m         \u001b[1;32melse\u001b[0m\u001b[1;33m:\u001b[0m\u001b[1;33m\u001b[0m\u001b[0m\n\u001b[1;32m-> 2139\u001b[1;33m             \u001b[1;32mreturn\u001b[0m \u001b[0mself\u001b[0m\u001b[1;33m.\u001b[0m\u001b[0m_getitem_column\u001b[0m\u001b[1;33m(\u001b[0m\u001b[0mkey\u001b[0m\u001b[1;33m)\u001b[0m\u001b[1;33m\u001b[0m\u001b[0m\n\u001b[0m\u001b[0;32m   2140\u001b[0m \u001b[1;33m\u001b[0m\u001b[0m\n\u001b[0;32m   2141\u001b[0m     \u001b[1;32mdef\u001b[0m \u001b[0m_getitem_column\u001b[0m\u001b[1;33m(\u001b[0m\u001b[0mself\u001b[0m\u001b[1;33m,\u001b[0m \u001b[0mkey\u001b[0m\u001b[1;33m)\u001b[0m\u001b[1;33m:\u001b[0m\u001b[1;33m\u001b[0m\u001b[0m\n",
      "\u001b[1;32m~\\Anaconda3\\lib\\site-packages\\pandas\\core\\frame.py\u001b[0m in \u001b[0;36m_getitem_column\u001b[1;34m(self, key)\u001b[0m\n\u001b[0;32m   2144\u001b[0m         \u001b[1;31m# get column\u001b[0m\u001b[1;33m\u001b[0m\u001b[1;33m\u001b[0m\u001b[0m\n\u001b[0;32m   2145\u001b[0m         \u001b[1;32mif\u001b[0m \u001b[0mself\u001b[0m\u001b[1;33m.\u001b[0m\u001b[0mcolumns\u001b[0m\u001b[1;33m.\u001b[0m\u001b[0mis_unique\u001b[0m\u001b[1;33m:\u001b[0m\u001b[1;33m\u001b[0m\u001b[0m\n\u001b[1;32m-> 2146\u001b[1;33m             \u001b[1;32mreturn\u001b[0m \u001b[0mself\u001b[0m\u001b[1;33m.\u001b[0m\u001b[0m_get_item_cache\u001b[0m\u001b[1;33m(\u001b[0m\u001b[0mkey\u001b[0m\u001b[1;33m)\u001b[0m\u001b[1;33m\u001b[0m\u001b[0m\n\u001b[0m\u001b[0;32m   2147\u001b[0m \u001b[1;33m\u001b[0m\u001b[0m\n\u001b[0;32m   2148\u001b[0m         \u001b[1;31m# duplicate columns & possible reduce dimensionality\u001b[0m\u001b[1;33m\u001b[0m\u001b[1;33m\u001b[0m\u001b[0m\n",
      "\u001b[1;32m~\\Anaconda3\\lib\\site-packages\\pandas\\core\\generic.py\u001b[0m in \u001b[0;36m_get_item_cache\u001b[1;34m(self, item)\u001b[0m\n\u001b[0;32m   1840\u001b[0m         \u001b[0mres\u001b[0m \u001b[1;33m=\u001b[0m \u001b[0mcache\u001b[0m\u001b[1;33m.\u001b[0m\u001b[0mget\u001b[0m\u001b[1;33m(\u001b[0m\u001b[0mitem\u001b[0m\u001b[1;33m)\u001b[0m\u001b[1;33m\u001b[0m\u001b[0m\n\u001b[0;32m   1841\u001b[0m         \u001b[1;32mif\u001b[0m \u001b[0mres\u001b[0m \u001b[1;32mis\u001b[0m \u001b[1;32mNone\u001b[0m\u001b[1;33m:\u001b[0m\u001b[1;33m\u001b[0m\u001b[0m\n\u001b[1;32m-> 1842\u001b[1;33m             \u001b[0mvalues\u001b[0m \u001b[1;33m=\u001b[0m \u001b[0mself\u001b[0m\u001b[1;33m.\u001b[0m\u001b[0m_data\u001b[0m\u001b[1;33m.\u001b[0m\u001b[0mget\u001b[0m\u001b[1;33m(\u001b[0m\u001b[0mitem\u001b[0m\u001b[1;33m)\u001b[0m\u001b[1;33m\u001b[0m\u001b[0m\n\u001b[0m\u001b[0;32m   1843\u001b[0m             \u001b[0mres\u001b[0m \u001b[1;33m=\u001b[0m \u001b[0mself\u001b[0m\u001b[1;33m.\u001b[0m\u001b[0m_box_item_values\u001b[0m\u001b[1;33m(\u001b[0m\u001b[0mitem\u001b[0m\u001b[1;33m,\u001b[0m \u001b[0mvalues\u001b[0m\u001b[1;33m)\u001b[0m\u001b[1;33m\u001b[0m\u001b[0m\n\u001b[0;32m   1844\u001b[0m             \u001b[0mcache\u001b[0m\u001b[1;33m[\u001b[0m\u001b[0mitem\u001b[0m\u001b[1;33m]\u001b[0m \u001b[1;33m=\u001b[0m \u001b[0mres\u001b[0m\u001b[1;33m\u001b[0m\u001b[0m\n",
      "\u001b[1;32m~\\Anaconda3\\lib\\site-packages\\pandas\\core\\internals.py\u001b[0m in \u001b[0;36mget\u001b[1;34m(self, item, fastpath)\u001b[0m\n\u001b[0;32m   3841\u001b[0m \u001b[1;33m\u001b[0m\u001b[0m\n\u001b[0;32m   3842\u001b[0m             \u001b[1;32mif\u001b[0m \u001b[1;32mnot\u001b[0m \u001b[0misna\u001b[0m\u001b[1;33m(\u001b[0m\u001b[0mitem\u001b[0m\u001b[1;33m)\u001b[0m\u001b[1;33m:\u001b[0m\u001b[1;33m\u001b[0m\u001b[0m\n\u001b[1;32m-> 3843\u001b[1;33m                 \u001b[0mloc\u001b[0m \u001b[1;33m=\u001b[0m \u001b[0mself\u001b[0m\u001b[1;33m.\u001b[0m\u001b[0mitems\u001b[0m\u001b[1;33m.\u001b[0m\u001b[0mget_loc\u001b[0m\u001b[1;33m(\u001b[0m\u001b[0mitem\u001b[0m\u001b[1;33m)\u001b[0m\u001b[1;33m\u001b[0m\u001b[0m\n\u001b[0m\u001b[0;32m   3844\u001b[0m             \u001b[1;32melse\u001b[0m\u001b[1;33m:\u001b[0m\u001b[1;33m\u001b[0m\u001b[0m\n\u001b[0;32m   3845\u001b[0m                 \u001b[0mindexer\u001b[0m \u001b[1;33m=\u001b[0m \u001b[0mnp\u001b[0m\u001b[1;33m.\u001b[0m\u001b[0marange\u001b[0m\u001b[1;33m(\u001b[0m\u001b[0mlen\u001b[0m\u001b[1;33m(\u001b[0m\u001b[0mself\u001b[0m\u001b[1;33m.\u001b[0m\u001b[0mitems\u001b[0m\u001b[1;33m)\u001b[0m\u001b[1;33m)\u001b[0m\u001b[1;33m[\u001b[0m\u001b[0misna\u001b[0m\u001b[1;33m(\u001b[0m\u001b[0mself\u001b[0m\u001b[1;33m.\u001b[0m\u001b[0mitems\u001b[0m\u001b[1;33m)\u001b[0m\u001b[1;33m]\u001b[0m\u001b[1;33m\u001b[0m\u001b[0m\n",
      "\u001b[1;32m~\\Anaconda3\\lib\\site-packages\\pandas\\core\\indexes\\base.py\u001b[0m in \u001b[0;36mget_loc\u001b[1;34m(self, key, method, tolerance)\u001b[0m\n\u001b[0;32m   2525\u001b[0m                 \u001b[1;32mreturn\u001b[0m \u001b[0mself\u001b[0m\u001b[1;33m.\u001b[0m\u001b[0m_engine\u001b[0m\u001b[1;33m.\u001b[0m\u001b[0mget_loc\u001b[0m\u001b[1;33m(\u001b[0m\u001b[0mkey\u001b[0m\u001b[1;33m)\u001b[0m\u001b[1;33m\u001b[0m\u001b[0m\n\u001b[0;32m   2526\u001b[0m             \u001b[1;32mexcept\u001b[0m \u001b[0mKeyError\u001b[0m\u001b[1;33m:\u001b[0m\u001b[1;33m\u001b[0m\u001b[0m\n\u001b[1;32m-> 2527\u001b[1;33m                 \u001b[1;32mreturn\u001b[0m \u001b[0mself\u001b[0m\u001b[1;33m.\u001b[0m\u001b[0m_engine\u001b[0m\u001b[1;33m.\u001b[0m\u001b[0mget_loc\u001b[0m\u001b[1;33m(\u001b[0m\u001b[0mself\u001b[0m\u001b[1;33m.\u001b[0m\u001b[0m_maybe_cast_indexer\u001b[0m\u001b[1;33m(\u001b[0m\u001b[0mkey\u001b[0m\u001b[1;33m)\u001b[0m\u001b[1;33m)\u001b[0m\u001b[1;33m\u001b[0m\u001b[0m\n\u001b[0m\u001b[0;32m   2528\u001b[0m \u001b[1;33m\u001b[0m\u001b[0m\n\u001b[0;32m   2529\u001b[0m         \u001b[0mindexer\u001b[0m \u001b[1;33m=\u001b[0m \u001b[0mself\u001b[0m\u001b[1;33m.\u001b[0m\u001b[0mget_indexer\u001b[0m\u001b[1;33m(\u001b[0m\u001b[1;33m[\u001b[0m\u001b[0mkey\u001b[0m\u001b[1;33m]\u001b[0m\u001b[1;33m,\u001b[0m \u001b[0mmethod\u001b[0m\u001b[1;33m=\u001b[0m\u001b[0mmethod\u001b[0m\u001b[1;33m,\u001b[0m \u001b[0mtolerance\u001b[0m\u001b[1;33m=\u001b[0m\u001b[0mtolerance\u001b[0m\u001b[1;33m)\u001b[0m\u001b[1;33m\u001b[0m\u001b[0m\n",
      "\u001b[1;32mpandas/_libs/index.pyx\u001b[0m in \u001b[0;36mpandas._libs.index.IndexEngine.get_loc\u001b[1;34m()\u001b[0m\n",
      "\u001b[1;32mpandas/_libs/index.pyx\u001b[0m in \u001b[0;36mpandas._libs.index.IndexEngine.get_loc\u001b[1;34m()\u001b[0m\n",
      "\u001b[1;32mpandas/_libs/hashtable_class_helper.pxi\u001b[0m in \u001b[0;36mpandas._libs.hashtable.PyObjectHashTable.get_item\u001b[1;34m()\u001b[0m\n",
      "\u001b[1;32mpandas/_libs/hashtable_class_helper.pxi\u001b[0m in \u001b[0;36mpandas._libs.hashtable.PyObjectHashTable.get_item\u001b[1;34m()\u001b[0m\n",
      "\u001b[1;31mKeyError\u001b[0m: 'text'"
     ]
    }
   ],
   "source": [
    "import sys\n",
    "ip1 = input(\"Enter your review \")\n",
    "type(ip1)\n",
    "def deployment(ip1):\n",
    "    preproc=text_process(ip1)\n",
    "    ip1_transformer=CountVectorizer(analyzer=text_process).fit(df1['text'])\n",
    "    ip1_tr=ip1_transformer.transform(preproc)\n",
    "    tfidf_transformer=TfidfTransformer().fit(ip1_tr)\n",
    "    tfidfip1=tfidf_transformer.transform(ip1_tr)\n",
    "    dep_no_pipe=loaded_model_nb.predict(tfidfip1)\n",
    "    #print(dep_no_pipe)\n",
    "    return dep_no_pipe\n",
    "t1=deployment(ip1)"
   ]
  },
  {
   "cell_type": "code",
   "execution_count": 69,
   "metadata": {},
   "outputs": [],
   "source": [
    "def deployment(ip2):\n",
    "    preproc2=text_process(ip2)\n",
    "    dep_pipe=loaded_model_pipe.predict(preproc2)\n",
    "    #print(dep_pipe)\n",
    "    return dep_pipe\n",
    "t2=deployment(ip2)"
   ]
  },
  {
   "cell_type": "code",
   "execution_count": 378,
   "metadata": {},
   "outputs": [],
   "source": [
    "from tkinter import *\n",
    "\n",
    "top = Tk()\n",
    "\n",
    "resultStr= StringVar()\n",
    "resultStr.set(\"Enter your review\")\n",
    "txt1Label = Label (text=\"Review\")\n",
    "txt1Label.pack()\n",
    "txt1Box = Entry()\n",
    "txt1Box.pack()\n",
    "\n",
    "\n",
    "resultLabel = Label(textvariable=resultStr)\n",
    "resultLabel.pack()\n",
    "\n",
    "def predictions_1():\n",
    "    txt = txt1Box.get()\n",
    "    a=deployment(txt)\n",
    "    resultStr.set( \"Predictions \"+a)\n",
    "but1 = Button(text=\"Mult_NB\", command=predictions_1)\n",
    "but1.pack()\n",
    "\n",
    "def predictions_2():\n",
    "    txt = txt1Box.get()\n",
    "    b=deployment(txt)\n",
    "    resultStr.set( \"Predictions \"+b)\n",
    "but2 = Button(text=\"pipeline\", command=predictions_2)\n",
    "but2.pack()\n",
    "\n",
    "\n",
    "\n",
    "top.mainloop()\n"
   ]
  },
  {
   "cell_type": "code",
   "execution_count": null,
   "metadata": {},
   "outputs": [],
   "source": []
  }
 ],
 "metadata": {
  "kernelspec": {
   "display_name": "Python 3",
   "language": "python",
   "name": "python3"
  },
  "language_info": {
   "codemirror_mode": {
    "name": "ipython",
    "version": 3
   },
   "file_extension": ".py",
   "mimetype": "text/x-python",
   "name": "python",
   "nbconvert_exporter": "python",
   "pygments_lexer": "ipython3",
   "version": "3.6.4"
  }
 },
 "nbformat": 4,
 "nbformat_minor": 2
}
